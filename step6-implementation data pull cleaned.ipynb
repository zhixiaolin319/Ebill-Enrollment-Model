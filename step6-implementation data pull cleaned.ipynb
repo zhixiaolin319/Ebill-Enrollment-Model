{
 "cells": [
  {
   "cell_type": "code",
   "execution_count": 1,
   "id": "4cf2b101-7c9d-4fb1-8ade-fea3c4bcc601",
   "metadata": {
    "tags": []
   },
   "outputs": [
    {
     "data": {
      "text/plain": [
       "False"
      ]
     },
     "execution_count": 1,
     "metadata": {},
     "output_type": "execute_result"
    }
   ],
   "source": [
    "from hdbcli import dbapi\n",
    "from dotenv import load_dotenv\n",
    "import os\n",
    "import pandas as pd\n",
    "import numpy as np\n",
    "\n",
    "\n",
    "import matplotlib.pyplot as plt\n",
    "from matplotlib import pyplot\n",
    "from matplotlib.ticker import PercentFormatter\n",
    "import seaborn as sns\n",
    "import plotly.express as px\n",
    "\n",
    "\n",
    "from functools import reduce\n",
    "\n",
    "from datetime import datetime\n",
    "import datetime\n",
    "\n",
    "pd.set_option('display.max_columns', None)\n",
    "\n",
    "load_dotenv()"
   ]
  },
  {
   "cell_type": "code",
   "execution_count": 2,
   "id": "11a203cc-a459-458f-ad80-c228fd97c184",
   "metadata": {
    "tags": []
   },
   "outputs": [
    {
     "name": "stdout",
     "output_type": "stream",
     "text": [
      "SAP connection established\n"
     ]
    }
   ],
   "source": [
    "serverAdress_prod='vp55db01.sce.com' \n",
    "serverPort_prod=30015 \n",
    "userName_prod = 'LINZ'\n",
    "passWord_prod = 'Gravel$180'\n",
    "#userName_prod=os.getenv('USER') \n",
    "#passWord_prod=os.getenv('PASSWORD') \n",
    "\n",
    "# Connect to hana database\n",
    "try:\n",
    "    cnn = dbapi.connect(serverAdress_prod,serverPort_prod,userName_prod,passWord_prod) \n",
    "    print('SAP connection established')\n",
    "    cursor_prod=cnn.cursor() \n",
    "except Exception as e:\n",
    "    print(f'ERROR: {e}')"
   ]
  },
  {
   "cell_type": "code",
   "execution_count": 3,
   "id": "fe90d3a5-6461-40b1-84b8-b5bf546c30ca",
   "metadata": {
    "tags": []
   },
   "outputs": [
    {
     "name": "stderr",
     "output_type": "stream",
     "text": [
      "/opt/conda/lib/python3.10/site-packages/snowflake/connector/options.py:104: UserWarning: You have an incompatible version of 'pyarrow' installed (20.0.0), please install a version that adheres to: 'pyarrow<19.0.0; extra == \"pandas\"'\n",
      "  warn_incompatible_dep(\n"
     ]
    }
   ],
   "source": [
    "import vertexai\n",
    "from snowflake.snowpark import Session\n",
    "from snowflake.connector.pandas_tools import write_pandas\n",
    "\n",
    "from google.cloud import secretmanager\n",
    "from google.cloud import aiplatform\n",
    "from google.cloud import storage\n",
    "import json\n",
    "import time\n",
    "\n",
    "def access_secret_version(project_id, secret_id, version_id=\"latest\"):\n",
    "    client = secretmanager.SecretManagerServiceClient()\n",
    "    name = f\"projects/{project_id}/secrets/{secret_id}/versions/{version_id}\"\n",
    "\n",
    "    response = client.access_secret_version(request={\"name\": name})\n",
    "    payload = response.payload.data.decode(\"UTF-8\")\n",
    "    return payload"
   ]
  },
  {
   "cell_type": "code",
   "execution_count": 4,
   "id": "fe2aefda-aa69-4bb9-84c9-96a94e6ecf0b",
   "metadata": {
    "tags": []
   },
   "outputs": [
    {
     "name": "stdout",
     "output_type": "stream",
     "text": [
      "2025-09-11\n"
     ]
    }
   ],
   "source": [
    "path_name='gs://ebill_enrollment_model/implementation_20250821'\n",
    "\n",
    "from datetime import date\n",
    "\n",
    "cutoff_date=date.today()\n",
    "print(cutoff_date)"
   ]
  },
  {
   "cell_type": "code",
   "execution_count": 5,
   "id": "18e4f8af-0b08-4332-837a-3aa862d69587",
   "metadata": {
    "tags": []
   },
   "outputs": [
    {
     "name": "stdout",
     "output_type": "stream",
     "text": [
      "20250911\n"
     ]
    }
   ],
   "source": [
    "from datetime import datetime\n",
    "\n",
    "formatted_date=cutoff_date.strftime('%Y%m%d')\n",
    "\n",
    "print(formatted_date)"
   ]
  },
  {
   "cell_type": "markdown",
   "id": "31bd0e90-fd90-483a-9e63-4105aea00e1c",
   "metadata": {},
   "source": [
    "## Part 1 - E-Bill enrollment"
   ]
  },
  {
   "cell_type": "markdown",
   "id": "57fbee0c-6080-40b0-8a34-3f57dcea82a9",
   "metadata": {},
   "source": [
    "#### 1.1 - all active residential customers as of the cutoff date\n",
    "* Move Out date >= cutoff date\n",
    "* Move In date < cutoff date"
   ]
  },
  {
   "cell_type": "code",
   "execution_count": 6,
   "id": "6ea54439-453e-41bb-a140-6da72d065b4e",
   "metadata": {
    "tags": []
   },
   "outputs": [
    {
     "name": "stderr",
     "output_type": "stream",
     "text": [
      "Exception ignored in: <bound method IPythonKernel._clean_thread_parent_frames of <ipykernel.ipkernel.IPythonKernel object at 0x7f48d3fc41c0>>\n",
      "Traceback (most recent call last):\n",
      "  File \"/opt/conda/lib/python3.10/site-packages/ipykernel/ipkernel.py\", line 775, in _clean_thread_parent_frames\n",
      "    def _clean_thread_parent_frames(\n",
      "KeyboardInterrupt: \n"
     ]
    }
   ],
   "source": [
    "notification_query = '''\n",
    "DO BEGIN \n",
    "DECLARE cutoff_date DATE = current_date;\n",
    "\n",
    "     SELECT DISTINCT MD.\"0CACONT_ACC\" AS cact,\n",
    "       MD.\"0BBP_BUYID\" as bp,\n",
    "       MD.\"ZPLITEAL\" as rate_plan,\n",
    "       MD.\"0UCRATE_CAT\" as rate_plan_cat,\n",
    "       case when \"ZHAUSNUM\" is null or \"4ZMD_A008_HOUSE_NUM2\" is null then 0 else 1 end as unit_num, \n",
    "       case when \"ZLANDLINE\" is null then 0 else 1 end as landline, \n",
    "       case when \"ZMOBILENU\" is null then 0 else 1 end as mobilephone,\n",
    "       case when \"ZTELNUM\" is null then 0 else 1 end as having_phone, \n",
    "       \"CC_CUSTOMER_TYPE_D\" as cust_type, \n",
    "       \"CC_CRITICAL_CARE_FLAG\" as critical_care, \n",
    "      MD.\"0UCCONTRACT\" as cactnum,\n",
    "      to_date(MD.\"0UCMOVEIN_D\") as movein_date,\n",
    "      to_date(MD.\"0UCMOVEOUTD\") as moveout_date,\n",
    "      MD.\"ZSCTRL_GP\" as bill_type, \n",
    "      case when MD.\"0EMAIL_ADDR\" like '%@%' then 1 else 0 end as have_email\n",
    "      FROM _SYS_BIC.\"sce.cs.md.core/CV_UTILITIES_MASTER\" as MD\n",
    "      WHERE MD.\"0UCACC_CLAS\"='RESI' \n",
    "      and to_date(MD.\"0UCMOVEOUTD\") >= cutoff_date \n",
    "      and to_date(MD.\"0UCMOVEIN_D\") < cutoff_date;\n",
    "end; \n",
    "'''\n",
    "\n",
    "try: \n",
    "    ret=cursor_prod.execute(notification_query) \n",
    "    ret=cursor_prod.fetchall() \n",
    "    headers = [i[0] for i in cursor_prod.description]\n",
    "except Exception as ex: \n",
    "    print(ex) "
   ]
  },
  {
   "cell_type": "code",
   "execution_count": 7,
   "id": "381d8b68-c4d4-477f-b969-037efc94b498",
   "metadata": {
    "tags": []
   },
   "outputs": [
    {
     "name": "stdout",
     "output_type": "stream",
     "text": [
      "<class 'pandas.core.frame.DataFrame'>\n",
      "RangeIndex: 4687991 entries, 0 to 4687990\n",
      "Data columns (total 15 columns):\n",
      " #   Column         Dtype \n",
      "---  ------         ----- \n",
      " 0   cact           object\n",
      " 1   bp             object\n",
      " 2   rate_plan      object\n",
      " 3   rate_plan_cat  object\n",
      " 4   unit_num       int64 \n",
      " 5   landline       int64 \n",
      " 6   mobilephone    int64 \n",
      " 7   having_phone   int64 \n",
      " 8   cust_type      object\n",
      " 9   critical_care  object\n",
      " 10  cactnum        object\n",
      " 11  movein_date    object\n",
      " 12  moveoutdate    object\n",
      " 13  bill_type      object\n",
      " 14  have_email     int64 \n",
      "dtypes: int64(5), object(10)\n",
      "memory usage: 536.5+ MB\n"
     ]
    },
    {
     "data": {
      "text/html": [
       "<div>\n",
       "<style scoped>\n",
       "    .dataframe tbody tr th:only-of-type {\n",
       "        vertical-align: middle;\n",
       "    }\n",
       "\n",
       "    .dataframe tbody tr th {\n",
       "        vertical-align: top;\n",
       "    }\n",
       "\n",
       "    .dataframe thead th {\n",
       "        text-align: right;\n",
       "    }\n",
       "</style>\n",
       "<table border=\"1\" class=\"dataframe\">\n",
       "  <thead>\n",
       "    <tr style=\"text-align: right;\">\n",
       "      <th></th>\n",
       "      <th>cact</th>\n",
       "      <th>bp</th>\n",
       "      <th>rate_plan</th>\n",
       "      <th>rate_plan_cat</th>\n",
       "      <th>unit_num</th>\n",
       "      <th>landline</th>\n",
       "      <th>mobilephone</th>\n",
       "      <th>having_phone</th>\n",
       "      <th>cust_type</th>\n",
       "      <th>critical_care</th>\n",
       "      <th>cactnum</th>\n",
       "      <th>movein_date</th>\n",
       "      <th>moveoutdate</th>\n",
       "      <th>bill_type</th>\n",
       "      <th>have_email</th>\n",
       "    </tr>\n",
       "  </thead>\n",
       "  <tbody>\n",
       "    <tr>\n",
       "      <th>0</th>\n",
       "      <td>700779840537</td>\n",
       "      <td>1007233698</td>\n",
       "      <td>TOU-D-PRIME</td>\n",
       "      <td>TDPRIME</td>\n",
       "      <td>1</td>\n",
       "      <td>1</td>\n",
       "      <td>1</td>\n",
       "      <td>1</td>\n",
       "      <td>Domestic</td>\n",
       "      <td>None</td>\n",
       "      <td>8015027955</td>\n",
       "      <td>2023-01-17</td>\n",
       "      <td>9999-12-31</td>\n",
       "      <td>CHKF</td>\n",
       "      <td>1</td>\n",
       "    </tr>\n",
       "    <tr>\n",
       "      <th>1</th>\n",
       "      <td>700244070131</td>\n",
       "      <td>1003653949</td>\n",
       "      <td>TOUD-5-8PM</td>\n",
       "      <td>TD58</td>\n",
       "      <td>1</td>\n",
       "      <td>1</td>\n",
       "      <td>1</td>\n",
       "      <td>1</td>\n",
       "      <td>Domestic</td>\n",
       "      <td>No</td>\n",
       "      <td>8000136883</td>\n",
       "      <td>2021-03-12</td>\n",
       "      <td>9999-12-31</td>\n",
       "      <td>HCB</td>\n",
       "      <td>1</td>\n",
       "    </tr>\n",
       "    <tr>\n",
       "      <th>2</th>\n",
       "      <td>700037362121</td>\n",
       "      <td>1003652821</td>\n",
       "      <td>TOUD-5-8PM</td>\n",
       "      <td>TD58</td>\n",
       "      <td>1</td>\n",
       "      <td>1</td>\n",
       "      <td>1</td>\n",
       "      <td>1</td>\n",
       "      <td>Domestic</td>\n",
       "      <td>None</td>\n",
       "      <td>8004917847</td>\n",
       "      <td>2021-03-21</td>\n",
       "      <td>9999-12-31</td>\n",
       "      <td>HCB</td>\n",
       "      <td>0</td>\n",
       "    </tr>\n",
       "    <tr>\n",
       "      <th>3</th>\n",
       "      <td>700421026322</td>\n",
       "      <td>1004385842</td>\n",
       "      <td>D-CARE-SDP</td>\n",
       "      <td>D</td>\n",
       "      <td>1</td>\n",
       "      <td>1</td>\n",
       "      <td>1</td>\n",
       "      <td>1</td>\n",
       "      <td>Domestic</td>\n",
       "      <td>None</td>\n",
       "      <td>8001599169</td>\n",
       "      <td>2021-03-11</td>\n",
       "      <td>9999-12-31</td>\n",
       "      <td>EBIL</td>\n",
       "      <td>1</td>\n",
       "    </tr>\n",
       "    <tr>\n",
       "      <th>4</th>\n",
       "      <td>700429250710</td>\n",
       "      <td>1001016596</td>\n",
       "      <td>DOMESTIC</td>\n",
       "      <td>D</td>\n",
       "      <td>1</td>\n",
       "      <td>1</td>\n",
       "      <td>1</td>\n",
       "      <td>1</td>\n",
       "      <td>Domestic</td>\n",
       "      <td>No</td>\n",
       "      <td>8003826606</td>\n",
       "      <td>2021-03-23</td>\n",
       "      <td>9999-12-31</td>\n",
       "      <td>HCB</td>\n",
       "      <td>1</td>\n",
       "    </tr>\n",
       "  </tbody>\n",
       "</table>\n",
       "</div>"
      ],
      "text/plain": [
       "           cact          bp    rate_plan rate_plan_cat  unit_num  landline  \\\n",
       "0  700779840537  1007233698  TOU-D-PRIME       TDPRIME         1         1   \n",
       "1  700244070131  1003653949   TOUD-5-8PM          TD58         1         1   \n",
       "2  700037362121  1003652821   TOUD-5-8PM          TD58         1         1   \n",
       "3  700421026322  1004385842   D-CARE-SDP             D         1         1   \n",
       "4  700429250710  1001016596     DOMESTIC             D         1         1   \n",
       "\n",
       "   mobilephone  having_phone cust_type critical_care     cactnum movein_date  \\\n",
       "0            1             1  Domestic          None  8015027955  2023-01-17   \n",
       "1            1             1  Domestic            No  8000136883  2021-03-12   \n",
       "2            1             1  Domestic          None  8004917847  2021-03-21   \n",
       "3            1             1  Domestic          None  8001599169  2021-03-11   \n",
       "4            1             1  Domestic            No  8003826606  2021-03-23   \n",
       "\n",
       "  moveoutdate bill_type  have_email  \n",
       "0  9999-12-31      CHKF           1  \n",
       "1  9999-12-31       HCB           1  \n",
       "2  9999-12-31       HCB           0  \n",
       "3  9999-12-31      EBIL           1  \n",
       "4  9999-12-31       HCB           1  "
      ]
     },
     "execution_count": 7,
     "metadata": {},
     "output_type": "execute_result"
    }
   ],
   "source": [
    "all_resi_model=pd.DataFrame(ret)\n",
    "all_resi_model.columns=['cact', 'bp', 'rate_plan', 'rate_plan_cat', 'unit_num', 'landline',\n",
    "                        'mobilephone', 'having_phone', 'cust_type', 'critical_care', \n",
    "                        'cactnum', 'movein_date', 'moveoutdate', 'bill_type', 'have_email'] \n",
    "all_resi_model.info()\n",
    "all_resi_model.head()   "
   ]
  },
  {
   "cell_type": "code",
   "execution_count": 8,
   "id": "c154e9f1-3e58-461a-a98f-d46dd2f5dd83",
   "metadata": {
    "tags": []
   },
   "outputs": [
    {
     "data": {
      "text/plain": [
       "np.float64(0.8326784330430669)"
      ]
     },
     "execution_count": 8,
     "metadata": {},
     "output_type": "execute_result"
    }
   ],
   "source": [
    "all_resi_model['have_email'].mean()"
   ]
  },
  {
   "cell_type": "code",
   "execution_count": 10,
   "id": "46f92c05-b11c-43d1-b506-89ca4671bce7",
   "metadata": {},
   "outputs": [],
   "source": [
    "all_resi_model.to_csv(str(path_name)+str('/all_resi_model.csv'), index=False)"
   ]
  },
  {
   "cell_type": "markdown",
   "id": "2296d6f2-42c2-40c9-8b33-dd42bb4916b7",
   "metadata": {},
   "source": [
    "#### 1. 2 - all customers with email as of cutoff date\n",
    "* Emails from MyAccount and contact table will be pulled."
   ]
  },
  {
   "cell_type": "code",
   "execution_count": 11,
   "id": "c2552203-fab4-4752-8739-a311258991a4",
   "metadata": {
    "tags": []
   },
   "outputs": [],
   "source": [
    "# email from CV_CONSENT_GUID_WEBID (for MyAccount)\n",
    "notification_query = '''\n",
    "DO BEGIN \n",
    "DECLARE cutoff_date DATE = current_date;\n",
    "\n",
    "     select ZMOBJKEY as cact,\n",
    "     \"0BPARTNER\" as bp,\n",
    "     \"0VALIDFROM___T\" as email_valid_from,\n",
    "     \"0VALIDTO___T\" as email_valid_to,\n",
    "      EMAIL\n",
    "     from \"_SYS_BIC\".\"sce.cs.id.core/CV_CONSENT_GUID_WEBID\"\n",
    "     where to_date(\"0VALIDTO___T\") >= cutoff_date\n",
    "       and to_date(\"0VALIDFROM___T\") < cutoff_date\n",
    "      and email like '%@%';\n",
    "end; \n",
    "'''\n",
    "\n",
    "try: \n",
    "    ret=cursor_prod.execute(notification_query) \n",
    "    ret=cursor_prod.fetchall() \n",
    "    headers = [i[0] for i in cursor_prod.description]\n",
    "except Exception as ex: \n",
    "    print(ex) "
   ]
  },
  {
   "cell_type": "code",
   "execution_count": 12,
   "id": "791a2220-4aaa-48ad-95af-da2660bc480a",
   "metadata": {
    "tags": []
   },
   "outputs": [
    {
     "name": "stdout",
     "output_type": "stream",
     "text": [
      "<class 'pandas.core.frame.DataFrame'>\n",
      "RangeIndex: 6407129 entries, 0 to 6407128\n",
      "Data columns (total 5 columns):\n",
      " #   Column            Dtype \n",
      "---  ------            ----- \n",
      " 0   cact              object\n",
      " 1   bp                object\n",
      " 2   email_valid_from  object\n",
      " 3   email_valid_to    object\n",
      " 4   email             object\n",
      "dtypes: object(5)\n",
      "memory usage: 244.4+ MB\n"
     ]
    },
    {
     "data": {
      "text/html": [
       "<div>\n",
       "<style scoped>\n",
       "    .dataframe tbody tr th:only-of-type {\n",
       "        vertical-align: middle;\n",
       "    }\n",
       "\n",
       "    .dataframe tbody tr th {\n",
       "        vertical-align: top;\n",
       "    }\n",
       "\n",
       "    .dataframe thead th {\n",
       "        text-align: right;\n",
       "    }\n",
       "</style>\n",
       "<table border=\"1\" class=\"dataframe\">\n",
       "  <thead>\n",
       "    <tr style=\"text-align: right;\">\n",
       "      <th></th>\n",
       "      <th>cact</th>\n",
       "      <th>bp</th>\n",
       "      <th>email_valid_from</th>\n",
       "      <th>email_valid_to</th>\n",
       "      <th>email</th>\n",
       "    </tr>\n",
       "  </thead>\n",
       "  <tbody>\n",
       "    <tr>\n",
       "      <th>0</th>\n",
       "      <td>700903279707</td>\n",
       "      <td>1008178145</td>\n",
       "      <td>2024-07-10</td>\n",
       "      <td>9999-12-31</td>\n",
       "      <td>Jazziedadoll@gmail.com</td>\n",
       "    </tr>\n",
       "    <tr>\n",
       "      <th>1</th>\n",
       "      <td>700898300876</td>\n",
       "      <td>1008142811</td>\n",
       "      <td>2024-07-12</td>\n",
       "      <td>9999-12-31</td>\n",
       "      <td>rochellemoss10@gmail.com</td>\n",
       "    </tr>\n",
       "    <tr>\n",
       "      <th>2</th>\n",
       "      <td>700915049544</td>\n",
       "      <td>1008142811</td>\n",
       "      <td>2024-08-21</td>\n",
       "      <td>9999-12-31</td>\n",
       "      <td>rochellemoss10@gmail.com</td>\n",
       "    </tr>\n",
       "    <tr>\n",
       "      <th>3</th>\n",
       "      <td>700903043166</td>\n",
       "      <td>1008176319</td>\n",
       "      <td>2024-07-09</td>\n",
       "      <td>9999-12-31</td>\n",
       "      <td>valhuizar10@gmail.com</td>\n",
       "    </tr>\n",
       "    <tr>\n",
       "      <th>4</th>\n",
       "      <td>700903911520</td>\n",
       "      <td>1008182365</td>\n",
       "      <td>2024-07-12</td>\n",
       "      <td>9999-12-31</td>\n",
       "      <td>deliaolmos95@gmail.com</td>\n",
       "    </tr>\n",
       "  </tbody>\n",
       "</table>\n",
       "</div>"
      ],
      "text/plain": [
       "           cact          bp email_valid_from email_valid_to  \\\n",
       "0  700903279707  1008178145       2024-07-10     9999-12-31   \n",
       "1  700898300876  1008142811       2024-07-12     9999-12-31   \n",
       "2  700915049544  1008142811       2024-08-21     9999-12-31   \n",
       "3  700903043166  1008176319       2024-07-09     9999-12-31   \n",
       "4  700903911520  1008182365       2024-07-12     9999-12-31   \n",
       "\n",
       "                      email  \n",
       "0    Jazziedadoll@gmail.com  \n",
       "1  rochellemoss10@gmail.com  \n",
       "2  rochellemoss10@gmail.com  \n",
       "3     valhuizar10@gmail.com  \n",
       "4    deliaolmos95@gmail.com  "
      ]
     },
     "execution_count": 12,
     "metadata": {},
     "output_type": "execute_result"
    }
   ],
   "source": [
    "email_myacct=pd.DataFrame(ret)\n",
    "email_myacct.columns=['cact', 'bp', 'email_valid_from', 'email_valid_to', 'email'] \n",
    "email_myacct.info()\n",
    "email_myacct.head()   "
   ]
  },
  {
   "cell_type": "code",
   "execution_count": 13,
   "id": "479e8101-104f-4731-8e5d-f4fb38af3467",
   "metadata": {
    "tags": []
   },
   "outputs": [],
   "source": [
    "email_myacct.to_csv(str(path_name)+str('/email_myacct.csv'), index=False)"
   ]
  },
  {
   "cell_type": "code",
   "execution_count": 14,
   "id": "4e8a78e3-4816-4841-aa21-6e7ecce50d74",
   "metadata": {
    "tags": []
   },
   "outputs": [],
   "source": [
    "# email from SV_BP_CONTACT_DETAILS\n",
    "notification_query = '''\n",
    "DO BEGIN \n",
    "DECLARE cutoff_date DATE = current_date;\n",
    "\n",
    "     SELECT\n",
    "          Table__1.\"0BPARTNER\" AS BP, \n",
    "          Table__1.\"ZCOMM_VALIDFRM\", \n",
    "          Table__1.\"ZCOMM_VALIDTO\",  \n",
    "          Table__1.\"ZSMTP_AD\" AS BP_EMAIL, \n",
    "          Table__1.\"ZEMAIL_DEFAULT_FROM\", \n",
    "          Table__1.\"ZEMAIL_DEFAULT_TO\" \n",
    "     FROM \"_SYS_BIC\".\"sce.cs.cim.sem/SV_BP_CONTACT_DETAILS\"  Table__1\n",
    "     WHERE Table__1.\"ZSTATUSC\" IN ('EMAIL')\n",
    "       AND Table__1.\"ZSMTP_AD\" IS NOT NULL\n",
    "       AND to_date(Table__1.\"ZCOMM_VALIDTO\") >= cutoff_date \n",
    "       and to_date(Table__1.\"ZCOMM_VALIDFRM\") < cutoff_date \n",
    "       AND Table__1.\"ZCOMM_VALIDFRM\" IS NOT NULL\n",
    "       AND Table__1.\"ZSMTP_AD\" like '%@%';\n",
    "     end;\n",
    "'''\n",
    "\n",
    "try: \n",
    "    ret=cursor_prod.execute(notification_query) \n",
    "    ret=cursor_prod.fetchall() \n",
    "    headers = [i[0] for i in cursor_prod.description]\n",
    "except Exception as ex: \n",
    "    print(ex) "
   ]
  },
  {
   "cell_type": "code",
   "execution_count": 15,
   "id": "11504610-d1f7-4ed9-87a8-988b8536aa59",
   "metadata": {
    "tags": []
   },
   "outputs": [
    {
     "name": "stdout",
     "output_type": "stream",
     "text": [
      "<class 'pandas.core.frame.DataFrame'>\n",
      "RangeIndex: 10622574 entries, 0 to 10622573\n",
      "Data columns (total 6 columns):\n",
      " #   Column              Dtype \n",
      "---  ------              ----- \n",
      " 0   bp                  object\n",
      " 1   ZCOMM_VALIDFRM      object\n",
      " 2   ZCOMM_VALIDTO       object\n",
      " 3   bp_email            object\n",
      " 4   email_contact_from  object\n",
      " 5   email_contact_to    object\n",
      "dtypes: object(6)\n",
      "memory usage: 486.3+ MB\n"
     ]
    },
    {
     "data": {
      "text/html": [
       "<div>\n",
       "<style scoped>\n",
       "    .dataframe tbody tr th:only-of-type {\n",
       "        vertical-align: middle;\n",
       "    }\n",
       "\n",
       "    .dataframe tbody tr th {\n",
       "        vertical-align: top;\n",
       "    }\n",
       "\n",
       "    .dataframe thead th {\n",
       "        text-align: right;\n",
       "    }\n",
       "</style>\n",
       "<table border=\"1\" class=\"dataframe\">\n",
       "  <thead>\n",
       "    <tr style=\"text-align: right;\">\n",
       "      <th></th>\n",
       "      <th>bp</th>\n",
       "      <th>ZCOMM_VALIDFRM</th>\n",
       "      <th>ZCOMM_VALIDTO</th>\n",
       "      <th>bp_email</th>\n",
       "      <th>email_contact_from</th>\n",
       "      <th>email_contact_to</th>\n",
       "    </tr>\n",
       "  </thead>\n",
       "  <tbody>\n",
       "    <tr>\n",
       "      <th>0</th>\n",
       "      <td>1007030344</td>\n",
       "      <td>2022-09-10</td>\n",
       "      <td>9999-12-31</td>\n",
       "      <td>nytshop@verizon.net</td>\n",
       "      <td>2022-09-10</td>\n",
       "      <td>2023-01-01</td>\n",
       "    </tr>\n",
       "    <tr>\n",
       "      <th>1</th>\n",
       "      <td>1001427225</td>\n",
       "      <td>2021-04-01</td>\n",
       "      <td>9999-12-31</td>\n",
       "      <td>KAMALISRI@YAHOO.COM</td>\n",
       "      <td>None</td>\n",
       "      <td>None</td>\n",
       "    </tr>\n",
       "    <tr>\n",
       "      <th>2</th>\n",
       "      <td>1005637954</td>\n",
       "      <td>2021-12-29</td>\n",
       "      <td>9999-12-31</td>\n",
       "      <td>INGREEDJEE@HOTMAIL.COM</td>\n",
       "      <td>2021-12-29</td>\n",
       "      <td>9999-12-31</td>\n",
       "    </tr>\n",
       "    <tr>\n",
       "      <th>3</th>\n",
       "      <td>1002973606</td>\n",
       "      <td>2010-11-19</td>\n",
       "      <td>9999-12-31</td>\n",
       "      <td>ABEER.ABDELRAHIM@YAHOO.COM</td>\n",
       "      <td>2010-11-19</td>\n",
       "      <td>9999-12-31</td>\n",
       "    </tr>\n",
       "    <tr>\n",
       "      <th>4</th>\n",
       "      <td>1006776393</td>\n",
       "      <td>2022-05-05</td>\n",
       "      <td>9999-12-31</td>\n",
       "      <td>imshuangzhang@hotmail.com</td>\n",
       "      <td>2022-05-05</td>\n",
       "      <td>9999-12-31</td>\n",
       "    </tr>\n",
       "  </tbody>\n",
       "</table>\n",
       "</div>"
      ],
      "text/plain": [
       "           bp ZCOMM_VALIDFRM ZCOMM_VALIDTO                    bp_email  \\\n",
       "0  1007030344     2022-09-10    9999-12-31         nytshop@verizon.net   \n",
       "1  1001427225     2021-04-01    9999-12-31         KAMALISRI@YAHOO.COM   \n",
       "2  1005637954     2021-12-29    9999-12-31      INGREEDJEE@HOTMAIL.COM   \n",
       "3  1002973606     2010-11-19    9999-12-31  ABEER.ABDELRAHIM@YAHOO.COM   \n",
       "4  1006776393     2022-05-05    9999-12-31   imshuangzhang@hotmail.com   \n",
       "\n",
       "  email_contact_from email_contact_to  \n",
       "0         2022-09-10       2023-01-01  \n",
       "1               None             None  \n",
       "2         2021-12-29       9999-12-31  \n",
       "3         2010-11-19       9999-12-31  \n",
       "4         2022-05-05       9999-12-31  "
      ]
     },
     "execution_count": 15,
     "metadata": {},
     "output_type": "execute_result"
    }
   ],
   "source": [
    "email_contact=pd.DataFrame(ret)\n",
    "email_contact.columns=['bp', 'ZCOMM_VALIDFRM', 'ZCOMM_VALIDTO', 'bp_email', 'email_contact_from',\n",
    "                       'email_contact_to']\n",
    "email_contact.info()\n",
    "email_contact.head()   "
   ]
  },
  {
   "cell_type": "code",
   "execution_count": 16,
   "id": "85f264dd-c2e6-434a-95e6-ab08f93003a3",
   "metadata": {
    "tags": []
   },
   "outputs": [],
   "source": [
    "email_contact.to_csv(str(path_name)+str('/email_contact.csv'), index=False)"
   ]
  },
  {
   "cell_type": "markdown",
   "id": "b353aec5-4091-4b28-a90d-1edf7a3711a3",
   "metadata": {},
   "source": [
    "#### 1.3 - Customers who have enrolled or opted out in the past (by cutoff date)"
   ]
  },
  {
   "cell_type": "code",
   "execution_count": 110,
   "id": "6ca3f082-d9d4-4d64-8c75-f56949dbbd44",
   "metadata": {},
   "outputs": [
    {
     "name": "stdout",
     "output_type": "stream",
     "text": [
      "(257, 'sql syntax error: incorrect syntax near \"sum\": line 10 col 13 (at pos 306)')\n"
     ]
    }
   ],
   "source": [
    "# notice we use 2025-02-01 as the cutoff data for enrollment\n",
    "notification_query = '''\n",
    "DO BEGIN \n",
    "DECLARE cutoff_date DATE = '2025-09-08';\n",
    "\n",
    "    SELECT \n",
    "            ZOBJTID as cact,\n",
    "            max(to_date(ZUDATE___T))    as last_enroll_date,\n",
    "            min(days_between(to_date(ZUDATE___T), cutoff_date)) as last_enroll_recency, \n",
    "            count(ZVALUEOLD) as enroll_cnt_total\n",
    "            sum(case when days_between(to_date(ZUDATE___T), cutoff_date) < 365 then 1 else 0 end) as enroll_cnt_lastyear,\n",
    "            sum(case when days_between(to_date(ZUDATE___T), cutoff_date) < 730 then 1 else 0 end) as enroll_cnt_last2years \n",
    "        FROM _SYS_BIC.\"sce.cs.cc.core/CV_CDPOS_CDHDR\"\n",
    "            WHERE ZVALUENEW = 'EBIL'\n",
    "            and to_date(ZUDATE___T) < cutoff_date\n",
    "        group by ZOBJTID;\n",
    "end; \n",
    "'''\n",
    "\n",
    "try: \n",
    "    ret=cursor_prod.execute(notification_query) \n",
    "    ret=cursor_prod.fetchall() \n",
    "    headers = [i[0] for i in cursor_prod.description]\n",
    "except Exception as ex: \n",
    "    print(ex) "
   ]
  },
  {
   "cell_type": "code",
   "execution_count": 111,
   "id": "d6234d1c-b185-44c6-81ad-5e4ba91a0418",
   "metadata": {},
   "outputs": [
    {
     "name": "stdout",
     "output_type": "stream",
     "text": [
      "<class 'pandas.core.frame.DataFrame'>\n",
      "RangeIndex: 894420 entries, 0 to 894419\n",
      "Data columns (total 6 columns):\n",
      " #   Column                 Non-Null Count   Dtype \n",
      "---  ------                 --------------   ----- \n",
      " 0   cact                   894420 non-null  object\n",
      " 1   past_enroll_date       894420 non-null  object\n",
      " 2   past_enroll_recency    894420 non-null  int64 \n",
      " 3   enroll_cnt_total       894420 non-null  int64 \n",
      " 4   enroll_cnt_lastyear    894420 non-null  int64 \n",
      " 5   enroll_cnt_last2years  894420 non-null  int64 \n",
      "dtypes: int64(4), object(2)\n",
      "memory usage: 40.9+ MB\n"
     ]
    },
    {
     "data": {
      "text/html": [
       "<div>\n",
       "<style scoped>\n",
       "    .dataframe tbody tr th:only-of-type {\n",
       "        vertical-align: middle;\n",
       "    }\n",
       "\n",
       "    .dataframe tbody tr th {\n",
       "        vertical-align: top;\n",
       "    }\n",
       "\n",
       "    .dataframe thead th {\n",
       "        text-align: right;\n",
       "    }\n",
       "</style>\n",
       "<table border=\"1\" class=\"dataframe\">\n",
       "  <thead>\n",
       "    <tr style=\"text-align: right;\">\n",
       "      <th></th>\n",
       "      <th>cact</th>\n",
       "      <th>past_enroll_date</th>\n",
       "      <th>past_enroll_recency</th>\n",
       "      <th>enroll_cnt_total</th>\n",
       "      <th>enroll_cnt_lastyear</th>\n",
       "      <th>enroll_cnt_last2years</th>\n",
       "    </tr>\n",
       "  </thead>\n",
       "  <tbody>\n",
       "    <tr>\n",
       "      <th>0</th>\n",
       "      <td>700291241837</td>\n",
       "      <td>2022-10-03</td>\n",
       "      <td>1071</td>\n",
       "      <td>1</td>\n",
       "      <td>0</td>\n",
       "      <td>0</td>\n",
       "    </tr>\n",
       "    <tr>\n",
       "      <th>1</th>\n",
       "      <td>700871320530</td>\n",
       "      <td>2025-07-10</td>\n",
       "      <td>60</td>\n",
       "      <td>1</td>\n",
       "      <td>1</td>\n",
       "      <td>1</td>\n",
       "    </tr>\n",
       "    <tr>\n",
       "      <th>2</th>\n",
       "      <td>700005867635</td>\n",
       "      <td>2025-01-31</td>\n",
       "      <td>220</td>\n",
       "      <td>1</td>\n",
       "      <td>1</td>\n",
       "      <td>1</td>\n",
       "    </tr>\n",
       "    <tr>\n",
       "      <th>3</th>\n",
       "      <td>700928219821</td>\n",
       "      <td>2025-08-03</td>\n",
       "      <td>36</td>\n",
       "      <td>2</td>\n",
       "      <td>2</td>\n",
       "      <td>2</td>\n",
       "    </tr>\n",
       "    <tr>\n",
       "      <th>4</th>\n",
       "      <td>700171756227</td>\n",
       "      <td>2023-06-24</td>\n",
       "      <td>807</td>\n",
       "      <td>1</td>\n",
       "      <td>0</td>\n",
       "      <td>0</td>\n",
       "    </tr>\n",
       "  </tbody>\n",
       "</table>\n",
       "</div>"
      ],
      "text/plain": [
       "           cact past_enroll_date  past_enroll_recency  enroll_cnt_total  \\\n",
       "0  700291241837       2022-10-03                 1071                 1   \n",
       "1  700871320530       2025-07-10                   60                 1   \n",
       "2  700005867635       2025-01-31                  220                 1   \n",
       "3  700928219821       2025-08-03                   36                 2   \n",
       "4  700171756227       2023-06-24                  807                 1   \n",
       "\n",
       "   enroll_cnt_lastyear  enroll_cnt_last2years  \n",
       "0                    0                      0  \n",
       "1                    1                      1  \n",
       "2                    1                      1  \n",
       "3                    2                      2  \n",
       "4                    0                      0  "
      ]
     },
     "execution_count": 111,
     "metadata": {},
     "output_type": "execute_result"
    }
   ],
   "source": [
    "past_enroll=pd.DataFrame(ret)\n",
    "past_enroll.columns=['cact', 'past_enroll_date', 'past_enroll_recency', 'enroll_cnt_total', 'enroll_cnt_lastyear', 'enroll_cnt_last2years']\n",
    "past_enroll.info()\n",
    "past_enroll.head()   "
   ]
  },
  {
   "cell_type": "code",
   "execution_count": 112,
   "id": "624cd375-489d-4723-8351-89d38c0c2ea0",
   "metadata": {},
   "outputs": [],
   "source": [
    "past_enroll.to_csv(str(path_name)+str('/past_enroll.csv'), index=False)"
   ]
  },
  {
   "cell_type": "code",
   "execution_count": 6,
   "id": "cec09a45-5786-4e5e-9785-67c5ba31fa33",
   "metadata": {},
   "outputs": [],
   "source": [
    "notification_query = '''\n",
    "DO BEGIN \n",
    "DECLARE cutoff_date DATE = '2025-09-08';\n",
    "\n",
    "    SELECT ZOBJTID as cact,\n",
    "                   max(to_date(ZUDATE___T)) as latest_optout_date, \n",
    "                   min(days_between(to_date(ZUDATE___T), cutoff_date)) as last_optout_recency, \n",
    "                   count(ZVALUEOLD) as optout_cnt_total,\n",
    "                   sum(case when days_between(to_date(ZUDATE___T), cutoff_date) < 365 then 1 else 0 end) as optout_cnt_lastyear,\n",
    "                   sum(case when days_between(to_date(ZUDATE___T), cutoff_date) < 730 then 1 else 0 end) as optout_cnt_last2years \n",
    "            FROM _SYS_BIC.\"sce.cs.cc.core/CV_CDPOS_CDHDR\"\n",
    "            WHERE ZVALUEOLD = 'EBIL'\n",
    "              and to_date(ZUDATE___T) < cutoff_date\n",
    "       group by ZOBJTID;\n",
    "end; \n",
    "'''\n",
    "\n",
    "try: \n",
    "    ret=cursor_prod.execute(notification_query) \n",
    "    ret=cursor_prod.fetchall() \n",
    "    headers = [i[0] for i in cursor_prod.description]\n",
    "except Exception as ex: \n",
    "    print(ex) "
   ]
  },
  {
   "cell_type": "code",
   "execution_count": 7,
   "id": "ab564da4-2a28-4831-8477-71aa1ce43eb2",
   "metadata": {
    "tags": []
   },
   "outputs": [
    {
     "name": "stdout",
     "output_type": "stream",
     "text": [
      "<class 'pandas.core.frame.DataFrame'>\n",
      "RangeIndex: 894420 entries, 0 to 894419\n",
      "Data columns (total 6 columns):\n",
      " #   Column                 Non-Null Count   Dtype \n",
      "---  ------                 --------------   ----- \n",
      " 0   cact                   894420 non-null  object\n",
      " 1   latest_optout_date     894420 non-null  object\n",
      " 2   last_optout_recency    894420 non-null  int64 \n",
      " 3   optout_cnt_total       894420 non-null  int64 \n",
      " 4   optout_cnt_lastyear    894420 non-null  int64 \n",
      " 5   optout_cnt_last2years  894420 non-null  int64 \n",
      "dtypes: int64(4), object(2)\n",
      "memory usage: 40.9+ MB\n"
     ]
    },
    {
     "data": {
      "text/html": [
       "<div>\n",
       "<style scoped>\n",
       "    .dataframe tbody tr th:only-of-type {\n",
       "        vertical-align: middle;\n",
       "    }\n",
       "\n",
       "    .dataframe tbody tr th {\n",
       "        vertical-align: top;\n",
       "    }\n",
       "\n",
       "    .dataframe thead th {\n",
       "        text-align: right;\n",
       "    }\n",
       "</style>\n",
       "<table border=\"1\" class=\"dataframe\">\n",
       "  <thead>\n",
       "    <tr style=\"text-align: right;\">\n",
       "      <th></th>\n",
       "      <th>cact</th>\n",
       "      <th>latest_optout_date</th>\n",
       "      <th>last_optout_recency</th>\n",
       "      <th>optout_cnt_total</th>\n",
       "      <th>optout_cnt_lastyear</th>\n",
       "      <th>optout_cnt_last2years</th>\n",
       "    </tr>\n",
       "  </thead>\n",
       "  <tbody>\n",
       "    <tr>\n",
       "      <th>0</th>\n",
       "      <td>700291241837</td>\n",
       "      <td>2022-10-03</td>\n",
       "      <td>1071</td>\n",
       "      <td>1</td>\n",
       "      <td>0</td>\n",
       "      <td>0</td>\n",
       "    </tr>\n",
       "    <tr>\n",
       "      <th>1</th>\n",
       "      <td>700871320530</td>\n",
       "      <td>2025-07-10</td>\n",
       "      <td>60</td>\n",
       "      <td>1</td>\n",
       "      <td>1</td>\n",
       "      <td>1</td>\n",
       "    </tr>\n",
       "    <tr>\n",
       "      <th>2</th>\n",
       "      <td>700005867635</td>\n",
       "      <td>2025-01-31</td>\n",
       "      <td>220</td>\n",
       "      <td>1</td>\n",
       "      <td>1</td>\n",
       "      <td>1</td>\n",
       "    </tr>\n",
       "    <tr>\n",
       "      <th>3</th>\n",
       "      <td>700928219821</td>\n",
       "      <td>2025-08-03</td>\n",
       "      <td>36</td>\n",
       "      <td>2</td>\n",
       "      <td>2</td>\n",
       "      <td>2</td>\n",
       "    </tr>\n",
       "    <tr>\n",
       "      <th>4</th>\n",
       "      <td>700171756227</td>\n",
       "      <td>2023-06-24</td>\n",
       "      <td>807</td>\n",
       "      <td>1</td>\n",
       "      <td>0</td>\n",
       "      <td>0</td>\n",
       "    </tr>\n",
       "  </tbody>\n",
       "</table>\n",
       "</div>"
      ],
      "text/plain": [
       "           cact latest_optout_date  last_optout_recency  optout_cnt_total  \\\n",
       "0  700291241837         2022-10-03                 1071                 1   \n",
       "1  700871320530         2025-07-10                   60                 1   \n",
       "2  700005867635         2025-01-31                  220                 1   \n",
       "3  700928219821         2025-08-03                   36                 2   \n",
       "4  700171756227         2023-06-24                  807                 1   \n",
       "\n",
       "   optout_cnt_lastyear  optout_cnt_last2years  \n",
       "0                    0                      0  \n",
       "1                    1                      1  \n",
       "2                    1                      1  \n",
       "3                    2                      2  \n",
       "4                    0                      0  "
      ]
     },
     "execution_count": 7,
     "metadata": {},
     "output_type": "execute_result"
    }
   ],
   "source": [
    "past_optout=pd.DataFrame(ret)\n",
    "past_optout.columns=['cact', 'latest_optout_date', 'last_optout_recency','optout_cnt_total', 'optout_cnt_lastyear', 'optout_cnt_last2years']\n",
    "past_optout.info()\n",
    "past_optout.head() "
   ]
  },
  {
   "cell_type": "code",
   "execution_count": 8,
   "id": "8b9ce63f-c410-49d2-a6fc-9afa244589c6",
   "metadata": {
    "tags": []
   },
   "outputs": [
    {
     "name": "stdout",
     "output_type": "stream",
     "text": [
      "2021-04-06\n",
      "2025-09-07\n"
     ]
    }
   ],
   "source": [
    "print(past_optout['latest_optout_date'].min())\n",
    "print(past_optout['latest_optout_date'].max())"
   ]
  },
  {
   "cell_type": "code",
   "execution_count": 9,
   "id": "a48fc8e5-055d-43be-a04b-ace2ed1350f5",
   "metadata": {},
   "outputs": [],
   "source": [
    "past_optout.to_csv(str(path_name)+str('/past_optout.csv'), index=False)"
   ]
  },
  {
   "cell_type": "markdown",
   "id": "a0e5ff19-f0ad-4c3c-b646-d281fcc2eba8",
   "metadata": {},
   "source": [
    "#### 1.4 - GOV, SR. Citizen, Bankruptcy, Disaster Relief & Redlist"
   ]
  },
  {
   "cell_type": "code",
   "execution_count": 24,
   "id": "ad341560-5bc5-494d-98fe-9824be26bdde",
   "metadata": {
    "tags": []
   },
   "outputs": [],
   "source": [
    "notification_query = '''\n",
    "DO BEGIN \n",
    "DECLARE cutoff_date DATE = current_date;\n",
    "\n",
    "SELECT DISTINCT  \n",
    "          t1.*\n",
    "      FROM _SYS_BIC.\"system-local.bw.bw2hana/ZMD_A040\" t1\n",
    "      WHERE \"0BP_ID_TYPE\" IN ('ZFED','ZOTH','ZSTA','ZCIT','ZCOU', 'ZBAN', 'ZSRC', 'ZDIS', 'ZCAS') \n",
    "      AND to_date(\"0DATETO___T\") >= cutoff_date\n",
    "      AND to_date(\"0DATEFROM___T\") <= cutoff_date;\n",
    "end; \n",
    "'''"
   ]
  },
  {
   "cell_type": "code",
   "execution_count": 25,
   "id": "9e9c5a42-0376-4fa3-a9bb-f7c85b4040ad",
   "metadata": {
    "tags": []
   },
   "outputs": [],
   "source": [
    "try: \n",
    "    ret=cursor_prod.execute(notification_query) \n",
    "    ret=cursor_prod.fetchall() \n",
    "    headers = [i[0] for i in cursor_prod.description]\n",
    "    #print(headers)\n",
    "    #for row in ret:\n",
    "        #print(row)\n",
    "except Exception as ex: \n",
    "    print(ex) "
   ]
  },
  {
   "cell_type": "code",
   "execution_count": 26,
   "id": "b464e2f4-577e-41aa-862d-00c424877e2e",
   "metadata": {
    "tags": []
   },
   "outputs": [
    {
     "name": "stdout",
     "output_type": "stream",
     "text": [
      "<class 'pandas.core.frame.DataFrame'>\n",
      "RangeIndex: 412542 entries, 0 to 412541\n",
      "Data columns (total 24 columns):\n",
      " #   Column           Non-Null Count   Dtype \n",
      "---  ------           --------------   ----- \n",
      " 0   0BP_ID_DATE      412542 non-null  object\n",
      " 1   0BP_ID_NUM       412542 non-null  object\n",
      " 2   0BP_ID_TYPE      412542 non-null  object\n",
      " 3   0BP_ID_TYPE___T  412542 non-null  object\n",
      " 4   0COUNTRY         412542 non-null  object\n",
      " 5   0COUNTRY___T     142201 non-null  object\n",
      " 6   0DATEFROM        412542 non-null  object\n",
      " 7   0DATETO          412542 non-null  object\n",
      " 8   0FLGDELETED      412542 non-null  object\n",
      " 9   0REGION          412542 non-null  object\n",
      " 10  0REGION___T      2283 non-null    object\n",
      " 11  0REQTSN          412542 non-null  object\n",
      " 12  0TIME            412542 non-null  object\n",
      " 13  0UPD_DATE        412542 non-null  object\n",
      " 14  ZBP_PART         412542 non-null  object\n",
      " 15  ZBP_PART___T     412542 non-null  object\n",
      " 16  ZINSTITUT        412542 non-null  object\n",
      " 17  0BP_ID_DATE___T  120597 non-null  object\n",
      " 18  0DATEFROM___T    412542 non-null  object\n",
      " 19  0DATETO___T      412542 non-null  object\n",
      " 20  0TIME___T        412542 non-null  object\n",
      " 21  0UPD_DATE___T    412542 non-null  object\n",
      " 22  __AP_CHECK_INT   412542 non-null  int64 \n",
      " 23  1ROWCOUNT        412542 non-null  object\n",
      "dtypes: int64(1), object(23)\n",
      "memory usage: 75.5+ MB\n"
     ]
    },
    {
     "data": {
      "text/html": [
       "<div>\n",
       "<style scoped>\n",
       "    .dataframe tbody tr th:only-of-type {\n",
       "        vertical-align: middle;\n",
       "    }\n",
       "\n",
       "    .dataframe tbody tr th {\n",
       "        vertical-align: top;\n",
       "    }\n",
       "\n",
       "    .dataframe thead th {\n",
       "        text-align: right;\n",
       "    }\n",
       "</style>\n",
       "<table border=\"1\" class=\"dataframe\">\n",
       "  <thead>\n",
       "    <tr style=\"text-align: right;\">\n",
       "      <th></th>\n",
       "      <th>0BP_ID_DATE</th>\n",
       "      <th>0BP_ID_NUM</th>\n",
       "      <th>0BP_ID_TYPE</th>\n",
       "      <th>0BP_ID_TYPE___T</th>\n",
       "      <th>0COUNTRY</th>\n",
       "      <th>0COUNTRY___T</th>\n",
       "      <th>0DATEFROM</th>\n",
       "      <th>0DATETO</th>\n",
       "      <th>0FLGDELETED</th>\n",
       "      <th>0REGION</th>\n",
       "      <th>0REGION___T</th>\n",
       "      <th>0REQTSN</th>\n",
       "      <th>0TIME</th>\n",
       "      <th>0UPD_DATE</th>\n",
       "      <th>ZBP_PART</th>\n",
       "      <th>ZBP_PART___T</th>\n",
       "      <th>ZINSTITUT</th>\n",
       "      <th>0BP_ID_DATE___T</th>\n",
       "      <th>0DATEFROM___T</th>\n",
       "      <th>0DATETO___T</th>\n",
       "      <th>0TIME___T</th>\n",
       "      <th>0UPD_DATE___T</th>\n",
       "      <th>__AP_CHECK_INT</th>\n",
       "      <th>1ROWCOUNT</th>\n",
       "    </tr>\n",
       "  </thead>\n",
       "  <tbody>\n",
       "    <tr>\n",
       "      <th>0</th>\n",
       "      <td>20250403</td>\n",
       "      <td>MOUNTAIN FIRE</td>\n",
       "      <td>ZDIS</td>\n",
       "      <td>Disaster Relief</td>\n",
       "      <td></td>\n",
       "      <td>None</td>\n",
       "      <td>20241106</td>\n",
       "      <td>20251107</td>\n",
       "      <td></td>\n",
       "      <td></td>\n",
       "      <td>None</td>\n",
       "      <td>00000000000000000000000</td>\n",
       "      <td>203912</td>\n",
       "      <td>20250907</td>\n",
       "      <td>1005696477</td>\n",
       "      <td>KRISTINE HACOBIAN</td>\n",
       "      <td></td>\n",
       "      <td>2025-04-03</td>\n",
       "      <td>2024-11-06</td>\n",
       "      <td>2025-11-07</td>\n",
       "      <td>20:39:12</td>\n",
       "      <td>2025-09-07</td>\n",
       "      <td>1</td>\n",
       "      <td>1</td>\n",
       "    </tr>\n",
       "    <tr>\n",
       "      <th>1</th>\n",
       "      <td>20250504</td>\n",
       "      <td>8004032577_BOT_201222</td>\n",
       "      <td>ZSRC</td>\n",
       "      <td>Sr Citizen Occupant</td>\n",
       "      <td></td>\n",
       "      <td>None</td>\n",
       "      <td>20250504</td>\n",
       "      <td>99991231</td>\n",
       "      <td></td>\n",
       "      <td></td>\n",
       "      <td>None</td>\n",
       "      <td>00000000000000000000000</td>\n",
       "      <td>203907</td>\n",
       "      <td>20250907</td>\n",
       "      <td>1003379479</td>\n",
       "      <td>JAMES HOWARTH</td>\n",
       "      <td></td>\n",
       "      <td>2025-05-04</td>\n",
       "      <td>2025-05-04</td>\n",
       "      <td>9999-12-31</td>\n",
       "      <td>20:39:07</td>\n",
       "      <td>2025-09-07</td>\n",
       "      <td>1</td>\n",
       "      <td>1</td>\n",
       "    </tr>\n",
       "    <tr>\n",
       "      <th>2</th>\n",
       "      <td>20250325</td>\n",
       "      <td>X</td>\n",
       "      <td>ZSRC</td>\n",
       "      <td>Sr Citizen Occupant</td>\n",
       "      <td></td>\n",
       "      <td>None</td>\n",
       "      <td>20250325</td>\n",
       "      <td>99991231</td>\n",
       "      <td></td>\n",
       "      <td></td>\n",
       "      <td>None</td>\n",
       "      <td>00000000000000000000000</td>\n",
       "      <td>203913</td>\n",
       "      <td>20250907</td>\n",
       "      <td>1004964206</td>\n",
       "      <td>CHARLES MOORE</td>\n",
       "      <td></td>\n",
       "      <td>2025-03-25</td>\n",
       "      <td>2025-03-25</td>\n",
       "      <td>9999-12-31</td>\n",
       "      <td>20:39:13</td>\n",
       "      <td>2025-09-07</td>\n",
       "      <td>1</td>\n",
       "      <td>1</td>\n",
       "    </tr>\n",
       "    <tr>\n",
       "      <th>3</th>\n",
       "      <td>00000000</td>\n",
       "      <td>001</td>\n",
       "      <td>ZCAS</td>\n",
       "      <td>Cash ONLY</td>\n",
       "      <td></td>\n",
       "      <td>None</td>\n",
       "      <td>20250829</td>\n",
       "      <td>20260225</td>\n",
       "      <td></td>\n",
       "      <td></td>\n",
       "      <td>None</td>\n",
       "      <td>00000000000000000000000</td>\n",
       "      <td>203915</td>\n",
       "      <td>20250907</td>\n",
       "      <td>1004222495</td>\n",
       "      <td>GEZABEL OLIVARES</td>\n",
       "      <td></td>\n",
       "      <td>None</td>\n",
       "      <td>2025-08-29</td>\n",
       "      <td>2026-02-25</td>\n",
       "      <td>20:39:15</td>\n",
       "      <td>2025-09-07</td>\n",
       "      <td>1</td>\n",
       "      <td>1</td>\n",
       "    </tr>\n",
       "    <tr>\n",
       "      <th>4</th>\n",
       "      <td>00000000</td>\n",
       "      <td>JANUARY 2025 WIND AND FIRE STORMS</td>\n",
       "      <td>ZDIS</td>\n",
       "      <td>Disaster Relief</td>\n",
       "      <td></td>\n",
       "      <td>None</td>\n",
       "      <td>20250107</td>\n",
       "      <td>20260108</td>\n",
       "      <td></td>\n",
       "      <td></td>\n",
       "      <td>None</td>\n",
       "      <td>00000000000000000000000</td>\n",
       "      <td>203913</td>\n",
       "      <td>20250907</td>\n",
       "      <td>1005810125</td>\n",
       "      <td>L FOWLES</td>\n",
       "      <td></td>\n",
       "      <td>None</td>\n",
       "      <td>2025-01-07</td>\n",
       "      <td>2026-01-08</td>\n",
       "      <td>20:39:13</td>\n",
       "      <td>2025-09-07</td>\n",
       "      <td>1</td>\n",
       "      <td>1</td>\n",
       "    </tr>\n",
       "  </tbody>\n",
       "</table>\n",
       "</div>"
      ],
      "text/plain": [
       "  0BP_ID_DATE                         0BP_ID_NUM 0BP_ID_TYPE  \\\n",
       "0    20250403                      MOUNTAIN FIRE        ZDIS   \n",
       "1    20250504              8004032577_BOT_201222        ZSRC   \n",
       "2    20250325                                  X        ZSRC   \n",
       "3    00000000                                001        ZCAS   \n",
       "4    00000000  JANUARY 2025 WIND AND FIRE STORMS        ZDIS   \n",
       "\n",
       "       0BP_ID_TYPE___T 0COUNTRY 0COUNTRY___T 0DATEFROM   0DATETO 0FLGDELETED  \\\n",
       "0      Disaster Relief                  None  20241106  20251107               \n",
       "1  Sr Citizen Occupant                  None  20250504  99991231               \n",
       "2  Sr Citizen Occupant                  None  20250325  99991231               \n",
       "3            Cash ONLY                  None  20250829  20260225               \n",
       "4      Disaster Relief                  None  20250107  20260108               \n",
       "\n",
       "  0REGION 0REGION___T                  0REQTSN   0TIME 0UPD_DATE    ZBP_PART  \\\n",
       "0                None  00000000000000000000000  203912  20250907  1005696477   \n",
       "1                None  00000000000000000000000  203907  20250907  1003379479   \n",
       "2                None  00000000000000000000000  203913  20250907  1004964206   \n",
       "3                None  00000000000000000000000  203915  20250907  1004222495   \n",
       "4                None  00000000000000000000000  203913  20250907  1005810125   \n",
       "\n",
       "        ZBP_PART___T ZINSTITUT 0BP_ID_DATE___T 0DATEFROM___T 0DATETO___T  \\\n",
       "0  KRISTINE HACOBIAN                2025-04-03    2024-11-06  2025-11-07   \n",
       "1      JAMES HOWARTH                2025-05-04    2025-05-04  9999-12-31   \n",
       "2      CHARLES MOORE                2025-03-25    2025-03-25  9999-12-31   \n",
       "3   GEZABEL OLIVARES                      None    2025-08-29  2026-02-25   \n",
       "4           L FOWLES                      None    2025-01-07  2026-01-08   \n",
       "\n",
       "  0TIME___T 0UPD_DATE___T  __AP_CHECK_INT 1ROWCOUNT  \n",
       "0  20:39:12    2025-09-07               1         1  \n",
       "1  20:39:07    2025-09-07               1         1  \n",
       "2  20:39:13    2025-09-07               1         1  \n",
       "3  20:39:15    2025-09-07               1         1  \n",
       "4  20:39:13    2025-09-07               1         1  "
      ]
     },
     "execution_count": 26,
     "metadata": {},
     "output_type": "execute_result"
    }
   ],
   "source": [
    "excl_exempt=pd.DataFrame(ret)\n",
    "excl_exempt.columns=['0BP_ID_DATE',\n",
    "'0BP_ID_NUM',\n",
    "'0BP_ID_TYPE',\n",
    "'0BP_ID_TYPE___T',\n",
    "'0COUNTRY',\n",
    "'0COUNTRY___T',\n",
    "'0DATEFROM',\n",
    "'0DATETO',\n",
    "'0FLGDELETED',\n",
    "'0REGION',\n",
    "'0REGION___T',\n",
    "'0REQTSN',\n",
    "'0TIME',\n",
    "'0UPD_DATE',\n",
    "'ZBP_PART',\n",
    "'ZBP_PART___T',\n",
    "'ZINSTITUT',\n",
    "'0BP_ID_DATE___T',\n",
    "'0DATEFROM___T',\n",
    "'0DATETO___T',\n",
    "'0TIME___T',\n",
    "'0UPD_DATE___T',\n",
    "'__AP_CHECK_INT',\n",
    "'1ROWCOUNT']\n",
    "excl_exempt.info()\n",
    "excl_exempt.head()"
   ]
  },
  {
   "cell_type": "code",
   "execution_count": 27,
   "id": "127bdaa3-0d7f-4233-8005-10e57b77c45d",
   "metadata": {
    "tags": []
   },
   "outputs": [],
   "source": [
    "excl_exempt.to_csv(str(path_name)+str('/excl_exempt.csv'), index=False)"
   ]
  },
  {
   "cell_type": "markdown",
   "id": "30d7edfb-c875-4403-831a-8f44c75aa374",
   "metadata": {},
   "source": [
    "#### 1.5 - DE rate"
   ]
  },
  {
   "cell_type": "code",
   "execution_count": 28,
   "id": "9239b36e-136b-421c-9a89-5334968a0630",
   "metadata": {
    "tags": []
   },
   "outputs": [],
   "source": [
    "notification_query = '''\n",
    "DO BEGIN \n",
    "DECLARE cutoff_date DATE = current_date;\n",
    "\n",
    "SELECT DISTINCT \n",
    "          t1.\"0UCINSTALLA\" AS INSTALLATION,\n",
    "          t1.\"0UCOPERAND\" AS EMPL,\n",
    "          t1.\"0DATEFROM___T\" AS EMPL_DATEFROM, \n",
    "          t1.\"0DATETO___T\" AS EMPL_DATETO\n",
    "\n",
    "      FROM _SYS_BIC.\"system-local.bw.bw2hana/ZUB_A006\" t1 \n",
    "        WHERE t1.\"0UCOPERAND\" IN ('EFL-EMPL','GFL-EMPL')\n",
    "        AND to_date(t1.\"0DATETO___T\") >= current_date;\n",
    "end; \n",
    "'''"
   ]
  },
  {
   "cell_type": "code",
   "execution_count": 29,
   "id": "56615368-6aca-454b-a049-cb716f82168d",
   "metadata": {
    "tags": []
   },
   "outputs": [],
   "source": [
    "try: \n",
    "    ret=cursor_prod.execute(notification_query) \n",
    "    ret=cursor_prod.fetchall() \n",
    "    headers = [i[0] for i in cursor_prod.description]\n",
    "    #print(headers)\n",
    "    #for row in ret:\n",
    "        #print(row)\n",
    "except Exception as ex: \n",
    "    print(ex) "
   ]
  },
  {
   "cell_type": "code",
   "execution_count": 30,
   "id": "c67d0675-eb57-4ba2-8ef5-0881262ff2dd",
   "metadata": {
    "tags": []
   },
   "outputs": [
    {
     "name": "stdout",
     "output_type": "stream",
     "text": [
      "<class 'pandas.core.frame.DataFrame'>\n",
      "RangeIndex: 14452 entries, 0 to 14451\n",
      "Data columns (total 4 columns):\n",
      " #   Column        Non-Null Count  Dtype \n",
      "---  ------        --------------  ----- \n",
      " 0   INSTALLATION  14452 non-null  object\n",
      " 1   EMPL          14452 non-null  object\n",
      " 2   MPL_DATEFROM  14452 non-null  object\n",
      " 3   EMPL_DATETO   14452 non-null  object\n",
      "dtypes: object(4)\n",
      "memory usage: 451.8+ KB\n"
     ]
    },
    {
     "data": {
      "text/html": [
       "<div>\n",
       "<style scoped>\n",
       "    .dataframe tbody tr th:only-of-type {\n",
       "        vertical-align: middle;\n",
       "    }\n",
       "\n",
       "    .dataframe tbody tr th {\n",
       "        vertical-align: top;\n",
       "    }\n",
       "\n",
       "    .dataframe thead th {\n",
       "        text-align: right;\n",
       "    }\n",
       "</style>\n",
       "<table border=\"1\" class=\"dataframe\">\n",
       "  <thead>\n",
       "    <tr style=\"text-align: right;\">\n",
       "      <th></th>\n",
       "      <th>INSTALLATION</th>\n",
       "      <th>EMPL</th>\n",
       "      <th>MPL_DATEFROM</th>\n",
       "      <th>EMPL_DATETO</th>\n",
       "    </tr>\n",
       "  </thead>\n",
       "  <tbody>\n",
       "    <tr>\n",
       "      <th>0</th>\n",
       "      <td>0905461462</td>\n",
       "      <td>EFL-EMPL</td>\n",
       "      <td>2023-08-08</td>\n",
       "      <td>9999-12-31</td>\n",
       "    </tr>\n",
       "    <tr>\n",
       "      <th>1</th>\n",
       "      <td>0902112549</td>\n",
       "      <td>EFL-EMPL</td>\n",
       "      <td>2009-04-03</td>\n",
       "      <td>9999-12-31</td>\n",
       "    </tr>\n",
       "    <tr>\n",
       "      <th>2</th>\n",
       "      <td>0904091559</td>\n",
       "      <td>EFL-EMPL</td>\n",
       "      <td>2016-07-21</td>\n",
       "      <td>9999-12-31</td>\n",
       "    </tr>\n",
       "    <tr>\n",
       "      <th>3</th>\n",
       "      <td>0901021236</td>\n",
       "      <td>EFL-EMPL</td>\n",
       "      <td>1993-03-23</td>\n",
       "      <td>9999-12-31</td>\n",
       "    </tr>\n",
       "    <tr>\n",
       "      <th>4</th>\n",
       "      <td>0900665721</td>\n",
       "      <td>EFL-EMPL</td>\n",
       "      <td>2020-09-15</td>\n",
       "      <td>9999-12-31</td>\n",
       "    </tr>\n",
       "  </tbody>\n",
       "</table>\n",
       "</div>"
      ],
      "text/plain": [
       "  INSTALLATION      EMPL MPL_DATEFROM EMPL_DATETO\n",
       "0   0905461462  EFL-EMPL   2023-08-08  9999-12-31\n",
       "1   0902112549  EFL-EMPL   2009-04-03  9999-12-31\n",
       "2   0904091559  EFL-EMPL   2016-07-21  9999-12-31\n",
       "3   0901021236  EFL-EMPL   1993-03-23  9999-12-31\n",
       "4   0900665721  EFL-EMPL   2020-09-15  9999-12-31"
      ]
     },
     "execution_count": 30,
     "metadata": {},
     "output_type": "execute_result"
    }
   ],
   "source": [
    "de=pd.DataFrame(ret)\n",
    "de.columns=['INSTALLATION', 'EMPL', 'MPL_DATEFROM', 'EMPL_DATETO']\n",
    "de.info()\n",
    "de.head()"
   ]
  },
  {
   "cell_type": "code",
   "execution_count": 31,
   "id": "77a1966b-7d1d-4c5d-a0cc-9bf6f650fa48",
   "metadata": {
    "tags": []
   },
   "outputs": [
    {
     "data": {
      "text/plain": [
       "(14452, 4)"
      ]
     },
     "execution_count": 31,
     "metadata": {},
     "output_type": "execute_result"
    }
   ],
   "source": [
    "excl_de=de.sort_values(by=['INSTALLATION', 'EMPL_DATETO'], ascending=True)\n",
    "excl_de.drop_duplicates(subset='INSTALLATION', keep='first')\n",
    "excl_de.shape"
   ]
  },
  {
   "cell_type": "code",
   "execution_count": 32,
   "id": "ed161530-6f25-4a30-b938-fee49c0a5db2",
   "metadata": {
    "tags": []
   },
   "outputs": [],
   "source": [
    "excl_de.to_csv(str(path_name)+str('/excl_de.csv'), index=False)"
   ]
  },
  {
   "cell_type": "markdown",
   "id": "edef4b6e-b018-4786-bf97-f4aade70a1d9",
   "metadata": {},
   "source": [
    "#### 1.6 - Customers with payment within 1 year"
   ]
  },
  {
   "cell_type": "code",
   "execution_count": 33,
   "id": "93282a5a-d8c2-4963-b57a-62bb0f368d5b",
   "metadata": {
    "tags": []
   },
   "outputs": [],
   "source": [
    "notification_query = '''\n",
    "DO BEGIN \n",
    "DECLARE cutoff_date DATE = current_date;\n",
    "\n",
    "   SELECT distinct\n",
    "          t1.\"0CACONT_ACC\" AS CACT,\n",
    "          t1.\"4ZFI_A026_ZZCBLART\" AS PYMT_TYPE, \n",
    "          max(to_date(t1.\"0CLEAR_DATE___T\")) AS LAST_PYMT_DATE\n",
    "      FROM _SYS_BIC.\"system-local.bw.bw2hana/ZFI_A026\" t1\n",
    "      WHERE t1.\"4ZFI_A026_ZZCBLART\" IN ('DP','HB','I1','J1','J2','J4','J5','J6','J7','QC') \n",
    "        AND t1.\"0FC_BLART___T\" = 'Invoice Document'\n",
    "        AND t1.ZAUGST___T = 'Cleared Item'\n",
    "        AND to_date(t1.\"0CLEAR_DATE___T\") between add_days(cutoff_date, -365) and add_days(cutoff_date, -1)\n",
    "        and t1.\"0CACONT_ACC\"  like '7%'\n",
    "        group by \"0CACONT_ACC\", \"4ZFI_A026_ZZCBLART\";\n",
    "end; \n",
    "'''"
   ]
  },
  {
   "cell_type": "code",
   "execution_count": 34,
   "id": "f980ae6d-0176-49c4-9233-76ead7db2de9",
   "metadata": {
    "tags": []
   },
   "outputs": [],
   "source": [
    "try: \n",
    "    ret=cursor_prod.execute(notification_query) \n",
    "    ret=cursor_prod.fetchall() \n",
    "    headers = [i[0] for i in cursor_prod.description]\n",
    "    #print(headers)\n",
    "    #for row in ret:\n",
    "        #print(row)\n",
    "except Exception as ex: \n",
    "    print(ex) "
   ]
  },
  {
   "cell_type": "code",
   "execution_count": 35,
   "id": "33b5e4d2-191e-405c-bf15-42d38cb69298",
   "metadata": {
    "tags": []
   },
   "outputs": [
    {
     "name": "stdout",
     "output_type": "stream",
     "text": [
      "<class 'pandas.core.frame.DataFrame'>\n",
      "RangeIndex: 4121526 entries, 0 to 4121525\n",
      "Data columns (total 3 columns):\n",
      " #   Column          Dtype \n",
      "---  ------          ----- \n",
      " 0   cact            object\n",
      " 1   pymt_type       object\n",
      " 2   last_pymt_date  object\n",
      "dtypes: object(3)\n",
      "memory usage: 94.3+ MB\n"
     ]
    }
   ],
   "source": [
    "excl_payment_1yr=pd.DataFrame(ret)\n",
    "excl_payment_1yr.columns=['cact', 'pymt_type', 'last_pymt_date']\n",
    "excl_payment_1yr.info()"
   ]
  },
  {
   "cell_type": "code",
   "execution_count": 36,
   "id": "7719aa57-df9a-467d-82c7-261df4bbd72a",
   "metadata": {
    "tags": []
   },
   "outputs": [
    {
     "name": "stdout",
     "output_type": "stream",
     "text": [
      "<class 'pandas.core.frame.DataFrame'>\n",
      "RangeIndex: 4121526 entries, 0 to 4121525\n",
      "Data columns (total 3 columns):\n",
      " #   Column          Dtype         \n",
      "---  ------          -----         \n",
      " 0   cact            object        \n",
      " 1   pymt_type       object        \n",
      " 2   last_pymt_date  datetime64[ns]\n",
      "dtypes: datetime64[ns](1), object(2)\n",
      "memory usage: 94.3+ MB\n"
     ]
    }
   ],
   "source": [
    "excl_payment_1yr['last_pymt_date']=pd.to_datetime(excl_payment_1yr['last_pymt_date'], errors='coerce')\n",
    "excl_payment_1yr.info()"
   ]
  },
  {
   "cell_type": "code",
   "execution_count": 37,
   "id": "418a7d02-6646-4092-85c0-c529e07b051b",
   "metadata": {
    "tags": []
   },
   "outputs": [
    {
     "data": {
      "text/plain": [
       "3595647"
      ]
     },
     "execution_count": 37,
     "metadata": {},
     "output_type": "execute_result"
    }
   ],
   "source": [
    "# aggregate payment method information\n",
    "excl_payment_1yr['cact'].nunique()"
   ]
  },
  {
   "cell_type": "code",
   "execution_count": 38,
   "id": "86fded55-1e8b-4a7a-a02f-cf920861eb78",
   "metadata": {
    "tags": []
   },
   "outputs": [
    {
     "data": {
      "text/html": [
       "<div>\n",
       "<style scoped>\n",
       "    .dataframe tbody tr th:only-of-type {\n",
       "        vertical-align: middle;\n",
       "    }\n",
       "\n",
       "    .dataframe tbody tr th {\n",
       "        vertical-align: top;\n",
       "    }\n",
       "\n",
       "    .dataframe thead th {\n",
       "        text-align: right;\n",
       "    }\n",
       "</style>\n",
       "<table border=\"1\" class=\"dataframe\">\n",
       "  <thead>\n",
       "    <tr style=\"text-align: right;\">\n",
       "      <th></th>\n",
       "      <th>cact</th>\n",
       "      <th>pymt_type</th>\n",
       "      <th>last_pymt_date</th>\n",
       "      <th>last_payment_recency</th>\n",
       "    </tr>\n",
       "  </thead>\n",
       "  <tbody>\n",
       "    <tr>\n",
       "      <th>1229296</th>\n",
       "      <td>701001568490</td>\n",
       "      <td>J2</td>\n",
       "      <td>2025-09-05</td>\n",
       "      <td>-247</td>\n",
       "    </tr>\n",
       "    <tr>\n",
       "      <th>3680312</th>\n",
       "      <td>701001441380</td>\n",
       "      <td>J2</td>\n",
       "      <td>2025-09-05</td>\n",
       "      <td>-247</td>\n",
       "    </tr>\n",
       "    <tr>\n",
       "      <th>1267503</th>\n",
       "      <td>701001381665</td>\n",
       "      <td>J2</td>\n",
       "      <td>2025-09-03</td>\n",
       "      <td>-245</td>\n",
       "    </tr>\n",
       "    <tr>\n",
       "      <th>3046966</th>\n",
       "      <td>701001057929</td>\n",
       "      <td>J2</td>\n",
       "      <td>2025-09-04</td>\n",
       "      <td>-246</td>\n",
       "    </tr>\n",
       "    <tr>\n",
       "      <th>1318437</th>\n",
       "      <td>701001049542</td>\n",
       "      <td>I1</td>\n",
       "      <td>2025-09-06</td>\n",
       "      <td>-248</td>\n",
       "    </tr>\n",
       "  </tbody>\n",
       "</table>\n",
       "</div>"
      ],
      "text/plain": [
       "                 cact pymt_type last_pymt_date  last_payment_recency\n",
       "1229296  701001568490        J2     2025-09-05                  -247\n",
       "3680312  701001441380        J2     2025-09-05                  -247\n",
       "1267503  701001381665        J2     2025-09-03                  -245\n",
       "3046966  701001057929        J2     2025-09-04                  -246\n",
       "1318437  701001049542        I1     2025-09-06                  -248"
      ]
     },
     "execution_count": 38,
     "metadata": {},
     "output_type": "execute_result"
    }
   ],
   "source": [
    "# last payment type\n",
    "excl_payment_1yr.sort_values(by=['cact', 'last_pymt_date'], ascending=False, inplace=True)\n",
    "excl_payment_1yr.drop_duplicates(subset=['cact', 'last_pymt_date'], keep='first', inplace=True)\n",
    "excl_payment_1yr['last_payment_recency']=(pd.to_datetime('2025-01-01')-excl_payment_1yr['last_pymt_date']).dt.days\n",
    "excl_payment_1yr.head()"
   ]
  },
  {
   "cell_type": "code",
   "execution_count": 39,
   "id": "a0abc5f0-cdc5-492e-a758-02ca2f5e7bba",
   "metadata": {
    "tags": []
   },
   "outputs": [],
   "source": [
    "excl_payment_1yr.to_csv(str(path_name)+str('/excl_payment_1yr.csv'), index=False)"
   ]
  },
  {
   "cell_type": "markdown",
   "id": "60ec873e-a7fd-4c2e-8ead-131031b1242b",
   "metadata": {},
   "source": [
    "#### 1.7 - payment types in last year"
   ]
  },
  {
   "cell_type": "code",
   "execution_count": 40,
   "id": "cb16574b-ce4d-4319-9875-f21387f892ba",
   "metadata": {
    "tags": []
   },
   "outputs": [],
   "source": [
    "# past 30 days\n",
    "notification_query = '''\n",
    "DO BEGIN \n",
    "DECLARE cutoff_date DATE = current_date;\n",
    "\n",
    "   SELECT distinct\n",
    "          t1.\"0CACONT_ACC\" AS CACT,\n",
    "          t1.\"4ZFI_A026_ZZCBLART\" AS PYMT_TYPE, \n",
    "          count(to_date(t1.\"0CLEAR_DATE___T\")) as pymt_count\n",
    "      FROM _SYS_BIC.\"system-local.bw.bw2hana/ZFI_A026\" t1\n",
    "      WHERE t1.\"0FC_BLART___T\" = 'Invoice Document'\n",
    "        AND t1.ZAUGST___T = 'Cleared Item'\n",
    "        AND to_date(t1.\"0CLEAR_DATE___T\") between add_days(cutoff_date, -30) and add_days(cutoff_date, -1)\n",
    "        and t1.\"0CACONT_ACC\"  like '7%'\n",
    "        group by  \"0CACONT_ACC\", \"4ZFI_A026_ZZCBLART\";\n",
    "end; \n",
    "'''"
   ]
  },
  {
   "cell_type": "code",
   "execution_count": 41,
   "id": "375b2687-34f2-4eab-9302-52eed7ffd06b",
   "metadata": {
    "tags": []
   },
   "outputs": [],
   "source": [
    "try: \n",
    "    ret=cursor_prod.execute(notification_query) \n",
    "    ret=cursor_prod.fetchall() \n",
    "    headers = [i[0] for i in cursor_prod.description]\n",
    "    #print(headers)\n",
    "    #for row in ret:\n",
    "        #print(row)\n",
    "except Exception as ex: \n",
    "    print(ex) "
   ]
  },
  {
   "cell_type": "code",
   "execution_count": 42,
   "id": "fc40fe83-6d12-407f-bca3-03c6aa248d9b",
   "metadata": {
    "tags": []
   },
   "outputs": [
    {
     "name": "stdout",
     "output_type": "stream",
     "text": [
      "<class 'pandas.core.frame.DataFrame'>\n",
      "RangeIndex: 8686407 entries, 0 to 8686406\n",
      "Data columns (total 3 columns):\n",
      " #   Column     Dtype \n",
      "---  ------     ----- \n",
      " 0   cact       object\n",
      " 1   pymt_type  object\n",
      " 2   pymt_ct    int64 \n",
      "dtypes: int64(1), object(2)\n",
      "memory usage: 198.8+ MB\n"
     ]
    }
   ],
   "source": [
    "df=pd.DataFrame(ret)\n",
    "df.columns=['cact', 'pymt_type', 'pymt_ct']\n",
    "df.info()"
   ]
  },
  {
   "cell_type": "code",
   "execution_count": 43,
   "id": "064530a5-46b5-45ca-a778-27bb5ac1ee93",
   "metadata": {
    "tags": []
   },
   "outputs": [
    {
     "data": {
      "text/html": [
       "<div>\n",
       "<style scoped>\n",
       "    .dataframe tbody tr th:only-of-type {\n",
       "        vertical-align: middle;\n",
       "    }\n",
       "\n",
       "    .dataframe tbody tr th {\n",
       "        vertical-align: top;\n",
       "    }\n",
       "\n",
       "    .dataframe thead th {\n",
       "        text-align: right;\n",
       "    }\n",
       "</style>\n",
       "<table border=\"1\" class=\"dataframe\">\n",
       "  <thead>\n",
       "    <tr style=\"text-align: right;\">\n",
       "      <th></th>\n",
       "      <th>count_AM_30</th>\n",
       "      <th>count_CP_30</th>\n",
       "      <th>count_CS_30</th>\n",
       "      <th>count_DP_30</th>\n",
       "      <th>count_ED_30</th>\n",
       "      <th>count_EF_30</th>\n",
       "      <th>count_ER_30</th>\n",
       "      <th>count_HB_30</th>\n",
       "      <th>count_HP_30</th>\n",
       "      <th>count_I1_30</th>\n",
       "      <th>count_IB_30</th>\n",
       "      <th>count_IN_30</th>\n",
       "      <th>count_IR_30</th>\n",
       "      <th>count_J1_30</th>\n",
       "      <th>count_J2_30</th>\n",
       "      <th>count_J4_30</th>\n",
       "      <th>count_J5_30</th>\n",
       "      <th>count_J6_30</th>\n",
       "      <th>count_J7_30</th>\n",
       "      <th>count_ML_30</th>\n",
       "      <th>count_MP_30</th>\n",
       "      <th>count_QC_30</th>\n",
       "      <th>count_RF_30</th>\n",
       "      <th>count_S1_30</th>\n",
       "      <th>count_S2_30</th>\n",
       "      <th>count_S4_30</th>\n",
       "      <th>count_TP_30</th>\n",
       "      <th>count_W1_30</th>\n",
       "      <th>count_WO_30</th>\n",
       "      <th>count_WT_30</th>\n",
       "    </tr>\n",
       "    <tr>\n",
       "      <th>cact</th>\n",
       "      <th></th>\n",
       "      <th></th>\n",
       "      <th></th>\n",
       "      <th></th>\n",
       "      <th></th>\n",
       "      <th></th>\n",
       "      <th></th>\n",
       "      <th></th>\n",
       "      <th></th>\n",
       "      <th></th>\n",
       "      <th></th>\n",
       "      <th></th>\n",
       "      <th></th>\n",
       "      <th></th>\n",
       "      <th></th>\n",
       "      <th></th>\n",
       "      <th></th>\n",
       "      <th></th>\n",
       "      <th></th>\n",
       "      <th></th>\n",
       "      <th></th>\n",
       "      <th></th>\n",
       "      <th></th>\n",
       "      <th></th>\n",
       "      <th></th>\n",
       "      <th></th>\n",
       "      <th></th>\n",
       "      <th></th>\n",
       "      <th></th>\n",
       "      <th></th>\n",
       "    </tr>\n",
       "  </thead>\n",
       "  <tbody>\n",
       "    <tr>\n",
       "      <th>700000040056</th>\n",
       "      <td>0.0</td>\n",
       "      <td>0.0</td>\n",
       "      <td>0.0</td>\n",
       "      <td>0.0</td>\n",
       "      <td>0.0</td>\n",
       "      <td>0.0</td>\n",
       "      <td>0.0</td>\n",
       "      <td>0.0</td>\n",
       "      <td>0.0</td>\n",
       "      <td>0.0</td>\n",
       "      <td>0.0</td>\n",
       "      <td>1.0</td>\n",
       "      <td>0.0</td>\n",
       "      <td>0.0</td>\n",
       "      <td>0.0</td>\n",
       "      <td>0.0</td>\n",
       "      <td>0.0</td>\n",
       "      <td>0.0</td>\n",
       "      <td>0.0</td>\n",
       "      <td>0.0</td>\n",
       "      <td>0.0</td>\n",
       "      <td>0.0</td>\n",
       "      <td>0.0</td>\n",
       "      <td>1.0</td>\n",
       "      <td>0.0</td>\n",
       "      <td>0.0</td>\n",
       "      <td>0.0</td>\n",
       "      <td>0.0</td>\n",
       "      <td>0.0</td>\n",
       "      <td>0.0</td>\n",
       "    </tr>\n",
       "    <tr>\n",
       "      <th>700000040258</th>\n",
       "      <td>0.0</td>\n",
       "      <td>0.0</td>\n",
       "      <td>0.0</td>\n",
       "      <td>0.0</td>\n",
       "      <td>0.0</td>\n",
       "      <td>0.0</td>\n",
       "      <td>0.0</td>\n",
       "      <td>0.0</td>\n",
       "      <td>0.0</td>\n",
       "      <td>0.0</td>\n",
       "      <td>0.0</td>\n",
       "      <td>1.0</td>\n",
       "      <td>0.0</td>\n",
       "      <td>0.0</td>\n",
       "      <td>0.0</td>\n",
       "      <td>0.0</td>\n",
       "      <td>0.0</td>\n",
       "      <td>0.0</td>\n",
       "      <td>0.0</td>\n",
       "      <td>0.0</td>\n",
       "      <td>0.0</td>\n",
       "      <td>0.0</td>\n",
       "      <td>0.0</td>\n",
       "      <td>1.0</td>\n",
       "      <td>0.0</td>\n",
       "      <td>0.0</td>\n",
       "      <td>0.0</td>\n",
       "      <td>0.0</td>\n",
       "      <td>0.0</td>\n",
       "      <td>0.0</td>\n",
       "    </tr>\n",
       "    <tr>\n",
       "      <th>700000040359</th>\n",
       "      <td>0.0</td>\n",
       "      <td>0.0</td>\n",
       "      <td>0.0</td>\n",
       "      <td>0.0</td>\n",
       "      <td>1.0</td>\n",
       "      <td>0.0</td>\n",
       "      <td>0.0</td>\n",
       "      <td>0.0</td>\n",
       "      <td>0.0</td>\n",
       "      <td>0.0</td>\n",
       "      <td>0.0</td>\n",
       "      <td>1.0</td>\n",
       "      <td>0.0</td>\n",
       "      <td>0.0</td>\n",
       "      <td>0.0</td>\n",
       "      <td>0.0</td>\n",
       "      <td>0.0</td>\n",
       "      <td>0.0</td>\n",
       "      <td>0.0</td>\n",
       "      <td>0.0</td>\n",
       "      <td>0.0</td>\n",
       "      <td>0.0</td>\n",
       "      <td>0.0</td>\n",
       "      <td>0.0</td>\n",
       "      <td>0.0</td>\n",
       "      <td>0.0</td>\n",
       "      <td>0.0</td>\n",
       "      <td>0.0</td>\n",
       "      <td>0.0</td>\n",
       "      <td>0.0</td>\n",
       "    </tr>\n",
       "    <tr>\n",
       "      <th>700000040460</th>\n",
       "      <td>0.0</td>\n",
       "      <td>0.0</td>\n",
       "      <td>0.0</td>\n",
       "      <td>0.0</td>\n",
       "      <td>1.0</td>\n",
       "      <td>0.0</td>\n",
       "      <td>0.0</td>\n",
       "      <td>0.0</td>\n",
       "      <td>0.0</td>\n",
       "      <td>0.0</td>\n",
       "      <td>0.0</td>\n",
       "      <td>1.0</td>\n",
       "      <td>0.0</td>\n",
       "      <td>0.0</td>\n",
       "      <td>0.0</td>\n",
       "      <td>0.0</td>\n",
       "      <td>0.0</td>\n",
       "      <td>0.0</td>\n",
       "      <td>0.0</td>\n",
       "      <td>0.0</td>\n",
       "      <td>0.0</td>\n",
       "      <td>0.0</td>\n",
       "      <td>0.0</td>\n",
       "      <td>0.0</td>\n",
       "      <td>0.0</td>\n",
       "      <td>0.0</td>\n",
       "      <td>0.0</td>\n",
       "      <td>0.0</td>\n",
       "      <td>0.0</td>\n",
       "      <td>0.0</td>\n",
       "    </tr>\n",
       "    <tr>\n",
       "      <th>700000040561</th>\n",
       "      <td>0.0</td>\n",
       "      <td>0.0</td>\n",
       "      <td>0.0</td>\n",
       "      <td>0.0</td>\n",
       "      <td>0.0</td>\n",
       "      <td>0.0</td>\n",
       "      <td>0.0</td>\n",
       "      <td>0.0</td>\n",
       "      <td>0.0</td>\n",
       "      <td>0.0</td>\n",
       "      <td>0.0</td>\n",
       "      <td>1.0</td>\n",
       "      <td>0.0</td>\n",
       "      <td>0.0</td>\n",
       "      <td>0.0</td>\n",
       "      <td>0.0</td>\n",
       "      <td>0.0</td>\n",
       "      <td>0.0</td>\n",
       "      <td>0.0</td>\n",
       "      <td>1.0</td>\n",
       "      <td>0.0</td>\n",
       "      <td>0.0</td>\n",
       "      <td>0.0</td>\n",
       "      <td>0.0</td>\n",
       "      <td>0.0</td>\n",
       "      <td>0.0</td>\n",
       "      <td>0.0</td>\n",
       "      <td>0.0</td>\n",
       "      <td>0.0</td>\n",
       "      <td>0.0</td>\n",
       "    </tr>\n",
       "  </tbody>\n",
       "</table>\n",
       "</div>"
      ],
      "text/plain": [
       "              count_AM_30  count_CP_30  count_CS_30  count_DP_30  count_ED_30  \\\n",
       "cact                                                                            \n",
       "700000040056          0.0          0.0          0.0          0.0          0.0   \n",
       "700000040258          0.0          0.0          0.0          0.0          0.0   \n",
       "700000040359          0.0          0.0          0.0          0.0          1.0   \n",
       "700000040460          0.0          0.0          0.0          0.0          1.0   \n",
       "700000040561          0.0          0.0          0.0          0.0          0.0   \n",
       "\n",
       "              count_EF_30  count_ER_30  count_HB_30  count_HP_30  count_I1_30  \\\n",
       "cact                                                                            \n",
       "700000040056          0.0          0.0          0.0          0.0          0.0   \n",
       "700000040258          0.0          0.0          0.0          0.0          0.0   \n",
       "700000040359          0.0          0.0          0.0          0.0          0.0   \n",
       "700000040460          0.0          0.0          0.0          0.0          0.0   \n",
       "700000040561          0.0          0.0          0.0          0.0          0.0   \n",
       "\n",
       "              count_IB_30  count_IN_30  count_IR_30  count_J1_30  count_J2_30  \\\n",
       "cact                                                                            \n",
       "700000040056          0.0          1.0          0.0          0.0          0.0   \n",
       "700000040258          0.0          1.0          0.0          0.0          0.0   \n",
       "700000040359          0.0          1.0          0.0          0.0          0.0   \n",
       "700000040460          0.0          1.0          0.0          0.0          0.0   \n",
       "700000040561          0.0          1.0          0.0          0.0          0.0   \n",
       "\n",
       "              count_J4_30  count_J5_30  count_J6_30  count_J7_30  count_ML_30  \\\n",
       "cact                                                                            \n",
       "700000040056          0.0          0.0          0.0          0.0          0.0   \n",
       "700000040258          0.0          0.0          0.0          0.0          0.0   \n",
       "700000040359          0.0          0.0          0.0          0.0          0.0   \n",
       "700000040460          0.0          0.0          0.0          0.0          0.0   \n",
       "700000040561          0.0          0.0          0.0          0.0          1.0   \n",
       "\n",
       "              count_MP_30  count_QC_30  count_RF_30  count_S1_30  count_S2_30  \\\n",
       "cact                                                                            \n",
       "700000040056          0.0          0.0          0.0          1.0          0.0   \n",
       "700000040258          0.0          0.0          0.0          1.0          0.0   \n",
       "700000040359          0.0          0.0          0.0          0.0          0.0   \n",
       "700000040460          0.0          0.0          0.0          0.0          0.0   \n",
       "700000040561          0.0          0.0          0.0          0.0          0.0   \n",
       "\n",
       "              count_S4_30  count_TP_30  count_W1_30  count_WO_30  count_WT_30  \n",
       "cact                                                                           \n",
       "700000040056          0.0          0.0          0.0          0.0          0.0  \n",
       "700000040258          0.0          0.0          0.0          0.0          0.0  \n",
       "700000040359          0.0          0.0          0.0          0.0          0.0  \n",
       "700000040460          0.0          0.0          0.0          0.0          0.0  \n",
       "700000040561          0.0          0.0          0.0          0.0          0.0  "
      ]
     },
     "execution_count": 43,
     "metadata": {},
     "output_type": "execute_result"
    }
   ],
   "source": [
    "payment_30=df.pivot(index='cact', columns='pymt_type', values='pymt_ct')\n",
    "payment_30.columns=['count_'+str(col)+'_30' for col in payment_30.columns]\n",
    "payment_30.fillna(0, inplace=True)\n",
    "\n",
    "payment_30.head()"
   ]
  },
  {
   "cell_type": "code",
   "execution_count": 44,
   "id": "0775d403-bab8-403d-89c4-e5b3009a38d2",
   "metadata": {
    "tags": []
   },
   "outputs": [
    {
     "data": {
      "text/html": [
       "<div>\n",
       "<style scoped>\n",
       "    .dataframe tbody tr th:only-of-type {\n",
       "        vertical-align: middle;\n",
       "    }\n",
       "\n",
       "    .dataframe tbody tr th {\n",
       "        vertical-align: top;\n",
       "    }\n",
       "\n",
       "    .dataframe thead th {\n",
       "        text-align: right;\n",
       "    }\n",
       "</style>\n",
       "<table border=\"1\" class=\"dataframe\">\n",
       "  <thead>\n",
       "    <tr style=\"text-align: right;\">\n",
       "      <th></th>\n",
       "      <th>count_AM_60</th>\n",
       "      <th>count_CP_60</th>\n",
       "      <th>count_CS_60</th>\n",
       "      <th>count_DP_60</th>\n",
       "      <th>count_ED_60</th>\n",
       "      <th>count_EF_60</th>\n",
       "      <th>count_ER_60</th>\n",
       "      <th>count_HB_60</th>\n",
       "      <th>count_HP_60</th>\n",
       "      <th>count_I1_60</th>\n",
       "      <th>count_IB_60</th>\n",
       "      <th>count_IN_60</th>\n",
       "      <th>count_IR_60</th>\n",
       "      <th>count_J1_60</th>\n",
       "      <th>count_J2_60</th>\n",
       "      <th>count_J4_60</th>\n",
       "      <th>count_J5_60</th>\n",
       "      <th>count_J6_60</th>\n",
       "      <th>count_J7_60</th>\n",
       "      <th>count_ML_60</th>\n",
       "      <th>count_MP_60</th>\n",
       "      <th>count_QC_60</th>\n",
       "      <th>count_RE_60</th>\n",
       "      <th>count_RF_60</th>\n",
       "      <th>count_S1_60</th>\n",
       "      <th>count_S2_60</th>\n",
       "      <th>count_S4_60</th>\n",
       "      <th>count_TP_60</th>\n",
       "      <th>count_W1_60</th>\n",
       "      <th>count_WO_60</th>\n",
       "      <th>count_WT_60</th>\n",
       "    </tr>\n",
       "    <tr>\n",
       "      <th>cact</th>\n",
       "      <th></th>\n",
       "      <th></th>\n",
       "      <th></th>\n",
       "      <th></th>\n",
       "      <th></th>\n",
       "      <th></th>\n",
       "      <th></th>\n",
       "      <th></th>\n",
       "      <th></th>\n",
       "      <th></th>\n",
       "      <th></th>\n",
       "      <th></th>\n",
       "      <th></th>\n",
       "      <th></th>\n",
       "      <th></th>\n",
       "      <th></th>\n",
       "      <th></th>\n",
       "      <th></th>\n",
       "      <th></th>\n",
       "      <th></th>\n",
       "      <th></th>\n",
       "      <th></th>\n",
       "      <th></th>\n",
       "      <th></th>\n",
       "      <th></th>\n",
       "      <th></th>\n",
       "      <th></th>\n",
       "      <th></th>\n",
       "      <th></th>\n",
       "      <th></th>\n",
       "      <th></th>\n",
       "    </tr>\n",
       "  </thead>\n",
       "  <tbody>\n",
       "    <tr>\n",
       "      <th>700000040056</th>\n",
       "      <td>0.0</td>\n",
       "      <td>0.0</td>\n",
       "      <td>0.0</td>\n",
       "      <td>0.0</td>\n",
       "      <td>0.0</td>\n",
       "      <td>0.0</td>\n",
       "      <td>0.0</td>\n",
       "      <td>0.0</td>\n",
       "      <td>0.0</td>\n",
       "      <td>0.0</td>\n",
       "      <td>0.0</td>\n",
       "      <td>2.0</td>\n",
       "      <td>0.0</td>\n",
       "      <td>0.0</td>\n",
       "      <td>0.0</td>\n",
       "      <td>0.0</td>\n",
       "      <td>0.0</td>\n",
       "      <td>0.0</td>\n",
       "      <td>0.0</td>\n",
       "      <td>0.0</td>\n",
       "      <td>0.0</td>\n",
       "      <td>0.0</td>\n",
       "      <td>0.0</td>\n",
       "      <td>0.0</td>\n",
       "      <td>2.0</td>\n",
       "      <td>0.0</td>\n",
       "      <td>0.0</td>\n",
       "      <td>0.0</td>\n",
       "      <td>0.0</td>\n",
       "      <td>0.0</td>\n",
       "      <td>0.0</td>\n",
       "    </tr>\n",
       "    <tr>\n",
       "      <th>700000040258</th>\n",
       "      <td>0.0</td>\n",
       "      <td>0.0</td>\n",
       "      <td>0.0</td>\n",
       "      <td>0.0</td>\n",
       "      <td>0.0</td>\n",
       "      <td>0.0</td>\n",
       "      <td>0.0</td>\n",
       "      <td>0.0</td>\n",
       "      <td>0.0</td>\n",
       "      <td>0.0</td>\n",
       "      <td>0.0</td>\n",
       "      <td>2.0</td>\n",
       "      <td>0.0</td>\n",
       "      <td>0.0</td>\n",
       "      <td>0.0</td>\n",
       "      <td>0.0</td>\n",
       "      <td>0.0</td>\n",
       "      <td>0.0</td>\n",
       "      <td>0.0</td>\n",
       "      <td>0.0</td>\n",
       "      <td>0.0</td>\n",
       "      <td>0.0</td>\n",
       "      <td>0.0</td>\n",
       "      <td>0.0</td>\n",
       "      <td>2.0</td>\n",
       "      <td>0.0</td>\n",
       "      <td>0.0</td>\n",
       "      <td>0.0</td>\n",
       "      <td>0.0</td>\n",
       "      <td>0.0</td>\n",
       "      <td>0.0</td>\n",
       "    </tr>\n",
       "    <tr>\n",
       "      <th>700000040359</th>\n",
       "      <td>0.0</td>\n",
       "      <td>0.0</td>\n",
       "      <td>0.0</td>\n",
       "      <td>0.0</td>\n",
       "      <td>2.0</td>\n",
       "      <td>0.0</td>\n",
       "      <td>0.0</td>\n",
       "      <td>0.0</td>\n",
       "      <td>0.0</td>\n",
       "      <td>0.0</td>\n",
       "      <td>0.0</td>\n",
       "      <td>2.0</td>\n",
       "      <td>0.0</td>\n",
       "      <td>0.0</td>\n",
       "      <td>0.0</td>\n",
       "      <td>0.0</td>\n",
       "      <td>0.0</td>\n",
       "      <td>0.0</td>\n",
       "      <td>0.0</td>\n",
       "      <td>0.0</td>\n",
       "      <td>0.0</td>\n",
       "      <td>0.0</td>\n",
       "      <td>0.0</td>\n",
       "      <td>0.0</td>\n",
       "      <td>0.0</td>\n",
       "      <td>0.0</td>\n",
       "      <td>0.0</td>\n",
       "      <td>0.0</td>\n",
       "      <td>0.0</td>\n",
       "      <td>0.0</td>\n",
       "      <td>0.0</td>\n",
       "    </tr>\n",
       "    <tr>\n",
       "      <th>700000040460</th>\n",
       "      <td>0.0</td>\n",
       "      <td>0.0</td>\n",
       "      <td>0.0</td>\n",
       "      <td>0.0</td>\n",
       "      <td>2.0</td>\n",
       "      <td>0.0</td>\n",
       "      <td>0.0</td>\n",
       "      <td>0.0</td>\n",
       "      <td>0.0</td>\n",
       "      <td>0.0</td>\n",
       "      <td>0.0</td>\n",
       "      <td>2.0</td>\n",
       "      <td>0.0</td>\n",
       "      <td>0.0</td>\n",
       "      <td>0.0</td>\n",
       "      <td>0.0</td>\n",
       "      <td>0.0</td>\n",
       "      <td>0.0</td>\n",
       "      <td>0.0</td>\n",
       "      <td>0.0</td>\n",
       "      <td>0.0</td>\n",
       "      <td>0.0</td>\n",
       "      <td>0.0</td>\n",
       "      <td>0.0</td>\n",
       "      <td>0.0</td>\n",
       "      <td>0.0</td>\n",
       "      <td>0.0</td>\n",
       "      <td>0.0</td>\n",
       "      <td>0.0</td>\n",
       "      <td>0.0</td>\n",
       "      <td>0.0</td>\n",
       "    </tr>\n",
       "    <tr>\n",
       "      <th>700000040561</th>\n",
       "      <td>0.0</td>\n",
       "      <td>0.0</td>\n",
       "      <td>0.0</td>\n",
       "      <td>0.0</td>\n",
       "      <td>0.0</td>\n",
       "      <td>0.0</td>\n",
       "      <td>0.0</td>\n",
       "      <td>0.0</td>\n",
       "      <td>0.0</td>\n",
       "      <td>0.0</td>\n",
       "      <td>0.0</td>\n",
       "      <td>2.0</td>\n",
       "      <td>0.0</td>\n",
       "      <td>0.0</td>\n",
       "      <td>0.0</td>\n",
       "      <td>0.0</td>\n",
       "      <td>0.0</td>\n",
       "      <td>0.0</td>\n",
       "      <td>0.0</td>\n",
       "      <td>2.0</td>\n",
       "      <td>0.0</td>\n",
       "      <td>0.0</td>\n",
       "      <td>0.0</td>\n",
       "      <td>0.0</td>\n",
       "      <td>0.0</td>\n",
       "      <td>0.0</td>\n",
       "      <td>0.0</td>\n",
       "      <td>0.0</td>\n",
       "      <td>0.0</td>\n",
       "      <td>0.0</td>\n",
       "      <td>0.0</td>\n",
       "    </tr>\n",
       "  </tbody>\n",
       "</table>\n",
       "</div>"
      ],
      "text/plain": [
       "              count_AM_60  count_CP_60  count_CS_60  count_DP_60  count_ED_60  \\\n",
       "cact                                                                            \n",
       "700000040056          0.0          0.0          0.0          0.0          0.0   \n",
       "700000040258          0.0          0.0          0.0          0.0          0.0   \n",
       "700000040359          0.0          0.0          0.0          0.0          2.0   \n",
       "700000040460          0.0          0.0          0.0          0.0          2.0   \n",
       "700000040561          0.0          0.0          0.0          0.0          0.0   \n",
       "\n",
       "              count_EF_60  count_ER_60  count_HB_60  count_HP_60  count_I1_60  \\\n",
       "cact                                                                            \n",
       "700000040056          0.0          0.0          0.0          0.0          0.0   \n",
       "700000040258          0.0          0.0          0.0          0.0          0.0   \n",
       "700000040359          0.0          0.0          0.0          0.0          0.0   \n",
       "700000040460          0.0          0.0          0.0          0.0          0.0   \n",
       "700000040561          0.0          0.0          0.0          0.0          0.0   \n",
       "\n",
       "              count_IB_60  count_IN_60  count_IR_60  count_J1_60  count_J2_60  \\\n",
       "cact                                                                            \n",
       "700000040056          0.0          2.0          0.0          0.0          0.0   \n",
       "700000040258          0.0          2.0          0.0          0.0          0.0   \n",
       "700000040359          0.0          2.0          0.0          0.0          0.0   \n",
       "700000040460          0.0          2.0          0.0          0.0          0.0   \n",
       "700000040561          0.0          2.0          0.0          0.0          0.0   \n",
       "\n",
       "              count_J4_60  count_J5_60  count_J6_60  count_J7_60  count_ML_60  \\\n",
       "cact                                                                            \n",
       "700000040056          0.0          0.0          0.0          0.0          0.0   \n",
       "700000040258          0.0          0.0          0.0          0.0          0.0   \n",
       "700000040359          0.0          0.0          0.0          0.0          0.0   \n",
       "700000040460          0.0          0.0          0.0          0.0          0.0   \n",
       "700000040561          0.0          0.0          0.0          0.0          2.0   \n",
       "\n",
       "              count_MP_60  count_QC_60  count_RE_60  count_RF_60  count_S1_60  \\\n",
       "cact                                                                            \n",
       "700000040056          0.0          0.0          0.0          0.0          2.0   \n",
       "700000040258          0.0          0.0          0.0          0.0          2.0   \n",
       "700000040359          0.0          0.0          0.0          0.0          0.0   \n",
       "700000040460          0.0          0.0          0.0          0.0          0.0   \n",
       "700000040561          0.0          0.0          0.0          0.0          0.0   \n",
       "\n",
       "              count_S2_60  count_S4_60  count_TP_60  count_W1_60  count_WO_60  \\\n",
       "cact                                                                            \n",
       "700000040056          0.0          0.0          0.0          0.0          0.0   \n",
       "700000040258          0.0          0.0          0.0          0.0          0.0   \n",
       "700000040359          0.0          0.0          0.0          0.0          0.0   \n",
       "700000040460          0.0          0.0          0.0          0.0          0.0   \n",
       "700000040561          0.0          0.0          0.0          0.0          0.0   \n",
       "\n",
       "              count_WT_60  \n",
       "cact                       \n",
       "700000040056          0.0  \n",
       "700000040258          0.0  \n",
       "700000040359          0.0  \n",
       "700000040460          0.0  \n",
       "700000040561          0.0  "
      ]
     },
     "execution_count": 44,
     "metadata": {},
     "output_type": "execute_result"
    }
   ],
   "source": [
    "# past 60 days\n",
    "notification_query = '''\n",
    "DO BEGIN \n",
    "DECLARE cutoff_date DATE = current_date;\n",
    "\n",
    "   SELECT distinct\n",
    "          t1.\"0CACONT_ACC\" AS CACT,\n",
    "          t1.\"4ZFI_A026_ZZCBLART\" AS PYMT_TYPE, \n",
    "          count(to_date(t1.\"0CLEAR_DATE___T\")) as pymt_count\n",
    "      FROM _SYS_BIC.\"system-local.bw.bw2hana/ZFI_A026\" t1\n",
    "      WHERE t1.\"0FC_BLART___T\" = 'Invoice Document'\n",
    "        AND t1.ZAUGST___T = 'Cleared Item'\n",
    "        AND to_date(t1.\"0CLEAR_DATE___T\") between add_days(cutoff_date, -60) and add_days(cutoff_date, -1)\n",
    "        and t1.\"0CACONT_ACC\" like '7%'\n",
    "        group by  \"0CACONT_ACC\", \"4ZFI_A026_ZZCBLART\";\n",
    "end; \n",
    "'''\n",
    "\n",
    "try: \n",
    "    ret=cursor_prod.execute(notification_query) \n",
    "    ret=cursor_prod.fetchall() \n",
    "    headers = [i[0] for i in cursor_prod.description]\n",
    "    #print(headers)\n",
    "    #for row in ret:\n",
    "        #print(row)\n",
    "except Exception as ex: \n",
    "    print(ex) \n",
    "    \n",
    "df=pd.DataFrame(ret)\n",
    "df.columns=['cact', 'pymt_type', 'pymt_ct']\n",
    "\n",
    "payment_60=df.pivot(index='cact', columns='pymt_type', values='pymt_ct')\n",
    "payment_60.columns=['count_'+str(col)+'_60' for col in payment_60.columns]\n",
    "payment_60.fillna(0, inplace=True)\n",
    "\n",
    "payment_60.head()"
   ]
  },
  {
   "cell_type": "code",
   "execution_count": 45,
   "id": "ad318cdb-2fd4-4fbe-bec0-840eb43d528b",
   "metadata": {
    "tags": []
   },
   "outputs": [
    {
     "data": {
      "text/html": [
       "<div>\n",
       "<style scoped>\n",
       "    .dataframe tbody tr th:only-of-type {\n",
       "        vertical-align: middle;\n",
       "    }\n",
       "\n",
       "    .dataframe tbody tr th {\n",
       "        vertical-align: top;\n",
       "    }\n",
       "\n",
       "    .dataframe thead th {\n",
       "        text-align: right;\n",
       "    }\n",
       "</style>\n",
       "<table border=\"1\" class=\"dataframe\">\n",
       "  <thead>\n",
       "    <tr style=\"text-align: right;\">\n",
       "      <th></th>\n",
       "      <th>count_AM_90</th>\n",
       "      <th>count_CP_90</th>\n",
       "      <th>count_CS_90</th>\n",
       "      <th>count_DP_90</th>\n",
       "      <th>count_ED_90</th>\n",
       "      <th>count_EF_90</th>\n",
       "      <th>count_ER_90</th>\n",
       "      <th>count_HB_90</th>\n",
       "      <th>count_HP_90</th>\n",
       "      <th>count_I1_90</th>\n",
       "      <th>count_IB_90</th>\n",
       "      <th>count_IN_90</th>\n",
       "      <th>count_IR_90</th>\n",
       "      <th>count_J1_90</th>\n",
       "      <th>count_J2_90</th>\n",
       "      <th>count_J4_90</th>\n",
       "      <th>count_J5_90</th>\n",
       "      <th>count_J6_90</th>\n",
       "      <th>count_J7_90</th>\n",
       "      <th>count_ML_90</th>\n",
       "      <th>count_MP_90</th>\n",
       "      <th>count_QC_90</th>\n",
       "      <th>count_RE_90</th>\n",
       "      <th>count_RF_90</th>\n",
       "      <th>count_S1_90</th>\n",
       "      <th>count_S2_90</th>\n",
       "      <th>count_S4_90</th>\n",
       "      <th>count_TP_90</th>\n",
       "      <th>count_W1_90</th>\n",
       "      <th>count_WO_90</th>\n",
       "      <th>count_WT_90</th>\n",
       "    </tr>\n",
       "    <tr>\n",
       "      <th>cact</th>\n",
       "      <th></th>\n",
       "      <th></th>\n",
       "      <th></th>\n",
       "      <th></th>\n",
       "      <th></th>\n",
       "      <th></th>\n",
       "      <th></th>\n",
       "      <th></th>\n",
       "      <th></th>\n",
       "      <th></th>\n",
       "      <th></th>\n",
       "      <th></th>\n",
       "      <th></th>\n",
       "      <th></th>\n",
       "      <th></th>\n",
       "      <th></th>\n",
       "      <th></th>\n",
       "      <th></th>\n",
       "      <th></th>\n",
       "      <th></th>\n",
       "      <th></th>\n",
       "      <th></th>\n",
       "      <th></th>\n",
       "      <th></th>\n",
       "      <th></th>\n",
       "      <th></th>\n",
       "      <th></th>\n",
       "      <th></th>\n",
       "      <th></th>\n",
       "      <th></th>\n",
       "      <th></th>\n",
       "    </tr>\n",
       "  </thead>\n",
       "  <tbody>\n",
       "    <tr>\n",
       "      <th>700000040056</th>\n",
       "      <td>0.0</td>\n",
       "      <td>0.0</td>\n",
       "      <td>0.0</td>\n",
       "      <td>0.0</td>\n",
       "      <td>0.0</td>\n",
       "      <td>0.0</td>\n",
       "      <td>0.0</td>\n",
       "      <td>0.0</td>\n",
       "      <td>0.0</td>\n",
       "      <td>0.0</td>\n",
       "      <td>0.0</td>\n",
       "      <td>3.0</td>\n",
       "      <td>0.0</td>\n",
       "      <td>0.0</td>\n",
       "      <td>0.0</td>\n",
       "      <td>0.0</td>\n",
       "      <td>0.0</td>\n",
       "      <td>0.0</td>\n",
       "      <td>0.0</td>\n",
       "      <td>0.0</td>\n",
       "      <td>0.0</td>\n",
       "      <td>0.0</td>\n",
       "      <td>0.0</td>\n",
       "      <td>0.0</td>\n",
       "      <td>3.0</td>\n",
       "      <td>0.0</td>\n",
       "      <td>0.0</td>\n",
       "      <td>0.0</td>\n",
       "      <td>0.0</td>\n",
       "      <td>0.0</td>\n",
       "      <td>0.0</td>\n",
       "    </tr>\n",
       "    <tr>\n",
       "      <th>700000040258</th>\n",
       "      <td>0.0</td>\n",
       "      <td>0.0</td>\n",
       "      <td>0.0</td>\n",
       "      <td>0.0</td>\n",
       "      <td>0.0</td>\n",
       "      <td>0.0</td>\n",
       "      <td>0.0</td>\n",
       "      <td>0.0</td>\n",
       "      <td>0.0</td>\n",
       "      <td>0.0</td>\n",
       "      <td>0.0</td>\n",
       "      <td>3.0</td>\n",
       "      <td>0.0</td>\n",
       "      <td>0.0</td>\n",
       "      <td>0.0</td>\n",
       "      <td>0.0</td>\n",
       "      <td>0.0</td>\n",
       "      <td>0.0</td>\n",
       "      <td>0.0</td>\n",
       "      <td>0.0</td>\n",
       "      <td>0.0</td>\n",
       "      <td>0.0</td>\n",
       "      <td>0.0</td>\n",
       "      <td>0.0</td>\n",
       "      <td>3.0</td>\n",
       "      <td>0.0</td>\n",
       "      <td>0.0</td>\n",
       "      <td>0.0</td>\n",
       "      <td>0.0</td>\n",
       "      <td>0.0</td>\n",
       "      <td>0.0</td>\n",
       "    </tr>\n",
       "    <tr>\n",
       "      <th>700000040359</th>\n",
       "      <td>0.0</td>\n",
       "      <td>0.0</td>\n",
       "      <td>0.0</td>\n",
       "      <td>0.0</td>\n",
       "      <td>3.0</td>\n",
       "      <td>0.0</td>\n",
       "      <td>0.0</td>\n",
       "      <td>0.0</td>\n",
       "      <td>0.0</td>\n",
       "      <td>0.0</td>\n",
       "      <td>0.0</td>\n",
       "      <td>3.0</td>\n",
       "      <td>0.0</td>\n",
       "      <td>0.0</td>\n",
       "      <td>0.0</td>\n",
       "      <td>0.0</td>\n",
       "      <td>0.0</td>\n",
       "      <td>0.0</td>\n",
       "      <td>0.0</td>\n",
       "      <td>0.0</td>\n",
       "      <td>0.0</td>\n",
       "      <td>0.0</td>\n",
       "      <td>0.0</td>\n",
       "      <td>0.0</td>\n",
       "      <td>0.0</td>\n",
       "      <td>0.0</td>\n",
       "      <td>0.0</td>\n",
       "      <td>0.0</td>\n",
       "      <td>0.0</td>\n",
       "      <td>0.0</td>\n",
       "      <td>0.0</td>\n",
       "    </tr>\n",
       "    <tr>\n",
       "      <th>700000040460</th>\n",
       "      <td>0.0</td>\n",
       "      <td>0.0</td>\n",
       "      <td>0.0</td>\n",
       "      <td>0.0</td>\n",
       "      <td>3.0</td>\n",
       "      <td>0.0</td>\n",
       "      <td>0.0</td>\n",
       "      <td>0.0</td>\n",
       "      <td>0.0</td>\n",
       "      <td>0.0</td>\n",
       "      <td>0.0</td>\n",
       "      <td>3.0</td>\n",
       "      <td>0.0</td>\n",
       "      <td>0.0</td>\n",
       "      <td>0.0</td>\n",
       "      <td>0.0</td>\n",
       "      <td>0.0</td>\n",
       "      <td>0.0</td>\n",
       "      <td>0.0</td>\n",
       "      <td>0.0</td>\n",
       "      <td>0.0</td>\n",
       "      <td>0.0</td>\n",
       "      <td>0.0</td>\n",
       "      <td>0.0</td>\n",
       "      <td>0.0</td>\n",
       "      <td>0.0</td>\n",
       "      <td>0.0</td>\n",
       "      <td>0.0</td>\n",
       "      <td>0.0</td>\n",
       "      <td>0.0</td>\n",
       "      <td>0.0</td>\n",
       "    </tr>\n",
       "    <tr>\n",
       "      <th>700000040561</th>\n",
       "      <td>0.0</td>\n",
       "      <td>0.0</td>\n",
       "      <td>0.0</td>\n",
       "      <td>0.0</td>\n",
       "      <td>0.0</td>\n",
       "      <td>0.0</td>\n",
       "      <td>0.0</td>\n",
       "      <td>0.0</td>\n",
       "      <td>0.0</td>\n",
       "      <td>0.0</td>\n",
       "      <td>0.0</td>\n",
       "      <td>3.0</td>\n",
       "      <td>0.0</td>\n",
       "      <td>0.0</td>\n",
       "      <td>0.0</td>\n",
       "      <td>0.0</td>\n",
       "      <td>0.0</td>\n",
       "      <td>0.0</td>\n",
       "      <td>0.0</td>\n",
       "      <td>3.0</td>\n",
       "      <td>0.0</td>\n",
       "      <td>0.0</td>\n",
       "      <td>0.0</td>\n",
       "      <td>0.0</td>\n",
       "      <td>0.0</td>\n",
       "      <td>0.0</td>\n",
       "      <td>0.0</td>\n",
       "      <td>0.0</td>\n",
       "      <td>0.0</td>\n",
       "      <td>0.0</td>\n",
       "      <td>0.0</td>\n",
       "    </tr>\n",
       "  </tbody>\n",
       "</table>\n",
       "</div>"
      ],
      "text/plain": [
       "              count_AM_90  count_CP_90  count_CS_90  count_DP_90  count_ED_90  \\\n",
       "cact                                                                            \n",
       "700000040056          0.0          0.0          0.0          0.0          0.0   \n",
       "700000040258          0.0          0.0          0.0          0.0          0.0   \n",
       "700000040359          0.0          0.0          0.0          0.0          3.0   \n",
       "700000040460          0.0          0.0          0.0          0.0          3.0   \n",
       "700000040561          0.0          0.0          0.0          0.0          0.0   \n",
       "\n",
       "              count_EF_90  count_ER_90  count_HB_90  count_HP_90  count_I1_90  \\\n",
       "cact                                                                            \n",
       "700000040056          0.0          0.0          0.0          0.0          0.0   \n",
       "700000040258          0.0          0.0          0.0          0.0          0.0   \n",
       "700000040359          0.0          0.0          0.0          0.0          0.0   \n",
       "700000040460          0.0          0.0          0.0          0.0          0.0   \n",
       "700000040561          0.0          0.0          0.0          0.0          0.0   \n",
       "\n",
       "              count_IB_90  count_IN_90  count_IR_90  count_J1_90  count_J2_90  \\\n",
       "cact                                                                            \n",
       "700000040056          0.0          3.0          0.0          0.0          0.0   \n",
       "700000040258          0.0          3.0          0.0          0.0          0.0   \n",
       "700000040359          0.0          3.0          0.0          0.0          0.0   \n",
       "700000040460          0.0          3.0          0.0          0.0          0.0   \n",
       "700000040561          0.0          3.0          0.0          0.0          0.0   \n",
       "\n",
       "              count_J4_90  count_J5_90  count_J6_90  count_J7_90  count_ML_90  \\\n",
       "cact                                                                            \n",
       "700000040056          0.0          0.0          0.0          0.0          0.0   \n",
       "700000040258          0.0          0.0          0.0          0.0          0.0   \n",
       "700000040359          0.0          0.0          0.0          0.0          0.0   \n",
       "700000040460          0.0          0.0          0.0          0.0          0.0   \n",
       "700000040561          0.0          0.0          0.0          0.0          3.0   \n",
       "\n",
       "              count_MP_90  count_QC_90  count_RE_90  count_RF_90  count_S1_90  \\\n",
       "cact                                                                            \n",
       "700000040056          0.0          0.0          0.0          0.0          3.0   \n",
       "700000040258          0.0          0.0          0.0          0.0          3.0   \n",
       "700000040359          0.0          0.0          0.0          0.0          0.0   \n",
       "700000040460          0.0          0.0          0.0          0.0          0.0   \n",
       "700000040561          0.0          0.0          0.0          0.0          0.0   \n",
       "\n",
       "              count_S2_90  count_S4_90  count_TP_90  count_W1_90  count_WO_90  \\\n",
       "cact                                                                            \n",
       "700000040056          0.0          0.0          0.0          0.0          0.0   \n",
       "700000040258          0.0          0.0          0.0          0.0          0.0   \n",
       "700000040359          0.0          0.0          0.0          0.0          0.0   \n",
       "700000040460          0.0          0.0          0.0          0.0          0.0   \n",
       "700000040561          0.0          0.0          0.0          0.0          0.0   \n",
       "\n",
       "              count_WT_90  \n",
       "cact                       \n",
       "700000040056          0.0  \n",
       "700000040258          0.0  \n",
       "700000040359          0.0  \n",
       "700000040460          0.0  \n",
       "700000040561          0.0  "
      ]
     },
     "execution_count": 45,
     "metadata": {},
     "output_type": "execute_result"
    }
   ],
   "source": [
    "# past 90 days\n",
    "notification_query = '''\n",
    "DO BEGIN \n",
    "DECLARE cutoff_date DATE = current_date;\n",
    "\n",
    "   SELECT distinct\n",
    "          t1.\"0CACONT_ACC\" AS CACT,\n",
    "          t1.\"4ZFI_A026_ZZCBLART\" AS PYMT_TYPE, \n",
    "          count(to_date(t1.\"0CLEAR_DATE___T\")) as pymt_count\n",
    "      FROM _SYS_BIC.\"system-local.bw.bw2hana/ZFI_A026\" t1\n",
    "      WHERE t1.\"0FC_BLART___T\" = 'Invoice Document'\n",
    "        AND t1.ZAUGST___T = 'Cleared Item'\n",
    "        AND to_date(t1.\"0CLEAR_DATE___T\") between add_days(cutoff_date, -90) and add_days(cutoff_date, -1)\n",
    "        and t1.\"0CACONT_ACC\" like '7%'\n",
    "        group by  \"0CACONT_ACC\", \"4ZFI_A026_ZZCBLART\";\n",
    "end;\n",
    "'''\n",
    "\n",
    "try: \n",
    "    ret=cursor_prod.execute(notification_query) \n",
    "    ret=cursor_prod.fetchall() \n",
    "    headers = [i[0] for i in cursor_prod.description]\n",
    "    #print(headers)\n",
    "    #for row in ret:\n",
    "        #print(row)\n",
    "except Exception as ex: \n",
    "    print(ex) \n",
    "    \n",
    "df=pd.DataFrame(ret)\n",
    "df.columns=['cact', 'pymt_type', 'pymt_ct']\n",
    "\n",
    "payment_90=df.pivot(index='cact', columns='pymt_type', values='pymt_ct')\n",
    "payment_90.columns=['count_'+str(col)+'_90' for col in payment_90.columns]\n",
    "payment_90.fillna(0, inplace=True)\n",
    "\n",
    "payment_90.head()"
   ]
  },
  {
   "cell_type": "code",
   "execution_count": 46,
   "id": "3a3fe7e9-311c-4ea4-aaf1-52a2c8e6205a",
   "metadata": {
    "tags": []
   },
   "outputs": [
    {
     "data": {
      "text/html": [
       "<div>\n",
       "<style scoped>\n",
       "    .dataframe tbody tr th:only-of-type {\n",
       "        vertical-align: middle;\n",
       "    }\n",
       "\n",
       "    .dataframe tbody tr th {\n",
       "        vertical-align: top;\n",
       "    }\n",
       "\n",
       "    .dataframe thead th {\n",
       "        text-align: right;\n",
       "    }\n",
       "</style>\n",
       "<table border=\"1\" class=\"dataframe\">\n",
       "  <thead>\n",
       "    <tr style=\"text-align: right;\">\n",
       "      <th></th>\n",
       "      <th>count_AM_180</th>\n",
       "      <th>count_CP_180</th>\n",
       "      <th>count_CS_180</th>\n",
       "      <th>count_DP_180</th>\n",
       "      <th>count_ED_180</th>\n",
       "      <th>count_EF_180</th>\n",
       "      <th>count_ER_180</th>\n",
       "      <th>count_HB_180</th>\n",
       "      <th>count_HP_180</th>\n",
       "      <th>count_I1_180</th>\n",
       "      <th>count_IB_180</th>\n",
       "      <th>count_IN_180</th>\n",
       "      <th>count_IR_180</th>\n",
       "      <th>count_J1_180</th>\n",
       "      <th>count_J2_180</th>\n",
       "      <th>count_J4_180</th>\n",
       "      <th>count_J5_180</th>\n",
       "      <th>count_J6_180</th>\n",
       "      <th>count_J7_180</th>\n",
       "      <th>count_ML_180</th>\n",
       "      <th>count_MP_180</th>\n",
       "      <th>count_QC_180</th>\n",
       "      <th>count_RE_180</th>\n",
       "      <th>count_RF_180</th>\n",
       "      <th>count_S1_180</th>\n",
       "      <th>count_S2_180</th>\n",
       "      <th>count_S4_180</th>\n",
       "      <th>count_TP_180</th>\n",
       "      <th>count_W1_180</th>\n",
       "      <th>count_WO_180</th>\n",
       "      <th>count_WT_180</th>\n",
       "    </tr>\n",
       "    <tr>\n",
       "      <th>cact</th>\n",
       "      <th></th>\n",
       "      <th></th>\n",
       "      <th></th>\n",
       "      <th></th>\n",
       "      <th></th>\n",
       "      <th></th>\n",
       "      <th></th>\n",
       "      <th></th>\n",
       "      <th></th>\n",
       "      <th></th>\n",
       "      <th></th>\n",
       "      <th></th>\n",
       "      <th></th>\n",
       "      <th></th>\n",
       "      <th></th>\n",
       "      <th></th>\n",
       "      <th></th>\n",
       "      <th></th>\n",
       "      <th></th>\n",
       "      <th></th>\n",
       "      <th></th>\n",
       "      <th></th>\n",
       "      <th></th>\n",
       "      <th></th>\n",
       "      <th></th>\n",
       "      <th></th>\n",
       "      <th></th>\n",
       "      <th></th>\n",
       "      <th></th>\n",
       "      <th></th>\n",
       "      <th></th>\n",
       "    </tr>\n",
       "  </thead>\n",
       "  <tbody>\n",
       "    <tr>\n",
       "      <th>700000040056</th>\n",
       "      <td>0.0</td>\n",
       "      <td>0.0</td>\n",
       "      <td>0.0</td>\n",
       "      <td>0.0</td>\n",
       "      <td>0.0</td>\n",
       "      <td>0.0</td>\n",
       "      <td>0.0</td>\n",
       "      <td>0.0</td>\n",
       "      <td>0.0</td>\n",
       "      <td>0.0</td>\n",
       "      <td>0.0</td>\n",
       "      <td>6.0</td>\n",
       "      <td>0.0</td>\n",
       "      <td>0.0</td>\n",
       "      <td>0.0</td>\n",
       "      <td>0.0</td>\n",
       "      <td>0.0</td>\n",
       "      <td>0.0</td>\n",
       "      <td>0.0</td>\n",
       "      <td>0.0</td>\n",
       "      <td>0.0</td>\n",
       "      <td>0.0</td>\n",
       "      <td>0.0</td>\n",
       "      <td>0.0</td>\n",
       "      <td>6.0</td>\n",
       "      <td>0.0</td>\n",
       "      <td>0.0</td>\n",
       "      <td>0.0</td>\n",
       "      <td>0.0</td>\n",
       "      <td>0.0</td>\n",
       "      <td>0.0</td>\n",
       "    </tr>\n",
       "    <tr>\n",
       "      <th>700000040258</th>\n",
       "      <td>0.0</td>\n",
       "      <td>0.0</td>\n",
       "      <td>0.0</td>\n",
       "      <td>0.0</td>\n",
       "      <td>0.0</td>\n",
       "      <td>0.0</td>\n",
       "      <td>0.0</td>\n",
       "      <td>0.0</td>\n",
       "      <td>0.0</td>\n",
       "      <td>0.0</td>\n",
       "      <td>0.0</td>\n",
       "      <td>6.0</td>\n",
       "      <td>0.0</td>\n",
       "      <td>0.0</td>\n",
       "      <td>0.0</td>\n",
       "      <td>0.0</td>\n",
       "      <td>0.0</td>\n",
       "      <td>0.0</td>\n",
       "      <td>0.0</td>\n",
       "      <td>0.0</td>\n",
       "      <td>0.0</td>\n",
       "      <td>0.0</td>\n",
       "      <td>0.0</td>\n",
       "      <td>0.0</td>\n",
       "      <td>6.0</td>\n",
       "      <td>0.0</td>\n",
       "      <td>0.0</td>\n",
       "      <td>0.0</td>\n",
       "      <td>0.0</td>\n",
       "      <td>0.0</td>\n",
       "      <td>0.0</td>\n",
       "    </tr>\n",
       "    <tr>\n",
       "      <th>700000040359</th>\n",
       "      <td>0.0</td>\n",
       "      <td>0.0</td>\n",
       "      <td>0.0</td>\n",
       "      <td>0.0</td>\n",
       "      <td>6.0</td>\n",
       "      <td>0.0</td>\n",
       "      <td>0.0</td>\n",
       "      <td>0.0</td>\n",
       "      <td>0.0</td>\n",
       "      <td>0.0</td>\n",
       "      <td>0.0</td>\n",
       "      <td>6.0</td>\n",
       "      <td>0.0</td>\n",
       "      <td>0.0</td>\n",
       "      <td>0.0</td>\n",
       "      <td>0.0</td>\n",
       "      <td>0.0</td>\n",
       "      <td>0.0</td>\n",
       "      <td>0.0</td>\n",
       "      <td>0.0</td>\n",
       "      <td>0.0</td>\n",
       "      <td>0.0</td>\n",
       "      <td>0.0</td>\n",
       "      <td>0.0</td>\n",
       "      <td>0.0</td>\n",
       "      <td>0.0</td>\n",
       "      <td>0.0</td>\n",
       "      <td>0.0</td>\n",
       "      <td>0.0</td>\n",
       "      <td>0.0</td>\n",
       "      <td>0.0</td>\n",
       "    </tr>\n",
       "    <tr>\n",
       "      <th>700000040460</th>\n",
       "      <td>0.0</td>\n",
       "      <td>0.0</td>\n",
       "      <td>0.0</td>\n",
       "      <td>0.0</td>\n",
       "      <td>6.0</td>\n",
       "      <td>0.0</td>\n",
       "      <td>0.0</td>\n",
       "      <td>0.0</td>\n",
       "      <td>0.0</td>\n",
       "      <td>0.0</td>\n",
       "      <td>0.0</td>\n",
       "      <td>6.0</td>\n",
       "      <td>0.0</td>\n",
       "      <td>0.0</td>\n",
       "      <td>0.0</td>\n",
       "      <td>0.0</td>\n",
       "      <td>0.0</td>\n",
       "      <td>0.0</td>\n",
       "      <td>0.0</td>\n",
       "      <td>0.0</td>\n",
       "      <td>0.0</td>\n",
       "      <td>0.0</td>\n",
       "      <td>0.0</td>\n",
       "      <td>0.0</td>\n",
       "      <td>0.0</td>\n",
       "      <td>0.0</td>\n",
       "      <td>0.0</td>\n",
       "      <td>0.0</td>\n",
       "      <td>0.0</td>\n",
       "      <td>0.0</td>\n",
       "      <td>0.0</td>\n",
       "    </tr>\n",
       "    <tr>\n",
       "      <th>700000040561</th>\n",
       "      <td>0.0</td>\n",
       "      <td>0.0</td>\n",
       "      <td>0.0</td>\n",
       "      <td>0.0</td>\n",
       "      <td>0.0</td>\n",
       "      <td>0.0</td>\n",
       "      <td>0.0</td>\n",
       "      <td>0.0</td>\n",
       "      <td>0.0</td>\n",
       "      <td>0.0</td>\n",
       "      <td>0.0</td>\n",
       "      <td>6.0</td>\n",
       "      <td>0.0</td>\n",
       "      <td>0.0</td>\n",
       "      <td>0.0</td>\n",
       "      <td>0.0</td>\n",
       "      <td>0.0</td>\n",
       "      <td>0.0</td>\n",
       "      <td>0.0</td>\n",
       "      <td>6.0</td>\n",
       "      <td>0.0</td>\n",
       "      <td>0.0</td>\n",
       "      <td>0.0</td>\n",
       "      <td>0.0</td>\n",
       "      <td>0.0</td>\n",
       "      <td>0.0</td>\n",
       "      <td>0.0</td>\n",
       "      <td>0.0</td>\n",
       "      <td>0.0</td>\n",
       "      <td>0.0</td>\n",
       "      <td>0.0</td>\n",
       "    </tr>\n",
       "  </tbody>\n",
       "</table>\n",
       "</div>"
      ],
      "text/plain": [
       "              count_AM_180  count_CP_180  count_CS_180  count_DP_180  \\\n",
       "cact                                                                   \n",
       "700000040056           0.0           0.0           0.0           0.0   \n",
       "700000040258           0.0           0.0           0.0           0.0   \n",
       "700000040359           0.0           0.0           0.0           0.0   \n",
       "700000040460           0.0           0.0           0.0           0.0   \n",
       "700000040561           0.0           0.0           0.0           0.0   \n",
       "\n",
       "              count_ED_180  count_EF_180  count_ER_180  count_HB_180  \\\n",
       "cact                                                                   \n",
       "700000040056           0.0           0.0           0.0           0.0   \n",
       "700000040258           0.0           0.0           0.0           0.0   \n",
       "700000040359           6.0           0.0           0.0           0.0   \n",
       "700000040460           6.0           0.0           0.0           0.0   \n",
       "700000040561           0.0           0.0           0.0           0.0   \n",
       "\n",
       "              count_HP_180  count_I1_180  count_IB_180  count_IN_180  \\\n",
       "cact                                                                   \n",
       "700000040056           0.0           0.0           0.0           6.0   \n",
       "700000040258           0.0           0.0           0.0           6.0   \n",
       "700000040359           0.0           0.0           0.0           6.0   \n",
       "700000040460           0.0           0.0           0.0           6.0   \n",
       "700000040561           0.0           0.0           0.0           6.0   \n",
       "\n",
       "              count_IR_180  count_J1_180  count_J2_180  count_J4_180  \\\n",
       "cact                                                                   \n",
       "700000040056           0.0           0.0           0.0           0.0   \n",
       "700000040258           0.0           0.0           0.0           0.0   \n",
       "700000040359           0.0           0.0           0.0           0.0   \n",
       "700000040460           0.0           0.0           0.0           0.0   \n",
       "700000040561           0.0           0.0           0.0           0.0   \n",
       "\n",
       "              count_J5_180  count_J6_180  count_J7_180  count_ML_180  \\\n",
       "cact                                                                   \n",
       "700000040056           0.0           0.0           0.0           0.0   \n",
       "700000040258           0.0           0.0           0.0           0.0   \n",
       "700000040359           0.0           0.0           0.0           0.0   \n",
       "700000040460           0.0           0.0           0.0           0.0   \n",
       "700000040561           0.0           0.0           0.0           6.0   \n",
       "\n",
       "              count_MP_180  count_QC_180  count_RE_180  count_RF_180  \\\n",
       "cact                                                                   \n",
       "700000040056           0.0           0.0           0.0           0.0   \n",
       "700000040258           0.0           0.0           0.0           0.0   \n",
       "700000040359           0.0           0.0           0.0           0.0   \n",
       "700000040460           0.0           0.0           0.0           0.0   \n",
       "700000040561           0.0           0.0           0.0           0.0   \n",
       "\n",
       "              count_S1_180  count_S2_180  count_S4_180  count_TP_180  \\\n",
       "cact                                                                   \n",
       "700000040056           6.0           0.0           0.0           0.0   \n",
       "700000040258           6.0           0.0           0.0           0.0   \n",
       "700000040359           0.0           0.0           0.0           0.0   \n",
       "700000040460           0.0           0.0           0.0           0.0   \n",
       "700000040561           0.0           0.0           0.0           0.0   \n",
       "\n",
       "              count_W1_180  count_WO_180  count_WT_180  \n",
       "cact                                                    \n",
       "700000040056           0.0           0.0           0.0  \n",
       "700000040258           0.0           0.0           0.0  \n",
       "700000040359           0.0           0.0           0.0  \n",
       "700000040460           0.0           0.0           0.0  \n",
       "700000040561           0.0           0.0           0.0  "
      ]
     },
     "execution_count": 46,
     "metadata": {},
     "output_type": "execute_result"
    }
   ],
   "source": [
    "# past 180 days\n",
    "notification_query = '''\n",
    "DO BEGIN \n",
    "DECLARE cutoff_date DATE = current_date;\n",
    "\n",
    "   SELECT distinct\n",
    "          t1.\"0CACONT_ACC\" AS CACT,\n",
    "          t1.\"4ZFI_A026_ZZCBLART\" AS PYMT_TYPE, \n",
    "          count(to_date(t1.\"0CLEAR_DATE___T\")) as pymt_count\n",
    "      FROM _SYS_BIC.\"system-local.bw.bw2hana/ZFI_A026\" t1\n",
    "      WHERE t1.\"0FC_BLART___T\" = 'Invoice Document'\n",
    "        AND t1.ZAUGST___T = 'Cleared Item'\n",
    "        AND to_date(t1.\"0CLEAR_DATE___T\") between add_days(cutoff_date, -180) and add_days(cutoff_date, -1)\n",
    "        and t1.\"0CACONT_ACC\" like '7%'\n",
    "        group by  \"0CACONT_ACC\", \"4ZFI_A026_ZZCBLART\";\n",
    "end; \n",
    "'''\n",
    "\n",
    "try: \n",
    "    ret=cursor_prod.execute(notification_query) \n",
    "    ret=cursor_prod.fetchall() \n",
    "    headers = [i[0] for i in cursor_prod.description]\n",
    "    #print(headers)\n",
    "    #for row in ret:\n",
    "        #print(row)\n",
    "except Exception as ex: \n",
    "    print(ex) \n",
    "    \n",
    "df=pd.DataFrame(ret)\n",
    "df.columns=['cact', 'pymt_type', 'pymt_ct']\n",
    "\n",
    "payment_180=df.pivot(index='cact', columns='pymt_type', values='pymt_ct')\n",
    "payment_180.columns=['count_'+str(col)+'_180' for col in payment_180.columns]\n",
    "payment_180.fillna(0, inplace=True)\n",
    "\n",
    "payment_180.head()"
   ]
  },
  {
   "cell_type": "code",
   "execution_count": 47,
   "id": "da109bd2-8c6e-472b-bf7a-b4d4ec685d90",
   "metadata": {
    "tags": []
   },
   "outputs": [
    {
     "data": {
      "text/html": [
       "<div>\n",
       "<style scoped>\n",
       "    .dataframe tbody tr th:only-of-type {\n",
       "        vertical-align: middle;\n",
       "    }\n",
       "\n",
       "    .dataframe tbody tr th {\n",
       "        vertical-align: top;\n",
       "    }\n",
       "\n",
       "    .dataframe thead th {\n",
       "        text-align: right;\n",
       "    }\n",
       "</style>\n",
       "<table border=\"1\" class=\"dataframe\">\n",
       "  <thead>\n",
       "    <tr style=\"text-align: right;\">\n",
       "      <th></th>\n",
       "      <th>count_AM_360</th>\n",
       "      <th>count_CP_360</th>\n",
       "      <th>count_CS_360</th>\n",
       "      <th>count_DP_360</th>\n",
       "      <th>count_ED_360</th>\n",
       "      <th>count_EF_360</th>\n",
       "      <th>count_ER_360</th>\n",
       "      <th>count_HB_360</th>\n",
       "      <th>count_HP_360</th>\n",
       "      <th>count_I1_360</th>\n",
       "      <th>count_IB_360</th>\n",
       "      <th>count_IN_360</th>\n",
       "      <th>count_IR_360</th>\n",
       "      <th>count_J1_360</th>\n",
       "      <th>count_J2_360</th>\n",
       "      <th>count_J4_360</th>\n",
       "      <th>count_J5_360</th>\n",
       "      <th>count_J6_360</th>\n",
       "      <th>count_J7_360</th>\n",
       "      <th>count_ML_360</th>\n",
       "      <th>count_MP_360</th>\n",
       "      <th>count_QC_360</th>\n",
       "      <th>count_RE_360</th>\n",
       "      <th>count_RF_360</th>\n",
       "      <th>count_S1_360</th>\n",
       "      <th>count_S2_360</th>\n",
       "      <th>count_S4_360</th>\n",
       "      <th>count_TP_360</th>\n",
       "      <th>count_W1_360</th>\n",
       "      <th>count_WO_360</th>\n",
       "      <th>count_WT_360</th>\n",
       "    </tr>\n",
       "    <tr>\n",
       "      <th>cact</th>\n",
       "      <th></th>\n",
       "      <th></th>\n",
       "      <th></th>\n",
       "      <th></th>\n",
       "      <th></th>\n",
       "      <th></th>\n",
       "      <th></th>\n",
       "      <th></th>\n",
       "      <th></th>\n",
       "      <th></th>\n",
       "      <th></th>\n",
       "      <th></th>\n",
       "      <th></th>\n",
       "      <th></th>\n",
       "      <th></th>\n",
       "      <th></th>\n",
       "      <th></th>\n",
       "      <th></th>\n",
       "      <th></th>\n",
       "      <th></th>\n",
       "      <th></th>\n",
       "      <th></th>\n",
       "      <th></th>\n",
       "      <th></th>\n",
       "      <th></th>\n",
       "      <th></th>\n",
       "      <th></th>\n",
       "      <th></th>\n",
       "      <th></th>\n",
       "      <th></th>\n",
       "      <th></th>\n",
       "    </tr>\n",
       "  </thead>\n",
       "  <tbody>\n",
       "    <tr>\n",
       "      <th>700000040056</th>\n",
       "      <td>2.0</td>\n",
       "      <td>0.0</td>\n",
       "      <td>0.0</td>\n",
       "      <td>0.0</td>\n",
       "      <td>0.0</td>\n",
       "      <td>0.0</td>\n",
       "      <td>0.0</td>\n",
       "      <td>0.0</td>\n",
       "      <td>0.0</td>\n",
       "      <td>0.0</td>\n",
       "      <td>0.0</td>\n",
       "      <td>12.0</td>\n",
       "      <td>0.0</td>\n",
       "      <td>0.0</td>\n",
       "      <td>0.0</td>\n",
       "      <td>0.0</td>\n",
       "      <td>0.0</td>\n",
       "      <td>0.0</td>\n",
       "      <td>0.0</td>\n",
       "      <td>0.0</td>\n",
       "      <td>0.0</td>\n",
       "      <td>0.0</td>\n",
       "      <td>0.0</td>\n",
       "      <td>0.0</td>\n",
       "      <td>11.0</td>\n",
       "      <td>0.0</td>\n",
       "      <td>0.0</td>\n",
       "      <td>0.0</td>\n",
       "      <td>0.0</td>\n",
       "      <td>0.0</td>\n",
       "      <td>0.0</td>\n",
       "    </tr>\n",
       "    <tr>\n",
       "      <th>700000040258</th>\n",
       "      <td>0.0</td>\n",
       "      <td>0.0</td>\n",
       "      <td>0.0</td>\n",
       "      <td>0.0</td>\n",
       "      <td>0.0</td>\n",
       "      <td>0.0</td>\n",
       "      <td>0.0</td>\n",
       "      <td>0.0</td>\n",
       "      <td>0.0</td>\n",
       "      <td>0.0</td>\n",
       "      <td>0.0</td>\n",
       "      <td>11.0</td>\n",
       "      <td>0.0</td>\n",
       "      <td>0.0</td>\n",
       "      <td>0.0</td>\n",
       "      <td>0.0</td>\n",
       "      <td>0.0</td>\n",
       "      <td>0.0</td>\n",
       "      <td>0.0</td>\n",
       "      <td>0.0</td>\n",
       "      <td>0.0</td>\n",
       "      <td>0.0</td>\n",
       "      <td>0.0</td>\n",
       "      <td>0.0</td>\n",
       "      <td>11.0</td>\n",
       "      <td>0.0</td>\n",
       "      <td>0.0</td>\n",
       "      <td>0.0</td>\n",
       "      <td>0.0</td>\n",
       "      <td>0.0</td>\n",
       "      <td>0.0</td>\n",
       "    </tr>\n",
       "    <tr>\n",
       "      <th>700000040359</th>\n",
       "      <td>0.0</td>\n",
       "      <td>0.0</td>\n",
       "      <td>0.0</td>\n",
       "      <td>0.0</td>\n",
       "      <td>12.0</td>\n",
       "      <td>0.0</td>\n",
       "      <td>0.0</td>\n",
       "      <td>0.0</td>\n",
       "      <td>0.0</td>\n",
       "      <td>0.0</td>\n",
       "      <td>0.0</td>\n",
       "      <td>12.0</td>\n",
       "      <td>0.0</td>\n",
       "      <td>0.0</td>\n",
       "      <td>0.0</td>\n",
       "      <td>0.0</td>\n",
       "      <td>0.0</td>\n",
       "      <td>0.0</td>\n",
       "      <td>0.0</td>\n",
       "      <td>0.0</td>\n",
       "      <td>0.0</td>\n",
       "      <td>0.0</td>\n",
       "      <td>0.0</td>\n",
       "      <td>0.0</td>\n",
       "      <td>0.0</td>\n",
       "      <td>0.0</td>\n",
       "      <td>0.0</td>\n",
       "      <td>0.0</td>\n",
       "      <td>0.0</td>\n",
       "      <td>0.0</td>\n",
       "      <td>0.0</td>\n",
       "    </tr>\n",
       "    <tr>\n",
       "      <th>700000040460</th>\n",
       "      <td>0.0</td>\n",
       "      <td>0.0</td>\n",
       "      <td>0.0</td>\n",
       "      <td>0.0</td>\n",
       "      <td>13.0</td>\n",
       "      <td>0.0</td>\n",
       "      <td>0.0</td>\n",
       "      <td>0.0</td>\n",
       "      <td>0.0</td>\n",
       "      <td>0.0</td>\n",
       "      <td>0.0</td>\n",
       "      <td>12.0</td>\n",
       "      <td>0.0</td>\n",
       "      <td>0.0</td>\n",
       "      <td>0.0</td>\n",
       "      <td>0.0</td>\n",
       "      <td>0.0</td>\n",
       "      <td>0.0</td>\n",
       "      <td>0.0</td>\n",
       "      <td>0.0</td>\n",
       "      <td>0.0</td>\n",
       "      <td>0.0</td>\n",
       "      <td>0.0</td>\n",
       "      <td>0.0</td>\n",
       "      <td>0.0</td>\n",
       "      <td>0.0</td>\n",
       "      <td>0.0</td>\n",
       "      <td>0.0</td>\n",
       "      <td>0.0</td>\n",
       "      <td>0.0</td>\n",
       "      <td>0.0</td>\n",
       "    </tr>\n",
       "    <tr>\n",
       "      <th>700000040561</th>\n",
       "      <td>0.0</td>\n",
       "      <td>0.0</td>\n",
       "      <td>0.0</td>\n",
       "      <td>0.0</td>\n",
       "      <td>0.0</td>\n",
       "      <td>0.0</td>\n",
       "      <td>0.0</td>\n",
       "      <td>0.0</td>\n",
       "      <td>0.0</td>\n",
       "      <td>0.0</td>\n",
       "      <td>0.0</td>\n",
       "      <td>12.0</td>\n",
       "      <td>0.0</td>\n",
       "      <td>0.0</td>\n",
       "      <td>0.0</td>\n",
       "      <td>0.0</td>\n",
       "      <td>0.0</td>\n",
       "      <td>0.0</td>\n",
       "      <td>0.0</td>\n",
       "      <td>12.0</td>\n",
       "      <td>0.0</td>\n",
       "      <td>0.0</td>\n",
       "      <td>0.0</td>\n",
       "      <td>0.0</td>\n",
       "      <td>0.0</td>\n",
       "      <td>0.0</td>\n",
       "      <td>0.0</td>\n",
       "      <td>0.0</td>\n",
       "      <td>0.0</td>\n",
       "      <td>0.0</td>\n",
       "      <td>0.0</td>\n",
       "    </tr>\n",
       "  </tbody>\n",
       "</table>\n",
       "</div>"
      ],
      "text/plain": [
       "              count_AM_360  count_CP_360  count_CS_360  count_DP_360  \\\n",
       "cact                                                                   \n",
       "700000040056           2.0           0.0           0.0           0.0   \n",
       "700000040258           0.0           0.0           0.0           0.0   \n",
       "700000040359           0.0           0.0           0.0           0.0   \n",
       "700000040460           0.0           0.0           0.0           0.0   \n",
       "700000040561           0.0           0.0           0.0           0.0   \n",
       "\n",
       "              count_ED_360  count_EF_360  count_ER_360  count_HB_360  \\\n",
       "cact                                                                   \n",
       "700000040056           0.0           0.0           0.0           0.0   \n",
       "700000040258           0.0           0.0           0.0           0.0   \n",
       "700000040359          12.0           0.0           0.0           0.0   \n",
       "700000040460          13.0           0.0           0.0           0.0   \n",
       "700000040561           0.0           0.0           0.0           0.0   \n",
       "\n",
       "              count_HP_360  count_I1_360  count_IB_360  count_IN_360  \\\n",
       "cact                                                                   \n",
       "700000040056           0.0           0.0           0.0          12.0   \n",
       "700000040258           0.0           0.0           0.0          11.0   \n",
       "700000040359           0.0           0.0           0.0          12.0   \n",
       "700000040460           0.0           0.0           0.0          12.0   \n",
       "700000040561           0.0           0.0           0.0          12.0   \n",
       "\n",
       "              count_IR_360  count_J1_360  count_J2_360  count_J4_360  \\\n",
       "cact                                                                   \n",
       "700000040056           0.0           0.0           0.0           0.0   \n",
       "700000040258           0.0           0.0           0.0           0.0   \n",
       "700000040359           0.0           0.0           0.0           0.0   \n",
       "700000040460           0.0           0.0           0.0           0.0   \n",
       "700000040561           0.0           0.0           0.0           0.0   \n",
       "\n",
       "              count_J5_360  count_J6_360  count_J7_360  count_ML_360  \\\n",
       "cact                                                                   \n",
       "700000040056           0.0           0.0           0.0           0.0   \n",
       "700000040258           0.0           0.0           0.0           0.0   \n",
       "700000040359           0.0           0.0           0.0           0.0   \n",
       "700000040460           0.0           0.0           0.0           0.0   \n",
       "700000040561           0.0           0.0           0.0          12.0   \n",
       "\n",
       "              count_MP_360  count_QC_360  count_RE_360  count_RF_360  \\\n",
       "cact                                                                   \n",
       "700000040056           0.0           0.0           0.0           0.0   \n",
       "700000040258           0.0           0.0           0.0           0.0   \n",
       "700000040359           0.0           0.0           0.0           0.0   \n",
       "700000040460           0.0           0.0           0.0           0.0   \n",
       "700000040561           0.0           0.0           0.0           0.0   \n",
       "\n",
       "              count_S1_360  count_S2_360  count_S4_360  count_TP_360  \\\n",
       "cact                                                                   \n",
       "700000040056          11.0           0.0           0.0           0.0   \n",
       "700000040258          11.0           0.0           0.0           0.0   \n",
       "700000040359           0.0           0.0           0.0           0.0   \n",
       "700000040460           0.0           0.0           0.0           0.0   \n",
       "700000040561           0.0           0.0           0.0           0.0   \n",
       "\n",
       "              count_W1_360  count_WO_360  count_WT_360  \n",
       "cact                                                    \n",
       "700000040056           0.0           0.0           0.0  \n",
       "700000040258           0.0           0.0           0.0  \n",
       "700000040359           0.0           0.0           0.0  \n",
       "700000040460           0.0           0.0           0.0  \n",
       "700000040561           0.0           0.0           0.0  "
      ]
     },
     "execution_count": 47,
     "metadata": {},
     "output_type": "execute_result"
    }
   ],
   "source": [
    "# past 360 days\n",
    "notification_query = '''\n",
    "DO BEGIN \n",
    "DECLARE cutoff_date DATE = current_date;\n",
    "\n",
    "   SELECT distinct\n",
    "          t1.\"0CACONT_ACC\" AS CACT,\n",
    "          t1.\"4ZFI_A026_ZZCBLART\" AS PYMT_TYPE, \n",
    "          count(to_date(t1.\"0CLEAR_DATE___T\")) as pymt_count,       \n",
    "          min(days_between(to_date(t1.\"0CLEAR_DATE___T\"), cutoff_date)) as payment_recency \n",
    "      FROM _SYS_BIC.\"system-local.bw.bw2hana/ZFI_A026\" t1\n",
    "      WHERE t1.\"0FC_BLART___T\" = 'Invoice Document'\n",
    "        AND t1.ZAUGST___T = 'Cleared Item'\n",
    "        AND to_date(t1.\"0CLEAR_DATE___T\") between add_days(cutoff_date, -365) and add_days(cutoff_date, -1)\n",
    "        and t1.\"0CACONT_ACC\" like '7%'\n",
    "        group by  \"0CACONT_ACC\", \"4ZFI_A026_ZZCBLART\";\n",
    "end; \n",
    "'''\n",
    "\n",
    "try: \n",
    "    ret=cursor_prod.execute(notification_query) \n",
    "    ret=cursor_prod.fetchall() \n",
    "    headers = [i[0] for i in cursor_prod.description]\n",
    "    #print(headers)\n",
    "    #for row in ret:\n",
    "        #print(row)\n",
    "except Exception as ex: \n",
    "    print(ex) \n",
    "    \n",
    "df=pd.DataFrame(ret)\n",
    "df.columns=['cact', 'pymt_type', 'pymt_ct', 'pymt_type_recency']\n",
    "\n",
    "payment_360=df.pivot(index='cact', columns='pymt_type', values='pymt_ct')\n",
    "payment_360.columns=['count_'+str(col)+'_360' for col in payment_360.columns]\n",
    "payment_360.fillna(0, inplace=True)\n",
    "\n",
    "payment_360.head()"
   ]
  },
  {
   "cell_type": "code",
   "execution_count": 48,
   "id": "77065e58-1ef5-4b37-9d79-b596bada250c",
   "metadata": {
    "tags": []
   },
   "outputs": [
    {
     "data": {
      "text/html": [
       "<div>\n",
       "<style scoped>\n",
       "    .dataframe tbody tr th:only-of-type {\n",
       "        vertical-align: middle;\n",
       "    }\n",
       "\n",
       "    .dataframe tbody tr th {\n",
       "        vertical-align: top;\n",
       "    }\n",
       "\n",
       "    .dataframe thead th {\n",
       "        text-align: right;\n",
       "    }\n",
       "</style>\n",
       "<table border=\"1\" class=\"dataframe\">\n",
       "  <thead>\n",
       "    <tr style=\"text-align: right;\">\n",
       "      <th></th>\n",
       "      <th>recency_AM</th>\n",
       "      <th>recency_CP</th>\n",
       "      <th>recency_CS</th>\n",
       "      <th>recency_DP</th>\n",
       "      <th>recency_ED</th>\n",
       "      <th>recency_EF</th>\n",
       "      <th>recency_ER</th>\n",
       "      <th>recency_HB</th>\n",
       "      <th>recency_HP</th>\n",
       "      <th>recency_I1</th>\n",
       "      <th>recency_IB</th>\n",
       "      <th>recency_IN</th>\n",
       "      <th>recency_IR</th>\n",
       "      <th>recency_J1</th>\n",
       "      <th>recency_J2</th>\n",
       "      <th>recency_J4</th>\n",
       "      <th>recency_J5</th>\n",
       "      <th>recency_J6</th>\n",
       "      <th>recency_J7</th>\n",
       "      <th>recency_ML</th>\n",
       "      <th>recency_MP</th>\n",
       "      <th>recency_QC</th>\n",
       "      <th>recency_RE</th>\n",
       "      <th>recency_RF</th>\n",
       "      <th>recency_S1</th>\n",
       "      <th>recency_S2</th>\n",
       "      <th>recency_S4</th>\n",
       "      <th>recency_TP</th>\n",
       "      <th>recency_W1</th>\n",
       "      <th>recency_WO</th>\n",
       "      <th>recency_WT</th>\n",
       "    </tr>\n",
       "    <tr>\n",
       "      <th>cact</th>\n",
       "      <th></th>\n",
       "      <th></th>\n",
       "      <th></th>\n",
       "      <th></th>\n",
       "      <th></th>\n",
       "      <th></th>\n",
       "      <th></th>\n",
       "      <th></th>\n",
       "      <th></th>\n",
       "      <th></th>\n",
       "      <th></th>\n",
       "      <th></th>\n",
       "      <th></th>\n",
       "      <th></th>\n",
       "      <th></th>\n",
       "      <th></th>\n",
       "      <th></th>\n",
       "      <th></th>\n",
       "      <th></th>\n",
       "      <th></th>\n",
       "      <th></th>\n",
       "      <th></th>\n",
       "      <th></th>\n",
       "      <th></th>\n",
       "      <th></th>\n",
       "      <th></th>\n",
       "      <th></th>\n",
       "      <th></th>\n",
       "      <th></th>\n",
       "      <th></th>\n",
       "      <th></th>\n",
       "    </tr>\n",
       "  </thead>\n",
       "  <tbody>\n",
       "    <tr>\n",
       "      <th>700000040056</th>\n",
       "      <td>286.0</td>\n",
       "      <td>600.0</td>\n",
       "      <td>600.0</td>\n",
       "      <td>600.0</td>\n",
       "      <td>600.0</td>\n",
       "      <td>600.0</td>\n",
       "      <td>600.0</td>\n",
       "      <td>600.0</td>\n",
       "      <td>600.0</td>\n",
       "      <td>600.0</td>\n",
       "      <td>600.0</td>\n",
       "      <td>11.0</td>\n",
       "      <td>600.0</td>\n",
       "      <td>600.0</td>\n",
       "      <td>600.0</td>\n",
       "      <td>600.0</td>\n",
       "      <td>600.0</td>\n",
       "      <td>600.0</td>\n",
       "      <td>600.0</td>\n",
       "      <td>600.0</td>\n",
       "      <td>600.0</td>\n",
       "      <td>600.0</td>\n",
       "      <td>600.0</td>\n",
       "      <td>600.0</td>\n",
       "      <td>5.0</td>\n",
       "      <td>600.0</td>\n",
       "      <td>600.0</td>\n",
       "      <td>600.0</td>\n",
       "      <td>600.0</td>\n",
       "      <td>600.0</td>\n",
       "      <td>600.0</td>\n",
       "    </tr>\n",
       "    <tr>\n",
       "      <th>700000040258</th>\n",
       "      <td>600.0</td>\n",
       "      <td>600.0</td>\n",
       "      <td>600.0</td>\n",
       "      <td>600.0</td>\n",
       "      <td>600.0</td>\n",
       "      <td>600.0</td>\n",
       "      <td>600.0</td>\n",
       "      <td>600.0</td>\n",
       "      <td>600.0</td>\n",
       "      <td>600.0</td>\n",
       "      <td>600.0</td>\n",
       "      <td>27.0</td>\n",
       "      <td>600.0</td>\n",
       "      <td>600.0</td>\n",
       "      <td>600.0</td>\n",
       "      <td>600.0</td>\n",
       "      <td>600.0</td>\n",
       "      <td>600.0</td>\n",
       "      <td>600.0</td>\n",
       "      <td>600.0</td>\n",
       "      <td>600.0</td>\n",
       "      <td>600.0</td>\n",
       "      <td>600.0</td>\n",
       "      <td>600.0</td>\n",
       "      <td>13.0</td>\n",
       "      <td>600.0</td>\n",
       "      <td>600.0</td>\n",
       "      <td>600.0</td>\n",
       "      <td>600.0</td>\n",
       "      <td>600.0</td>\n",
       "      <td>600.0</td>\n",
       "    </tr>\n",
       "    <tr>\n",
       "      <th>700000040359</th>\n",
       "      <td>600.0</td>\n",
       "      <td>600.0</td>\n",
       "      <td>600.0</td>\n",
       "      <td>600.0</td>\n",
       "      <td>4.0</td>\n",
       "      <td>600.0</td>\n",
       "      <td>600.0</td>\n",
       "      <td>600.0</td>\n",
       "      <td>600.0</td>\n",
       "      <td>600.0</td>\n",
       "      <td>600.0</td>\n",
       "      <td>12.0</td>\n",
       "      <td>600.0</td>\n",
       "      <td>600.0</td>\n",
       "      <td>600.0</td>\n",
       "      <td>600.0</td>\n",
       "      <td>600.0</td>\n",
       "      <td>600.0</td>\n",
       "      <td>600.0</td>\n",
       "      <td>600.0</td>\n",
       "      <td>600.0</td>\n",
       "      <td>600.0</td>\n",
       "      <td>600.0</td>\n",
       "      <td>600.0</td>\n",
       "      <td>600.0</td>\n",
       "      <td>600.0</td>\n",
       "      <td>600.0</td>\n",
       "      <td>600.0</td>\n",
       "      <td>600.0</td>\n",
       "      <td>600.0</td>\n",
       "      <td>600.0</td>\n",
       "    </tr>\n",
       "    <tr>\n",
       "      <th>700000040460</th>\n",
       "      <td>600.0</td>\n",
       "      <td>600.0</td>\n",
       "      <td>600.0</td>\n",
       "      <td>600.0</td>\n",
       "      <td>4.0</td>\n",
       "      <td>600.0</td>\n",
       "      <td>600.0</td>\n",
       "      <td>600.0</td>\n",
       "      <td>600.0</td>\n",
       "      <td>600.0</td>\n",
       "      <td>600.0</td>\n",
       "      <td>13.0</td>\n",
       "      <td>600.0</td>\n",
       "      <td>600.0</td>\n",
       "      <td>600.0</td>\n",
       "      <td>600.0</td>\n",
       "      <td>600.0</td>\n",
       "      <td>600.0</td>\n",
       "      <td>600.0</td>\n",
       "      <td>600.0</td>\n",
       "      <td>600.0</td>\n",
       "      <td>600.0</td>\n",
       "      <td>600.0</td>\n",
       "      <td>600.0</td>\n",
       "      <td>600.0</td>\n",
       "      <td>600.0</td>\n",
       "      <td>600.0</td>\n",
       "      <td>600.0</td>\n",
       "      <td>600.0</td>\n",
       "      <td>600.0</td>\n",
       "      <td>600.0</td>\n",
       "    </tr>\n",
       "    <tr>\n",
       "      <th>700000040561</th>\n",
       "      <td>600.0</td>\n",
       "      <td>600.0</td>\n",
       "      <td>600.0</td>\n",
       "      <td>600.0</td>\n",
       "      <td>600.0</td>\n",
       "      <td>600.0</td>\n",
       "      <td>600.0</td>\n",
       "      <td>600.0</td>\n",
       "      <td>600.0</td>\n",
       "      <td>600.0</td>\n",
       "      <td>600.0</td>\n",
       "      <td>5.0</td>\n",
       "      <td>600.0</td>\n",
       "      <td>600.0</td>\n",
       "      <td>600.0</td>\n",
       "      <td>600.0</td>\n",
       "      <td>600.0</td>\n",
       "      <td>600.0</td>\n",
       "      <td>600.0</td>\n",
       "      <td>24.0</td>\n",
       "      <td>600.0</td>\n",
       "      <td>600.0</td>\n",
       "      <td>600.0</td>\n",
       "      <td>600.0</td>\n",
       "      <td>600.0</td>\n",
       "      <td>600.0</td>\n",
       "      <td>600.0</td>\n",
       "      <td>600.0</td>\n",
       "      <td>600.0</td>\n",
       "      <td>600.0</td>\n",
       "      <td>600.0</td>\n",
       "    </tr>\n",
       "  </tbody>\n",
       "</table>\n",
       "</div>"
      ],
      "text/plain": [
       "              recency_AM  recency_CP  recency_CS  recency_DP  recency_ED  \\\n",
       "cact                                                                       \n",
       "700000040056       286.0       600.0       600.0       600.0       600.0   \n",
       "700000040258       600.0       600.0       600.0       600.0       600.0   \n",
       "700000040359       600.0       600.0       600.0       600.0         4.0   \n",
       "700000040460       600.0       600.0       600.0       600.0         4.0   \n",
       "700000040561       600.0       600.0       600.0       600.0       600.0   \n",
       "\n",
       "              recency_EF  recency_ER  recency_HB  recency_HP  recency_I1  \\\n",
       "cact                                                                       \n",
       "700000040056       600.0       600.0       600.0       600.0       600.0   \n",
       "700000040258       600.0       600.0       600.0       600.0       600.0   \n",
       "700000040359       600.0       600.0       600.0       600.0       600.0   \n",
       "700000040460       600.0       600.0       600.0       600.0       600.0   \n",
       "700000040561       600.0       600.0       600.0       600.0       600.0   \n",
       "\n",
       "              recency_IB  recency_IN  recency_IR  recency_J1  recency_J2  \\\n",
       "cact                                                                       \n",
       "700000040056       600.0        11.0       600.0       600.0       600.0   \n",
       "700000040258       600.0        27.0       600.0       600.0       600.0   \n",
       "700000040359       600.0        12.0       600.0       600.0       600.0   \n",
       "700000040460       600.0        13.0       600.0       600.0       600.0   \n",
       "700000040561       600.0         5.0       600.0       600.0       600.0   \n",
       "\n",
       "              recency_J4  recency_J5  recency_J6  recency_J7  recency_ML  \\\n",
       "cact                                                                       \n",
       "700000040056       600.0       600.0       600.0       600.0       600.0   \n",
       "700000040258       600.0       600.0       600.0       600.0       600.0   \n",
       "700000040359       600.0       600.0       600.0       600.0       600.0   \n",
       "700000040460       600.0       600.0       600.0       600.0       600.0   \n",
       "700000040561       600.0       600.0       600.0       600.0        24.0   \n",
       "\n",
       "              recency_MP  recency_QC  recency_RE  recency_RF  recency_S1  \\\n",
       "cact                                                                       \n",
       "700000040056       600.0       600.0       600.0       600.0         5.0   \n",
       "700000040258       600.0       600.0       600.0       600.0        13.0   \n",
       "700000040359       600.0       600.0       600.0       600.0       600.0   \n",
       "700000040460       600.0       600.0       600.0       600.0       600.0   \n",
       "700000040561       600.0       600.0       600.0       600.0       600.0   \n",
       "\n",
       "              recency_S2  recency_S4  recency_TP  recency_W1  recency_WO  \\\n",
       "cact                                                                       \n",
       "700000040056       600.0       600.0       600.0       600.0       600.0   \n",
       "700000040258       600.0       600.0       600.0       600.0       600.0   \n",
       "700000040359       600.0       600.0       600.0       600.0       600.0   \n",
       "700000040460       600.0       600.0       600.0       600.0       600.0   \n",
       "700000040561       600.0       600.0       600.0       600.0       600.0   \n",
       "\n",
       "              recency_WT  \n",
       "cact                      \n",
       "700000040056       600.0  \n",
       "700000040258       600.0  \n",
       "700000040359       600.0  \n",
       "700000040460       600.0  \n",
       "700000040561       600.0  "
      ]
     },
     "execution_count": 48,
     "metadata": {},
     "output_type": "execute_result"
    }
   ],
   "source": [
    "payment_recency=df.pivot(index='cact', columns='pymt_type', values='pymt_type_recency')\n",
    "payment_recency.columns=['recency_'+str(col) for col in payment_recency.columns]\n",
    "payment_recency.fillna(600, inplace=True)\n",
    "\n",
    "payment_recency.head()"
   ]
  },
  {
   "cell_type": "code",
   "execution_count": 49,
   "id": "1386aa06-728c-4775-962e-a70f401538c1",
   "metadata": {
    "tags": []
   },
   "outputs": [],
   "source": [
    "dfs=[payment_30, payment_60, payment_90, payment_180, payment_360, payment_recency]\n",
    "df=reduce(lambda left, right: pd.merge(left, right, on='cact', how='outer'), dfs)"
   ]
  },
  {
   "cell_type": "code",
   "execution_count": 50,
   "id": "6b939104-9939-4d55-9647-1910cff1e652",
   "metadata": {
    "tags": []
   },
   "outputs": [],
   "source": [
    "df['cact']=df.index"
   ]
  },
  {
   "cell_type": "code",
   "execution_count": 51,
   "id": "61297eb6-0e58-4849-b8ce-76bfa0e194e2",
   "metadata": {
    "tags": []
   },
   "outputs": [
    {
     "name": "stdout",
     "output_type": "stream",
     "text": [
      "<class 'pandas.core.frame.DataFrame'>\n",
      "Index: 6248097 entries, 700000040056 to 701002938416\n",
      "Columns: 186 entries, count_AM_30 to cact\n",
      "dtypes: float64(185), object(1)\n",
      "memory usage: 8.7+ GB\n"
     ]
    }
   ],
   "source": [
    "df.info()"
   ]
  },
  {
   "cell_type": "code",
   "execution_count": 52,
   "id": "e54c2c50-aa96-4c09-9eaa-b97bb5e43923",
   "metadata": {
    "tags": []
   },
   "outputs": [],
   "source": [
    "df.to_csv(str(path_name)+str('/payment_type.csv'), index=False)"
   ]
  },
  {
   "cell_type": "code",
   "execution_count": 53,
   "id": "4eaf0f9a-53f0-4340-a0ee-002a454bb09b",
   "metadata": {},
   "outputs": [],
   "source": [
    "del payment_30, payment_60, payment_90, payment_180, payment_360, payment_recency"
   ]
  },
  {
   "cell_type": "markdown",
   "id": "945261a4-a0b6-4eda-9dbc-a527678ee8a8",
   "metadata": {},
   "source": [
    "#### 1.7 - No delayed bills. Bills sent within last 45 days\n",
    "* This step needs a RAM of 32GB-120GB. "
   ]
  },
  {
   "cell_type": "code",
   "execution_count": 54,
   "id": "0d026717-77bd-4f0d-9115-90babffb5ed1",
   "metadata": {
    "tags": []
   },
   "outputs": [],
   "source": [
    "notification_query = '''\n",
    "DO BEGIN \n",
    "DECLARE cutoff_date DATE = current_date;\n",
    "\n",
    "   SELECT t2.\"0CACONT_ACC\" AS CACT, \n",
    "      max(to_date(t2.\"0PSTNG_DATE___T\")) AS LAST_INV_DATE,\n",
    "      max(to_date(t2.\"0NETDUEDATE___T\")) AS BILL_DUE_DATE, \n",
    "      min(days_between(to_date(t2.\"0PSTNG_DATE___T\"), cutoff_date)) as recency_invoice_min, \n",
    "      min(days_between(to_date(t2.\"0NETDUEDATE___T\"), cutoff_date)) as recency_due_min, \n",
    "      max(days_between(to_date(t2.\"0PSTNG_DATE___T\"), cutoff_date)) as recency_invoice_max, \n",
    "      max(days_between(to_date(t2.\"0NETDUEDATE___T\"), cutoff_date)) as recency_due_max, \n",
    "      count(distinct to_date(t2.\"0PSTNG_DATE___T\")) as invoice_count, \n",
    "      count(distinct to_date(t2.\"0NETDUEDATE___T\")) as due_count \n",
    "      FROM _SYS_BIC.\"system-local.bw.bw2hana/ZFI_A026\" t2\n",
    "      WHERE to_date(to_date(t2.\"0PSTNG_DATE___T\")) between add_days(cutoff_date, -45) and add_days(cutoff_date, -1)\n",
    "      group by t2.\"0CACONT_ACC\";\n",
    "end; \n",
    "'''"
   ]
  },
  {
   "cell_type": "code",
   "execution_count": 55,
   "id": "9e3242b5-fd67-4ef9-941a-d9c2b1478976",
   "metadata": {
    "tags": []
   },
   "outputs": [],
   "source": [
    "try: \n",
    "    ret=cursor_prod.execute(notification_query) \n",
    "    ret=cursor_prod.fetchall() \n",
    "    headers = [i[0] for i in cursor_prod.description]\n",
    "    #print(headers)\n",
    "    #for row in ret:\n",
    "        #print(row)\n",
    "except Exception as ex: \n",
    "    print(ex) "
   ]
  },
  {
   "cell_type": "code",
   "execution_count": 56,
   "id": "45b5e790-3209-4e76-af01-6a13c5c60963",
   "metadata": {
    "tags": []
   },
   "outputs": [
    {
     "name": "stdout",
     "output_type": "stream",
     "text": [
      "(5270962, 9)\n"
     ]
    },
    {
     "data": {
      "text/html": [
       "<div>\n",
       "<style scoped>\n",
       "    .dataframe tbody tr th:only-of-type {\n",
       "        vertical-align: middle;\n",
       "    }\n",
       "\n",
       "    .dataframe tbody tr th {\n",
       "        vertical-align: top;\n",
       "    }\n",
       "\n",
       "    .dataframe thead th {\n",
       "        text-align: right;\n",
       "    }\n",
       "</style>\n",
       "<table border=\"1\" class=\"dataframe\">\n",
       "  <thead>\n",
       "    <tr style=\"text-align: right;\">\n",
       "      <th></th>\n",
       "      <th>cact</th>\n",
       "      <th>LAST_INV_DATE</th>\n",
       "      <th>BILL_DUE_DATE</th>\n",
       "      <th>recency_invoice_min</th>\n",
       "      <th>recency_due_min</th>\n",
       "      <th>recency_invoice_max</th>\n",
       "      <th>recency_due_max</th>\n",
       "      <th>invoice_count</th>\n",
       "      <th>due_count</th>\n",
       "    </tr>\n",
       "  </thead>\n",
       "  <tbody>\n",
       "    <tr>\n",
       "      <th>0</th>\n",
       "      <td>700574178410</td>\n",
       "      <td>2025-08-28</td>\n",
       "      <td>2025-09-17</td>\n",
       "      <td>11</td>\n",
       "      <td>-9</td>\n",
       "      <td>40</td>\n",
       "      <td>33</td>\n",
       "      <td>5</td>\n",
       "      <td>4</td>\n",
       "    </tr>\n",
       "    <tr>\n",
       "      <th>1</th>\n",
       "      <td>700462024986</td>\n",
       "      <td>2025-08-25</td>\n",
       "      <td>2027-08-10</td>\n",
       "      <td>14</td>\n",
       "      <td>-701</td>\n",
       "      <td>24</td>\n",
       "      <td>21</td>\n",
       "      <td>3</td>\n",
       "      <td>45</td>\n",
       "    </tr>\n",
       "    <tr>\n",
       "      <th>2</th>\n",
       "      <td>700235373675</td>\n",
       "      <td>2025-08-27</td>\n",
       "      <td>2025-09-16</td>\n",
       "      <td>12</td>\n",
       "      <td>-8</td>\n",
       "      <td>40</td>\n",
       "      <td>20</td>\n",
       "      <td>2</td>\n",
       "      <td>2</td>\n",
       "    </tr>\n",
       "    <tr>\n",
       "      <th>3</th>\n",
       "      <td>700592183832</td>\n",
       "      <td>2025-08-15</td>\n",
       "      <td>2025-08-15</td>\n",
       "      <td>24</td>\n",
       "      <td>24</td>\n",
       "      <td>24</td>\n",
       "      <td>24</td>\n",
       "      <td>1</td>\n",
       "      <td>1</td>\n",
       "    </tr>\n",
       "    <tr>\n",
       "      <th>4</th>\n",
       "      <td>700776670152</td>\n",
       "      <td>2025-08-12</td>\n",
       "      <td>2025-09-02</td>\n",
       "      <td>27</td>\n",
       "      <td>6</td>\n",
       "      <td>27</td>\n",
       "      <td>6</td>\n",
       "      <td>1</td>\n",
       "      <td>1</td>\n",
       "    </tr>\n",
       "  </tbody>\n",
       "</table>\n",
       "</div>"
      ],
      "text/plain": [
       "           cact LAST_INV_DATE BILL_DUE_DATE  recency_invoice_min  \\\n",
       "0  700574178410    2025-08-28    2025-09-17                   11   \n",
       "1  700462024986    2025-08-25    2027-08-10                   14   \n",
       "2  700235373675    2025-08-27    2025-09-16                   12   \n",
       "3  700592183832    2025-08-15    2025-08-15                   24   \n",
       "4  700776670152    2025-08-12    2025-09-02                   27   \n",
       "\n",
       "   recency_due_min  recency_invoice_max  recency_due_max  invoice_count  \\\n",
       "0               -9                   40               33              5   \n",
       "1             -701                   24               21              3   \n",
       "2               -8                   40               20              2   \n",
       "3               24                   24               24              1   \n",
       "4                6                   27                6              1   \n",
       "\n",
       "   due_count  \n",
       "0          4  \n",
       "1         45  \n",
       "2          2  \n",
       "3          1  \n",
       "4          1  "
      ]
     },
     "execution_count": 56,
     "metadata": {},
     "output_type": "execute_result"
    }
   ],
   "source": [
    "last_invoice=pd.DataFrame(ret)\n",
    "last_invoice.columns=['cact', 'LAST_INV_DATE', 'BILL_DUE_DATE', 'recency_invoice_min', 'recency_due_min',\n",
    "                     'recency_invoice_max', 'recency_due_max', 'invoice_count', 'due_count']\n",
    "print(last_invoice.shape)\n",
    "last_invoice.head()"
   ]
  },
  {
   "cell_type": "code",
   "execution_count": 57,
   "id": "e370a29a-8b2c-4fc6-98a1-84ce63b66cae",
   "metadata": {
    "tags": []
   },
   "outputs": [],
   "source": [
    "last_invoice.to_csv(str(path_name)+str('/last_invoice.csv'), index=False)"
   ]
  },
  {
   "cell_type": "markdown",
   "id": "c5d01b4b-5f1e-4652-8322-0661ac1fd64b",
   "metadata": {},
   "source": [
    "#### 1.8 - arrears\n",
    "* We were not able to identify the date column for pulling historical data. "
   ]
  },
  {
   "cell_type": "code",
   "execution_count": 58,
   "id": "02f1949a-fb6a-49f1-9b4d-9088003cc5bf",
   "metadata": {},
   "outputs": [],
   "source": [
    "notification_query = '''\n",
    "   SELECT\n",
    "               Table__1.\"0CACONT_ACC\" as CACT,\n",
    "               Table__1.\"CC_OUTSTANDING_RANGES\",\n",
    "               SUM(Table__1.\"CC_CURRENT_BALANCE\")\n",
    "             FROM\n",
    "               \"_SYS_BIC\".\"sce.cs.cc.core/CV_ACTIVE_ACCOUNTS_DATA\"  Table__1\n",
    "               WHERE Table__1.\"0CACONT_ACC\"  >= '700500000000'\n",
    "             GROUP BY\n",
    "               Table__1.\"0CACONT_ACC\", \n",
    "               Table__1.\"CC_OUTSTANDING_RANGES\"\n",
    "             HAVING\n",
    "               SUM(Table__1.\"CC_CURRENT_BALANCE\")  >  0\n",
    "'''"
   ]
  },
  {
   "cell_type": "markdown",
   "id": "5c87f049-377b-460b-9d0d-95bae9dea899",
   "metadata": {},
   "source": [
    "#### 1.9 - enrollment after the cutoff data and optout after that \n",
    "* Enrollment within 30 days after the cutoff date is defined as y. \n",
    "* These customers will be removed from y (enrollment) for modeling."
   ]
  },
  {
   "cell_type": "code",
   "execution_count": 59,
   "id": "80f62379-134f-4ec6-b36a-faa83210a564",
   "metadata": {},
   "outputs": [],
   "source": [
    "notification_query = '''\n",
    "DO BEGIN \n",
    "DECLARE cutoff_date DATE = current_date;\n",
    "\n",
    "\n",
    "select a.cact, \n",
    "       a.enroll_date,\n",
    "       min(to_date(b.ZUDATE___T)) as output_date, \n",
    "       min(case when b.ZUDATE___T is not null then days_between(a.enroll_date, to_date(b.ZUDATE___T)) else null end) as optout_recency     \n",
    "    from \n",
    "     (SELECT ZOBJTID as cact,\n",
    "                   min(to_date(ZUDATE___T)) as enroll_date\n",
    "            FROM _SYS_BIC.\"sce.cs.cc.core/CV_CDPOS_CDHDR\"            \n",
    "            WHERE ZVALUENEW = 'EBIL'\n",
    "              and to_date(ZUDATE___T) between cutoff_date and add_days(cutoff_date, 30)\n",
    "            group by ZOBJTID) a\n",
    "    left join   \n",
    "      _SYS_BIC.\"sce.cs.cc.core/CV_CDPOS_CDHDR\" b\n",
    "       on a.cact=b.ZOBJTID\n",
    "       and b.ZVALUEOLD = 'EBIL'\n",
    "       and to_date(b.ZUDATE___T) >= cutoff_date\n",
    "  group by a.cact, \n",
    "       a.enroll_date;\n",
    "end; \n",
    "'''\n",
    "\n",
    "try: \n",
    "    ret=cursor_prod.execute(notification_query) \n",
    "    ret=cursor_prod.fetchall() \n",
    "    headers = [i[0] for i in cursor_prod.description]\n",
    "except Exception as ex: \n",
    "    print(ex) "
   ]
  },
  {
   "cell_type": "code",
   "execution_count": 60,
   "id": "2b100f14-c511-4ebe-878b-f607f86ca519",
   "metadata": {},
   "outputs": [],
   "source": [
    "try: \n",
    "    ret=cursor_prod.execute(notification_query) \n",
    "    ret=cursor_prod.fetchall() \n",
    "    headers = [i[0] for i in cursor_prod.description]\n",
    "    #print(headers)\n",
    "    #for row in ret:\n",
    "        #print(row)\n",
    "except Exception as ex: \n",
    "    print(ex) "
   ]
  },
  {
   "cell_type": "code",
   "execution_count": 61,
   "id": "3d31dc8c-09e8-41c6-8393-3bc14a4b6fd2",
   "metadata": {},
   "outputs": [
    {
     "name": "stdout",
     "output_type": "stream",
     "text": [
      "(2, 4)\n"
     ]
    },
    {
     "data": {
      "text/html": [
       "<div>\n",
       "<style scoped>\n",
       "    .dataframe tbody tr th:only-of-type {\n",
       "        vertical-align: middle;\n",
       "    }\n",
       "\n",
       "    .dataframe tbody tr th {\n",
       "        vertical-align: top;\n",
       "    }\n",
       "\n",
       "    .dataframe thead th {\n",
       "        text-align: right;\n",
       "    }\n",
       "</style>\n",
       "<table border=\"1\" class=\"dataframe\">\n",
       "  <thead>\n",
       "    <tr style=\"text-align: right;\">\n",
       "      <th></th>\n",
       "      <th>cact</th>\n",
       "      <th>enroll_date</th>\n",
       "      <th>optout_date</th>\n",
       "      <th>optout_recency</th>\n",
       "    </tr>\n",
       "  </thead>\n",
       "  <tbody>\n",
       "    <tr>\n",
       "      <th>0</th>\n",
       "      <td>700783035978</td>\n",
       "      <td>2025-09-08</td>\n",
       "      <td>2025-09-08</td>\n",
       "      <td>0.0</td>\n",
       "    </tr>\n",
       "    <tr>\n",
       "      <th>1</th>\n",
       "      <td>700994566811</td>\n",
       "      <td>2025-09-08</td>\n",
       "      <td>None</td>\n",
       "      <td>NaN</td>\n",
       "    </tr>\n",
       "  </tbody>\n",
       "</table>\n",
       "</div>"
      ],
      "text/plain": [
       "           cact enroll_date optout_date  optout_recency\n",
       "0  700783035978  2025-09-08  2025-09-08             0.0\n",
       "1  700994566811  2025-09-08        None             NaN"
      ]
     },
     "execution_count": 61,
     "metadata": {},
     "output_type": "execute_result"
    }
   ],
   "source": [
    "enrollment=pd.DataFrame(ret)\n",
    "enrollment.columns=['cact', 'enroll_date', 'optout_date', 'optout_recency']\n",
    "print(enrollment.shape)\n",
    "enrollment.head()"
   ]
  },
  {
   "cell_type": "code",
   "execution_count": 62,
   "id": "5800bbd8-5845-4766-a742-061dc21a9de8",
   "metadata": {},
   "outputs": [
    {
     "data": {
      "text/plain": [
       "cact              0\n",
       "enroll_date       0\n",
       "optout_date       1\n",
       "optout_recency    1\n",
       "dtype: int64"
      ]
     },
     "execution_count": 62,
     "metadata": {},
     "output_type": "execute_result"
    }
   ],
   "source": [
    "enrollment.isnull().sum()"
   ]
  },
  {
   "cell_type": "code",
   "execution_count": 63,
   "id": "2939e93d-4e1a-492c-a8b2-11a6635ebad1",
   "metadata": {
    "tags": []
   },
   "outputs": [
    {
     "data": {
      "image/png": "[encoded data removed]",
      "text/plain": [
       "<Figure size 1000x600 with 1 Axes>"
      ]
     },
     "metadata": {},
     "output_type": "display_data"
    }
   ],
   "source": [
    "check_enrollment=enrollment[enrollment['optout_recency'] >= 0]\n",
    "\n",
    "\n",
    "sns.set(style=\"whitegrid\")\n",
    "\n",
    "# Create a histogram using seaborn\n",
    "plt.figure(figsize=(10, 6))\n",
    "sns.histplot(check_enrollment['optout_recency'], bins=10, kde=False, color='blue')\n",
    "\n",
    "# Add labels and title\n",
    "plt.xlabel('Values')\n",
    "plt.ylabel('Frequency')\n",
    "plt.title('Optout Recency')\n",
    "\n",
    "# Show the plot\n",
    "plt.show()"
   ]
  },
  {
   "cell_type": "code",
   "execution_count": 64,
   "id": "6d215c83-360f-409a-ac9d-2dfed4362a5f",
   "metadata": {},
   "outputs": [
    {
     "name": "stderr",
     "output_type": "stream",
     "text": [
      "/var/tmp/ipykernel_6008/2429460206.py:1: FutureWarning: A value is trying to be set on a copy of a DataFrame or Series through chained assignment using an inplace method.\n",
      "The behavior will change in pandas 3.0. This inplace method will never work because the intermediate object on which we are setting values always behaves as a copy.\n",
      "\n",
      "For example, when doing 'df[col].method(value, inplace=True)', try using 'df.method({col: value}, inplace=True)' or df[col] = df[col].method(value) instead, to perform the operation inplace on the original object.\n",
      "\n",
      "\n",
      "  enrollment['optout_recency'].fillna(-10, inplace=True)\n"
     ]
    },
    {
     "data": {
      "image/png": "[encoded data removed]",
      "text/plain": [
       "<Figure size 640x480 with 1 Axes>"
      ]
     },
     "metadata": {},
     "output_type": "display_data"
    }
   ],
   "source": [
    "enrollment['optout_recency'].fillna(-10, inplace=True)\n",
    "group1 = enrollment[enrollment['optout_recency'] < 0]['optout_recency']\n",
    "group2 = enrollment[enrollment['optout_recency'] >= 0]['optout_recency']\n",
    "\n",
    "# Plot histogram with different colors for each group\n",
    "plt.hist([group1, group2], bins=10, stacked=True, color=['blue', 'orange'], label=['Not Opt Out', 'Opt Out'])\n",
    "plt.xlabel('Opt Out Recency')\n",
    "plt.ylabel('# Accounts')\n",
    "plt.title('Opt-out Recency for E-Bill Enrolled Customers')\n",
    "plt.legend()\n",
    "plt.grid(True)\n",
    "plt.tight_layout()\n",
    "plt.show()\n"
   ]
  },
  {
   "cell_type": "code",
   "execution_count": 65,
   "id": "3e3641fc-2d63-4e45-9bfa-4844e8bf3d88",
   "metadata": {
    "tags": []
   },
   "outputs": [
    {
     "name": "stdout",
     "output_type": "stream",
     "text": [
      "   optout_recency_tier  record count  record pct\n",
      "0          a.no optout             1         0.5\n",
      "1  b1.optout 1-30 days             1         0.5\n"
     ]
    },
    {
     "data": {
      "image/png": "[encoded data removed]",
      "text/plain": [
       "<Figure size 800x500 with 1 Axes>"
      ]
     },
     "metadata": {},
     "output_type": "display_data"
    }
   ],
   "source": [
    "def assign_tier(optout_recency):\n",
    "    if optout_recency < 0:\n",
    "        return 'a.no optout'\n",
    "    elif optout_recency < 30:\n",
    "        return 'b1.optout 1-30 days'\n",
    "    elif optout_recency < 60: \n",
    "        return 'b2.optout 31-60 days'\n",
    "    elif optout_recency < 90: \n",
    "        return 'b3.optout 61-90 days'\n",
    "    elif optout_recency < 180: \n",
    "        return 'b4.optout 91-180 days'\n",
    "    else: \n",
    "        return 'b5.optout 180+ days'\n",
    "    \n",
    "enrollment['optout_recency_tier']=enrollment['optout_recency'].apply(assign_tier)\n",
    "sum_tier=enrollment.groupby('optout_recency_tier').size().reset_index()\n",
    "sum_tier.columns=['optout_recency_tier', 'record count']\n",
    "\n",
    "sum_tier['record pct']=sum_tier['record count']/len(enrollment)\n",
    "print(sum_tier)\n",
    "\n",
    "# categories=['no optout', 'optout 1-30 days', 'optout 31-60 days', 'optout 61-90 days', 'optout 91-180 days',  'optout 180+ days']\n",
    "categories=['no optout', 'optout 1-30 days']\n",
    "wrapped_labels = [label.replace(\"optout\", \"optout\\n\") for label in categories]\n",
    "colors=['blue']+['green']*(len(categories)-1)\n",
    "\n",
    "# Create the bar chart\n",
    "plt.figure(figsize=(8, 5))\n",
    "#plt.bar(sum_tier['optout_recency_tier'], sum_tier['record pct'], color='skyblue')\n",
    "plt.bar(wrapped_labels, sum_tier['record pct'], color=colors)\n",
    "plt.xlabel('Opt Out after E-Bill Enrollment')\n",
    "plt.ylabel('% Customers')\n",
    "plt.gca().yaxis.set_major_formatter(PercentFormatter(1.0))\n",
    "plt.xticks(rotation=0, fontsize=8)\n",
    "plt.title('E-Bill Enrollment & Opt Out Later', fontsize=20)\n",
    "plt.grid(axis='y', linestyle='--', alpha=0.7)"
   ]
  },
  {
   "cell_type": "code",
   "execution_count": 66,
   "id": "c9d1277e-80d2-47b4-87fc-ab66625094d2",
   "metadata": {
    "tags": []
   },
   "outputs": [],
   "source": [
    "enrollment.to_csv(str(path_name)+str('/enrollment.csv'), index=False)"
   ]
  },
  {
   "cell_type": "markdown",
   "id": "14b8282c-6dee-4278-a510-abbcef324e90",
   "metadata": {},
   "source": [
    "## 2 - Extract data from Snowflake\n",
    "* We need to pull data by segment due to limited computing power in both Snowflake and GCP. \n",
    "* The segmented data will be merged later. "
   ]
  },
  {
   "cell_type": "markdown",
   "id": "5bd14746-f9a6-4575-b893-9267da3293b2",
   "metadata": {},
   "source": [
    "#### 2.1.1 - ContractAccount Level count variable"
   ]
  },
  {
   "cell_type": "code",
   "execution_count": 67,
   "id": "8bf5c042-77d4-4f07-9b16-eb8d9324c6b1",
   "metadata": {
    "tags": []
   },
   "outputs": [
    {
     "name": "stdout",
     "output_type": "stream",
     "text": [
      "Connection successful.\n",
      "<class 'pandas.core.frame.DataFrame'>\n",
      "RangeIndex: 6810284 entries, 0 to 6810283\n",
      "Data columns (total 31 columns):\n",
      " #   Column            Dtype  \n",
      "---  ------            -----  \n",
      " 0   cact              object \n",
      " 1   inpl_ca_ct_30d    float64\n",
      " 2   invce_ca_ct_30d   float64\n",
      " 3   lock_ca_ct_30d    float64\n",
      " 4   pcomm_ca_ct_30d   float64\n",
      " 5   pred_ca_ct_30d    float64\n",
      " 6   pymt_ca_ct_30d    float64\n",
      " 7   inpl_ca_ct_60d    float64\n",
      " 8   invce_ca_ct_60d   float64\n",
      " 9   lock_ca_ct_60d    float64\n",
      " 10  pcomm_ca_ct_60d   float64\n",
      " 11  pred_ca_ct_60d    float64\n",
      " 12  pymt_ca_ct_60d    float64\n",
      " 13  inpl_ca_ct_90d    float64\n",
      " 14  invce_ca_ct_90d   float64\n",
      " 15  lock_ca_ct_90d    float64\n",
      " 16  pcomm_ca_ct_90d   float64\n",
      " 17  pred_ca_ct_90d    float64\n",
      " 18  pymt_ca_ct_90d    float64\n",
      " 19  inpl_ca_ct_180d   float64\n",
      " 20  invce_ca_ct_180d  float64\n",
      " 21  lock_ca_ct_180d   float64\n",
      " 22  pcomm_ca_ct_180d  float64\n",
      " 23  pred_ca_ct_180d   float64\n",
      " 24  pymt_ca_ct_180d   float64\n",
      " 25  inpl_ca_ct_360d   float64\n",
      " 26  invce_ca_ct_360d  float64\n",
      " 27  lock_ca_ct_360d   float64\n",
      " 28  pcomm_ca_ct_360d  float64\n",
      " 29  pred_ca_ct_360d   float64\n",
      " 30  pymt_ca_ct_360d   float64\n",
      "dtypes: float64(30), object(1)\n",
      "memory usage: 1.6+ GB\n"
     ]
    }
   ],
   "source": [
    "PROJECT_ID = \"sceg-d-prj-dxg-002\" # repoint to sandbox environment\n",
    "vertexai.init(project=PROJECT_ID, location=\"us-central1\")\n",
    "fid_secret_string = access_secret_version(PROJECT_ID, \"fid_cred\")\n",
    "# Load functional id credentials from the secret JSON string\n",
    "functional_id_info = json.loads(fid_secret_string)\n",
    "# Extract the absolute path to the key file from the JSON\n",
    "fid_key_path = \"/tmp/fid_key.json\"  # Create a temporary file path in the container\n",
    "with open(fid_key_path, \"w\") as f:\n",
    "    json.dump(functional_id_info, f)\n",
    "# SNOWPARK SESSION CONNECTOR\n",
    "# Define your Snowflake connection parameters\n",
    "connection_parameters = {\n",
    "    \"account\": \"edwsce.west-us-2.azure\",\n",
    "    \"user\": functional_id_info[\"FID_USER\"],\n",
    "    \"password\": functional_id_info[\"FID_PASS\"],\n",
    "    \"authenticator\": \"https://eix.okta.com\",\n",
    "    \"warehouse\": \"PROD_IT_CS_CNSMPADHOCWH13\",\n",
    "    \"database\": \"PROD_IT_SS\",\n",
    "    \"schema\": \"IT_DPT_SS\"\n",
    "}\n",
    "max_retries = 3\n",
    "retry_count = 0\n",
    "while retry_count < max_retries:\n",
    "    try:\n",
    "        # Create a Snowpark session\n",
    "        session = Session.builder.configs(connection_parameters).create()\n",
    "        print(\"Connection successful.\")\n",
    "        # log print      \n",
    "        #log_message(f'Snowpark Snowflake connection successful, reading transcripts.', log_file_name, bucket_name, log_folder)\n",
    "        break\n",
    "    except Exception as e:\n",
    "        retry_count += 1\n",
    "        print(f\"Snowflake connection failed: {e}\")\n",
    "        if retry_count < max_retries:\n",
    "            print(f\"Retrying {retry_count}/{max_retries}...\")\n",
    "            time.sleep(3)  # Wait for 3 seconds before retrying\n",
    "        else:\n",
    "            print(\"Max retries reached. Exiting.\")\n",
    "            # log print      \n",
    "            #log_message(f'Snowpark Snowflake connection failed.', log_file_name, bucket_name, log_folder)\n",
    "\n",
    "sql_query = f\"\"\"\n",
    "select e.ev_obj_nbr as cact, * from \n",
    "(select * from\n",
    "(select EV_OBJ, ev_obj_nbr, concat(ev_type, '_CA_CT_30D') as event_type, count(*) as ev_type_count\n",
    "from PROD_CS_SS.CS_CSOD_BIC_SS.CS_EVENTS \n",
    "where ev_obj='CONTRACT_ACCT' and ev_obj_nbr > 0\n",
    "  and to_date(EV_TYPE_VAL_DT_1) between DATEADD(day, -31, current_date) and DATEADD(day, -1, current_date)\n",
    "group by EV_OBJ, ev_obj_nbr, concat(ev_type, '_CA_CT_30D')\n",
    "order by EV_OBJ, ev_obj_nbr, concat(ev_type, '_CA_CT_30D')\n",
    ")\n",
    "PIVOT (max(ev_type_count) for event_type in (\n",
    "    select distinct concat(ev_type, '_CA_CT_30D')\n",
    "    from PROD_CS_SS.CS_CSOD_BIC_SS.CS_EVENTS\n",
    "    where ev_obj='CONTRACT_ACCT' \n",
    "      and EV_TYPE_VAL_DT_1 between DATEADD(day, -31, current_date) and DATEADD(day, -1, current_date))\n",
    ")) a\n",
    "full outer join\n",
    "(select * from\n",
    "(select EV_OBJ, ev_obj_nbr, concat(ev_type, '_CA_CT_60D') as event_type, count(*) as ev_type_count\n",
    "from PROD_CS_SS.CS_CSOD_BIC_SS.CS_EVENTS \n",
    "where ev_obj='CONTRACT_ACCT' and ev_obj_nbr > 0\n",
    "  and to_date(EV_TYPE_VAL_DT_1) between DATEADD(day, -61, current_date) and DATEADD(day, -1, current_date)\n",
    "group by EV_OBJ, ev_obj_nbr, concat(ev_type, '_CA_CT_60D')\n",
    "order by EV_OBJ, ev_obj_nbr, concat(ev_type, '_CA_CT_60D')\n",
    ")\n",
    "PIVOT (max(ev_type_count) for event_type in (\n",
    "    select distinct concat(ev_type, '_CA_CT_60D')\n",
    "    from PROD_CS_SS.CS_CSOD_BIC_SS.CS_EVENTS\n",
    "    where ev_obj='CONTRACT_ACCT' \n",
    "      and to_date(EV_TYPE_VAL_DT_1) between DATEADD(day, -61, current_date) and DATEADD(day, -1, current_date))\n",
    ")) b\n",
    "on a.ev_obj_nbr=b.ev_obj_nbr\n",
    "full outer join\n",
    "(select * from\n",
    "(select EV_OBJ, ev_obj_nbr, concat(ev_type, '_CA_CT_90D') as event_type, count(*) as ev_type_count\n",
    "from PROD_CS_SS.CS_CSOD_BIC_SS.CS_EVENTS \n",
    "where ev_obj='CONTRACT_ACCT'  and ev_obj_nbr > 0\n",
    "  and to_date(EV_TYPE_VAL_DT_1) between DATEADD(day, -91, current_date) and DATEADD(day, -1, current_date)\n",
    "group by EV_OBJ, ev_obj_nbr, concat(ev_type, '_CA_CT_90D')\n",
    "order by EV_OBJ, ev_obj_nbr, concat(ev_type, '_CA_CT_90D')\n",
    ")\n",
    "PIVOT (max(ev_type_count) for event_type in (\n",
    "    select distinct concat(ev_type, '_CA_CT_90D')\n",
    "    from PROD_CS_SS.CS_CSOD_BIC_SS.CS_EVENTS\n",
    "    where ev_obj='CONTRACT_ACCT' \n",
    "      and to_date(EV_TYPE_VAL_DT_1) between DATEADD(day, -91, current_date) and DATEADD(day, -1, current_date))\n",
    ")) c\n",
    "on a.ev_obj_nbr=c.ev_obj_nbr\n",
    "full outer join \n",
    "(select * from\n",
    "(select EV_OBJ, ev_obj_nbr, concat(ev_type, '_CA_CT_180D') as event_type, count(*) as ev_type_count\n",
    "from PROD_CS_SS.CS_CSOD_BIC_SS.CS_EVENTS \n",
    "where ev_obj='CONTRACT_ACCT' and ev_obj_nbr > 0\n",
    "  and to_date(EV_TYPE_VAL_DT_1) between DATEADD(day, -181, current_date) and DATEADD(day, -1, current_date)\n",
    "group by EV_OBJ, ev_obj_nbr, concat(ev_type, '_CA_CT_180D')\n",
    "order by EV_OBJ, ev_obj_nbr, concat(ev_type, '_CA_CT_180D')\n",
    ")\n",
    "PIVOT (max(ev_type_count) for event_type in (\n",
    "    select distinct concat(ev_type, '_CA_CT_180D')\n",
    "    from PROD_CS_SS.CS_CSOD_BIC_SS.CS_EVENTS\n",
    "    where ev_obj='CONTRACT_ACCT' \n",
    "      and EV_TYPE_VAL_DT_1 between DATEADD(day, -181, current_date) and DATEADD(day, -1, current_date))\n",
    ")) d\n",
    "on a.ev_obj_nbr=d.ev_obj_nbr\n",
    "full outer join\n",
    "(select * from\n",
    "(select EV_OBJ, ev_obj_nbr, concat(ev_type, '_CA_CT_360D') as event_type, count(*) as ev_type_count\n",
    "from PROD_CS_SS.CS_CSOD_BIC_SS.CS_EVENTS \n",
    "where ev_obj='CONTRACT_ACCT' and ev_obj_nbr > 0\n",
    "  and to_date(EV_TYPE_VAL_DT_1) between DATEADD(day, -361, current_date) and DATEADD(day, -1, current_date)\n",
    "group by EV_OBJ, ev_obj_nbr, concat(ev_type, '_CA_CT_360D')\n",
    "order by EV_OBJ, ev_obj_nbr, concat(ev_type, '_CA_CT_360D')\n",
    ")\n",
    "PIVOT (max(ev_type_count) for event_type in (\n",
    "    select distinct concat(ev_type, '_CA_CT_360D')\n",
    "    from PROD_CS_SS.CS_CSOD_BIC_SS.CS_EVENTS\n",
    "    where ev_obj='CONTRACT_ACCT' \n",
    "      and to_date(EV_TYPE_VAL_DT_1) between DATEADD(day, -361, current_date) and DATEADD(day, -1, current_date))\n",
    ")) e\n",
    "on a.ev_obj_nbr=e.ev_obj_nbr\n",
    "where e.ev_obj_nbr > 0\n",
    "\n",
    "\"\"\"\n",
    "\n",
    "# Execute the query and collect the result\n",
    "snow_input = session.sql(sql_query).collect()\n",
    "# Convert the result to a pandas DataFrame\n",
    "df = pd.DataFrame(snow_input)\n",
    "df.columns = df.columns.str.replace(\"'\", '')\n",
    "df=df.drop(columns=[col for col in df.columns if col.startswith('EV_OBJ')])\n",
    "df.columns = df.columns.str.lower()\n",
    "df.info()"
   ]
  },
  {
   "cell_type": "code",
   "execution_count": 68,
   "id": "036f94a2-2bc4-4e25-821b-dd2f52f430fe",
   "metadata": {
    "tags": []
   },
   "outputs": [],
   "source": [
    "df.to_csv(str(path_name)+str('/CACT_event_ct.csv'), index=False)"
   ]
  },
  {
   "cell_type": "code",
   "execution_count": 69,
   "id": "d29ebbeb-90d3-46e3-8df7-bc49a27fcda5",
   "metadata": {
    "tags": []
   },
   "outputs": [
    {
     "data": {
      "text/html": [
       "<div>\n",
       "<style scoped>\n",
       "    .dataframe tbody tr th:only-of-type {\n",
       "        vertical-align: middle;\n",
       "    }\n",
       "\n",
       "    .dataframe tbody tr th {\n",
       "        vertical-align: top;\n",
       "    }\n",
       "\n",
       "    .dataframe thead th {\n",
       "        text-align: right;\n",
       "    }\n",
       "</style>\n",
       "<table border=\"1\" class=\"dataframe\">\n",
       "  <thead>\n",
       "    <tr style=\"text-align: right;\">\n",
       "      <th></th>\n",
       "      <th>cact</th>\n",
       "      <th>inpl_ca_ct_30d</th>\n",
       "      <th>invce_ca_ct_30d</th>\n",
       "      <th>lock_ca_ct_30d</th>\n",
       "      <th>pcomm_ca_ct_30d</th>\n",
       "      <th>pred_ca_ct_30d</th>\n",
       "      <th>pymt_ca_ct_30d</th>\n",
       "      <th>inpl_ca_ct_60d</th>\n",
       "      <th>invce_ca_ct_60d</th>\n",
       "      <th>lock_ca_ct_60d</th>\n",
       "      <th>pcomm_ca_ct_60d</th>\n",
       "      <th>pred_ca_ct_60d</th>\n",
       "      <th>pymt_ca_ct_60d</th>\n",
       "      <th>inpl_ca_ct_90d</th>\n",
       "      <th>invce_ca_ct_90d</th>\n",
       "      <th>lock_ca_ct_90d</th>\n",
       "      <th>pcomm_ca_ct_90d</th>\n",
       "      <th>pred_ca_ct_90d</th>\n",
       "      <th>pymt_ca_ct_90d</th>\n",
       "      <th>inpl_ca_ct_180d</th>\n",
       "      <th>invce_ca_ct_180d</th>\n",
       "      <th>lock_ca_ct_180d</th>\n",
       "      <th>pcomm_ca_ct_180d</th>\n",
       "      <th>pred_ca_ct_180d</th>\n",
       "      <th>pymt_ca_ct_180d</th>\n",
       "      <th>inpl_ca_ct_360d</th>\n",
       "      <th>invce_ca_ct_360d</th>\n",
       "      <th>lock_ca_ct_360d</th>\n",
       "      <th>pcomm_ca_ct_360d</th>\n",
       "      <th>pred_ca_ct_360d</th>\n",
       "      <th>pymt_ca_ct_360d</th>\n",
       "    </tr>\n",
       "  </thead>\n",
       "  <tbody>\n",
       "    <tr>\n",
       "      <th>0</th>\n",
       "      <td>700985017462</td>\n",
       "      <td>NaN</td>\n",
       "      <td>1.0</td>\n",
       "      <td>2.0</td>\n",
       "      <td>NaN</td>\n",
       "      <td>NaN</td>\n",
       "      <td>1.0</td>\n",
       "      <td>NaN</td>\n",
       "      <td>2.0</td>\n",
       "      <td>4.0</td>\n",
       "      <td>NaN</td>\n",
       "      <td>NaN</td>\n",
       "      <td>2.0</td>\n",
       "      <td>NaN</td>\n",
       "      <td>3.0</td>\n",
       "      <td>6.0</td>\n",
       "      <td>NaN</td>\n",
       "      <td>NaN</td>\n",
       "      <td>2.0</td>\n",
       "      <td>NaN</td>\n",
       "      <td>3.0</td>\n",
       "      <td>6.0</td>\n",
       "      <td>NaN</td>\n",
       "      <td>NaN</td>\n",
       "      <td>2.0</td>\n",
       "      <td>NaN</td>\n",
       "      <td>3.0</td>\n",
       "      <td>6.0</td>\n",
       "      <td>NaN</td>\n",
       "      <td>NaN</td>\n",
       "      <td>2.0</td>\n",
       "    </tr>\n",
       "    <tr>\n",
       "      <th>1</th>\n",
       "      <td>700985435774</td>\n",
       "      <td>NaN</td>\n",
       "      <td>1.0</td>\n",
       "      <td>1.0</td>\n",
       "      <td>NaN</td>\n",
       "      <td>NaN</td>\n",
       "      <td>NaN</td>\n",
       "      <td>NaN</td>\n",
       "      <td>2.0</td>\n",
       "      <td>3.0</td>\n",
       "      <td>NaN</td>\n",
       "      <td>NaN</td>\n",
       "      <td>2.0</td>\n",
       "      <td>NaN</td>\n",
       "      <td>3.0</td>\n",
       "      <td>4.0</td>\n",
       "      <td>NaN</td>\n",
       "      <td>NaN</td>\n",
       "      <td>2.0</td>\n",
       "      <td>NaN</td>\n",
       "      <td>3.0</td>\n",
       "      <td>4.0</td>\n",
       "      <td>NaN</td>\n",
       "      <td>NaN</td>\n",
       "      <td>2.0</td>\n",
       "      <td>NaN</td>\n",
       "      <td>3.0</td>\n",
       "      <td>4.0</td>\n",
       "      <td>NaN</td>\n",
       "      <td>NaN</td>\n",
       "      <td>2.0</td>\n",
       "    </tr>\n",
       "    <tr>\n",
       "      <th>2</th>\n",
       "      <td>700411237709</td>\n",
       "      <td>NaN</td>\n",
       "      <td>NaN</td>\n",
       "      <td>NaN</td>\n",
       "      <td>NaN</td>\n",
       "      <td>1.0</td>\n",
       "      <td>NaN</td>\n",
       "      <td>NaN</td>\n",
       "      <td>2.0</td>\n",
       "      <td>2.0</td>\n",
       "      <td>NaN</td>\n",
       "      <td>1.0</td>\n",
       "      <td>1.0</td>\n",
       "      <td>NaN</td>\n",
       "      <td>2.0</td>\n",
       "      <td>2.0</td>\n",
       "      <td>NaN</td>\n",
       "      <td>2.0</td>\n",
       "      <td>2.0</td>\n",
       "      <td>NaN</td>\n",
       "      <td>5.0</td>\n",
       "      <td>5.0</td>\n",
       "      <td>NaN</td>\n",
       "      <td>2.0</td>\n",
       "      <td>3.0</td>\n",
       "      <td>NaN</td>\n",
       "      <td>11.0</td>\n",
       "      <td>11.0</td>\n",
       "      <td>NaN</td>\n",
       "      <td>2.0</td>\n",
       "      <td>5.0</td>\n",
       "    </tr>\n",
       "    <tr>\n",
       "      <th>3</th>\n",
       "      <td>700579697912</td>\n",
       "      <td>NaN</td>\n",
       "      <td>1.0</td>\n",
       "      <td>1.0</td>\n",
       "      <td>NaN</td>\n",
       "      <td>NaN</td>\n",
       "      <td>1.0</td>\n",
       "      <td>NaN</td>\n",
       "      <td>2.0</td>\n",
       "      <td>2.0</td>\n",
       "      <td>NaN</td>\n",
       "      <td>NaN</td>\n",
       "      <td>2.0</td>\n",
       "      <td>NaN</td>\n",
       "      <td>3.0</td>\n",
       "      <td>3.0</td>\n",
       "      <td>NaN</td>\n",
       "      <td>NaN</td>\n",
       "      <td>3.0</td>\n",
       "      <td>NaN</td>\n",
       "      <td>6.0</td>\n",
       "      <td>7.0</td>\n",
       "      <td>NaN</td>\n",
       "      <td>NaN</td>\n",
       "      <td>5.0</td>\n",
       "      <td>NaN</td>\n",
       "      <td>12.0</td>\n",
       "      <td>14.0</td>\n",
       "      <td>NaN</td>\n",
       "      <td>NaN</td>\n",
       "      <td>10.0</td>\n",
       "    </tr>\n",
       "    <tr>\n",
       "      <th>4</th>\n",
       "      <td>700577911694</td>\n",
       "      <td>NaN</td>\n",
       "      <td>1.0</td>\n",
       "      <td>1.0</td>\n",
       "      <td>NaN</td>\n",
       "      <td>NaN</td>\n",
       "      <td>1.0</td>\n",
       "      <td>NaN</td>\n",
       "      <td>2.0</td>\n",
       "      <td>2.0</td>\n",
       "      <td>NaN</td>\n",
       "      <td>NaN</td>\n",
       "      <td>2.0</td>\n",
       "      <td>NaN</td>\n",
       "      <td>3.0</td>\n",
       "      <td>3.0</td>\n",
       "      <td>NaN</td>\n",
       "      <td>NaN</td>\n",
       "      <td>3.0</td>\n",
       "      <td>NaN</td>\n",
       "      <td>6.0</td>\n",
       "      <td>6.0</td>\n",
       "      <td>NaN</td>\n",
       "      <td>NaN</td>\n",
       "      <td>6.0</td>\n",
       "      <td>NaN</td>\n",
       "      <td>12.0</td>\n",
       "      <td>15.0</td>\n",
       "      <td>NaN</td>\n",
       "      <td>NaN</td>\n",
       "      <td>12.0</td>\n",
       "    </tr>\n",
       "  </tbody>\n",
       "</table>\n",
       "</div>"
      ],
      "text/plain": [
       "           cact  inpl_ca_ct_30d  invce_ca_ct_30d  lock_ca_ct_30d  \\\n",
       "0  700985017462             NaN              1.0             2.0   \n",
       "1  700985435774             NaN              1.0             1.0   \n",
       "2  700411237709             NaN              NaN             NaN   \n",
       "3  700579697912             NaN              1.0             1.0   \n",
       "4  700577911694             NaN              1.0             1.0   \n",
       "\n",
       "   pcomm_ca_ct_30d  pred_ca_ct_30d  pymt_ca_ct_30d  inpl_ca_ct_60d  \\\n",
       "0              NaN             NaN             1.0             NaN   \n",
       "1              NaN             NaN             NaN             NaN   \n",
       "2              NaN             1.0             NaN             NaN   \n",
       "3              NaN             NaN             1.0             NaN   \n",
       "4              NaN             NaN             1.0             NaN   \n",
       "\n",
       "   invce_ca_ct_60d  lock_ca_ct_60d  pcomm_ca_ct_60d  pred_ca_ct_60d  \\\n",
       "0              2.0             4.0              NaN             NaN   \n",
       "1              2.0             3.0              NaN             NaN   \n",
       "2              2.0             2.0              NaN             1.0   \n",
       "3              2.0             2.0              NaN             NaN   \n",
       "4              2.0             2.0              NaN             NaN   \n",
       "\n",
       "   pymt_ca_ct_60d  inpl_ca_ct_90d  invce_ca_ct_90d  lock_ca_ct_90d  \\\n",
       "0             2.0             NaN              3.0             6.0   \n",
       "1             2.0             NaN              3.0             4.0   \n",
       "2             1.0             NaN              2.0             2.0   \n",
       "3             2.0             NaN              3.0             3.0   \n",
       "4             2.0             NaN              3.0             3.0   \n",
       "\n",
       "   pcomm_ca_ct_90d  pred_ca_ct_90d  pymt_ca_ct_90d  inpl_ca_ct_180d  \\\n",
       "0              NaN             NaN             2.0              NaN   \n",
       "1              NaN             NaN             2.0              NaN   \n",
       "2              NaN             2.0             2.0              NaN   \n",
       "3              NaN             NaN             3.0              NaN   \n",
       "4              NaN             NaN             3.0              NaN   \n",
       "\n",
       "   invce_ca_ct_180d  lock_ca_ct_180d  pcomm_ca_ct_180d  pred_ca_ct_180d  \\\n",
       "0               3.0              6.0               NaN              NaN   \n",
       "1               3.0              4.0               NaN              NaN   \n",
       "2               5.0              5.0               NaN              2.0   \n",
       "3               6.0              7.0               NaN              NaN   \n",
       "4               6.0              6.0               NaN              NaN   \n",
       "\n",
       "   pymt_ca_ct_180d  inpl_ca_ct_360d  invce_ca_ct_360d  lock_ca_ct_360d  \\\n",
       "0              2.0              NaN               3.0              6.0   \n",
       "1              2.0              NaN               3.0              4.0   \n",
       "2              3.0              NaN              11.0             11.0   \n",
       "3              5.0              NaN              12.0             14.0   \n",
       "4              6.0              NaN              12.0             15.0   \n",
       "\n",
       "   pcomm_ca_ct_360d  pred_ca_ct_360d  pymt_ca_ct_360d  \n",
       "0               NaN              NaN              2.0  \n",
       "1               NaN              NaN              2.0  \n",
       "2               NaN              2.0              5.0  \n",
       "3               NaN              NaN             10.0  \n",
       "4               NaN              NaN             12.0  "
      ]
     },
     "execution_count": 69,
     "metadata": {},
     "output_type": "execute_result"
    }
   ],
   "source": [
    "df.head()"
   ]
  },
  {
   "cell_type": "markdown",
   "id": "131e1185-54b1-4fb2-b415-3d91e3885335",
   "metadata": {},
   "source": [
    "#### 2.1.2 - ContractAccount Level recency"
   ]
  },
  {
   "cell_type": "code",
   "execution_count": 70,
   "id": "afaae18f-6144-41f4-bfcc-ec54db2049ad",
   "metadata": {
    "tags": []
   },
   "outputs": [
    {
     "name": "stdout",
     "output_type": "stream",
     "text": [
      "Connection successful.\n",
      "<class 'pandas.core.frame.DataFrame'>\n",
      "RangeIndex: 6820319 entries, 0 to 6820318\n",
      "Data columns (total 7 columns):\n",
      " #   Column            Dtype  \n",
      "---  ------            -----  \n",
      " 0   cact              object \n",
      " 1   inpl_ca_recency   float64\n",
      " 2   invce_ca_recency  float64\n",
      " 3   lock_ca_recency   float64\n",
      " 4   pcomm_ca_recency  float64\n",
      " 5   pred_ca_recency   float64\n",
      " 6   pymt_ca_recency   float64\n",
      "dtypes: float64(6), object(1)\n",
      "memory usage: 364.2+ MB\n"
     ]
    }
   ],
   "source": [
    "# recency in past 365 days\n",
    "PROJECT_ID = \"sceg-d-prj-dxg-002\" # repoint to sandbox environment\n",
    "vertexai.init(project=PROJECT_ID, location=\"us-central1\")\n",
    "fid_secret_string = access_secret_version(PROJECT_ID, \"fid_cred\")\n",
    "# Load functional id credentials from the secret JSON string\n",
    "functional_id_info = json.loads(fid_secret_string)\n",
    "# Extract the absolute path to the key file from the JSON\n",
    "fid_key_path = \"/tmp/fid_key.json\"  # Create a temporary file path in the container\n",
    "with open(fid_key_path, \"w\") as f:\n",
    "    json.dump(functional_id_info, f)\n",
    "# SNOWPARK SESSION CONNECTOR\n",
    "# Define your Snowflake connection parameters\n",
    "connection_parameters = {\n",
    "    \"account\": \"edwsce.west-us-2.azure\",\n",
    "    \"user\": functional_id_info[\"FID_USER\"],\n",
    "    \"password\": functional_id_info[\"FID_PASS\"],\n",
    "    \"authenticator\": \"https://eix.okta.com\",\n",
    "    \"warehouse\": \"PROD_IT_CS_CNSMPADHOCWH13\",\n",
    "    \"database\": \"PROD_IT_SS\",\n",
    "    \"schema\": \"IT_DPT_SS\"\n",
    "}\n",
    "max_retries = 3\n",
    "retry_count = 0\n",
    "while retry_count < max_retries:\n",
    "    try:\n",
    "        # Create a Snowpark session\n",
    "        session = Session.builder.configs(connection_parameters).create()\n",
    "        print(\"Connection successful.\")\n",
    "        # log print      \n",
    "        #log_message(f'Snowpark Snowflake connection successful, reading transcripts.', log_file_name, bucket_name, log_folder)\n",
    "        break\n",
    "    except Exception as e:\n",
    "        retry_count += 1\n",
    "        print(f\"Snowflake connection failed: {e}\")\n",
    "        if retry_count < max_retries:\n",
    "            print(f\"Retrying {retry_count}/{max_retries}...\")\n",
    "            time.sleep(3)  # Wait for 3 seconds before retrying\n",
    "        else:\n",
    "            print(\"Max retries reached. Exiting.\")\n",
    "            # log print      \n",
    "            #log_message(f'Snowpark Snowflake connection failed.', log_file_name, bucket_name, log_folder)\n",
    "\n",
    "sql_query = f\"\"\"\n",
    "select ev_obj_nbr as cact, * from \n",
    "(select EV_OBJ, ev_obj_nbr, concat(ev_type, '_CA_recency') as event_type, \n",
    "        min(datediff(day, to_date(EV_TYPE_VAL_DT_1), current_date)) as ev_type_recency\n",
    "from PROD_CS_SS.CS_CSOD_BIC_SS.CS_EVENTS \n",
    "where ev_obj='CONTRACT_ACCT' and ev_obj_nbr > 0\n",
    "  AND to_date(EV_TYPE_VAL_DT_1) between DATEADD(day, -365, current_date) and DATEADD(day, -1, current_date)\n",
    "group by EV_OBJ, ev_obj_nbr, concat(ev_type, '_CA_recency')\n",
    "order by EV_OBJ, ev_obj_nbr, concat(ev_type, '_CA_recency')\n",
    ")\n",
    "PIVOT (max(ev_type_recency) for event_type in (\n",
    "    select distinct concat(ev_type, '_CA_recency')\n",
    "    from PROD_CS_SS.CS_CSOD_BIC_SS.CS_EVENTS\n",
    "    where ev_obj='CONTRACT_ACCT' \n",
    "    and EV_TYPE_VAL_DT_1 between DATEADD(day, -365, current_date) and DATEADD(day, -1, current_date))\n",
    ")\n",
    "\"\"\"\n",
    "\n",
    "# Execute the query and collect the result\n",
    "snow_input = session.sql(sql_query).collect()\n",
    "# Convert the result to a pandas DataFrame\n",
    "df = pd.DataFrame(snow_input)\n",
    "df.columns = df.columns.str.replace(\"'\", '')\n",
    "df=df.drop(columns=[col for col in df.columns if col.startswith('EV_OBJ')])\n",
    "df=df.drop(columns=[col for col in df.columns if col.startswith('EV_OBJ')])\n",
    "df.columns = df.columns.str.lower()\n",
    "df.info()"
   ]
  },
  {
   "cell_type": "code",
   "execution_count": 71,
   "id": "87a08dc3-7700-45f1-aa4e-c54f9706061a",
   "metadata": {
    "tags": []
   },
   "outputs": [],
   "source": [
    "df.to_csv(str(path_name)+str('/CACT_event_recency.csv'), index=False)"
   ]
  },
  {
   "cell_type": "markdown",
   "id": "90d7c9da-6249-416e-be33-31223046f2de",
   "metadata": {},
   "source": [
    "#### 2.1.3 - event amount"
   ]
  },
  {
   "cell_type": "code",
   "execution_count": 72,
   "id": "25e34f8b-6a86-4b6f-a1cd-da30e798ccaa",
   "metadata": {
    "tags": []
   },
   "outputs": [
    {
     "name": "stdout",
     "output_type": "stream",
     "text": [
      "Connection successful.\n",
      "<class 'pandas.core.frame.DataFrame'>\n",
      "RangeIndex: 6810284 entries, 0 to 6810283\n",
      "Data columns (total 31 columns):\n",
      " #   Column            Dtype \n",
      "---  ------            ----- \n",
      " 0   cact              object\n",
      " 1   inpl_ca_am_30d    object\n",
      " 2   invce_ca_am_30d   object\n",
      " 3   lock_ca_am_30d    object\n",
      " 4   pcomm_ca_am_30d   object\n",
      " 5   pred_ca_am_30d    object\n",
      " 6   pymt_ca_am_30d    object\n",
      " 7   inpl_ca_am_60d    object\n",
      " 8   invce_ca_am_60d   object\n",
      " 9   lock_ca_am_60d    object\n",
      " 10  pcomm_ca_am_60d   object\n",
      " 11  pred_ca_am_60d    object\n",
      " 12  pymt_ca_am_60d    object\n",
      " 13  inpl_ca_am_90d    object\n",
      " 14  invce_ca_am_90d   object\n",
      " 15  lock_ca_am_90d    object\n",
      " 16  pcomm_ca_am_90d   object\n",
      " 17  pred_ca_am_90d    object\n",
      " 18  pymt_ca_am_90d    object\n",
      " 19  inpl_ca_am_180d   object\n",
      " 20  invce_ca_am_180d  object\n",
      " 21  lock_ca_am_180d   object\n",
      " 22  pcomm_ca_am_180d  object\n",
      " 23  pred_ca_am_180d   object\n",
      " 24  pymt_ca_am_180d   object\n",
      " 25  inpl_ca_am_360d   object\n",
      " 26  invce_ca_am_360d  object\n",
      " 27  lock_ca_am_360d   object\n",
      " 28  pcomm_ca_am_360d  object\n",
      " 29  pred_ca_am_360d   object\n",
      " 30  pymt_ca_am_360d   object\n",
      "dtypes: object(31)\n",
      "memory usage: 1.6+ GB\n"
     ]
    }
   ],
   "source": [
    "PROJECT_ID = \"sceg-d-prj-dxg-002\" # repoint to sandbox environment\n",
    "vertexai.init(project=PROJECT_ID, location=\"us-central1\")\n",
    "fid_secret_string = access_secret_version(PROJECT_ID, \"fid_cred\")\n",
    "# Load functional id credentials from the secret JSON string\n",
    "functional_id_info = json.loads(fid_secret_string)\n",
    "# Extract the absolute path to the key file from the JSON\n",
    "fid_key_path = \"/tmp/fid_key.json\"  # Create a temporary file path in the container\n",
    "with open(fid_key_path, \"w\") as f:\n",
    "    json.dump(functional_id_info, f)\n",
    "# SNOWPARK SESSION CONNECTOR\n",
    "# Define your Snowflake connection parameters\n",
    "connection_parameters = {\n",
    "    \"account\": \"edwsce.west-us-2.azure\",\n",
    "    \"user\": functional_id_info[\"FID_USER\"],\n",
    "    \"password\": functional_id_info[\"FID_PASS\"],\n",
    "    \"authenticator\": \"https://eix.okta.com\",\n",
    "    \"warehouse\": \"PROD_IT_CS_CNSMPADHOCWH13\",\n",
    "    \"database\": \"PROD_IT_SS\",\n",
    "    \"schema\": \"IT_DPT_SS\"\n",
    "}\n",
    "max_retries = 3\n",
    "retry_count = 0\n",
    "while retry_count < max_retries:\n",
    "    try:\n",
    "        # Create a Snowpark session\n",
    "        session = Session.builder.configs(connection_parameters).create()\n",
    "        print(\"Connection successful.\")\n",
    "        # log print      \n",
    "        #log_message(f'Snowpark Snowflake connection successful, reading transcripts.', log_file_name, bucket_name, log_folder)\n",
    "        break\n",
    "    except Exception as e:\n",
    "        retry_count += 1\n",
    "        print(f\"Snowflake connection failed: {e}\")\n",
    "        if retry_count < max_retries:\n",
    "            print(f\"Retrying {retry_count}/{max_retries}...\")\n",
    "            time.sleep(3)  # Wait for 3 seconds before retrying\n",
    "        else:\n",
    "            print(\"Max retries reached. Exiting.\")\n",
    "            # log print      \n",
    "            #log_message(f'Snowpark Snowflake connection failed.', log_file_name, bucket_name, log_folder)\n",
    "\n",
    "sql_query = f\"\"\"\n",
    "select e.ev_obj_nbr as cact, * from \n",
    "(select * from\n",
    "(select EV_OBJ, ev_obj_nbr, concat(ev_type, '_CA_AM_30D') as event_type, sum(ev_type_val_nbr) as ev_type_amt\n",
    "from PROD_CS_SS.CS_CSOD_BIC_SS.CS_EVENTS \n",
    "where ev_obj='CONTRACT_ACCT' and ev_obj_nbr > 0\n",
    "  and to_date(EV_TYPE_VAL_DT_1) between DATEADD(day, -31, current_date) and DATEADD(day, -1, current_date)\n",
    "group by EV_OBJ, ev_obj_nbr, concat(ev_type, '_CA_AM_30D')\n",
    "order by EV_OBJ, ev_obj_nbr, concat(ev_type, '_CA_AM_30D')\n",
    ")\n",
    "PIVOT (max(ev_type_amt) for event_type in (\n",
    "    select distinct concat(ev_type, '_CA_AM_30D')\n",
    "    from PROD_CS_SS.CS_CSOD_BIC_SS.CS_EVENTS\n",
    "    where ev_obj='CONTRACT_ACCT' \n",
    "      and EV_TYPE_VAL_DT_1 between DATEADD(day, -31, current_date) and DATEADD(day, -1, current_date))\n",
    ")) a\n",
    "full outer join\n",
    "(select * from\n",
    "(select EV_OBJ, ev_obj_nbr, concat(ev_type, '_CA_AM_60D') as event_type, sum(ev_type_val_nbr) as ev_type_amt\n",
    "from PROD_CS_SS.CS_CSOD_BIC_SS.CS_EVENTS \n",
    "where ev_obj='CONTRACT_ACCT' and ev_obj_nbr > 0\n",
    "  and to_date(EV_TYPE_VAL_DT_1) between DATEADD(day, -61, current_date) and DATEADD(day, -1, current_date)\n",
    "group by EV_OBJ, ev_obj_nbr, concat(ev_type, '_CA_AM_60D')\n",
    "order by EV_OBJ, ev_obj_nbr, concat(ev_type, '_CA_AM_60D')\n",
    ")\n",
    "PIVOT (max(ev_type_amt) for event_type in (\n",
    "    select distinct concat(ev_type, '_CA_AM_60D')\n",
    "    from PROD_CS_SS.CS_CSOD_BIC_SS.CS_EVENTS\n",
    "    where ev_obj='CONTRACT_ACCT' \n",
    "      and to_date(EV_TYPE_VAL_DT_1) between DATEADD(day, -61, current_date) and DATEADD(day, -1, current_date))\n",
    ")) b\n",
    "on a.ev_obj_nbr=b.ev_obj_nbr\n",
    "full outer join\n",
    "(select * from\n",
    "(select EV_OBJ, ev_obj_nbr, concat(ev_type, '_CA_AM_90D') as event_type, sum(ev_type_val_nbr) as ev_type_amt\n",
    "from PROD_CS_SS.CS_CSOD_BIC_SS.CS_EVENTS \n",
    "where ev_obj='CONTRACT_ACCT'  and ev_obj_nbr > 0\n",
    "  and to_date(EV_TYPE_VAL_DT_1) between DATEADD(day, -91, current_date) and DATEADD(day, -1, current_date)\n",
    "group by EV_OBJ, ev_obj_nbr, concat(ev_type, '_CA_AM_90D')\n",
    "order by EV_OBJ, ev_obj_nbr, concat(ev_type, '_CA_AM_90D')\n",
    ")\n",
    "PIVOT (max(ev_type_amt) for event_type in (\n",
    "    select distinct concat(ev_type, '_CA_AM_90D')\n",
    "    from PROD_CS_SS.CS_CSOD_BIC_SS.CS_EVENTS\n",
    "    where ev_obj='CONTRACT_ACCT' \n",
    "      and to_date(EV_TYPE_VAL_DT_1) between DATEADD(day, -91, current_date) and DATEADD(day, -1, current_date))\n",
    ")) c\n",
    "on a.ev_obj_nbr=c.ev_obj_nbr\n",
    "full outer join \n",
    "(select * from\n",
    "(select EV_OBJ, ev_obj_nbr, concat(ev_type, '_CA_AM_180D') as event_type, sum(ev_type_val_nbr) as ev_type_amt\n",
    "from PROD_CS_SS.CS_CSOD_BIC_SS.CS_EVENTS \n",
    "where ev_obj='CONTRACT_ACCT' and ev_obj_nbr > 0\n",
    "  and to_date(EV_TYPE_VAL_DT_1) between DATEADD(day, -181, current_date) and DATEADD(day, -1, current_date)\n",
    "group by EV_OBJ, ev_obj_nbr, concat(ev_type, '_CA_AM_180D')\n",
    "order by EV_OBJ, ev_obj_nbr, concat(ev_type, '_CA_AM_180D')\n",
    ")\n",
    "PIVOT (max(ev_type_amt) for event_type in (\n",
    "    select distinct concat(ev_type, '_CA_AM_180D')\n",
    "    from PROD_CS_SS.CS_CSOD_BIC_SS.CS_EVENTS\n",
    "    where ev_obj='CONTRACT_ACCT' \n",
    "      and EV_TYPE_VAL_DT_1 between DATEADD(day, -181, current_date) and DATEADD(day, -1, current_date))\n",
    ")) d\n",
    "on a.ev_obj_nbr=d.ev_obj_nbr\n",
    "full outer join\n",
    "(select * from\n",
    "(select EV_OBJ, ev_obj_nbr, concat(ev_type, '_CA_AM_360D') as event_type, sum(ev_type_val_nbr) as ev_type_amt\n",
    "from PROD_CS_SS.CS_CSOD_BIC_SS.CS_EVENTS \n",
    "where ev_obj='CONTRACT_ACCT' and ev_obj_nbr > 0\n",
    "  and to_date(EV_TYPE_VAL_DT_1) between DATEADD(day, -361, current_date) and DATEADD(day, -1, current_date)\n",
    "group by EV_OBJ, ev_obj_nbr, concat(ev_type, '_CA_AM_360D')\n",
    "order by EV_OBJ, ev_obj_nbr, concat(ev_type, '_CA_AM_360D')\n",
    ")\n",
    "PIVOT (max(ev_type_amt) for event_type in (\n",
    "    select distinct concat(ev_type, '_CA_AM_360D')\n",
    "    from PROD_CS_SS.CS_CSOD_BIC_SS.CS_EVENTS\n",
    "    where ev_obj='CONTRACT_ACCT' \n",
    "      and to_date(EV_TYPE_VAL_DT_1) between DATEADD(day, -361, current_date) and DATEADD(day, -1, current_date))\n",
    ")) e\n",
    "on a.ev_obj_nbr=e.ev_obj_nbr\n",
    "where e.ev_obj_nbr > 0\n",
    "\"\"\"\n",
    "\n",
    "# Execute the query and collect the result\n",
    "snow_input = session.sql(sql_query).collect()\n",
    "# Convert the result to a pandas DataFrame\n",
    "df = pd.DataFrame(snow_input)\n",
    "df.columns = df.columns.str.replace(\"'\", '')\n",
    "df=df.drop(columns=[col for col in df.columns if col.startswith('EV_OBJ')])\n",
    "df.columns = df.columns.str.lower()\n",
    "df.info()"
   ]
  },
  {
   "cell_type": "code",
   "execution_count": 73,
   "id": "d4d4bb70-b9a6-4f70-99e5-c1098c193154",
   "metadata": {
    "tags": []
   },
   "outputs": [],
   "source": [
    "df.to_csv(str(path_name)+str('/CACT_event_amt.csv'), index=False)"
   ]
  },
  {
   "cell_type": "markdown",
   "id": "49277401-680e-4db3-9975-ee2efb90f9d9",
   "metadata": {},
   "source": [
    "#### 2.2.1 - subtype count\n",
    "* Snowflake-GCP pipeline has a bottleneck with regard to how much data an be transported. \n",
    "* Therefore, we divided the data extraction into two steps. "
   ]
  },
  {
   "cell_type": "code",
   "execution_count": 74,
   "id": "0d358c66-c128-4197-9efa-976ea55377a4",
   "metadata": {
    "tags": []
   },
   "outputs": [
    {
     "name": "stdout",
     "output_type": "stream",
     "text": [
      "Connection successful.\n",
      "<class 'pandas.core.frame.DataFrame'>\n",
      "RangeIndex: 5766590 entries, 0 to 5766589\n",
      "Data columns (total 67 columns):\n",
      " #   Column                          Dtype  \n",
      "---  ------                          -----  \n",
      " 0   cact                            object \n",
      " 1   cact-dunn_ca_sub_ct_30          float64\n",
      " 2   cact-intr_ca_sub_ct_30          float64\n",
      " 3   cact-inv_ca_sub_ct_30           float64\n",
      " 4   cact-ipymt_ca_sub_ct_30         float64\n",
      " 5   cact-opymt_ca_sub_ct_30         float64\n",
      " 6   cact-post_ca_sub_ct_30          float64\n",
      " 7   cleared_ca_sub_ct_30            float64\n",
      " 8   closed_ca_sub_ct_30             float64\n",
      " 9   collprop_ca_sub_ct_30           float64\n",
      " 10  create_ca_sub_ct_30             float64\n",
      " 11  deactive_ca_sub_ct_30           float64\n",
      " 12  fica-dunn_ca_sub_ct_30          float64\n",
      " 13  fica-intr_ca_sub_ct_30          float64\n",
      " 14  fica-post_ca_sub_ct_30          float64\n",
      " 15  fica-pymt_ca_sub_ct_30          float64\n",
      " 16  ip_amp_paymentdue_ca_sub_ct_30  float64\n",
      " 17  mimo_day_before_ca_sub_ct_30    float64\n",
      " 18  odfc_due_reminder_ca_sub_ct_30  float64\n",
      " 19  overdue_ca_sub_ct_30            float64\n",
      " 20  pymt_ca_sub_ct_30               float64\n",
      " 21  rchk_ca_sub_ct_30               float64\n",
      " 22  rever_ca_sub_ct_30              float64\n",
      " 23  cact-dunn_ca_sub_ct_60          float64\n",
      " 24  cact-intr_ca_sub_ct_60          float64\n",
      " 25  cact-inv_ca_sub_ct_60           float64\n",
      " 26  cact-ipymt_ca_sub_ct_60         float64\n",
      " 27  cact-opymt_ca_sub_ct_60         float64\n",
      " 28  cact-post_ca_sub_ct_60          float64\n",
      " 29  cleared_ca_sub_ct_60            float64\n",
      " 30  closed_ca_sub_ct_60             float64\n",
      " 31  collprop_ca_sub_ct_60           float64\n",
      " 32  create_ca_sub_ct_60             float64\n",
      " 33  deactive_ca_sub_ct_60           float64\n",
      " 34  fica-dunn_ca_sub_ct_60          float64\n",
      " 35  fica-intr_ca_sub_ct_60          float64\n",
      " 36  fica-post_ca_sub_ct_60          float64\n",
      " 37  fica-pymt_ca_sub_ct_60          float64\n",
      " 38  ip_amp_paymentdue_ca_sub_ct_60  float64\n",
      " 39  mimo_day_before_ca_sub_ct_60    float64\n",
      " 40  odfc_due_reminder_ca_sub_ct_60  float64\n",
      " 41  overdue_ca_sub_ct_60            float64\n",
      " 42  pymt_ca_sub_ct_60               float64\n",
      " 43  rchk_ca_sub_ct_60               float64\n",
      " 44  rever_ca_sub_ct_60              float64\n",
      " 45  cact-dunn_ca_sub_ct_90          float64\n",
      " 46  cact-intr_ca_sub_ct_90          float64\n",
      " 47  cact-inv_ca_sub_ct_90           float64\n",
      " 48  cact-ipymt_ca_sub_ct_90         float64\n",
      " 49  cact-opymt_ca_sub_ct_90         float64\n",
      " 50  cact-post_ca_sub_ct_90          float64\n",
      " 51  cleared_ca_sub_ct_90            float64\n",
      " 52  closed_ca_sub_ct_90             float64\n",
      " 53  collprop_ca_sub_ct_90           float64\n",
      " 54  create_ca_sub_ct_90             float64\n",
      " 55  deactive_ca_sub_ct_90           float64\n",
      " 56  fica-dunn_ca_sub_ct_90          float64\n",
      " 57  fica-intr_ca_sub_ct_90          float64\n",
      " 58  fica-post_ca_sub_ct_90          float64\n",
      " 59  fica-pymt_ca_sub_ct_90          float64\n",
      " 60  ip_amp_paymentdue_ca_sub_ct_90  float64\n",
      " 61  mimo_day_before_ca_sub_ct_90    float64\n",
      " 62  odfc_due_reminder_ca_sub_ct_90  float64\n",
      " 63  overdue_ca_sub_ct_90            float64\n",
      " 64  pymt_ca_sub_ct_90               float64\n",
      " 65  rchk_ca_sub_ct_90               float64\n",
      " 66  rever_ca_sub_ct_90              float64\n",
      "dtypes: float64(66), object(1)\n",
      "memory usage: 2.9+ GB\n"
     ]
    }
   ],
   "source": [
    "#1-90 days\n",
    "PROJECT_ID = \"sceg-d-prj-dxg-002\" # repoint to sandbox environment\n",
    "vertexai.init(project=PROJECT_ID, location=\"us-central1\")\n",
    "fid_secret_string = access_secret_version(PROJECT_ID, \"fid_cred\")\n",
    "# Load functional id credentials from the secret JSON string\n",
    "functional_id_info = json.loads(fid_secret_string)\n",
    "# Extract the absolute path to the key file from the JSON\n",
    "fid_key_path = \"/tmp/fid_key.json\"  # Create a temporary file path in the container\n",
    "with open(fid_key_path, \"w\") as f:\n",
    "    json.dump(functional_id_info, f)\n",
    "# SNOWPARK SESSION CONNECTOR\n",
    "# Define your Snowflake connection parameters\n",
    "connection_parameters = {\n",
    "    \"account\": \"edwsce.west-us-2.azure\",\n",
    "    \"user\": functional_id_info[\"FID_USER\"],\n",
    "    \"password\": functional_id_info[\"FID_PASS\"],\n",
    "    \"authenticator\": \"https://eix.okta.com\",\n",
    "    \"warehouse\": \"PROD_IT_CS_CNSMPADHOCWH13\",\n",
    "    \"database\": \"PROD_IT_SS\",\n",
    "    \"schema\": \"IT_DPT_SS\"\n",
    "}\n",
    "max_retries = 3\n",
    "retry_count = 0\n",
    "while retry_count < max_retries:\n",
    "    try:\n",
    "        # Create a Snowpark session\n",
    "        session = Session.builder.configs(connection_parameters).create()\n",
    "        print(\"Connection successful.\")\n",
    "        # log print      \n",
    "        #log_message(f'Snowpark Snowflake connection successful, reading transcripts.', log_file_name, bucket_name, log_folder)\n",
    "        break\n",
    "    except Exception as e:\n",
    "        retry_count += 1\n",
    "        print(f\"Snowflake connection failed: {e}\")\n",
    "        if retry_count < max_retries:\n",
    "            print(f\"Retrying {retry_count}/{max_retries}...\")\n",
    "            time.sleep(3)  # Wait for 3 seconds before retrying\n",
    "        else:\n",
    "            print(\"Max retries reached. Exiting.\")\n",
    "            # log print      \n",
    "            #log_message(f'Snowpark Snowflake connection failed.', log_file_name, bucket_name, log_folder)\n",
    "\n",
    "sql_query = f\"\"\"\n",
    "select c.ev_obj_nbr as cact, * from \n",
    "(select * from\n",
    "(select EV_OBJ, ev_obj_nbr, concat(ev_sub_type, '_CA_sub_CT_30') as event_subtype, count(*) as ev_subtype_count\n",
    "from PROD_CS_SS.CS_CSOD_BIC_SS.CS_EVENTS \n",
    "where ev_obj='CONTRACT_ACCT' and ev_obj_nbr > 0\n",
    "  and to_date(EV_TYPE_VAL_DT_1) between DATEADD(day, -31, current_date) and DATEADD(day, -1, current_date)\n",
    "group by EV_OBJ, ev_obj_nbr, concat(ev_sub_type, '_CA_sub_CT_30')\n",
    "order by EV_OBJ, ev_obj_nbr, concat(ev_sub_type, '_CA_sub_CT_30')\n",
    ")\n",
    "PIVOT (max(ev_subtype_count) for event_subtype in (\n",
    "    select distinct concat(ev_sub_type, '_CA_sub_CT_30')\n",
    "    from PROD_CS_SS.CS_CSOD_BIC_SS.CS_EVENTS\n",
    "    where ev_obj='CONTRACT_ACCT' \n",
    "      and EV_TYPE_VAL_DT_1 between DATEADD(day, -31, current_date) and DATEADD(day, -1, current_date))\n",
    ")) a\n",
    "full outer join\n",
    "(select * from\n",
    "(select EV_OBJ, ev_obj_nbr, concat(ev_sub_type, '_CA_sub_CT_60') as event_subtype, count(*) as ev_subtype_count\n",
    "from PROD_CS_SS.CS_CSOD_BIC_SS.CS_EVENTS \n",
    "where ev_obj='CONTRACT_ACCT' and ev_obj_nbr > 0\n",
    "  and to_date(EV_TYPE_VAL_DT_1) between DATEADD(day, -61, current_date) and DATEADD(day, -1, current_date)\n",
    "group by EV_OBJ, ev_obj_nbr, concat(ev_sub_type, '_CA_sub_CT_60')\n",
    "order by EV_OBJ, ev_obj_nbr, concat(ev_sub_type, '_CA_sub_CT_60')\n",
    ")\n",
    "PIVOT (max(ev_subtype_count) for event_subtype in (\n",
    "    select distinct concat(ev_sub_type, '_CA_sub_CT_60')\n",
    "    from PROD_CS_SS.CS_CSOD_BIC_SS.CS_EVENTS\n",
    "    where ev_obj='CONTRACT_ACCT' \n",
    "      and to_date(EV_TYPE_VAL_DT_1) between DATEADD(day, -61, current_date) and DATEADD(day, -1, current_date))\n",
    ")) b\n",
    "on a.ev_obj_nbr=b.ev_obj_nbr\n",
    "full outer join\n",
    "(select * from\n",
    "(select EV_OBJ, ev_obj_nbr, concat(ev_sub_type, '_CA_sub_CT_90') as event_subtype, count(*) as ev_subtype_count\n",
    "from PROD_CS_SS.CS_CSOD_BIC_SS.CS_EVENTS \n",
    "where ev_obj='CONTRACT_ACCT'  and ev_obj_nbr > 0\n",
    "  and to_date(EV_TYPE_VAL_DT_1) between DATEADD(day, -91, current_date) and DATEADD(day, -1, current_date)\n",
    "group by EV_OBJ, ev_obj_nbr, concat(ev_sub_type, '_CA_sub_CT_90')\n",
    "order by EV_OBJ, ev_obj_nbr, concat(ev_sub_type, '_CA_sub_CT_90')\n",
    ")\n",
    "PIVOT (max(ev_subtype_count) for event_subtype in (\n",
    "    select distinct concat(ev_sub_type, '_CA_sub_CT_90')\n",
    "    from PROD_CS_SS.CS_CSOD_BIC_SS.CS_EVENTS\n",
    "    where ev_obj='CONTRACT_ACCT' \n",
    "      and to_date(EV_TYPE_VAL_DT_1) between DATEADD(day, -91, current_date) and DATEADD(day, -1, current_date))\n",
    ")) c\n",
    "on a.ev_obj_nbr=c.ev_obj_nbr\n",
    "where c.ev_obj_nbr > 0\n",
    "\n",
    "\"\"\"\n",
    "\n",
    "# Execute the query and collect the result\n",
    "snow_input = session.sql(sql_query).collect()\n",
    "# Convert the result to a pandas DataFrame\n",
    "df = pd.DataFrame(snow_input)\n",
    "df.columns = df.columns.str.replace(\"'\", '')\n",
    "df=df.drop(columns=[col for col in df.columns if col.startswith('EV_OBJ')])\n",
    "df.columns = df.columns.str.lower()\n",
    "df.info()"
   ]
  },
  {
   "cell_type": "code",
   "execution_count": 75,
   "id": "9a0e3539-e0b4-490c-b161-d40275297051",
   "metadata": {
    "tags": []
   },
   "outputs": [],
   "source": [
    "df.to_csv(str(path_name)+str('/CACT_event_subtype_ct_1.csv'), index=False)"
   ]
  },
  {
   "cell_type": "code",
   "execution_count": 76,
   "id": "fbe9ed2b-5142-4a2b-be77-838f445f7373",
   "metadata": {
    "tags": []
   },
   "outputs": [
    {
     "name": "stdout",
     "output_type": "stream",
     "text": [
      "Connection successful.\n",
      "<class 'pandas.core.frame.DataFrame'>\n",
      "RangeIndex: 6810284 entries, 0 to 6810283\n",
      "Data columns (total 45 columns):\n",
      " #   Column                           Dtype  \n",
      "---  ------                           -----  \n",
      " 0   cact                             object \n",
      " 1   cact-dunn_ca_sub_ct_180          float64\n",
      " 2   cact-intr_ca_sub_ct_180          float64\n",
      " 3   cact-inv_ca_sub_ct_180           float64\n",
      " 4   cact-ipymt_ca_sub_ct_180         float64\n",
      " 5   cact-opymt_ca_sub_ct_180         float64\n",
      " 6   cact-post_ca_sub_ct_180          float64\n",
      " 7   cleared_ca_sub_ct_180            float64\n",
      " 8   closed_ca_sub_ct_180             float64\n",
      " 9   collprop_ca_sub_ct_180           float64\n",
      " 10  create_ca_sub_ct_180             float64\n",
      " 11  deactive_ca_sub_ct_180           float64\n",
      " 12  fica-dunn_ca_sub_ct_180          float64\n",
      " 13  fica-intr_ca_sub_ct_180          float64\n",
      " 14  fica-post_ca_sub_ct_180          float64\n",
      " 15  fica-pymt_ca_sub_ct_180          float64\n",
      " 16  ip_amp_paymentdue_ca_sub_ct_180  float64\n",
      " 17  mimo_day_before_ca_sub_ct_180    float64\n",
      " 18  odfc_due_reminder_ca_sub_ct_180  float64\n",
      " 19  overdue_ca_sub_ct_180            float64\n",
      " 20  pymt_ca_sub_ct_180               float64\n",
      " 21  rchk_ca_sub_ct_180               float64\n",
      " 22  rever_ca_sub_ct_180              float64\n",
      " 23  cact-dunn_ca_sub_ct_360          float64\n",
      " 24  cact-intr_ca_sub_ct_360          float64\n",
      " 25  cact-inv_ca_sub_ct_360           float64\n",
      " 26  cact-ipymt_ca_sub_ct_360         float64\n",
      " 27  cact-opymt_ca_sub_ct_360         float64\n",
      " 28  cact-post_ca_sub_ct_360          float64\n",
      " 29  cleared_ca_sub_ct_360            float64\n",
      " 30  closed_ca_sub_ct_360             float64\n",
      " 31  collprop_ca_sub_ct_360           float64\n",
      " 32  create_ca_sub_ct_360             float64\n",
      " 33  deactive_ca_sub_ct_360           float64\n",
      " 34  fica-dunn_ca_sub_ct_360          float64\n",
      " 35  fica-intr_ca_sub_ct_360          float64\n",
      " 36  fica-post_ca_sub_ct_360          float64\n",
      " 37  fica-pymt_ca_sub_ct_360          float64\n",
      " 38  ip_amp_paymentdue_ca_sub_ct_360  float64\n",
      " 39  mimo_day_before_ca_sub_ct_360    float64\n",
      " 40  odfc_due_reminder_ca_sub_ct_360  float64\n",
      " 41  overdue_ca_sub_ct_360            float64\n",
      " 42  pymt_ca_sub_ct_360               float64\n",
      " 43  rchk_ca_sub_ct_360               float64\n",
      " 44  rever_ca_sub_ct_360              float64\n",
      "dtypes: float64(44), object(1)\n",
      "memory usage: 2.3+ GB\n"
     ]
    }
   ],
   "source": [
    "# 180-360 days\n",
    "PROJECT_ID = \"sceg-d-prj-dxg-002\" # repoint to sandbox environment\n",
    "vertexai.init(project=PROJECT_ID, location=\"us-central1\")\n",
    "fid_secret_string = access_secret_version(PROJECT_ID, \"fid_cred\")\n",
    "# Load functional id credentials from the secret JSON string\n",
    "functional_id_info = json.loads(fid_secret_string)\n",
    "# Extract the absolute path to the key file from the JSON\n",
    "fid_key_path = \"/tmp/fid_key.json\"  # Create a temporary file path in the container\n",
    "with open(fid_key_path, \"w\") as f:\n",
    "    json.dump(functional_id_info, f)\n",
    "# SNOWPARK SESSION CONNECTOR\n",
    "# Define your Snowflake connection parameters\n",
    "connection_parameters = {\n",
    "    \"account\": \"edwsce.west-us-2.azure\",\n",
    "    \"user\": functional_id_info[\"FID_USER\"],\n",
    "    \"password\": functional_id_info[\"FID_PASS\"],\n",
    "    \"authenticator\": \"https://eix.okta.com\",\n",
    "    \"warehouse\": \"PROD_IT_CS_CNSMPADHOCWH13\",\n",
    "    \"database\": \"PROD_IT_SS\",\n",
    "    \"schema\": \"IT_DPT_SS\"\n",
    "}\n",
    "max_retries = 3\n",
    "retry_count = 0\n",
    "while retry_count < max_retries:\n",
    "    try:\n",
    "        # Create a Snowpark session\n",
    "        session = Session.builder.configs(connection_parameters).create()\n",
    "        print(\"Connection successful.\")\n",
    "        # log print      \n",
    "        #log_message(f'Snowpark Snowflake connection successful, reading transcripts.', log_file_name, bucket_name, log_folder)\n",
    "        break\n",
    "    except Exception as e:\n",
    "        retry_count += 1\n",
    "        print(f\"Snowflake connection failed: {e}\")\n",
    "        if retry_count < max_retries:\n",
    "            print(f\"Retrying {retry_count}/{max_retries}...\")\n",
    "            time.sleep(3)  # Wait for 3 seconds before retrying\n",
    "        else:\n",
    "            print(\"Max retries reached. Exiting.\")\n",
    "            # log print      \n",
    "            #log_message(f'Snowpark Snowflake connection failed.', log_file_name, bucket_name, log_folder)\n",
    "\n",
    "sql_query = f\"\"\"\n",
    "select e.ev_obj_nbr as cact, * from \n",
    "(select * from\n",
    "(select EV_OBJ, ev_obj_nbr, concat(ev_sub_type, '_CA_sub_CT_180') as event_subtype, count(*) as ev_subtype_count\n",
    "from PROD_CS_SS.CS_CSOD_BIC_SS.CS_EVENTS \n",
    "where ev_obj='CONTRACT_ACCT' and ev_obj_nbr > 0\n",
    "  and to_date(EV_TYPE_VAL_DT_1) between DATEADD(day, -181, current_date) and DATEADD(day, -1, current_date)\n",
    "group by EV_OBJ, ev_obj_nbr, concat(ev_sub_type, '_CA_sub_CT_180')\n",
    "order by EV_OBJ, ev_obj_nbr, concat(ev_sub_type, '_CA_sub_CT_180')\n",
    ")\n",
    "PIVOT (max(ev_subtype_count) for event_subtype in (\n",
    "    select distinct concat(ev_sub_type, '_CA_sub_CT_180')\n",
    "    from PROD_CS_SS.CS_CSOD_BIC_SS.CS_EVENTS\n",
    "    where ev_obj='CONTRACT_ACCT' \n",
    "      and EV_TYPE_VAL_DT_1 between DATEADD(day, -181, current_date) and DATEADD(day, -1, current_date))\n",
    ")) d\n",
    "full outer join\n",
    "(select * from\n",
    "(select EV_OBJ, ev_obj_nbr, concat(ev_sub_type, '_CA_sub_CT_360') as event_subtype, count(*) as ev_subtype_count\n",
    "from PROD_CS_SS.CS_CSOD_BIC_SS.CS_EVENTS \n",
    "where ev_obj='CONTRACT_ACCT' and ev_obj_nbr > 0\n",
    "  and to_date(EV_TYPE_VAL_DT_1) between DATEADD(day, -361, current_date) and DATEADD(day, -1, current_date)\n",
    "group by EV_OBJ, ev_obj_nbr, concat(ev_sub_type, '_CA_sub_CT_360')\n",
    "order by EV_OBJ, ev_obj_nbr, concat(ev_sub_type, '_CA_sub_CT_360')\n",
    ")\n",
    "PIVOT (max(ev_subtype_count) for event_subtype in (\n",
    "    select distinct concat(ev_sub_type, '_CA_sub_CT_360')\n",
    "    from PROD_CS_SS.CS_CSOD_BIC_SS.CS_EVENTS\n",
    "    where ev_obj='CONTRACT_ACCT' \n",
    "      and to_date(EV_TYPE_VAL_DT_1) between DATEADD(day, -361, current_date) and DATEADD(day, -1, current_date))\n",
    ")) e\n",
    "on d.ev_obj_nbr=e.ev_obj_nbr\n",
    "where e.ev_obj_nbr > 0\n",
    "\"\"\"\n",
    "\n",
    "# Execute the query and collect the result\n",
    "snow_input = session.sql(sql_query).collect()\n",
    "# Convert the result to a pandas DataFrame\n",
    "df = pd.DataFrame(snow_input)\n",
    "df.columns = df.columns.str.replace(\"'\", '')\n",
    "df=df.drop(columns=[col for col in df.columns if col.startswith('EV_OBJ')])\n",
    "df.columns = df.columns.str.lower()\n",
    "df.info()"
   ]
  },
  {
   "cell_type": "code",
   "execution_count": 77,
   "id": "c9bde9ac-0744-4f50-898d-c1c61225d2bc",
   "metadata": {
    "tags": []
   },
   "outputs": [],
   "source": [
    "df.to_csv(str(path_name)+str('/CACT_event_subtype_ct_2.csv'), index=False)"
   ]
  },
  {
   "cell_type": "markdown",
   "id": "abfd7e21-bd9d-49d3-ba1e-95bcd751a7cb",
   "metadata": {},
   "source": [
    "#### 2.2.2 - subtype recency"
   ]
  },
  {
   "cell_type": "code",
   "execution_count": 78,
   "id": "08e6e72e-39bd-480b-aa49-11999186a92f",
   "metadata": {
    "tags": []
   },
   "outputs": [
    {
     "name": "stdout",
     "output_type": "stream",
     "text": [
      "Connection successful.\n",
      "<class 'pandas.core.frame.DataFrame'>\n",
      "RangeIndex: 6754420 entries, 0 to 6754419\n",
      "Data columns (total 23 columns):\n",
      " #   Column                            Dtype  \n",
      "---  ------                            -----  \n",
      " 0   cact                              object \n",
      " 1   cact-dunn_ca_sub_recency          float64\n",
      " 2   cact-intr_ca_sub_recency          float64\n",
      " 3   cact-inv_ca_sub_recency           float64\n",
      " 4   cact-ipymt_ca_sub_recency         float64\n",
      " 5   cact-opymt_ca_sub_recency         float64\n",
      " 6   cact-post_ca_sub_recency          float64\n",
      " 7   cleared_ca_sub_recency            float64\n",
      " 8   closed_ca_sub_recency             float64\n",
      " 9   collprop_ca_sub_recency           float64\n",
      " 10  create_ca_sub_recency             float64\n",
      " 11  deactive_ca_sub_recency           float64\n",
      " 12  fica-dunn_ca_sub_recency          float64\n",
      " 13  fica-intr_ca_sub_recency          float64\n",
      " 14  fica-post_ca_sub_recency          float64\n",
      " 15  fica-pymt_ca_sub_recency          float64\n",
      " 16  ip_amp_paymentdue_ca_sub_recency  float64\n",
      " 17  mimo_day_before_ca_sub_recency    float64\n",
      " 18  odfc_due_reminder_ca_sub_recency  float64\n",
      " 19  overdue_ca_sub_recency            float64\n",
      " 20  pymt_ca_sub_recency               float64\n",
      " 21  rchk_ca_sub_recency               float64\n",
      " 22  rever_ca_sub_recency              float64\n",
      "dtypes: float64(22), object(1)\n",
      "memory usage: 1.2+ GB\n"
     ]
    }
   ],
   "source": [
    "# recency in past 365 days\n",
    "PROJECT_ID = \"sceg-d-prj-dxg-002\" # repoint to sandbox environment\n",
    "vertexai.init(project=PROJECT_ID, location=\"us-central1\")\n",
    "fid_secret_string = access_secret_version(PROJECT_ID, \"fid_cred\")\n",
    "# Load functional id credentials from the secret JSON string\n",
    "functional_id_info = json.loads(fid_secret_string)\n",
    "# Extract the absolute path to the key file from the JSON\n",
    "fid_key_path = \"/tmp/fid_key.json\"  # Create a temporary file path in the container\n",
    "with open(fid_key_path, \"w\") as f:\n",
    "    json.dump(functional_id_info, f)\n",
    "# SNOWPARK SESSION CONNECTOR\n",
    "# Define your Snowflake connection parameters\n",
    "connection_parameters = {\n",
    "    \"account\": \"edwsce.west-us-2.azure\",\n",
    "    \"user\": functional_id_info[\"FID_USER\"],\n",
    "    \"password\": functional_id_info[\"FID_PASS\"],\n",
    "    \"authenticator\": \"https://eix.okta.com\",\n",
    "    \"warehouse\": \"PROD_IT_CS_CNSMPADHOCWH13\",\n",
    "    \"database\": \"PROD_IT_SS\",\n",
    "    \"schema\": \"IT_DPT_SS\"\n",
    "}\n",
    "max_retries = 3\n",
    "retry_count = 0\n",
    "while retry_count < max_retries:\n",
    "    try:\n",
    "        # Create a Snowpark session\n",
    "        session = Session.builder.configs(connection_parameters).create()\n",
    "        print(\"Connection successful.\")\n",
    "        # log print      \n",
    "        #log_message(f'Snowpark Snowflake connection successful, reading transcripts.', log_file_name, bucket_name, log_folder)\n",
    "        break\n",
    "    except Exception as e:\n",
    "        retry_count += 1\n",
    "        print(f\"Snowflake connection failed: {e}\")\n",
    "        if retry_count < max_retries:\n",
    "            print(f\"Retrying {retry_count}/{max_retries}...\")\n",
    "            time.sleep(3)  # Wait for 3 seconds before retrying\n",
    "        else:\n",
    "            print(\"Max retries reached. Exiting.\")\n",
    "            # log print      \n",
    "            #log_message(f'Snowpark Snowflake connection failed.', log_file_name, bucket_name, log_folder)\n",
    "\n",
    "sql_query = f\"\"\"\n",
    "select ev_obj_nbr as cact, * from \n",
    "(select EV_OBJ, ev_obj_nbr, concat(ev_sub_type, '_CA_sub_recency') as event_subtype, \n",
    "        min(datediff(day, to_date(EV_TYPE_VAL_DT_1), '2025-08-11')) as ev_sub_recency\n",
    "from PROD_CS_SS.CS_CSOD_BIC_SS.CS_EVENTS \n",
    "where ev_obj='CONTRACT_ACCT' and ev_obj_nbr > 0\n",
    "  AND to_date(EV_TYPE_VAL_DT_1) between DATEADD(day, -365, '2025-08-11') and DATEADD(day, -1, '2025-08-11')\n",
    "group by EV_OBJ, ev_obj_nbr, concat(ev_sub_type, '_CA_sub_recency')\n",
    "order by EV_OBJ, ev_obj_nbr, concat(ev_sub_type, '_CA_sub_recency')\n",
    ")\n",
    "PIVOT (max(ev_sub_recency) for event_subtype in (\n",
    "    select distinct concat(ev_sub_type, '_CA_sub_recency')\n",
    "    from PROD_CS_SS.CS_CSOD_BIC_SS.CS_EVENTS\n",
    "    where ev_obj='CONTRACT_ACCT' \n",
    "    and EV_TYPE_VAL_DT_1 between DATEADD(day, -365, '2025-08-11') and DATEADD(day, -1, '2025-08-11'))\n",
    ")\n",
    "where ev_obj_nbr > 0\n",
    "\"\"\"\n",
    "\n",
    "# Execute the query and collect the result\n",
    "snow_input = session.sql(sql_query).collect()\n",
    "# Convert the result to a pandas DataFrame\n",
    "df = pd.DataFrame(snow_input)\n",
    "df.columns = df.columns.str.replace(\"'\", '')\n",
    "df=df.drop(columns=[col for col in df.columns if col.startswith('EV_OBJ')])\n",
    "df.columns = df.columns.str.lower()\n",
    "df.info()"
   ]
  },
  {
   "cell_type": "code",
   "execution_count": 79,
   "id": "e0b321b4-6a7d-473c-8c4f-2676c3f12ecf",
   "metadata": {
    "tags": []
   },
   "outputs": [],
   "source": [
    "df.to_csv(str(path_name)+str('/CACT_event_subtype_recency.csv'), index=False)"
   ]
  },
  {
   "cell_type": "markdown",
   "id": "543d5190-53ac-4846-8c7b-58256bcf569d",
   "metadata": {},
   "source": [
    "#### 2.2.3 - subtype amount"
   ]
  },
  {
   "cell_type": "code",
   "execution_count": 80,
   "id": "09e32657-9c6a-4aab-b54d-64ed308903f5",
   "metadata": {
    "tags": []
   },
   "outputs": [
    {
     "name": "stdout",
     "output_type": "stream",
     "text": [
      "Connection successful.\n",
      "<class 'pandas.core.frame.DataFrame'>\n",
      "RangeIndex: 5766590 entries, 0 to 5766589\n",
      "Data columns (total 67 columns):\n",
      " #   Column                          Dtype \n",
      "---  ------                          ----- \n",
      " 0   cact                            object\n",
      " 1   cact-dunn_ca_sub_am_30          object\n",
      " 2   cact-intr_ca_sub_am_30          object\n",
      " 3   cact-inv_ca_sub_am_30           object\n",
      " 4   cact-ipymt_ca_sub_am_30         object\n",
      " 5   cact-opymt_ca_sub_am_30         object\n",
      " 6   cact-post_ca_sub_am_30          object\n",
      " 7   cleared_ca_sub_am_30            object\n",
      " 8   closed_ca_sub_am_30             object\n",
      " 9   collprop_ca_sub_am_30           object\n",
      " 10  create_ca_sub_am_30             object\n",
      " 11  deactive_ca_sub_am_30           object\n",
      " 12  fica-dunn_ca_sub_am_30          object\n",
      " 13  fica-intr_ca_sub_am_30          object\n",
      " 14  fica-post_ca_sub_am_30          object\n",
      " 15  fica-pymt_ca_sub_am_30          object\n",
      " 16  ip_amp_paymentdue_ca_sub_am_30  object\n",
      " 17  mimo_day_before_ca_sub_am_30    object\n",
      " 18  odfc_due_reminder_ca_sub_am_30  object\n",
      " 19  overdue_ca_sub_am_30            object\n",
      " 20  pymt_ca_sub_am_30               object\n",
      " 21  rchk_ca_sub_am_30               object\n",
      " 22  rever_ca_sub_am_30              object\n",
      " 23  cact-dunn_ca_sub_am_60          object\n",
      " 24  cact-intr_ca_sub_am_60          object\n",
      " 25  cact-inv_ca_sub_am_60           object\n",
      " 26  cact-ipymt_ca_sub_am_60         object\n",
      " 27  cact-opymt_ca_sub_am_60         object\n",
      " 28  cact-post_ca_sub_am_60          object\n",
      " 29  cleared_ca_sub_am_60            object\n",
      " 30  closed_ca_sub_am_60             object\n",
      " 31  collprop_ca_sub_am_60           object\n",
      " 32  create_ca_sub_am_60             object\n",
      " 33  deactive_ca_sub_am_60           object\n",
      " 34  fica-dunn_ca_sub_am_60          object\n",
      " 35  fica-intr_ca_sub_am_60          object\n",
      " 36  fica-post_ca_sub_am_60          object\n",
      " 37  fica-pymt_ca_sub_am_60          object\n",
      " 38  ip_amp_paymentdue_ca_sub_am_60  object\n",
      " 39  mimo_day_before_ca_sub_am_60    object\n",
      " 40  odfc_due_reminder_ca_sub_am_60  object\n",
      " 41  overdue_ca_sub_am_60            object\n",
      " 42  pymt_ca_sub_am_60               object\n",
      " 43  rchk_ca_sub_am_60               object\n",
      " 44  rever_ca_sub_am_60              object\n",
      " 45  cact-dunn_ca_sub_am_90          object\n",
      " 46  cact-intr_ca_sub_am_90          object\n",
      " 47  cact-inv_ca_sub_am_90           object\n",
      " 48  cact-ipymt_ca_sub_am_90         object\n",
      " 49  cact-opymt_ca_sub_am_90         object\n",
      " 50  cact-post_ca_sub_am_90          object\n",
      " 51  cleared_ca_sub_am_90            object\n",
      " 52  closed_ca_sub_am_90             object\n",
      " 53  collprop_ca_sub_am_90           object\n",
      " 54  create_ca_sub_am_90             object\n",
      " 55  deactive_ca_sub_am_90           object\n",
      " 56  fica-dunn_ca_sub_am_90          object\n",
      " 57  fica-intr_ca_sub_am_90          object\n",
      " 58  fica-post_ca_sub_am_90          object\n",
      " 59  fica-pymt_ca_sub_am_90          object\n",
      " 60  ip_amp_paymentdue_ca_sub_am_90  object\n",
      " 61  mimo_day_before_ca_sub_am_90    object\n",
      " 62  odfc_due_reminder_ca_sub_am_90  object\n",
      " 63  overdue_ca_sub_am_90            object\n",
      " 64  pymt_ca_sub_am_90               object\n",
      " 65  rchk_ca_sub_am_90               object\n",
      " 66  rever_ca_sub_am_90              object\n",
      "dtypes: object(67)\n",
      "memory usage: 2.9+ GB\n"
     ]
    }
   ],
   "source": [
    "#1-90 days\n",
    "PROJECT_ID = \"sceg-d-prj-dxg-002\" # repoint to sandbox environment\n",
    "vertexai.init(project=PROJECT_ID, location=\"us-central1\")\n",
    "fid_secret_string = access_secret_version(PROJECT_ID, \"fid_cred\")\n",
    "# Load functional id credentials from the secret JSON string\n",
    "functional_id_info = json.loads(fid_secret_string)\n",
    "# Extract the absolute path to the key file from the JSON\n",
    "fid_key_path = \"/tmp/fid_key.json\"  # Create a temporary file path in the container\n",
    "with open(fid_key_path, \"w\") as f:\n",
    "    json.dump(functional_id_info, f)\n",
    "# SNOWPARK SESSION CONNECTOR\n",
    "# Define your Snowflake connection parameters\n",
    "connection_parameters = {\n",
    "    \"account\": \"edwsce.west-us-2.azure\",\n",
    "    \"user\": functional_id_info[\"FID_USER\"],\n",
    "    \"password\": functional_id_info[\"FID_PASS\"],\n",
    "    \"authenticator\": \"https://eix.okta.com\",\n",
    "    \"warehouse\": \"PROD_IT_CS_CNSMPADHOCWH13\",\n",
    "    \"database\": \"PROD_IT_SS\",\n",
    "    \"schema\": \"IT_DPT_SS\"\n",
    "}\n",
    "max_retries = 3\n",
    "retry_count = 0\n",
    "while retry_count < max_retries:\n",
    "    try:\n",
    "        # Create a Snowpark session\n",
    "        session = Session.builder.configs(connection_parameters).create()\n",
    "        print(\"Connection successful.\")\n",
    "        # log print      \n",
    "        #log_message(f'Snowpark Snowflake connection successful, reading transcripts.', log_file_name, bucket_name, log_folder)\n",
    "        break\n",
    "    except Exception as e:\n",
    "        retry_count += 1\n",
    "        print(f\"Snowflake connection failed: {e}\")\n",
    "        if retry_count < max_retries:\n",
    "            print(f\"Retrying {retry_count}/{max_retries}...\")\n",
    "            time.sleep(3)  # Wait for 3 seconds before retrying\n",
    "        else:\n",
    "            print(\"Max retries reached. Exiting.\")\n",
    "            # log print      \n",
    "            #log_message(f'Snowpark Snowflake connection failed.', log_file_name, bucket_name, log_folder)\n",
    "\n",
    "sql_query = f\"\"\"\n",
    "select c.ev_obj_nbr as cact, * from \n",
    "(select * from\n",
    "(select EV_OBJ, ev_obj_nbr, concat(ev_sub_type, '_CA_sub_AM_30') as event_subtype, sum(ev_type_val_nbr) as ev_subtype_amt\n",
    "from PROD_CS_SS.CS_CSOD_BIC_SS.CS_EVENTS \n",
    "where ev_obj='CONTRACT_ACCT' and ev_obj_nbr > 0\n",
    "  and to_date(EV_TYPE_VAL_DT_1) between DATEADD(day, -31, current_date) and DATEADD(day, -1, current_date)\n",
    "group by EV_OBJ, ev_obj_nbr, concat(ev_sub_type, '_CA_sub_AM_30')\n",
    "order by EV_OBJ, ev_obj_nbr, concat(ev_sub_type, '_CA_sub_AM_30')\n",
    ")\n",
    "PIVOT (max(ev_subtype_amt) for event_subtype in (\n",
    "    select distinct concat(ev_sub_type, '_CA_sub_AM_30')\n",
    "    from PROD_CS_SS.CS_CSOD_BIC_SS.CS_EVENTS\n",
    "    where ev_obj='CONTRACT_ACCT' \n",
    "      and EV_TYPE_VAL_DT_1 between DATEADD(day, -31, current_date) and DATEADD(day, -1, current_date))\n",
    ")) a\n",
    "full outer join\n",
    "(select * from\n",
    "(select EV_OBJ, ev_obj_nbr, concat(ev_sub_type, '_CA_sub_AM_60') as event_subtype, sum(ev_type_val_nbr) as ev_subtype_amt\n",
    "from PROD_CS_SS.CS_CSOD_BIC_SS.CS_EVENTS \n",
    "where ev_obj='CONTRACT_ACCT' and ev_obj_nbr > 0\n",
    "  and to_date(EV_TYPE_VAL_DT_1) between DATEADD(day, -61, current_date) and DATEADD(day, -1, current_date)\n",
    "group by EV_OBJ, ev_obj_nbr, concat(ev_sub_type, '_CA_sub_AM_60')\n",
    "order by EV_OBJ, ev_obj_nbr, concat(ev_sub_type, '_CA_sub_AM_60')\n",
    ")\n",
    "PIVOT (max(ev_subtype_amt) for event_subtype in (\n",
    "    select distinct concat(ev_sub_type, '_CA_sub_AM_60')\n",
    "    from PROD_CS_SS.CS_CSOD_BIC_SS.CS_EVENTS\n",
    "    where ev_obj='CONTRACT_ACCT' \n",
    "      and to_date(EV_TYPE_VAL_DT_1) between DATEADD(day, -61, current_date) and DATEADD(day, -1, current_date))\n",
    ")) b\n",
    "on a.ev_obj_nbr=b.ev_obj_nbr\n",
    "full outer join\n",
    "(select * from\n",
    "(select EV_OBJ, ev_obj_nbr, concat(ev_sub_type, '_CA_sub_AM_90') as event_subtype, sum(ev_type_val_nbr) as ev_subtype_amt\n",
    "from PROD_CS_SS.CS_CSOD_BIC_SS.CS_EVENTS \n",
    "where ev_obj='CONTRACT_ACCT'  and ev_obj_nbr > 0\n",
    "  and to_date(EV_TYPE_VAL_DT_1) between DATEADD(day, -91, current_date) and DATEADD(day, -1, current_date)\n",
    "group by EV_OBJ, ev_obj_nbr, concat(ev_sub_type, '_CA_sub_AM_90')\n",
    "order by EV_OBJ, ev_obj_nbr, concat(ev_sub_type, '_CA_sub_AM_90')\n",
    ")\n",
    "PIVOT (max(ev_subtype_amt) for event_subtype in (\n",
    "    select distinct concat(ev_sub_type, '_CA_sub_AM_90')\n",
    "    from PROD_CS_SS.CS_CSOD_BIC_SS.CS_EVENTS\n",
    "    where ev_obj='CONTRACT_ACCT' \n",
    "      and to_date(EV_TYPE_VAL_DT_1) between DATEADD(day, -91, current_date) and DATEADD(day, -1, current_date))\n",
    ")) c\n",
    "on a.ev_obj_nbr=c.ev_obj_nbr\n",
    "where c.ev_obj_nbr > 0\n",
    "\"\"\"\n",
    "\n",
    "# Execute the query and collect the result\n",
    "snow_input = session.sql(sql_query).collect()\n",
    "# Convert the result to a pandas DataFrame\n",
    "df = pd.DataFrame(snow_input)\n",
    "df.columns = df.columns.str.replace(\"'\", '')\n",
    "df=df.drop(columns=[col for col in df.columns if col.startswith('EV_OBJ')])\n",
    "df.columns = df.columns.str.lower()\n",
    "df.info()"
   ]
  },
  {
   "cell_type": "code",
   "execution_count": 81,
   "id": "31d48f5b-853f-4e6a-ab31-e29e755bdc7b",
   "metadata": {},
   "outputs": [],
   "source": [
    "df.to_csv(str(path_name)+str('/CACT_event_subtype_am_1.csv'), index=False)"
   ]
  },
  {
   "cell_type": "code",
   "execution_count": 82,
   "id": "4b46b345-438a-4372-9683-c6c6e9961d95",
   "metadata": {},
   "outputs": [
    {
     "name": "stdout",
     "output_type": "stream",
     "text": [
      "Connection successful.\n",
      "<class 'pandas.core.frame.DataFrame'>\n",
      "RangeIndex: 6810284 entries, 0 to 6810283\n",
      "Data columns (total 45 columns):\n",
      " #   Column                           Dtype \n",
      "---  ------                           ----- \n",
      " 0   cact                             object\n",
      " 1   cact-dunn_ca_sub_am_180          object\n",
      " 2   cact-intr_ca_sub_am_180          object\n",
      " 3   cact-inv_ca_sub_am_180           object\n",
      " 4   cact-ipymt_ca_sub_am_180         object\n",
      " 5   cact-opymt_ca_sub_am_180         object\n",
      " 6   cact-post_ca_sub_am_180          object\n",
      " 7   cleared_ca_sub_am_180            object\n",
      " 8   closed_ca_sub_am_180             object\n",
      " 9   collprop_ca_sub_am_180           object\n",
      " 10  create_ca_sub_am_180             object\n",
      " 11  deactive_ca_sub_am_180           object\n",
      " 12  fica-dunn_ca_sub_am_180          object\n",
      " 13  fica-intr_ca_sub_am_180          object\n",
      " 14  fica-post_ca_sub_am_180          object\n",
      " 15  fica-pymt_ca_sub_am_180          object\n",
      " 16  ip_amp_paymentdue_ca_sub_am_180  object\n",
      " 17  mimo_day_before_ca_sub_am_180    object\n",
      " 18  odfc_due_reminder_ca_sub_am_180  object\n",
      " 19  overdue_ca_sub_am_180            object\n",
      " 20  pymt_ca_sub_am_180               object\n",
      " 21  rchk_ca_sub_am_180               object\n",
      " 22  rever_ca_sub_am_180              object\n",
      " 23  cact-dunn_ca_sub_am_360          object\n",
      " 24  cact-intr_ca_sub_am_360          object\n",
      " 25  cact-inv_ca_sub_am_360           object\n",
      " 26  cact-ipymt_ca_sub_am_360         object\n",
      " 27  cact-opymt_ca_sub_am_360         object\n",
      " 28  cact-post_ca_sub_am_360          object\n",
      " 29  cleared_ca_sub_am_360            object\n",
      " 30  closed_ca_sub_am_360             object\n",
      " 31  collprop_ca_sub_am_360           object\n",
      " 32  create_ca_sub_am_360             object\n",
      " 33  deactive_ca_sub_am_360           object\n",
      " 34  fica-dunn_ca_sub_am_360          object\n",
      " 35  fica-intr_ca_sub_am_360          object\n",
      " 36  fica-post_ca_sub_am_360          object\n",
      " 37  fica-pymt_ca_sub_am_360          object\n",
      " 38  ip_amp_paymentdue_ca_sub_am_360  object\n",
      " 39  mimo_day_before_ca_sub_am_360    object\n",
      " 40  odfc_due_reminder_ca_sub_am_360  object\n",
      " 41  overdue_ca_sub_am_360            object\n",
      " 42  pymt_ca_sub_am_360               object\n",
      " 43  rchk_ca_sub_am_360               object\n",
      " 44  rever_ca_sub_am_360              object\n",
      "dtypes: object(45)\n",
      "memory usage: 2.3+ GB\n"
     ]
    }
   ],
   "source": [
    "#180-365 days\n",
    "PROJECT_ID = \"sceg-d-prj-dxg-002\" # repoint to sandbox environment\n",
    "vertexai.init(project=PROJECT_ID, location=\"us-central1\")\n",
    "fid_secret_string = access_secret_version(PROJECT_ID, \"fid_cred\")\n",
    "# Load functional id credentials from the secret JSON string\n",
    "functional_id_info = json.loads(fid_secret_string)\n",
    "# Extract the absolute path to the key file from the JSON\n",
    "fid_key_path = \"/tmp/fid_key.json\"  # Create a temporary file path in the container\n",
    "with open(fid_key_path, \"w\") as f:\n",
    "    json.dump(functional_id_info, f)\n",
    "# SNOWPARK SESSION CONNECTOR\n",
    "# Define your Snowflake connection parameters\n",
    "connection_parameters = {\n",
    "    \"account\": \"edwsce.west-us-2.azure\",\n",
    "    \"user\": functional_id_info[\"FID_USER\"],\n",
    "    \"password\": functional_id_info[\"FID_PASS\"],\n",
    "    \"authenticator\": \"https://eix.okta.com\",\n",
    "    \"warehouse\": \"PROD_IT_CS_CNSMPADHOCWH13\",\n",
    "    \"database\": \"PROD_IT_SS\",\n",
    "    \"schema\": \"IT_DPT_SS\"\n",
    "}\n",
    "max_retries = 3\n",
    "retry_count = 0\n",
    "while retry_count < max_retries:\n",
    "    try:\n",
    "        # Create a Snowpark session\n",
    "        session = Session.builder.configs(connection_parameters).create()\n",
    "        print(\"Connection successful.\")\n",
    "        # log print      \n",
    "        #log_message(f'Snowpark Snowflake connection successful, reading transcripts.', log_file_name, bucket_name, log_folder)\n",
    "        break\n",
    "    except Exception as e:\n",
    "        retry_count += 1\n",
    "        print(f\"Snowflake connection failed: {e}\")\n",
    "        if retry_count < max_retries:\n",
    "            print(f\"Retrying {retry_count}/{max_retries}...\")\n",
    "            time.sleep(3)  # Wait for 3 seconds before retrying\n",
    "        else:\n",
    "            print(\"Max retries reached. Exiting.\")\n",
    "            # log print      \n",
    "            #log_message(f'Snowpark Snowflake connection failed.', log_file_name, bucket_name, log_folder)\n",
    "\n",
    "sql_query = f\"\"\"\n",
    "select e.ev_obj_nbr as cact, * from \n",
    "(select * from\n",
    "(select EV_OBJ, ev_obj_nbr, concat(ev_sub_type, '_CA_sub_AM_180') as event_subtype, sum(ev_type_val_nbr) as ev_subtype_amt\n",
    "from PROD_CS_SS.CS_CSOD_BIC_SS.CS_EVENTS \n",
    "where ev_obj='CONTRACT_ACCT' and ev_obj_nbr > 0\n",
    "  and to_date(EV_TYPE_VAL_DT_1) between DATEADD(day, -181, current_date) and DATEADD(day, -1, current_date)\n",
    "group by EV_OBJ, ev_obj_nbr, concat(ev_sub_type, '_CA_sub_AM_180')\n",
    "order by EV_OBJ, ev_obj_nbr, concat(ev_sub_type, '_CA_sub_AM_180')\n",
    ")\n",
    "PIVOT (max(ev_subtype_amt) for event_subtype in (\n",
    "    select distinct concat(ev_sub_type, '_CA_sub_AM_180')\n",
    "    from PROD_CS_SS.CS_CSOD_BIC_SS.CS_EVENTS\n",
    "    where ev_obj='CONTRACT_ACCT' \n",
    "      and EV_TYPE_VAL_DT_1 between DATEADD(day, -181, current_date) and DATEADD(day, -1, current_date))\n",
    ")) d\n",
    "full outer join\n",
    "(select * from\n",
    "(select EV_OBJ, ev_obj_nbr, concat(ev_sub_type, '_CA_sub_AM_360') as event_subtype, sum(ev_type_val_nbr) as ev_subtype_amt\n",
    "from PROD_CS_SS.CS_CSOD_BIC_SS.CS_EVENTS \n",
    "where ev_obj='CONTRACT_ACCT' and ev_obj_nbr > 0\n",
    "  and to_date(EV_TYPE_VAL_DT_1) between DATEADD(day, -361, current_date) and DATEADD(day, -1, current_date)\n",
    "group by EV_OBJ, ev_obj_nbr, concat(ev_sub_type, '_CA_sub_AM_360')\n",
    "order by EV_OBJ, ev_obj_nbr, concat(ev_sub_type, '_CA_sub_AM_360')\n",
    ")\n",
    "PIVOT (max(ev_subtype_amt) for event_subtype in (\n",
    "    select distinct concat(ev_sub_type, '_CA_sub_AM_360')\n",
    "    from PROD_CS_SS.CS_CSOD_BIC_SS.CS_EVENTS\n",
    "    where ev_obj='CONTRACT_ACCT' \n",
    "      and to_date(EV_TYPE_VAL_DT_1) between DATEADD(day, -361, current_date) and DATEADD(day, -1, current_date))\n",
    ")) e\n",
    "on d.ev_obj_nbr=e.ev_obj_nbr\n",
    "and e.ev_obj_nbr > 0\n",
    "\"\"\"\n",
    "\n",
    "# Execute the query and collect the result\n",
    "snow_input = session.sql(sql_query).collect()\n",
    "# Convert the result to a pandas DataFrame\n",
    "df = pd.DataFrame(snow_input)\n",
    "df.columns = df.columns.str.replace(\"'\", '')\n",
    "df=df.drop(columns=[col for col in df.columns if col.startswith('EV_OBJ')])\n",
    "df.columns = df.columns.str.lower()\n",
    "df.info()"
   ]
  },
  {
   "cell_type": "code",
   "execution_count": 83,
   "id": "e3c67758-552e-4663-b9f1-5af5e521ed83",
   "metadata": {},
   "outputs": [],
   "source": [
    "df.to_csv(str(path_name)+str('/CACT_event_subtype_am_2.csv'), index=False)"
   ]
  },
  {
   "cell_type": "markdown",
   "id": "3ef6a186-4488-4c11-b9c7-87d9abd85592",
   "metadata": {},
   "source": [
    "#### 2.3 - event type and subtype combined"
   ]
  },
  {
   "cell_type": "markdown",
   "id": "71fa7b38-8c36-4439-b12d-4429fea3f9f1",
   "metadata": {},
   "source": [
    "#### 2.3.1 - count"
   ]
  },
  {
   "cell_type": "code",
   "execution_count": 84,
   "id": "f4289b46-3e29-4429-993d-2b3008804d35",
   "metadata": {
    "tags": []
   },
   "outputs": [
    {
     "name": "stdout",
     "output_type": "stream",
     "text": [
      "Connection successful.\n",
      "<class 'pandas.core.frame.DataFrame'>\n",
      "RangeIndex: 5896710 entries, 0 to 5896709\n",
      "Data columns (total 73 columns):\n",
      " #   Column                             Dtype  \n",
      "---  ------                             -----  \n",
      " 0   cact                               object \n",
      " 1   inplZcleared_ca_ct_30d             float64\n",
      " 2   inplZclosed_ca_ct_30d              float64\n",
      " 3   inplZcreate_ca_ct_30d              float64\n",
      " 4   inplZdeactive_ca_ct_30d            float64\n",
      " 5   inplZoverdue_ca_ct_30d             float64\n",
      " 6   invceZcreate_ca_ct_30d             float64\n",
      " 7   invceZrever_ca_ct_30d              float64\n",
      " 8   lockZcact-dunn_ca_ct_30d           float64\n",
      " 9   lockZcact-intr_ca_ct_30d           float64\n",
      " 10  lockZcact-inv_ca_ct_30d            float64\n",
      " 11  lockZcact-ipymt_ca_ct_30d          float64\n",
      " 12  lockZcact-opymt_ca_ct_30d          float64\n",
      " 13  lockZcact-post_ca_ct_30d           float64\n",
      " 14  lockZfica-dunn_ca_ct_30d           float64\n",
      " 15  lockZfica-intr_ca_ct_30d           float64\n",
      " 16  lockZfica-post_ca_ct_30d           float64\n",
      " 17  lockZfica-pymt_ca_ct_30d           float64\n",
      " 18  pcommZip_amp_paymentdue_ca_ct_30d  float64\n",
      " 19  pcommZmimo_day_before_ca_ct_30d    float64\n",
      " 20  pcommZodfc_due_reminder_ca_ct_30d  float64\n",
      " 21  predZcollprop_ca_ct_30d            float64\n",
      " 22  pymtZpymt_ca_ct_30d                float64\n",
      " 23  pymtZrchk_ca_ct_30d                float64\n",
      " 24  pymtZrever_ca_ct_30d               float64\n",
      " 25  inplZcleared_ca_ct_60d             float64\n",
      " 26  inplZclosed_ca_ct_60d              float64\n",
      " 27  inplZcreate_ca_ct_60d              float64\n",
      " 28  inplZdeactive_ca_ct_60d            float64\n",
      " 29  inplZoverdue_ca_ct_60d             float64\n",
      " 30  invceZcreate_ca_ct_60d             float64\n",
      " 31  invceZrever_ca_ct_60d              float64\n",
      " 32  lockZcact-dunn_ca_ct_60d           float64\n",
      " 33  lockZcact-intr_ca_ct_60d           float64\n",
      " 34  lockZcact-inv_ca_ct_60d            float64\n",
      " 35  lockZcact-ipymt_ca_ct_60d          float64\n",
      " 36  lockZcact-opymt_ca_ct_60d          float64\n",
      " 37  lockZcact-post_ca_ct_60d           float64\n",
      " 38  lockZfica-dunn_ca_ct_60d           float64\n",
      " 39  lockZfica-intr_ca_ct_60d           float64\n",
      " 40  lockZfica-post_ca_ct_60d           float64\n",
      " 41  lockZfica-pymt_ca_ct_60d           float64\n",
      " 42  pcommZip_amp_paymentdue_ca_ct_60d  float64\n",
      " 43  pcommZmimo_day_before_ca_ct_60d    float64\n",
      " 44  pcommZodfc_due_reminder_ca_ct_60d  float64\n",
      " 45  predZcollprop_ca_ct_60d            float64\n",
      " 46  pymtZpymt_ca_ct_60d                float64\n",
      " 47  pymtZrchk_ca_ct_60d                float64\n",
      " 48  pymtZrever_ca_ct_60d               float64\n",
      " 49  inplZcleared_ca_ct_90d             float64\n",
      " 50  inplZclosed_ca_ct_90d              float64\n",
      " 51  inplZcreate_ca_ct_90d              float64\n",
      " 52  inplZdeactive_ca_ct_90d            float64\n",
      " 53  inplZoverdue_ca_ct_90d             float64\n",
      " 54  invceZcreate_ca_ct_90d             float64\n",
      " 55  invceZrever_ca_ct_90d              float64\n",
      " 56  lockZcact-dunn_ca_ct_90d           float64\n",
      " 57  lockZcact-intr_ca_ct_90d           float64\n",
      " 58  lockZcact-inv_ca_ct_90d            float64\n",
      " 59  lockZcact-ipymt_ca_ct_90d          float64\n",
      " 60  lockZcact-opymt_ca_ct_90d          float64\n",
      " 61  lockZcact-post_ca_ct_90d           float64\n",
      " 62  lockZfica-dunn_ca_ct_90d           float64\n",
      " 63  lockZfica-intr_ca_ct_90d           float64\n",
      " 64  lockZfica-post_ca_ct_90d           float64\n",
      " 65  lockZfica-pymt_ca_ct_90d           float64\n",
      " 66  pcommZip_amp_paymentdue_ca_ct_90d  float64\n",
      " 67  pcommZmimo_day_before_ca_ct_90d    float64\n",
      " 68  pcommZodfc_due_reminder_ca_ct_90d  float64\n",
      " 69  predZcollprop_ca_ct_90d            float64\n",
      " 70  pymtZpymt_ca_ct_90d                float64\n",
      " 71  pymtZrchk_ca_ct_90d                float64\n",
      " 72  pymtZrever_ca_ct_90d               float64\n",
      "dtypes: float64(72), object(1)\n",
      "memory usage: 3.2+ GB\n"
     ]
    }
   ],
   "source": [
    "PROJECT_ID = \"sceg-d-prj-dxg-002\" # repoint to sandbox environment\n",
    "vertexai.init(project=PROJECT_ID, location=\"us-central1\")\n",
    "fid_secret_string = access_secret_version(PROJECT_ID, \"fid_cred\")\n",
    "# Load functional id credentials from the secret JSON string\n",
    "functional_id_info = json.loads(fid_secret_string)\n",
    "# Extract the absolute path to the key file from the JSON\n",
    "fid_key_path = \"/tmp/fid_key.json\"  # Create a temporary file path in the container\n",
    "with open(fid_key_path, \"w\") as f:\n",
    "    json.dump(functional_id_info, f)\n",
    "# SNOWPARK SESSION CONNECTOR\n",
    "# Define your Snowflake connection parameters\n",
    "connection_parameters = {\n",
    "    \"account\": \"edwsce.west-us-2.azure\",\n",
    "    \"user\": functional_id_info[\"FID_USER\"],\n",
    "    \"password\": functional_id_info[\"FID_PASS\"],\n",
    "    \"authenticator\": \"https://eix.okta.com\",\n",
    "    \"warehouse\": \"PROD_IT_CS_CNSMPADHOCWH13\",\n",
    "    \"database\": \"PROD_IT_SS\",\n",
    "    \"schema\": \"IT_DPT_SS\"\n",
    "}\n",
    "max_retries = 3\n",
    "retry_count = 0\n",
    "while retry_count < max_retries:\n",
    "    try:\n",
    "        # Create a Snowpark session\n",
    "        session = Session.builder.configs(connection_parameters).create()\n",
    "        print(\"Connection successful.\")\n",
    "        # log print      \n",
    "        #log_message(f'Snowpark Snowflake connection successful, reading transcripts.', log_file_name, bucket_name, log_folder)\n",
    "        break\n",
    "    except Exception as e:\n",
    "        retry_count += 1\n",
    "        print(f\"Snowflake connection failed: {e}\")\n",
    "        if retry_count < max_retries:\n",
    "            print(f\"Retrying {retry_count}/{max_retries}...\")\n",
    "            time.sleep(3)  # Wait for 3 seconds before retrying\n",
    "        else:\n",
    "            print(\"Max retries reached. Exiting.\")\n",
    "            # log print      \n",
    "            #log_message(f'Snowpark Snowflake connection failed.', log_file_name, bucket_name, log_folder)\n",
    "\n",
    "sql_query = f\"\"\"\n",
    "select c.ev_obj_nbr as cact, * from \n",
    "(select * from\n",
    "(select EV_OBJ, ev_obj_nbr, concat(ev_type, 'z', ev_sub_type, '_CA_CT_30D') as event_type, count(ev_type_val_nbr) as ev_type_ct\n",
    "from PROD_CS_SS.CS_CSOD_BIC_SS.CS_EVENTS \n",
    "where ev_obj='CONTRACT_ACCT' and ev_obj_nbr > 0\n",
    "  and to_date(EV_TYPE_VAL_DT_1) between DATEADD(day, -31, current_date) and DATEADD(day, -1, current_date)\n",
    "group by EV_OBJ, ev_obj_nbr, concat(ev_type, 'z', ev_sub_type, '_CA_CT_30D')\n",
    "order by EV_OBJ, ev_obj_nbr, concat(ev_type, 'z', ev_sub_type, '_CA_CT_30D')\n",
    ")\n",
    "PIVOT (max(ev_type_ct) for event_type in (\n",
    "    select distinct concat(ev_type, 'z', ev_sub_type, '_CA_CT_30D')\n",
    "    from PROD_CS_SS.CS_CSOD_BIC_SS.CS_EVENTS\n",
    "    where ev_obj='CONTRACT_ACCT' \n",
    "      and EV_TYPE_VAL_DT_1 between DATEADD(day, -31, current_date) and DATEADD(day, -1, current_date))\n",
    ")) a\n",
    "full outer join\n",
    "(select * from\n",
    "(select EV_OBJ, ev_obj_nbr, concat(ev_type, 'z', ev_sub_type, '_CA_CT_60D') as event_type, count(ev_type_val_nbr) as ev_type_ct\n",
    "from PROD_CS_SS.CS_CSOD_BIC_SS.CS_EVENTS \n",
    "where ev_obj='CONTRACT_ACCT' and ev_obj_nbr > 0\n",
    "  and to_date(EV_TYPE_VAL_DT_1) between DATEADD(day, -61, current_date) and DATEADD(day, -1, current_date)\n",
    "group by EV_OBJ, ev_obj_nbr, concat(ev_type, 'z', ev_sub_type, '_CA_CT_60D')\n",
    "order by EV_OBJ, ev_obj_nbr, concat(ev_type, 'z', ev_sub_type, '_CA_CT_60D')\n",
    ")\n",
    "PIVOT (max(ev_type_ct) for event_type in (\n",
    "    select distinct concat(ev_type, 'z', ev_sub_type, '_CA_CT_60D')\n",
    "    from PROD_CS_SS.CS_CSOD_BIC_SS.CS_EVENTS\n",
    "    where ev_obj='CONTRACT_ACCT' \n",
    "      and to_date(EV_TYPE_VAL_DT_1) between DATEADD(day, -61, current_date) and DATEADD(day, -1, current_date))\n",
    ")) b\n",
    "on a.ev_obj_nbr=b.ev_obj_nbr\n",
    "full outer join\n",
    "(select * from\n",
    "(select EV_OBJ, ev_obj_nbr, concat(ev_type, 'z', ev_sub_type, '_CA_CT_90D') as event_type, count(ev_type_val_nbr) as ev_type_ct\n",
    "from PROD_CS_SS.CS_CSOD_BIC_SS.CS_EVENTS \n",
    "where ev_obj='CONTRACT_ACCT'  and ev_obj_nbr > 0\n",
    "  and to_date(EV_TYPE_VAL_DT_1) between DATEADD(day, -91, current_date) and DATEADD(day, -1, current_date)\n",
    "group by EV_OBJ, ev_obj_nbr, concat(ev_type, 'z', ev_sub_type, '_CA_CT_90D')\n",
    "order by EV_OBJ, ev_obj_nbr, concat(ev_type, 'z', ev_sub_type, '_CA_CT_90D')\n",
    ")\n",
    "PIVOT (max(ev_type_ct) for event_type in (\n",
    "    select distinct concat(ev_type, 'z', ev_sub_type, '_CA_CT_90D')\n",
    "    from PROD_CS_SS.CS_CSOD_BIC_SS.CS_EVENTS\n",
    "    where ev_obj='CONTRACT_ACCT' \n",
    "      and to_date(EV_TYPE_VAL_DT_1) between DATEADD(day, -91, current_date) and DATEADD(day, -1, current_date))\n",
    ")) c\n",
    "on a.ev_obj_nbr=c.ev_obj_nbr\n",
    "\"\"\"\n",
    "\n",
    "# Execute the query and collect the result\n",
    "snow_input = session.sql(sql_query).collect()\n",
    "# Convert the result to a pandas DataFrame\n",
    "df = pd.DataFrame(snow_input)\n",
    "df.columns = df.columns.str.replace(\"'\", '')\n",
    "df=df.drop(columns=[col for col in df.columns if col.startswith('EV_OBJ')])\n",
    "df.columns = df.columns.str.lower()\n",
    "df.columns = df.columns.str.replace(\"z\", 'Z')\n",
    "df.info()"
   ]
  },
  {
   "cell_type": "code",
   "execution_count": 85,
   "id": "b81be26f-5670-4680-a489-3ee3e11b2c3a",
   "metadata": {
    "tags": []
   },
   "outputs": [],
   "source": [
    "df.to_csv(str(path_name)+str('/CACT_event_com_ct_1.csv'), index=False)"
   ]
  },
  {
   "cell_type": "code",
   "execution_count": 86,
   "id": "ffedd3de-38a3-4c81-9058-40e52dda22a0",
   "metadata": {
    "tags": []
   },
   "outputs": [
    {
     "name": "stdout",
     "output_type": "stream",
     "text": [
      "Connection successful.\n",
      "<class 'pandas.core.frame.DataFrame'>\n",
      "RangeIndex: 6810284 entries, 0 to 6810283\n",
      "Data columns (total 49 columns):\n",
      " #   Column                              Dtype  \n",
      "---  ------                              -----  \n",
      " 0   cact                                object \n",
      " 1   inplZcleared_ca_ct_180d             float64\n",
      " 2   inplZclosed_ca_ct_180d              float64\n",
      " 3   inplZcreate_ca_ct_180d              float64\n",
      " 4   inplZdeactive_ca_ct_180d            float64\n",
      " 5   inplZoverdue_ca_ct_180d             float64\n",
      " 6   invceZcreate_ca_ct_180d             float64\n",
      " 7   invceZrever_ca_ct_180d              float64\n",
      " 8   lockZcact-dunn_ca_ct_180d           float64\n",
      " 9   lockZcact-intr_ca_ct_180d           float64\n",
      " 10  lockZcact-inv_ca_ct_180d            float64\n",
      " 11  lockZcact-ipymt_ca_ct_180d          float64\n",
      " 12  lockZcact-opymt_ca_ct_180d          float64\n",
      " 13  lockZcact-post_ca_ct_180d           float64\n",
      " 14  lockZfica-dunn_ca_ct_180d           float64\n",
      " 15  lockZfica-intr_ca_ct_180d           float64\n",
      " 16  lockZfica-post_ca_ct_180d           float64\n",
      " 17  lockZfica-pymt_ca_ct_180d           float64\n",
      " 18  pcommZip_amp_paymentdue_ca_ct_180d  float64\n",
      " 19  pcommZmimo_day_before_ca_ct_180d    float64\n",
      " 20  pcommZodfc_due_reminder_ca_ct_180d  float64\n",
      " 21  predZcollprop_ca_ct_180d            float64\n",
      " 22  pymtZpymt_ca_ct_180d                float64\n",
      " 23  pymtZrchk_ca_ct_180d                float64\n",
      " 24  pymtZrever_ca_ct_180d               float64\n",
      " 25  inplZcleared_ca_ct_360d             float64\n",
      " 26  inplZclosed_ca_ct_360d              float64\n",
      " 27  inplZcreate_ca_ct_360d              float64\n",
      " 28  inplZdeactive_ca_ct_360d            float64\n",
      " 29  inplZoverdue_ca_ct_360d             float64\n",
      " 30  invceZcreate_ca_ct_360d             float64\n",
      " 31  invceZrever_ca_ct_360d              float64\n",
      " 32  lockZcact-dunn_ca_ct_360d           float64\n",
      " 33  lockZcact-intr_ca_ct_360d           float64\n",
      " 34  lockZcact-inv_ca_ct_360d            float64\n",
      " 35  lockZcact-ipymt_ca_ct_360d          float64\n",
      " 36  lockZcact-opymt_ca_ct_360d          float64\n",
      " 37  lockZcact-post_ca_ct_360d           float64\n",
      " 38  lockZfica-dunn_ca_ct_360d           float64\n",
      " 39  lockZfica-intr_ca_ct_360d           float64\n",
      " 40  lockZfica-post_ca_ct_360d           float64\n",
      " 41  lockZfica-pymt_ca_ct_360d           float64\n",
      " 42  pcommZip_amp_paymentdue_ca_ct_360d  float64\n",
      " 43  pcommZmimo_day_before_ca_ct_360d    float64\n",
      " 44  pcommZodfc_due_reminder_ca_ct_360d  float64\n",
      " 45  predZcollprop_ca_ct_360d            float64\n",
      " 46  pymtZpymt_ca_ct_360d                float64\n",
      " 47  pymtZrchk_ca_ct_360d                float64\n",
      " 48  pymtZrever_ca_ct_360d               float64\n",
      "dtypes: float64(48), object(1)\n",
      "memory usage: 2.5+ GB\n"
     ]
    }
   ],
   "source": [
    "PROJECT_ID = \"sceg-d-prj-dxg-002\" # repoint to sandbox environment\n",
    "vertexai.init(project=PROJECT_ID, location=\"us-central1\")\n",
    "fid_secret_string = access_secret_version(PROJECT_ID, \"fid_cred\")\n",
    "# Load functional id credentials from the secret JSON string\n",
    "functional_id_info = json.loads(fid_secret_string)\n",
    "# Extract the absolute path to the key file from the JSON\n",
    "fid_key_path = \"/tmp/fid_key.json\"  # Create a temporary file path in the container\n",
    "with open(fid_key_path, \"w\") as f:\n",
    "    json.dump(functional_id_info, f)\n",
    "# SNOWPARK SESSION CONNECTOR\n",
    "# Define your Snowflake connection parameters\n",
    "connection_parameters = {\n",
    "    \"account\": \"edwsce.west-us-2.azure\",\n",
    "    \"user\": functional_id_info[\"FID_USER\"],\n",
    "    \"password\": functional_id_info[\"FID_PASS\"],\n",
    "    \"authenticator\": \"https://eix.okta.com\",\n",
    "    \"warehouse\": \"PROD_IT_CS_CNSMPADHOCWH13\",\n",
    "    \"database\": \"PROD_IT_SS\",\n",
    "    \"schema\": \"IT_DPT_SS\"\n",
    "}\n",
    "max_retries = 3\n",
    "retry_count = 0\n",
    "while retry_count < max_retries:\n",
    "    try:\n",
    "        # Create a Snowpark session\n",
    "        session = Session.builder.configs(connection_parameters).create()\n",
    "        print(\"Connection successful.\")\n",
    "        # log print      \n",
    "        #log_message(f'Snowpark Snowflake connection successful, reading transcripts.', log_file_name, bucket_name, log_folder)\n",
    "        break\n",
    "    except Exception as e:\n",
    "        retry_count += 1\n",
    "        print(f\"Snowflake connection failed: {e}\")\n",
    "        if retry_count < max_retries:\n",
    "            print(f\"Retrying {retry_count}/{max_retries}...\")\n",
    "            time.sleep(3)  # Wait for 3 seconds before retrying\n",
    "        else:\n",
    "            print(\"Max retries reached. Exiting.\")\n",
    "            # log print      \n",
    "            #log_message(f'Snowpark Snowflake connection failed.', log_file_name, bucket_name, log_folder)\n",
    "\n",
    "sql_query = f\"\"\"\n",
    "select b.ev_obj_nbr as cact, * from \n",
    "(select * from\n",
    "(select EV_OBJ, ev_obj_nbr, concat(ev_type, 'z', ev_sub_type, '_CA_CT_180D') as event_type, count(ev_type_val_nbr) as ev_type_ct\n",
    "from PROD_CS_SS.CS_CSOD_BIC_SS.CS_EVENTS \n",
    "where ev_obj='CONTRACT_ACCT' and ev_obj_nbr > 0\n",
    "  and to_date(EV_TYPE_VAL_DT_1) between DATEADD(day, -181, current_date) and DATEADD(day, -1, current_date)\n",
    "group by EV_OBJ, ev_obj_nbr, concat(ev_type, 'z', ev_sub_type, '_CA_CT_180D')\n",
    "order by EV_OBJ, ev_obj_nbr, concat(ev_type, 'z', ev_sub_type, '_CA_CT_180D')\n",
    ")\n",
    "PIVOT (max(ev_type_ct) for event_type in (\n",
    "    select distinct concat(ev_type, 'z', ev_sub_type, '_CA_CT_180D')\n",
    "    from PROD_CS_SS.CS_CSOD_BIC_SS.CS_EVENTS\n",
    "    where ev_obj='CONTRACT_ACCT' \n",
    "      and EV_TYPE_VAL_DT_1 between DATEADD(day, -181, current_date) and DATEADD(day, -1, current_date))\n",
    ")) a\n",
    "full outer join\n",
    "(select * from\n",
    "(select EV_OBJ, ev_obj_nbr, concat(ev_type, 'z', ev_sub_type, '_CA_CT_360D') as event_type, count(ev_type_val_nbr) as ev_type_ct\n",
    "from PROD_CS_SS.CS_CSOD_BIC_SS.CS_EVENTS \n",
    "where ev_obj='CONTRACT_ACCT' and ev_obj_nbr > 0\n",
    "  and to_date(EV_TYPE_VAL_DT_1) between DATEADD(day, -361, current_date) and DATEADD(day, -1, current_date)\n",
    "group by EV_OBJ, ev_obj_nbr, concat(ev_type, 'z', ev_sub_type, '_CA_CT_360D')\n",
    "order by EV_OBJ, ev_obj_nbr, concat(ev_type, 'z', ev_sub_type, '_CA_CT_360D')\n",
    ")\n",
    "PIVOT (max(ev_type_ct) for event_type in (\n",
    "    select distinct concat(ev_type, 'z', ev_sub_type, '_CA_CT_360D')\n",
    "    from PROD_CS_SS.CS_CSOD_BIC_SS.CS_EVENTS\n",
    "    where ev_obj='CONTRACT_ACCT' \n",
    "      and to_date(EV_TYPE_VAL_DT_1) between DATEADD(day, -361, current_date) and DATEADD(day, -1, current_date))\n",
    ")) b\n",
    "on a.ev_obj_nbr=b.ev_obj_nbr\n",
    "where b.ev_obj_nbr > 0\n",
    "\"\"\"\n",
    "\n",
    "# Execute the query and collect the result\n",
    "snow_input = session.sql(sql_query).collect()\n",
    "# Convert the result to a pandas DataFrame\n",
    "df = pd.DataFrame(snow_input)\n",
    "df.columns = df.columns.str.replace(\"'\", '')\n",
    "df=df.drop(columns=[col for col in df.columns if col.startswith('EV_OBJ')])\n",
    "df.columns = df.columns.str.lower()\n",
    "df.columns = df.columns.str.replace(\"z\", 'Z')\n",
    "df.info()"
   ]
  },
  {
   "cell_type": "code",
   "execution_count": 87,
   "id": "052c3d90-ec17-45e6-bf77-9eb151741347",
   "metadata": {
    "tags": []
   },
   "outputs": [
    {
     "data": {
      "text/plain": [
       "(6810284, 49)"
      ]
     },
     "execution_count": 87,
     "metadata": {},
     "output_type": "execute_result"
    }
   ],
   "source": [
    "df.shape"
   ]
  },
  {
   "cell_type": "code",
   "execution_count": 88,
   "id": "9229eefe-0b47-4566-9dea-162d8f65a4a6",
   "metadata": {
    "tags": []
   },
   "outputs": [],
   "source": [
    "df.to_csv(str(path_name)+str('/CACT_event_com_ct_2.csv'), index=False)"
   ]
  },
  {
   "cell_type": "markdown",
   "id": "704577f4-0a8f-45bd-bd57-3cdc3f30fbbf",
   "metadata": {},
   "source": [
    "#### 2.3.2 - recency"
   ]
  },
  {
   "cell_type": "code",
   "execution_count": 89,
   "id": "b26e5df6-1bfe-4d40-8a06-b8223cb1a4b2",
   "metadata": {
    "tags": []
   },
   "outputs": [
    {
     "name": "stdout",
     "output_type": "stream",
     "text": [
      "Connection successful.\n",
      "<class 'pandas.core.frame.DataFrame'>\n",
      "RangeIndex: 6820319 entries, 0 to 6820318\n",
      "Data columns (total 25 columns):\n",
      " #   Column                              Dtype  \n",
      "---  ------                              -----  \n",
      " 0   cact                                object \n",
      " 1   inplZcleared_ca_recency             float64\n",
      " 2   inplZclosed_ca_recency              float64\n",
      " 3   inplZcreate_ca_recency              float64\n",
      " 4   inplZdeactive_ca_recency            float64\n",
      " 5   inplZoverdue_ca_recency             float64\n",
      " 6   invceZcreate_ca_recency             float64\n",
      " 7   invceZrever_ca_recency              float64\n",
      " 8   lockZcact-dunn_ca_recency           float64\n",
      " 9   lockZcact-intr_ca_recency           float64\n",
      " 10  lockZcact-inv_ca_recency            float64\n",
      " 11  lockZcact-ipymt_ca_recency          float64\n",
      " 12  lockZcact-opymt_ca_recency          float64\n",
      " 13  lockZcact-post_ca_recency           float64\n",
      " 14  lockZfica-dunn_ca_recency           float64\n",
      " 15  lockZfica-intr_ca_recency           float64\n",
      " 16  lockZfica-post_ca_recency           float64\n",
      " 17  lockZfica-pymt_ca_recency           float64\n",
      " 18  pcommZip_amp_paymentdue_ca_recency  float64\n",
      " 19  pcommZmimo_day_before_ca_recency    float64\n",
      " 20  pcommZodfc_due_reminder_ca_recency  float64\n",
      " 21  predZcollprop_ca_recency            float64\n",
      " 22  pymtZpymt_ca_recency                float64\n",
      " 23  pymtZrchk_ca_recency                float64\n",
      " 24  pymtZrever_ca_recency               float64\n",
      "dtypes: float64(24), object(1)\n",
      "memory usage: 1.3+ GB\n"
     ]
    }
   ],
   "source": [
    "PROJECT_ID = \"sceg-d-prj-dxg-002\" # repoint to sandbox environment\n",
    "vertexai.init(project=PROJECT_ID, location=\"us-central1\")\n",
    "fid_secret_string = access_secret_version(PROJECT_ID, \"fid_cred\")\n",
    "# Load functional id credentials from the secret JSON string\n",
    "functional_id_info = json.loads(fid_secret_string)\n",
    "# Extract the absolute path to the key file from the JSON\n",
    "fid_key_path = \"/tmp/fid_key.json\"  # Create a temporary file path in the container\n",
    "with open(fid_key_path, \"w\") as f:\n",
    "    json.dump(functional_id_info, f)\n",
    "# SNOWPARK SESSION CONNECTOR\n",
    "# Define your Snowflake connection parameters\n",
    "connection_parameters = {\n",
    "    \"account\": \"edwsce.west-us-2.azure\",\n",
    "    \"user\": functional_id_info[\"FID_USER\"],\n",
    "    \"password\": functional_id_info[\"FID_PASS\"],\n",
    "    \"authenticator\": \"https://eix.okta.com\",\n",
    "    \"warehouse\": \"PROD_IT_CS_CNSMPADHOCWH13\",\n",
    "    \"database\": \"PROD_IT_SS\",\n",
    "    \"schema\": \"IT_DPT_SS\"\n",
    "}\n",
    "max_retries = 3\n",
    "retry_count = 0\n",
    "while retry_count < max_retries:\n",
    "    try:\n",
    "        # Create a Snowpark session\n",
    "        session = Session.builder.configs(connection_parameters).create()\n",
    "        print(\"Connection successful.\")\n",
    "        # log print      \n",
    "        #log_message(f'Snowpark Snowflake connection successful, reading transcripts.', log_file_name, bucket_name, log_folder)\n",
    "        break\n",
    "    except Exception as e:\n",
    "        retry_count += 1\n",
    "        print(f\"Snowflake connection failed: {e}\")\n",
    "        if retry_count < max_retries:\n",
    "            print(f\"Retrying {retry_count}/{max_retries}...\")\n",
    "            time.sleep(3)  # Wait for 3 seconds before retrying\n",
    "        else:\n",
    "            print(\"Max retries reached. Exiting.\")\n",
    "            # log print      \n",
    "            #log_message(f'Snowpark Snowflake connection failed.', log_file_name, bucket_name, log_folder)\n",
    "\n",
    "sql_query = f\"\"\"\n",
    "select ev_obj_nbr as cact, * from \n",
    "(select EV_OBJ, ev_obj_nbr, concat(ev_type, 'z', ev_sub_type, '_CA_recency') as event_type, \n",
    "        min(datediff(day, to_date(EV_TYPE_VAL_DT_1), current_date)) as ev_type_recency\n",
    "from PROD_CS_SS.CS_CSOD_BIC_SS.CS_EVENTS \n",
    "where ev_obj='CONTRACT_ACCT' and ev_obj_nbr > 0\n",
    "  AND to_date(EV_TYPE_VAL_DT_1) between DATEADD(day, -365, current_date) and DATEADD(day, -1, current_date)\n",
    "group by EV_OBJ, ev_obj_nbr, concat(ev_type, 'z', ev_sub_type, '_CA_recency')\n",
    "order by EV_OBJ, ev_obj_nbr, concat(ev_type, 'z', ev_sub_type, '_CA_recency')\n",
    ")\n",
    "PIVOT (max(ev_type_recency) for event_type in (\n",
    "    select distinct concat(ev_type, 'z', ev_sub_type, '_CA_recency')\n",
    "    from PROD_CS_SS.CS_CSOD_BIC_SS.CS_EVENTS\n",
    "    where ev_obj='CONTRACT_ACCT' \n",
    "    and EV_TYPE_VAL_DT_1 between DATEADD(day, -365, current_date) and DATEADD(day, -1, current_date))\n",
    ")\n",
    "\"\"\"\n",
    "\n",
    "# Execute the query and collect the result\n",
    "snow_input = session.sql(sql_query).collect()\n",
    "# Convert the result to a pandas DataFrame\n",
    "df = pd.DataFrame(snow_input)\n",
    "df.columns = df.columns.str.replace(\"'\", '')\n",
    "df=df.drop(columns=[col for col in df.columns if col.startswith('EV_OBJ')])\n",
    "df.columns = df.columns.str.lower()\n",
    "df.columns = df.columns.str.replace(\"z\", 'Z')\n",
    "df.info()"
   ]
  },
  {
   "cell_type": "code",
   "execution_count": 90,
   "id": "8c0cf773-281e-4fba-8ea4-e9f8f1c5e717",
   "metadata": {
    "tags": []
   },
   "outputs": [],
   "source": [
    "df.to_csv(str(path_name)+str('/CACT_event_com_recency.csv'), index=False)"
   ]
  },
  {
   "cell_type": "markdown",
   "id": "0519de20-27d6-4541-9fdf-427194f75608",
   "metadata": {},
   "source": [
    "#### 2.3.3 - amount"
   ]
  },
  {
   "cell_type": "code",
   "execution_count": 91,
   "id": "4e2aedbd-a7a1-4cb1-b9d2-e1c3ea4384c8",
   "metadata": {
    "tags": []
   },
   "outputs": [
    {
     "name": "stdout",
     "output_type": "stream",
     "text": [
      "Connection successful.\n",
      "<class 'pandas.core.frame.DataFrame'>\n",
      "RangeIndex: 5896710 entries, 0 to 5896709\n",
      "Data columns (total 73 columns):\n",
      " #   Column                             Dtype \n",
      "---  ------                             ----- \n",
      " 0   cact                               object\n",
      " 1   inplZcleared_ca_am_30d             object\n",
      " 2   inplZclosed_ca_am_30d              object\n",
      " 3   inplZcreate_ca_am_30d              object\n",
      " 4   inplZdeactive_ca_am_30d            object\n",
      " 5   inplZoverdue_ca_am_30d             object\n",
      " 6   invceZcreate_ca_am_30d             object\n",
      " 7   invceZrever_ca_am_30d              object\n",
      " 8   lockZcact-dunn_ca_am_30d           object\n",
      " 9   lockZcact-intr_ca_am_30d           object\n",
      " 10  lockZcact-inv_ca_am_30d            object\n",
      " 11  lockZcact-ipymt_ca_am_30d          object\n",
      " 12  lockZcact-opymt_ca_am_30d          object\n",
      " 13  lockZcact-post_ca_am_30d           object\n",
      " 14  lockZfica-dunn_ca_am_30d           object\n",
      " 15  lockZfica-intr_ca_am_30d           object\n",
      " 16  lockZfica-post_ca_am_30d           object\n",
      " 17  lockZfica-pymt_ca_am_30d           object\n",
      " 18  pcommZip_amp_paymentdue_ca_am_30d  object\n",
      " 19  pcommZmimo_day_before_ca_am_30d    object\n",
      " 20  pcommZodfc_due_reminder_ca_am_30d  object\n",
      " 21  predZcollprop_ca_am_30d            object\n",
      " 22  pymtZpymt_ca_am_30d                object\n",
      " 23  pymtZrchk_ca_am_30d                object\n",
      " 24  pymtZrever_ca_am_30d               object\n",
      " 25  inplZcleared_ca_am_60d             object\n",
      " 26  inplZclosed_ca_am_60d              object\n",
      " 27  inplZcreate_ca_am_60d              object\n",
      " 28  inplZdeactive_ca_am_60d            object\n",
      " 29  inplZoverdue_ca_am_60d             object\n",
      " 30  invceZcreate_ca_am_60d             object\n",
      " 31  invceZrever_ca_am_60d              object\n",
      " 32  lockZcact-dunn_ca_am_60d           object\n",
      " 33  lockZcact-intr_ca_am_60d           object\n",
      " 34  lockZcact-inv_ca_am_60d            object\n",
      " 35  lockZcact-ipymt_ca_am_60d          object\n",
      " 36  lockZcact-opymt_ca_am_60d          object\n",
      " 37  lockZcact-post_ca_am_60d           object\n",
      " 38  lockZfica-dunn_ca_am_60d           object\n",
      " 39  lockZfica-intr_ca_am_60d           object\n",
      " 40  lockZfica-post_ca_am_60d           object\n",
      " 41  lockZfica-pymt_ca_am_60d           object\n",
      " 42  pcommZip_amp_paymentdue_ca_am_60d  object\n",
      " 43  pcommZmimo_day_before_ca_am_60d    object\n",
      " 44  pcommZodfc_due_reminder_ca_am_60d  object\n",
      " 45  predZcollprop_ca_am_60d            object\n",
      " 46  pymtZpymt_ca_am_60d                object\n",
      " 47  pymtZrchk_ca_am_60d                object\n",
      " 48  pymtZrever_ca_am_60d               object\n",
      " 49  inplZcleared_ca_am_90d             object\n",
      " 50  inplZclosed_ca_am_90d              object\n",
      " 51  inplZcreate_ca_am_90d              object\n",
      " 52  inplZdeactive_ca_am_90d            object\n",
      " 53  inplZoverdue_ca_am_90d             object\n",
      " 54  invceZcreate_ca_am_90d             object\n",
      " 55  invceZrever_ca_am_90d              object\n",
      " 56  lockZcact-dunn_ca_am_90d           object\n",
      " 57  lockZcact-intr_ca_am_90d           object\n",
      " 58  lockZcact-inv_ca_am_90d            object\n",
      " 59  lockZcact-ipymt_ca_am_90d          object\n",
      " 60  lockZcact-opymt_ca_am_90d          object\n",
      " 61  lockZcact-post_ca_am_90d           object\n",
      " 62  lockZfica-dunn_ca_am_90d           object\n",
      " 63  lockZfica-intr_ca_am_90d           object\n",
      " 64  lockZfica-post_ca_am_90d           object\n",
      " 65  lockZfica-pymt_ca_am_90d           object\n",
      " 66  pcommZip_amp_paymentdue_ca_am_90d  object\n",
      " 67  pcommZmimo_day_before_ca_am_90d    object\n",
      " 68  pcommZodfc_due_reminder_ca_am_90d  object\n",
      " 69  predZcollprop_ca_am_90d            object\n",
      " 70  pymtZpymt_ca_am_90d                object\n",
      " 71  pymtZrchk_ca_am_90d                object\n",
      " 72  pymtZrever_ca_am_90d               object\n",
      "dtypes: object(73)\n",
      "memory usage: 3.2+ GB\n"
     ]
    }
   ],
   "source": [
    "PROJECT_ID = \"sceg-d-prj-dxg-002\" # repoint to sandbox environment\n",
    "vertexai.init(project=PROJECT_ID, location=\"us-central1\")\n",
    "fid_secret_string = access_secret_version(PROJECT_ID, \"fid_cred\")\n",
    "# Load functional id credentials from the secret JSON string\n",
    "functional_id_info = json.loads(fid_secret_string)\n",
    "# Extract the absolute path to the key file from the JSON\n",
    "fid_key_path = \"/tmp/fid_key.json\"  # Create a temporary file path in the container\n",
    "with open(fid_key_path, \"w\") as f:\n",
    "    json.dump(functional_id_info, f)\n",
    "# SNOWPARK SESSION CONNECTOR\n",
    "# Define your Snowflake connection parameters\n",
    "connection_parameters = {\n",
    "    \"account\": \"edwsce.west-us-2.azure\",\n",
    "    \"user\": functional_id_info[\"FID_USER\"],\n",
    "    \"password\": functional_id_info[\"FID_PASS\"],\n",
    "    \"authenticator\": \"https://eix.okta.com\",\n",
    "    \"warehouse\": \"PROD_IT_CS_CNSMPADHOCWH13\",\n",
    "    \"database\": \"PROD_IT_SS\",\n",
    "    \"schema\": \"IT_DPT_SS\"\n",
    "}\n",
    "max_retries = 3\n",
    "retry_count = 0\n",
    "while retry_count < max_retries:\n",
    "    try:\n",
    "        # Create a Snowpark session\n",
    "        session = Session.builder.configs(connection_parameters).create()\n",
    "        print(\"Connection successful.\")\n",
    "        # log print      \n",
    "        #log_message(f'Snowpark Snowflake connection successful, reading transcripts.', log_file_name, bucket_name, log_folder)\n",
    "        break\n",
    "    except Exception as e:\n",
    "        retry_count += 1\n",
    "        print(f\"Snowflake connection failed: {e}\")\n",
    "        if retry_count < max_retries:\n",
    "            print(f\"Retrying {retry_count}/{max_retries}...\")\n",
    "            time.sleep(3)  # Wait for 3 seconds before retrying\n",
    "        else:\n",
    "            print(\"Max retries reached. Exiting.\")\n",
    "            # log print      \n",
    "            #log_message(f'Snowpark Snowflake connection failed.', log_file_name, bucket_name, log_folder)\n",
    "\n",
    "sql_query = f\"\"\"\n",
    "select c.ev_obj_nbr as cact, * from \n",
    "(select * from\n",
    "(select EV_OBJ, ev_obj_nbr, concat(ev_type, 'z', ev_sub_type, '_CA_AM_30D') as event_type, sum(ev_type_val_nbr) as ev_type_amt\n",
    "from PROD_CS_SS.CS_CSOD_BIC_SS.CS_EVENTS \n",
    "where ev_obj='CONTRACT_ACCT' and ev_obj_nbr > 0\n",
    "  and to_date(EV_TYPE_VAL_DT_1) between DATEADD(day, -31, current_date) and DATEADD(day, -1, current_date)\n",
    "group by EV_OBJ, ev_obj_nbr, concat(ev_type, 'z', ev_sub_type, '_CA_AM_30D')\n",
    "order by EV_OBJ, ev_obj_nbr, concat(ev_type, 'z', ev_sub_type, '_CA_AM_30D')\n",
    ")\n",
    "PIVOT (max(ev_type_amt) for event_type in (\n",
    "    select distinct concat(ev_type, 'z', ev_sub_type, '_CA_AM_30D')\n",
    "    from PROD_CS_SS.CS_CSOD_BIC_SS.CS_EVENTS\n",
    "    where ev_obj='CONTRACT_ACCT' \n",
    "      and EV_TYPE_VAL_DT_1 between DATEADD(day, -31, current_date) and DATEADD(day, -1, current_date))\n",
    ")) a\n",
    "full outer join\n",
    "(select * from\n",
    "(select EV_OBJ, ev_obj_nbr, concat(ev_type, 'z', ev_sub_type, '_CA_AM_60D') as event_type, sum(ev_type_val_nbr) as ev_type_amt\n",
    "from PROD_CS_SS.CS_CSOD_BIC_SS.CS_EVENTS \n",
    "where ev_obj='CONTRACT_ACCT' and ev_obj_nbr > 0\n",
    "  and to_date(EV_TYPE_VAL_DT_1) between DATEADD(day, -61, current_date) and DATEADD(day, -1, current_date)\n",
    "group by EV_OBJ, ev_obj_nbr, concat(ev_type, 'z', ev_sub_type, '_CA_AM_60D')\n",
    "order by EV_OBJ, ev_obj_nbr, concat(ev_type, 'z', ev_sub_type, '_CA_AM_60D')\n",
    ")\n",
    "PIVOT (max(ev_type_amt) for event_type in (\n",
    "    select distinct concat(ev_type, 'z', ev_sub_type, '_CA_AM_60D')\n",
    "    from PROD_CS_SS.CS_CSOD_BIC_SS.CS_EVENTS\n",
    "    where ev_obj='CONTRACT_ACCT' \n",
    "      and to_date(EV_TYPE_VAL_DT_1) between DATEADD(day, -61, current_date) and DATEADD(day, -1, current_date))\n",
    ")) b\n",
    "on a.ev_obj_nbr=b.ev_obj_nbr\n",
    "full outer join\n",
    "(select * from\n",
    "(select EV_OBJ, ev_obj_nbr, concat(ev_type, 'z', ev_sub_type, '_CA_AM_90D') as event_type, sum(ev_type_val_nbr) as ev_type_amt\n",
    "from PROD_CS_SS.CS_CSOD_BIC_SS.CS_EVENTS \n",
    "where ev_obj='CONTRACT_ACCT'  and ev_obj_nbr > 0\n",
    "  and to_date(EV_TYPE_VAL_DT_1) between DATEADD(day, -91, current_date) and DATEADD(day, -1, current_date)\n",
    "group by EV_OBJ, ev_obj_nbr, concat(ev_type, 'z', ev_sub_type, '_CA_AM_90D')\n",
    "order by EV_OBJ, ev_obj_nbr, concat(ev_type, 'z', ev_sub_type, '_CA_AM_90D')\n",
    ")\n",
    "PIVOT (max(ev_type_amt) for event_type in (\n",
    "    select distinct concat(ev_type, 'z', ev_sub_type, '_CA_AM_90D')\n",
    "    from PROD_CS_SS.CS_CSOD_BIC_SS.CS_EVENTS\n",
    "    where ev_obj='CONTRACT_ACCT' \n",
    "      and to_date(EV_TYPE_VAL_DT_1) between DATEADD(day, -91, current_date) and DATEADD(day, -1, current_date))\n",
    ")) c\n",
    "on a.ev_obj_nbr=c.ev_obj_nbr\n",
    "\"\"\"\n",
    "\n",
    "# Execute the query and collect the result\n",
    "snow_input = session.sql(sql_query).collect()\n",
    "# Convert the result to a pandas DataFrame\n",
    "df = pd.DataFrame(snow_input)\n",
    "df.columns = df.columns.str.replace(\"'\", '')\n",
    "df=df.drop(columns=[col for col in df.columns if col.startswith('EV_OBJ')])\n",
    "df.columns = df.columns.str.lower()\n",
    "df.columns = df.columns.str.replace(\"z\", 'Z')\n",
    "df.info()"
   ]
  },
  {
   "cell_type": "code",
   "execution_count": 92,
   "id": "2b6a40b7-70d6-4390-923d-29df518a869a",
   "metadata": {
    "tags": []
   },
   "outputs": [],
   "source": [
    "df.to_csv(str(path_name)+str('/CACT_event_com_am_1.csv'), index=False)"
   ]
  },
  {
   "cell_type": "code",
   "execution_count": 93,
   "id": "699a3d81-bdc8-4558-adc6-14ba662b2b9b",
   "metadata": {
    "tags": []
   },
   "outputs": [
    {
     "name": "stdout",
     "output_type": "stream",
     "text": [
      "Connection successful.\n",
      "<class 'pandas.core.frame.DataFrame'>\n",
      "RangeIndex: 6810284 entries, 0 to 6810283\n",
      "Data columns (total 49 columns):\n",
      " #   Column                              Dtype \n",
      "---  ------                              ----- \n",
      " 0   cact                                object\n",
      " 1   inplZcleared_ca_am_180d             object\n",
      " 2   inplZclosed_ca_am_180d              object\n",
      " 3   inplZcreate_ca_am_180d              object\n",
      " 4   inplZdeactive_ca_am_180d            object\n",
      " 5   inplZoverdue_ca_am_180d             object\n",
      " 6   invceZcreate_ca_am_180d             object\n",
      " 7   invceZrever_ca_am_180d              object\n",
      " 8   lockZcact-dunn_ca_am_180d           object\n",
      " 9   lockZcact-intr_ca_am_180d           object\n",
      " 10  lockZcact-inv_ca_am_180d            object\n",
      " 11  lockZcact-ipymt_ca_am_180d          object\n",
      " 12  lockZcact-opymt_ca_am_180d          object\n",
      " 13  lockZcact-post_ca_am_180d           object\n",
      " 14  lockZfica-dunn_ca_am_180d           object\n",
      " 15  lockZfica-intr_ca_am_180d           object\n",
      " 16  lockZfica-post_ca_am_180d           object\n",
      " 17  lockZfica-pymt_ca_am_180d           object\n",
      " 18  pcommZip_amp_paymentdue_ca_am_180d  object\n",
      " 19  pcommZmimo_day_before_ca_am_180d    object\n",
      " 20  pcommZodfc_due_reminder_ca_am_180d  object\n",
      " 21  predZcollprop_ca_am_180d            object\n",
      " 22  pymtZpymt_ca_am_180d                object\n",
      " 23  pymtZrchk_ca_am_180d                object\n",
      " 24  pymtZrever_ca_am_180d               object\n",
      " 25  inplZcleared_ca_am_360d             object\n",
      " 26  inplZclosed_ca_am_360d              object\n",
      " 27  inplZcreate_ca_am_360d              object\n",
      " 28  inplZdeactive_ca_am_360d            object\n",
      " 29  inplZoverdue_ca_am_360d             object\n",
      " 30  invceZcreate_ca_am_360d             object\n",
      " 31  invceZrever_ca_am_360d              object\n",
      " 32  lockZcact-dunn_ca_am_360d           object\n",
      " 33  lockZcact-intr_ca_am_360d           object\n",
      " 34  lockZcact-inv_ca_am_360d            object\n",
      " 35  lockZcact-ipymt_ca_am_360d          object\n",
      " 36  lockZcact-opymt_ca_am_360d          object\n",
      " 37  lockZcact-post_ca_am_360d           object\n",
      " 38  lockZfica-dunn_ca_am_360d           object\n",
      " 39  lockZfica-intr_ca_am_360d           object\n",
      " 40  lockZfica-post_ca_am_360d           object\n",
      " 41  lockZfica-pymt_ca_am_360d           object\n",
      " 42  pcommZip_amp_paymentdue_ca_am_360d  object\n",
      " 43  pcommZmimo_day_before_ca_am_360d    object\n",
      " 44  pcommZodfc_due_reminder_ca_am_360d  object\n",
      " 45  predZcollprop_ca_am_360d            object\n",
      " 46  pymtZpymt_ca_am_360d                object\n",
      " 47  pymtZrchk_ca_am_360d                object\n",
      " 48  pymtZrever_ca_am_360d               object\n",
      "dtypes: object(49)\n",
      "memory usage: 2.5+ GB\n"
     ]
    }
   ],
   "source": [
    "# recency in past 365 days\n",
    "PROJECT_ID = \"sceg-d-prj-dxg-002\" # repoint to sandbox environment\n",
    "vertexai.init(project=PROJECT_ID, location=\"us-central1\")\n",
    "fid_secret_string = access_secret_version(PROJECT_ID, \"fid_cred\")\n",
    "# Load functional id credentials from the secret JSON string\n",
    "functional_id_info = json.loads(fid_secret_string)\n",
    "# Extract the absolute path to the key file from the JSON\n",
    "fid_key_path = \"/tmp/fid_key.json\"  # Create a temporary file path in the container\n",
    "with open(fid_key_path, \"w\") as f:\n",
    "    json.dump(functional_id_info, f)\n",
    "# SNOWPARK SESSION CONNECTOR\n",
    "# Define your Snowflake connection parameters\n",
    "connection_parameters = {\n",
    "    \"account\": \"edwsce.west-us-2.azure\",\n",
    "    \"user\": functional_id_info[\"FID_USER\"],\n",
    "    \"password\": functional_id_info[\"FID_PASS\"],\n",
    "    \"authenticator\": \"https://eix.okta.com\",\n",
    "    \"warehouse\": \"PROD_IT_CS_CNSMPADHOCWH13\",\n",
    "    \"database\": \"PROD_IT_SS\",\n",
    "    \"schema\": \"IT_DPT_SS\"\n",
    "}\n",
    "max_retries = 3\n",
    "retry_count = 0\n",
    "while retry_count < max_retries:\n",
    "    try:\n",
    "        # Create a Snowpark session\n",
    "        session = Session.builder.configs(connection_parameters).create()\n",
    "        print(\"Connection successful.\")\n",
    "        # log print      \n",
    "        #log_message(f'Snowpark Snowflake connection successful, reading transcripts.', log_file_name, bucket_name, log_folder)\n",
    "        break\n",
    "    except Exception as e:\n",
    "        retry_count += 1\n",
    "        print(f\"Snowflake connection failed: {e}\")\n",
    "        if retry_count < max_retries:\n",
    "            print(f\"Retrying {retry_count}/{max_retries}...\")\n",
    "            time.sleep(3)  # Wait for 3 seconds before retrying\n",
    "        else:\n",
    "            print(\"Max retries reached. Exiting.\")\n",
    "            # log print      \n",
    "            #log_message(f'Snowpark Snowflake connection failed.', log_file_name, bucket_name, log_folder)\n",
    "\n",
    "sql_query = f\"\"\"\n",
    "select b.ev_obj_nbr as cact, * from \n",
    "(select * from\n",
    "(select EV_OBJ, ev_obj_nbr, concat(ev_type, 'z', ev_sub_type, '_CA_AM_180D') as event_type, sum(ev_type_val_nbr) as ev_type_amt\n",
    "from PROD_CS_SS.CS_CSOD_BIC_SS.CS_EVENTS \n",
    "where ev_obj='CONTRACT_ACCT' and ev_obj_nbr > 0\n",
    "  and to_date(EV_TYPE_VAL_DT_1) between DATEADD(day, -181, current_date) and DATEADD(day, -1, current_date)\n",
    "group by EV_OBJ, ev_obj_nbr, concat(ev_type, 'z', ev_sub_type, '_CA_AM_180D')\n",
    "order by EV_OBJ, ev_obj_nbr, concat(ev_type, 'z', ev_sub_type, '_CA_AM_180D')\n",
    ")\n",
    "PIVOT (max(ev_type_amt) for event_type in (\n",
    "    select distinct concat(ev_type, 'z', ev_sub_type, '_CA_AM_180D')\n",
    "    from PROD_CS_SS.CS_CSOD_BIC_SS.CS_EVENTS\n",
    "    where ev_obj='CONTRACT_ACCT' \n",
    "      and EV_TYPE_VAL_DT_1 between DATEADD(day, -181, current_date) and DATEADD(day, -1, current_date))\n",
    ")) a\n",
    "full outer join\n",
    "(select * from\n",
    "(select EV_OBJ, ev_obj_nbr, concat(ev_type, 'z', ev_sub_type, '_CA_AM_360D') as event_type, sum(ev_type_val_nbr) as ev_type_amt\n",
    "from PROD_CS_SS.CS_CSOD_BIC_SS.CS_EVENTS \n",
    "where ev_obj='CONTRACT_ACCT' and ev_obj_nbr > 0\n",
    "  and to_date(EV_TYPE_VAL_DT_1) between DATEADD(day, -361, current_date) and DATEADD(day, -1, current_date)\n",
    "group by EV_OBJ, ev_obj_nbr, concat(ev_type, 'z', ev_sub_type, '_CA_AM_360D')\n",
    "order by EV_OBJ, ev_obj_nbr, concat(ev_type, 'z', ev_sub_type, '_CA_AM_360D')\n",
    ")\n",
    "PIVOT (max(ev_type_amt) for event_type in (\n",
    "    select distinct concat(ev_type, 'z', ev_sub_type, '_CA_AM_360D')\n",
    "    from PROD_CS_SS.CS_CSOD_BIC_SS.CS_EVENTS\n",
    "    where ev_obj='CONTRACT_ACCT' \n",
    "      and to_date(EV_TYPE_VAL_DT_1) between DATEADD(day, -361, current_date) and DATEADD(day, -1, current_date))\n",
    ")) b\n",
    "on a.ev_obj_nbr=b.ev_obj_nbr\n",
    "where b.ev_obj_nbr > 0\n",
    "\"\"\"\n",
    "\n",
    "# Execute the query and collect the result\n",
    "snow_input = session.sql(sql_query).collect()\n",
    "# Convert the result to a pandas DataFrame\n",
    "df = pd.DataFrame(snow_input)\n",
    "df.columns = df.columns.str.replace(\"'\", '')\n",
    "df=df.drop(columns=[col for col in df.columns if col.startswith('EV_OBJ')])\n",
    "df.columns = df.columns.str.lower()\n",
    "df.columns = df.columns.str.replace(\"z\", 'Z')\n",
    "df.info()"
   ]
  },
  {
   "cell_type": "code",
   "execution_count": 94,
   "id": "6cb7361a-ccba-4724-9978-117e3cafa79c",
   "metadata": {
    "tags": []
   },
   "outputs": [],
   "source": [
    "df.to_csv(str(path_name)+str('/CACT_event_com_am_2.csv'), index=False)"
   ]
  },
  {
   "cell_type": "markdown",
   "id": "898748b9-bf57-4d36-8e5b-ed835bc8230f",
   "metadata": {},
   "source": [
    "#### 2.4 - Customers with hard copy"
   ]
  },
  {
   "cell_type": "code",
   "execution_count": 95,
   "id": "468f68b3-222d-4fff-a87d-04eeb810c9e8",
   "metadata": {
    "tags": []
   },
   "outputs": [
    {
     "name": "stdout",
     "output_type": "stream",
     "text": [
      "Connection successful.\n",
      "<class 'pandas.core.frame.DataFrame'>\n",
      "RangeIndex: 1657210 entries, 0 to 1657209\n",
      "Data columns (total 1 columns):\n",
      " #   Column           Non-Null Count    Dtype \n",
      "---  ------           --------------    ----- \n",
      " 0   contractaccount  1657210 non-null  object\n",
      "dtypes: object(1)\n",
      "memory usage: 12.6+ MB\n"
     ]
    }
   ],
   "source": [
    "# recency in past 365 days\n",
    "PROJECT_ID = \"sceg-d-prj-dxg-002\" # repoint to sandbox environment\n",
    "vertexai.init(project=PROJECT_ID, location=\"us-central1\")\n",
    "fid_secret_string = access_secret_version(PROJECT_ID, \"fid_cred\")\n",
    "# Load functional id credentials from the secret JSON string\n",
    "functional_id_info = json.loads(fid_secret_string)\n",
    "# Extract the absolute path to the key file from the JSON\n",
    "fid_key_path = \"/tmp/fid_key.json\"  # Create a temporary file path in the container\n",
    "with open(fid_key_path, \"w\") as f:\n",
    "    json.dump(functional_id_info, f)\n",
    "# SNOWPARK SESSION CONNECTOR\n",
    "# Define your Snowflake connection parameters\n",
    "connection_parameters = {\n",
    "    \"account\": \"edwsce.west-us-2.azure\",\n",
    "    \"user\": functional_id_info[\"FID_USER\"],\n",
    "    \"password\": functional_id_info[\"FID_PASS\"],\n",
    "    \"authenticator\": \"https://eix.okta.com\",\n",
    "    \"warehouse\": \"PROD_IT_CS_CNSMPADHOCWH13\",\n",
    "    \"database\": \"PROD_IT_SS\",\n",
    "    \"schema\": \"IT_DPT_SS\"\n",
    "}\n",
    "max_retries = 3\n",
    "retry_count = 0\n",
    "while retry_count < max_retries:\n",
    "    try:\n",
    "        # Create a Snowpark session\n",
    "        session = Session.builder.configs(connection_parameters).create()\n",
    "        print(\"Connection successful.\")\n",
    "        # log print      \n",
    "        #log_message(f'Snowpark Snowflake connection successful, reading transcripts.', log_file_name, bucket_name, log_folder)\n",
    "        break\n",
    "    except Exception as e:\n",
    "        retry_count += 1\n",
    "        print(f\"Snowflake connection failed: {e}\")\n",
    "        if retry_count < max_retries:\n",
    "            print(f\"Retrying {retry_count}/{max_retries}...\")\n",
    "            time.sleep(3)  # Wait for 3 seconds before retrying\n",
    "        else:\n",
    "            print(\"Max retries reached. Exiting.\")\n",
    "            # log print      \n",
    "            #log_message(f'Snowpark Snowflake connection failed.', log_file_name, bucket_name, log_folder)\n",
    "\n",
    "sql_query = f\"\"\"\n",
    "select distinct CONTRACTACCOUNT\n",
    "from PROD_CS.CORE_V.CS_D_ENERGY_CONSUMER_CUSTOMER_CONTRACT_VW_C\n",
    "where accountclass='RESI' \n",
    "  and moveindate <= current_date\n",
    "  and moveoutdate='9999-12-31'\n",
    "  and trim(dcfororgcust) in ('HCB', '')\n",
    "\"\"\"\n",
    "\n",
    "# Execute the query and collect the result\n",
    "snow_input = session.sql(sql_query).collect()\n",
    "# Convert the result to a pandas DataFrame\n",
    "df = pd.DataFrame(snow_input)\n",
    "df.columns = df.columns.str.replace(\"'\", '')\n",
    "df=df.drop(columns=[col for col in df.columns if col.startswith('EV_OBJ')])\n",
    "df.columns = df.columns.str.lower()\n",
    "df.columns = df.columns.str.replace(\"z\", 'Z')\n",
    "df.info()"
   ]
  },
  {
   "cell_type": "code",
   "execution_count": 96,
   "id": "1dfa059b-c9d4-405d-8995-947b0584a384",
   "metadata": {
    "tags": []
   },
   "outputs": [],
   "source": [
    "df.to_csv(str(path_name)+str('/cust_with_letterbill_sf.csv'), index=False)"
   ]
  },
  {
   "cell_type": "markdown",
   "id": "abcc4ac9-7f73-430d-ab39-059720979888",
   "metadata": {},
   "source": [
    "## Part 3 - combine data\n",
    "#### 3.0 - all active customers without Ebill enrollment"
   ]
  },
  {
   "cell_type": "code",
   "execution_count": 16,
   "id": "cde58eab-311d-4e2f-924d-86dae55cba98",
   "metadata": {},
   "outputs": [
    {
     "name": "stdout",
     "output_type": "stream",
     "text": [
      "<class 'pandas.core.frame.DataFrame'>\n",
      "Index: 4586112 entries, 0 to 4687990\n",
      "Data columns (total 15 columns):\n",
      " #   Column         Dtype \n",
      "---  ------         ----- \n",
      " 0   cact           int64 \n",
      " 1   bp             int64 \n",
      " 2   rate_plan      object\n",
      " 3   rate_plan_cat  object\n",
      " 4   unit_num       int64 \n",
      " 5   landline       int64 \n",
      " 6   mobilephone    int64 \n",
      " 7   having_phone   int64 \n",
      " 8   cust_type      object\n",
      " 9   critical_care  object\n",
      " 10  cactnum        int64 \n",
      " 11  movein_date    object\n",
      " 12  moveoutdate    object\n",
      " 13  bill_type      object\n",
      " 14  have_email     int64 \n",
      "dtypes: int64(8), object(7)\n",
      "memory usage: 559.8+ MB\n"
     ]
    }
   ],
   "source": [
    "all_resi_model=pd.read_csv(str(path_name)+str('/all_resi_model.csv'))\n",
    "all_resi_model.drop_duplicates(subset='cact', keep='first', inplace=True)\n",
    "#all_resi_model=all_resi_model[all_resi_model['0UCACC_CLAS'].str.strip()=='RESI']\n",
    "all_resi_model.info()"
   ]
  },
  {
   "cell_type": "code",
   "execution_count": 17,
   "id": "43054d94-fcab-4047-b34b-7c6e82b4c3bc",
   "metadata": {
    "tags": []
   },
   "outputs": [
    {
     "name": "stdout",
     "output_type": "stream",
     "text": [
      "<class 'pandas.core.frame.DataFrame'>\n",
      "RangeIndex: 1657210 entries, 0 to 1657209\n",
      "Data columns (total 1 columns):\n",
      " #   Column  Non-Null Count    Dtype\n",
      "---  ------  --------------    -----\n",
      " 0   cact    1657210 non-null  int64\n",
      "dtypes: int64(1)\n",
      "memory usage: 12.6 MB\n"
     ]
    }
   ],
   "source": [
    "customers_with_letterbill=pd.read_csv(str(path_name)+str('/cust_with_letterbill_sf.csv'))\n",
    "customers_with_letterbill.rename(columns={'contractaccount': 'cact'}, inplace=True)\n",
    "customers_with_letterbill.info()"
   ]
  },
  {
   "cell_type": "code",
   "execution_count": 18,
   "id": "d8d369a4-d2d3-467c-a7c6-0c895133c210",
   "metadata": {
    "tags": []
   },
   "outputs": [
    {
     "data": {
      "text/plain": [
       "(4586915, 17)"
      ]
     },
     "execution_count": 18,
     "metadata": {},
     "output_type": "execute_result"
    }
   ],
   "source": [
    "merge_two=pd.merge(all_resi_model.assign(sap=1), customers_with_letterbill.assign(sf=1), \n",
    "                   on='cact', how='outer')\n",
    "merge_two[['sap', 'sf']]=merge_two[['sap', 'sf']].fillna(0)\n",
    "merge_two.shape"
   ]
  },
  {
   "cell_type": "code",
   "execution_count": 19,
   "id": "2569fc97-8720-40db-a915-35b5217e546c",
   "metadata": {
    "tags": []
   },
   "outputs": [
    {
     "data": {
      "text/plain": [
       "sap    0\n",
       "sf     0\n",
       "dtype: int64"
      ]
     },
     "execution_count": 19,
     "metadata": {},
     "output_type": "execute_result"
    }
   ],
   "source": [
    "merge_two[['sap', 'sf']].isnull().sum()"
   ]
  },
  {
   "cell_type": "code",
   "execution_count": 20,
   "id": "2d9384d5-5c5b-4525-908b-7e68d34ec96e",
   "metadata": {
    "tags": []
   },
   "outputs": [
    {
     "data": {
      "image/png": "[encoded data removed]",
      "text/plain": [
       "<Figure size 640x480 with 2 Axes>"
      ]
     },
     "metadata": {},
     "output_type": "display_data"
    }
   ],
   "source": [
    "from sklearn.metrics import confusion_matrix, ConfusionMatrixDisplay\n",
    "import matplotlib.pyplot as plt\n",
    "\n",
    "# Generate the confusion matrix\n",
    "cm = confusion_matrix(merge_two['sf'], merge_two['sap'])\n",
    "\n",
    "# Display the confusion matrix\n",
    "disp = ConfusionMatrixDisplay(confusion_matrix=cm)\n",
    "disp.plot(cmap=plt.cm.Blues)\n",
    "plt.title(\"Confusion Matrix\")\n",
    "plt.show()"
   ]
  },
  {
   "cell_type": "code",
   "execution_count": 21,
   "id": "8a5bdd3f-0016-4a4a-8e76-50bf0b1ef927",
   "metadata": {
    "tags": []
   },
   "outputs": [
    {
     "name": "stderr",
     "output_type": "stream",
     "text": [
      "/var/tmp/ipykernel_7558/2152734140.py:3: SettingWithCopyWarning: \n",
      "A value is trying to be set on a copy of a slice from a DataFrame\n",
      "\n",
      "See the caveats in the documentation: https://pandas.pydata.org/pandas-docs/stable/user_guide/indexing.html#returning-a-view-versus-a-copy\n",
      "  unenrolled_resi.drop(['sap', 'sf'], axis=1, inplace=True)\n"
     ]
    },
    {
     "name": "stdout",
     "output_type": "stream",
     "text": [
      "<class 'pandas.core.frame.DataFrame'>\n",
      "Index: 1656407 entries, 1 to 4586837\n",
      "Data columns (total 15 columns):\n",
      " #   Column         Non-Null Count    Dtype  \n",
      "---  ------         --------------    -----  \n",
      " 0   cact           1656407 non-null  int64  \n",
      " 1   bp             1656407 non-null  float64\n",
      " 2   rate_plan      1656407 non-null  object \n",
      " 3   rate_plan_cat  1656407 non-null  object \n",
      " 4   unit_num       1656407 non-null  float64\n",
      " 5   landline       1656407 non-null  float64\n",
      " 6   mobilephone    1656407 non-null  float64\n",
      " 7   having_phone   1656407 non-null  float64\n",
      " 8   cust_type      1656407 non-null  object \n",
      " 9   critical_care  651124 non-null   object \n",
      " 10  cactnum        1656407 non-null  float64\n",
      " 11  movein_date    1656407 non-null  object \n",
      " 12  moveoutdate    1656407 non-null  object \n",
      " 13  bill_type      1385232 non-null  object \n",
      " 14  have_email     1656407 non-null  float64\n",
      "dtypes: float64(7), int64(1), object(7)\n",
      "memory usage: 202.2+ MB\n"
     ]
    }
   ],
   "source": [
    "# enrolled customers\n",
    "unenrolled_resi=merge_two[(merge_two['sf']==1) & (merge_two['sap']==1)]\n",
    "unenrolled_resi.drop(['sap', 'sf'], axis=1, inplace=True)\n",
    "unenrolled_resi.info()                                              "
   ]
  },
  {
   "cell_type": "markdown",
   "id": "7e89d2cd-4967-4e95-ac76-2ce39f13e4ae",
   "metadata": {},
   "source": [
    "* Use the data from Snowflake as the basefile for scoring. "
   ]
  },
  {
   "cell_type": "markdown",
   "id": "525ee25b-3940-453a-a109-2572b0d95716",
   "metadata": {},
   "source": [
    "#### 3.1 - find customers with emails"
   ]
  },
  {
   "cell_type": "code",
   "execution_count": 22,
   "id": "d87772bb-a3f8-4064-a5d2-28b87a9283cf",
   "metadata": {},
   "outputs": [
    {
     "name": "stdout",
     "output_type": "stream",
     "text": [
      "<class 'pandas.core.frame.DataFrame'>\n",
      "RangeIndex: 6407129 entries, 0 to 6407128\n",
      "Data columns (total 5 columns):\n",
      " #   Column            Dtype \n",
      "---  ------            ----- \n",
      " 0   cact              int64 \n",
      " 1   bp                int64 \n",
      " 2   email_valid_from  object\n",
      " 3   email_valid_to    object\n",
      " 4   email             object\n",
      "dtypes: int64(2), object(3)\n",
      "memory usage: 244.4+ MB\n"
     ]
    }
   ],
   "source": [
    "# match with email address\n",
    "email_myacct=pd.read_csv(str(path_name)+str('/email_myacct.csv'))\n",
    "email_myacct.info()"
   ]
  },
  {
   "cell_type": "code",
   "execution_count": 23,
   "id": "b7749997-878c-4f81-bc82-8dde7234585c",
   "metadata": {
    "tags": []
   },
   "outputs": [
    {
     "name": "stderr",
     "output_type": "stream",
     "text": [
      "/var/tmp/ipykernel_7558/283552811.py:1: DtypeWarning: Columns (0) have mixed types. Specify dtype option on import or set low_memory=False.\n",
      "  email_contact=pd.read_csv(str(path_name)+str('/email_contact.csv'))\n"
     ]
    },
    {
     "name": "stdout",
     "output_type": "stream",
     "text": [
      "<class 'pandas.core.frame.DataFrame'>\n",
      "RangeIndex: 10622574 entries, 0 to 10622573\n",
      "Data columns (total 6 columns):\n",
      " #   Column              Dtype \n",
      "---  ------              ----- \n",
      " 0   bp                  object\n",
      " 1   ZCOMM_VALIDFRM      object\n",
      " 2   ZCOMM_VALIDTO       object\n",
      " 3   bp_email            object\n",
      " 4   email_contact_from  object\n",
      " 5   email_contact_to    object\n",
      "dtypes: object(6)\n",
      "memory usage: 486.3+ MB\n"
     ]
    }
   ],
   "source": [
    "email_contact=pd.read_csv(str(path_name)+str('/email_contact.csv'))\n",
    "email_contact.info()"
   ]
  },
  {
   "cell_type": "code",
   "execution_count": 24,
   "id": "8f21d48d-3f51-465f-a189-d70ee6ed0987",
   "metadata": {
    "tags": []
   },
   "outputs": [
    {
     "name": "stdout",
     "output_type": "stream",
     "text": [
      "(6398962, 5)\n",
      "(9659464, 6)\n"
     ]
    }
   ],
   "source": [
    "# merge by email\n",
    "email_myacct.drop_duplicates(subset=['bp', 'cact', 'email'], keep='first', inplace=True)\n",
    "email_myacct['email']=email_myacct['email'].str.strip()  # remove extra space for later merging\n",
    "print(email_myacct.shape)\n",
    "\n",
    "email_contact.drop_duplicates(subset=['bp', 'bp_email'], keep='first', inplace=True)\n",
    "email_contact.rename(columns={'bp_email': 'email'}, inplace=True)\n",
    "email_contact['email']=email_contact['email'].str.strip() # remove extra space for later merging\n",
    "print(email_contact.shape)"
   ]
  },
  {
   "cell_type": "code",
   "execution_count": 25,
   "id": "47801c70-b352-451f-8f45-ef65c2cfb570",
   "metadata": {
    "tags": []
   },
   "outputs": [
    {
     "name": "stdout",
     "output_type": "stream",
     "text": [
      "<class 'pandas.core.frame.DataFrame'>\n",
      "Index: 9659464 entries, 0 to 10622573\n",
      "Data columns (total 6 columns):\n",
      " #   Column              Dtype \n",
      "---  ------              ----- \n",
      " 0   bp                  object\n",
      " 1   ZCOMM_VALIDFRM      object\n",
      " 2   ZCOMM_VALIDTO       object\n",
      " 3   email               object\n",
      " 4   email_contact_from  object\n",
      " 5   email_contact_to    object\n",
      "dtypes: object(6)\n",
      "memory usage: 515.9+ MB\n"
     ]
    }
   ],
   "source": [
    "email_contact.info()"
   ]
  },
  {
   "cell_type": "code",
   "execution_count": 26,
   "id": "24a378f1-5210-4beb-b5c2-0f6b1598393d",
   "metadata": {},
   "outputs": [
    {
     "name": "stdout",
     "output_type": "stream",
     "text": [
      "(14979981, 3)\n",
      "<class 'pandas.core.frame.DataFrame'>\n",
      "RangeIndex: 14979981 entries, 0 to 14979980\n",
      "Data columns (total 3 columns):\n",
      " #   Column  Dtype  \n",
      "---  ------  -----  \n",
      " 0   bp      object \n",
      " 1   cact    float64\n",
      " 2   email   object \n",
      "dtypes: float64(1), object(2)\n",
      "memory usage: 342.9+ MB\n",
      "(5734186, 3)\n",
      "(9014384, 2)\n"
     ]
    }
   ],
   "source": [
    "email_myacct_contact=pd.merge(email_myacct[['bp', 'cact', 'email']], email_contact[['bp', 'email']], on=['bp', 'email'], how='outer')\n",
    "print(email_myacct_contact.shape)\n",
    "email_myacct_contact.info()\n",
    "\n",
    "email_myacct_contact.drop_duplicates(subset=['bp', 'cact', 'email'], keep='first', inplace=True)\n",
    "email_count_cact=email_myacct_contact.groupby(['bp', 'cact'])['email'].nunique().reset_index().rename(columns={'email': 'email_cnt_cact'})\n",
    "bp_cact_count=email_myacct_contact.groupby('bp')['cact'].nunique().reset_index().rename(columns={'cact': 'cact_cnt'})\n",
    "print(email_count_cact.shape)\n",
    "\n",
    "email_count_bp=email_myacct_contact.groupby('bp')['email'].nunique().reset_index().rename(columns={'email': 'email_cnt_bp'})\n",
    "print(email_count_bp.shape)"
   ]
  },
  {
   "cell_type": "code",
   "execution_count": 27,
   "id": "06a82f17-1f7d-4e0e-b6f2-6a5370de0936",
   "metadata": {
    "tags": []
   },
   "outputs": [
    {
     "name": "stdout",
     "output_type": "stream",
     "text": [
      "<class 'pandas.core.frame.DataFrame'>\n",
      "RangeIndex: 10259898 entries, 0 to 10259897\n",
      "Data columns (total 5 columns):\n",
      " #   Column          Dtype  \n",
      "---  ------          -----  \n",
      " 0   bp              object \n",
      " 1   cact_cnt        int64  \n",
      " 2   email_cnt_bp    int64  \n",
      " 3   cact            float64\n",
      " 4   email_cnt_cact  float64\n",
      "dtypes: float64(2), int64(2), object(1)\n",
      "memory usage: 391.4+ MB\n"
     ]
    },
    {
     "data": {
      "text/html": [
       "<div>\n",
       "<style scoped>\n",
       "    .dataframe tbody tr th:only-of-type {\n",
       "        vertical-align: middle;\n",
       "    }\n",
       "\n",
       "    .dataframe tbody tr th {\n",
       "        vertical-align: top;\n",
       "    }\n",
       "\n",
       "    .dataframe thead th {\n",
       "        text-align: right;\n",
       "    }\n",
       "</style>\n",
       "<table border=\"1\" class=\"dataframe\">\n",
       "  <thead>\n",
       "    <tr style=\"text-align: right;\">\n",
       "      <th></th>\n",
       "      <th>bp</th>\n",
       "      <th>cact_cnt</th>\n",
       "      <th>email_cnt_bp</th>\n",
       "      <th>cact</th>\n",
       "      <th>email_cnt_cact</th>\n",
       "    </tr>\n",
       "  </thead>\n",
       "  <tbody>\n",
       "    <tr>\n",
       "      <th>0</th>\n",
       "      <td>1000000019</td>\n",
       "      <td>1</td>\n",
       "      <td>2</td>\n",
       "      <td>4.000000e+11</td>\n",
       "      <td>1.0</td>\n",
       "    </tr>\n",
       "    <tr>\n",
       "      <th>1</th>\n",
       "      <td>1000000026</td>\n",
       "      <td>0</td>\n",
       "      <td>1</td>\n",
       "      <td>NaN</td>\n",
       "      <td>NaN</td>\n",
       "    </tr>\n",
       "    <tr>\n",
       "      <th>2</th>\n",
       "      <td>1000000027</td>\n",
       "      <td>0</td>\n",
       "      <td>6</td>\n",
       "      <td>NaN</td>\n",
       "      <td>NaN</td>\n",
       "    </tr>\n",
       "    <tr>\n",
       "      <th>3</th>\n",
       "      <td>1000000028</td>\n",
       "      <td>3</td>\n",
       "      <td>6</td>\n",
       "      <td>7.008630e+11</td>\n",
       "      <td>2.0</td>\n",
       "    </tr>\n",
       "    <tr>\n",
       "      <th>4</th>\n",
       "      <td>1000000028</td>\n",
       "      <td>3</td>\n",
       "      <td>6</td>\n",
       "      <td>7.009357e+11</td>\n",
       "      <td>2.0</td>\n",
       "    </tr>\n",
       "  </tbody>\n",
       "</table>\n",
       "</div>"
      ],
      "text/plain": [
       "           bp  cact_cnt  email_cnt_bp          cact  email_cnt_cact\n",
       "0  1000000019         1             2  4.000000e+11             1.0\n",
       "1  1000000026         0             1           NaN             NaN\n",
       "2  1000000027         0             6           NaN             NaN\n",
       "3  1000000028         3             6  7.008630e+11             2.0\n",
       "4  1000000028         3             6  7.009357e+11             2.0"
      ]
     },
     "execution_count": 27,
     "metadata": {},
     "output_type": "execute_result"
    }
   ],
   "source": [
    "bp_email=pd.merge(bp_cact_count, email_count_bp, on='bp', how='outer') \n",
    "email_info=pd.merge(bp_email, email_count_cact, on='bp', how='outer') \n",
    "email_info.info() \n",
    "email_info.head()"
   ]
  },
  {
   "cell_type": "code",
   "execution_count": 28,
   "id": "ccf00ab8-a02c-4fe9-b54b-510f9ca2c407",
   "metadata": {
    "tags": []
   },
   "outputs": [
    {
     "name": "stdout",
     "output_type": "stream",
     "text": [
      "<class 'pandas.core.frame.DataFrame'>\n",
      "Index: 5734186 entries, 0 to 7736564\n",
      "Data columns (total 6 columns):\n",
      " #   Column          Dtype  \n",
      "---  ------          -----  \n",
      " 0   bp              object \n",
      " 1   cact_cnt        int64  \n",
      " 2   email_cnt_bp    int64  \n",
      " 3   cact            float64\n",
      " 4   email_cnt_cact  float64\n",
      " 5   with_email      int64  \n",
      "dtypes: float64(2), int64(3), object(1)\n",
      "memory usage: 306.2+ MB\n"
     ]
    },
    {
     "name": "stderr",
     "output_type": "stream",
     "text": [
      "/var/tmp/ipykernel_7558/2154396345.py:2: SettingWithCopyWarning: \n",
      "A value is trying to be set on a copy of a slice from a DataFrame.\n",
      "Try using .loc[row_indexer,col_indexer] = value instead\n",
      "\n",
      "See the caveats in the documentation: https://pandas.pydata.org/pandas-docs/stable/user_guide/indexing.html#returning-a-view-versus-a-copy\n",
      "  cact_with_email['with_email']=np.where((cact_with_email['email_cnt_bp'] > 0) | (cact_with_email['email_cnt_cact'] > 0), 1, 0)\n"
     ]
    }
   ],
   "source": [
    "cact_with_email=email_info[email_info['cact'].isnull()==False]\n",
    "cact_with_email['with_email']=np.where((cact_with_email['email_cnt_bp'] > 0) | (cact_with_email['email_cnt_cact'] > 0), 1, 0)\n",
    "cact_with_email=cact_with_email[cact_with_email['with_email'] > 0]\n",
    "cact_with_email.info()"
   ]
  },
  {
   "cell_type": "code",
   "execution_count": 29,
   "id": "32df2f83-5377-4cda-98f2-2e25ec064443",
   "metadata": {
    "tags": []
   },
   "outputs": [
    {
     "data": {
      "text/plain": [
       "5734186"
      ]
     },
     "execution_count": 29,
     "metadata": {},
     "output_type": "execute_result"
    }
   ],
   "source": [
    "cact_with_email['cact'].nunique()"
   ]
  },
  {
   "cell_type": "code",
   "execution_count": 30,
   "id": "4cea554b-8cf7-4617-9ac8-040bdd8ce765",
   "metadata": {
    "tags": []
   },
   "outputs": [
    {
     "data": {
      "text/plain": [
       "(1656407, 15)"
      ]
     },
     "execution_count": 30,
     "metadata": {},
     "output_type": "execute_result"
    }
   ],
   "source": [
    "unenrolled_resi.shape"
   ]
  },
  {
   "cell_type": "code",
   "execution_count": 31,
   "id": "ad4bb871-cb8d-4c9b-a0a6-21f1253b6098",
   "metadata": {
    "tags": []
   },
   "outputs": [
    {
     "name": "stdout",
     "output_type": "stream",
     "text": [
      "<class 'pandas.core.frame.DataFrame'>\n",
      "RangeIndex: 582748 entries, 0 to 582747\n",
      "Data columns (total 19 columns):\n",
      " #   Column          Non-Null Count   Dtype  \n",
      "---  ------          --------------   -----  \n",
      " 0   cact            582748 non-null  int64  \n",
      " 1   bp              582748 non-null  float64\n",
      " 2   rate_plan       582748 non-null  object \n",
      " 3   rate_plan_cat   582748 non-null  object \n",
      " 4   unit_num        582748 non-null  float64\n",
      " 5   landline        582748 non-null  float64\n",
      " 6   mobilephone     582748 non-null  float64\n",
      " 7   having_phone    582748 non-null  float64\n",
      " 8   cust_type       582748 non-null  object \n",
      " 9   critical_care   450904 non-null  object \n",
      " 10  cactnum         582748 non-null  float64\n",
      " 11  movein_date     582748 non-null  object \n",
      " 12  moveoutdate     582748 non-null  object \n",
      " 13  bill_type       486214 non-null  object \n",
      " 14  have_email      582748 non-null  float64\n",
      " 15  cact_cnt        582748 non-null  int64  \n",
      " 16  email_cnt_bp    582748 non-null  int64  \n",
      " 17  email_cnt_cact  582748 non-null  float64\n",
      " 18  with_email      582748 non-null  int64  \n",
      "dtypes: float64(8), int64(4), object(7)\n",
      "memory usage: 84.5+ MB\n"
     ]
    },
    {
     "data": {
      "text/html": [
       "<div>\n",
       "<style scoped>\n",
       "    .dataframe tbody tr th:only-of-type {\n",
       "        vertical-align: middle;\n",
       "    }\n",
       "\n",
       "    .dataframe tbody tr th {\n",
       "        vertical-align: top;\n",
       "    }\n",
       "\n",
       "    .dataframe thead th {\n",
       "        text-align: right;\n",
       "    }\n",
       "</style>\n",
       "<table border=\"1\" class=\"dataframe\">\n",
       "  <thead>\n",
       "    <tr style=\"text-align: right;\">\n",
       "      <th></th>\n",
       "      <th>cact</th>\n",
       "      <th>bp</th>\n",
       "      <th>rate_plan</th>\n",
       "      <th>rate_plan_cat</th>\n",
       "      <th>unit_num</th>\n",
       "      <th>landline</th>\n",
       "      <th>mobilephone</th>\n",
       "      <th>having_phone</th>\n",
       "      <th>cust_type</th>\n",
       "      <th>critical_care</th>\n",
       "      <th>cactnum</th>\n",
       "      <th>movein_date</th>\n",
       "      <th>moveoutdate</th>\n",
       "      <th>bill_type</th>\n",
       "      <th>have_email</th>\n",
       "      <th>cact_cnt</th>\n",
       "      <th>email_cnt_bp</th>\n",
       "      <th>email_cnt_cact</th>\n",
       "      <th>with_email</th>\n",
       "    </tr>\n",
       "  </thead>\n",
       "  <tbody>\n",
       "    <tr>\n",
       "      <th>0</th>\n",
       "      <td>700000041470</td>\n",
       "      <td>1.003887e+09</td>\n",
       "      <td>DM</td>\n",
       "      <td>DM</td>\n",
       "      <td>1.0</td>\n",
       "      <td>1.0</td>\n",
       "      <td>1.0</td>\n",
       "      <td>1.0</td>\n",
       "      <td>Domestic</td>\n",
       "      <td>No</td>\n",
       "      <td>8.011910e+09</td>\n",
       "      <td>2021-10-05</td>\n",
       "      <td>9999-12-31</td>\n",
       "      <td>HCB</td>\n",
       "      <td>1.0</td>\n",
       "      <td>1</td>\n",
       "      <td>3</td>\n",
       "      <td>1.0</td>\n",
       "      <td>1</td>\n",
       "    </tr>\n",
       "    <tr>\n",
       "      <th>1</th>\n",
       "      <td>700000053493</td>\n",
       "      <td>1.004600e+09</td>\n",
       "      <td>TOUD-4-9PM-CARE</td>\n",
       "      <td>TD49</td>\n",
       "      <td>1.0</td>\n",
       "      <td>1.0</td>\n",
       "      <td>1.0</td>\n",
       "      <td>1.0</td>\n",
       "      <td>Domestic</td>\n",
       "      <td>NaN</td>\n",
       "      <td>8.003596e+09</td>\n",
       "      <td>2021-03-24</td>\n",
       "      <td>9999-12-31</td>\n",
       "      <td>HCB</td>\n",
       "      <td>1.0</td>\n",
       "      <td>1</td>\n",
       "      <td>2</td>\n",
       "      <td>1.0</td>\n",
       "      <td>1</td>\n",
       "    </tr>\n",
       "    <tr>\n",
       "      <th>2</th>\n",
       "      <td>700000540719</td>\n",
       "      <td>1.005000e+09</td>\n",
       "      <td>DOMESTIC</td>\n",
       "      <td>D</td>\n",
       "      <td>1.0</td>\n",
       "      <td>1.0</td>\n",
       "      <td>1.0</td>\n",
       "      <td>1.0</td>\n",
       "      <td>Domestic</td>\n",
       "      <td>No</td>\n",
       "      <td>8.003553e+09</td>\n",
       "      <td>2021-03-04</td>\n",
       "      <td>9999-12-31</td>\n",
       "      <td>HCB</td>\n",
       "      <td>1.0</td>\n",
       "      <td>3</td>\n",
       "      <td>2</td>\n",
       "      <td>1.0</td>\n",
       "      <td>1</td>\n",
       "    </tr>\n",
       "    <tr>\n",
       "      <th>3</th>\n",
       "      <td>700000542032</td>\n",
       "      <td>1.001814e+09</td>\n",
       "      <td>TOU-D-PRIME</td>\n",
       "      <td>TDPRIME</td>\n",
       "      <td>1.0</td>\n",
       "      <td>1.0</td>\n",
       "      <td>1.0</td>\n",
       "      <td>1.0</td>\n",
       "      <td>Domestic</td>\n",
       "      <td>No</td>\n",
       "      <td>8.002483e+09</td>\n",
       "      <td>2021-03-05</td>\n",
       "      <td>9999-12-31</td>\n",
       "      <td>HCB</td>\n",
       "      <td>1.0</td>\n",
       "      <td>1</td>\n",
       "      <td>2</td>\n",
       "      <td>1.0</td>\n",
       "      <td>1</td>\n",
       "    </tr>\n",
       "    <tr>\n",
       "      <th>4</th>\n",
       "      <td>700000542739</td>\n",
       "      <td>1.001376e+09</td>\n",
       "      <td>TOUD-4-9PM</td>\n",
       "      <td>TD49</td>\n",
       "      <td>1.0</td>\n",
       "      <td>1.0</td>\n",
       "      <td>1.0</td>\n",
       "      <td>1.0</td>\n",
       "      <td>Domestic</td>\n",
       "      <td>NaN</td>\n",
       "      <td>8.004488e+09</td>\n",
       "      <td>2021-03-26</td>\n",
       "      <td>9999-12-31</td>\n",
       "      <td>HCB</td>\n",
       "      <td>1.0</td>\n",
       "      <td>1</td>\n",
       "      <td>1</td>\n",
       "      <td>1.0</td>\n",
       "      <td>1</td>\n",
       "    </tr>\n",
       "  </tbody>\n",
       "</table>\n",
       "</div>"
      ],
      "text/plain": [
       "           cact            bp        rate_plan rate_plan_cat  unit_num  \\\n",
       "0  700000041470  1.003887e+09               DM            DM       1.0   \n",
       "1  700000053493  1.004600e+09  TOUD-4-9PM-CARE          TD49       1.0   \n",
       "2  700000540719  1.005000e+09         DOMESTIC             D       1.0   \n",
       "3  700000542032  1.001814e+09      TOU-D-PRIME       TDPRIME       1.0   \n",
       "4  700000542739  1.001376e+09       TOUD-4-9PM          TD49       1.0   \n",
       "\n",
       "   landline  mobilephone  having_phone cust_type critical_care       cactnum  \\\n",
       "0       1.0          1.0           1.0  Domestic            No  8.011910e+09   \n",
       "1       1.0          1.0           1.0  Domestic           NaN  8.003596e+09   \n",
       "2       1.0          1.0           1.0  Domestic            No  8.003553e+09   \n",
       "3       1.0          1.0           1.0  Domestic            No  8.002483e+09   \n",
       "4       1.0          1.0           1.0  Domestic           NaN  8.004488e+09   \n",
       "\n",
       "  movein_date moveoutdate bill_type  have_email  cact_cnt  email_cnt_bp  \\\n",
       "0  2021-10-05  9999-12-31       HCB         1.0         1             3   \n",
       "1  2021-03-24  9999-12-31       HCB         1.0         1             2   \n",
       "2  2021-03-04  9999-12-31       HCB         1.0         3             2   \n",
       "3  2021-03-05  9999-12-31       HCB         1.0         1             2   \n",
       "4  2021-03-26  9999-12-31       HCB         1.0         1             1   \n",
       "\n",
       "   email_cnt_cact  with_email  \n",
       "0             1.0           1  \n",
       "1             1.0           1  \n",
       "2             1.0           1  \n",
       "3             1.0           1  \n",
       "4             1.0           1  "
      ]
     },
     "execution_count": 31,
     "metadata": {},
     "output_type": "execute_result"
    }
   ],
   "source": [
    "# flag cact with email addresses from MyAccount\n",
    "cact_with_email.drop('bp', axis=1, inplace=True),\n",
    "cact_for_model=pd.merge(unenrolled_resi, cact_with_email, on='cact', how='inner')\n",
    "cact_for_model.info()\n",
    "cact_for_model.head()"
   ]
  },
  {
   "cell_type": "code",
   "execution_count": 32,
   "id": "441875b7-d73f-4972-ac9b-38f0d96b1d05",
   "metadata": {
    "tags": []
   },
   "outputs": [],
   "source": [
    "past_enroll=pd.read_csv(str(path_name)+str('/past_enroll.csv'))\n",
    "past_optout=pd.read_csv(str(path_name)+str('/past_optout.csv'))"
   ]
  },
  {
   "cell_type": "code",
   "execution_count": 33,
   "id": "7c6af5da-4877-4b45-a5e9-23a817f9950b",
   "metadata": {
    "tags": []
   },
   "outputs": [
    {
     "name": "stdout",
     "output_type": "stream",
     "text": [
      "<class 'pandas.core.frame.DataFrame'>\n",
      "RangeIndex: 894420 entries, 0 to 894419\n",
      "Data columns (total 6 columns):\n",
      " #   Column                 Non-Null Count   Dtype \n",
      "---  ------                 --------------   ----- \n",
      " 0   cact                   894420 non-null  int64 \n",
      " 1   latest_optout_date     894420 non-null  object\n",
      " 2   last_optout_recency    894420 non-null  int64 \n",
      " 3   optout_cnt_total       894420 non-null  int64 \n",
      " 4   optout_cnt_lastyear    894420 non-null  int64 \n",
      " 5   optout_cnt_last2years  894420 non-null  int64 \n",
      "dtypes: int64(5), object(1)\n",
      "memory usage: 40.9+ MB\n"
     ]
    },
    {
     "data": {
      "text/html": [
       "<div>\n",
       "<style scoped>\n",
       "    .dataframe tbody tr th:only-of-type {\n",
       "        vertical-align: middle;\n",
       "    }\n",
       "\n",
       "    .dataframe tbody tr th {\n",
       "        vertical-align: top;\n",
       "    }\n",
       "\n",
       "    .dataframe thead th {\n",
       "        text-align: right;\n",
       "    }\n",
       "</style>\n",
       "<table border=\"1\" class=\"dataframe\">\n",
       "  <thead>\n",
       "    <tr style=\"text-align: right;\">\n",
       "      <th></th>\n",
       "      <th>cact</th>\n",
       "      <th>latest_optout_date</th>\n",
       "      <th>last_optout_recency</th>\n",
       "      <th>optout_cnt_total</th>\n",
       "      <th>optout_cnt_lastyear</th>\n",
       "      <th>optout_cnt_last2years</th>\n",
       "    </tr>\n",
       "  </thead>\n",
       "  <tbody>\n",
       "    <tr>\n",
       "      <th>0</th>\n",
       "      <td>700291241837</td>\n",
       "      <td>2022-10-03</td>\n",
       "      <td>1071</td>\n",
       "      <td>1</td>\n",
       "      <td>0</td>\n",
       "      <td>0</td>\n",
       "    </tr>\n",
       "    <tr>\n",
       "      <th>1</th>\n",
       "      <td>700871320530</td>\n",
       "      <td>2025-07-10</td>\n",
       "      <td>60</td>\n",
       "      <td>1</td>\n",
       "      <td>1</td>\n",
       "      <td>1</td>\n",
       "    </tr>\n",
       "    <tr>\n",
       "      <th>2</th>\n",
       "      <td>700005867635</td>\n",
       "      <td>2025-01-31</td>\n",
       "      <td>220</td>\n",
       "      <td>1</td>\n",
       "      <td>1</td>\n",
       "      <td>1</td>\n",
       "    </tr>\n",
       "    <tr>\n",
       "      <th>3</th>\n",
       "      <td>700928219821</td>\n",
       "      <td>2025-08-03</td>\n",
       "      <td>36</td>\n",
       "      <td>2</td>\n",
       "      <td>2</td>\n",
       "      <td>2</td>\n",
       "    </tr>\n",
       "    <tr>\n",
       "      <th>4</th>\n",
       "      <td>700171756227</td>\n",
       "      <td>2023-06-24</td>\n",
       "      <td>807</td>\n",
       "      <td>1</td>\n",
       "      <td>0</td>\n",
       "      <td>0</td>\n",
       "    </tr>\n",
       "  </tbody>\n",
       "</table>\n",
       "</div>"
      ],
      "text/plain": [
       "           cact latest_optout_date  last_optout_recency  optout_cnt_total  \\\n",
       "0  700291241837         2022-10-03                 1071                 1   \n",
       "1  700871320530         2025-07-10                   60                 1   \n",
       "2  700005867635         2025-01-31                  220                 1   \n",
       "3  700928219821         2025-08-03                   36                 2   \n",
       "4  700171756227         2023-06-24                  807                 1   \n",
       "\n",
       "   optout_cnt_lastyear  optout_cnt_last2years  \n",
       "0                    0                      0  \n",
       "1                    1                      1  \n",
       "2                    1                      1  \n",
       "3                    2                      2  \n",
       "4                    0                      0  "
      ]
     },
     "execution_count": 33,
     "metadata": {},
     "output_type": "execute_result"
    }
   ],
   "source": [
    "past_enroll['cact']=pd.to_numeric(past_enroll['cact'], errors='coerce')\n",
    "past_optout['cact']=pd.to_numeric(past_optout['cact'], errors='coerce')\n",
    "past_optout.info()\n",
    "past_optout.head()"
   ]
  },
  {
   "cell_type": "code",
   "execution_count": 34,
   "id": "201d2c79-2c03-4a5a-9230-2f2138bda25c",
   "metadata": {
    "tags": []
   },
   "outputs": [
    {
     "name": "stdout",
     "output_type": "stream",
     "text": [
      "2021-04-06\n",
      "2025-09-07\n"
     ]
    }
   ],
   "source": [
    "print(past_optout['latest_optout_date'].min())\n",
    "print(past_optout['latest_optout_date'].max())"
   ]
  },
  {
   "cell_type": "code",
   "execution_count": 35,
   "id": "ea30ef4d-9994-4acb-b6a7-91024314269b",
   "metadata": {
    "tags": []
   },
   "outputs": [
    {
     "name": "stdout",
     "output_type": "stream",
     "text": [
      "<class 'pandas.core.frame.DataFrame'>\n",
      "RangeIndex: 894420 entries, 0 to 894419\n",
      "Data columns (total 6 columns):\n",
      " #   Column                 Non-Null Count   Dtype \n",
      "---  ------                 --------------   ----- \n",
      " 0   cact                   894420 non-null  int64 \n",
      " 1   latest_optout_date     894420 non-null  object\n",
      " 2   last_optout_recency    894420 non-null  int64 \n",
      " 3   optout_cnt_total       894420 non-null  int64 \n",
      " 4   optout_cnt_lastyear    894420 non-null  int64 \n",
      " 5   optout_cnt_last2years  894420 non-null  int64 \n",
      "dtypes: int64(5), object(1)\n",
      "memory usage: 40.9+ MB\n"
     ]
    }
   ],
   "source": [
    "past_optout.info()"
   ]
  },
  {
   "cell_type": "code",
   "execution_count": 36,
   "id": "c8293080-db2f-4eeb-a58d-14f21aa7b82b",
   "metadata": {
    "tags": []
   },
   "outputs": [
    {
     "name": "stdout",
     "output_type": "stream",
     "text": [
      "<class 'pandas.core.frame.DataFrame'>\n",
      "Index: 582748 entries, 90 to 1219829\n",
      "Data columns (total 30 columns):\n",
      " #   Column                 Non-Null Count   Dtype  \n",
      "---  ------                 --------------   -----  \n",
      " 0   cact                   582748 non-null  int64  \n",
      " 1   bp                     582748 non-null  float64\n",
      " 2   rate_plan              582748 non-null  object \n",
      " 3   rate_plan_cat          582748 non-null  object \n",
      " 4   unit_num               582748 non-null  float64\n",
      " 5   landline               582748 non-null  float64\n",
      " 6   mobilephone            582748 non-null  float64\n",
      " 7   having_phone           582748 non-null  float64\n",
      " 8   cust_type              582748 non-null  object \n",
      " 9   critical_care          450904 non-null  object \n",
      " 10  cactnum                582748 non-null  float64\n",
      " 11  movein_date            582748 non-null  object \n",
      " 12  moveoutdate            582748 non-null  object \n",
      " 13  bill_type              486214 non-null  object \n",
      " 14  have_email             582748 non-null  float64\n",
      " 15  cact_cnt               582748 non-null  float64\n",
      " 16  email_cnt_bp           582748 non-null  float64\n",
      " 17  email_cnt_cact         582748 non-null  float64\n",
      " 18  with_email             582748 non-null  float64\n",
      " 19  eligible               582748 non-null  float64\n",
      " 20  past_enroll_date       257335 non-null  object \n",
      " 21  past_enroll_recency    257335 non-null  float64\n",
      " 22  enroll_cnt_total       257335 non-null  float64\n",
      " 23  enroll_cnt_lastyear    257335 non-null  float64\n",
      " 24  enroll_cnt_last2years  257335 non-null  float64\n",
      " 25  latest_optout_date     257335 non-null  object \n",
      " 26  last_optout_recency    257335 non-null  float64\n",
      " 27  optout_cnt_total       257335 non-null  float64\n",
      " 28  optout_cnt_lastyear    257335 non-null  float64\n",
      " 29  optout_cnt_last2years  257335 non-null  float64\n",
      "dtypes: float64(20), int64(1), object(9)\n",
      "memory usage: 137.8+ MB\n"
     ]
    }
   ],
   "source": [
    "# merge three files\n",
    "cact_for_model['eligible']=1\n",
    "dfs=[cact_for_model, past_enroll, past_optout]\n",
    "\n",
    "for_modeling = reduce(lambda left, right: pd.merge(left, right, on='cact', how='outer'), dfs)\n",
    "for_modeling=for_modeling[for_modeling['eligible']==1]\n",
    "for_modeling.info()"
   ]
  },
  {
   "cell_type": "code",
   "execution_count": 37,
   "id": "19f6c098-6a28-49cb-9ab5-f2abdb6ea3b7",
   "metadata": {
    "tags": []
   },
   "outputs": [
    {
     "name": "stdout",
     "output_type": "stream",
     "text": [
      "582748 582748\n",
      "894420 894420\n",
      "894420 894420\n"
     ]
    },
    {
     "data": {
      "text/plain": [
       "582748"
      ]
     },
     "execution_count": 37,
     "metadata": {},
     "output_type": "execute_result"
    }
   ],
   "source": [
    "print(cact_for_model['cact'].count(), cact_for_model['cact'].nunique())\n",
    "print(past_enroll['cact'].count(), past_enroll['cact'].nunique())\n",
    "print(past_optout['cact'].count(), past_optout['cact'].nunique())\n",
    "for_modeling['cact'].nunique()"
   ]
  },
  {
   "cell_type": "code",
   "execution_count": 38,
   "id": "f87b9de2-4602-4957-b548-74952f5150a4",
   "metadata": {
    "tags": []
   },
   "outputs": [
    {
     "data": {
      "text/html": [
       "<div>\n",
       "<style scoped>\n",
       "    .dataframe tbody tr th:only-of-type {\n",
       "        vertical-align: middle;\n",
       "    }\n",
       "\n",
       "    .dataframe tbody tr th {\n",
       "        vertical-align: top;\n",
       "    }\n",
       "\n",
       "    .dataframe thead th {\n",
       "        text-align: right;\n",
       "    }\n",
       "</style>\n",
       "<table border=\"1\" class=\"dataframe\">\n",
       "  <thead>\n",
       "    <tr style=\"text-align: right;\">\n",
       "      <th></th>\n",
       "      <th>cact</th>\n",
       "      <th>last_optout_recency</th>\n",
       "      <th>optout_cnt_total</th>\n",
       "      <th>optout_cnt_lastyear</th>\n",
       "      <th>optout_cnt_last2years</th>\n",
       "    </tr>\n",
       "  </thead>\n",
       "  <tbody>\n",
       "    <tr>\n",
       "      <th>count</th>\n",
       "      <td>8.944200e+05</td>\n",
       "      <td>894420.000000</td>\n",
       "      <td>894420.000000</td>\n",
       "      <td>894420.000000</td>\n",
       "      <td>894420.000000</td>\n",
       "    </tr>\n",
       "    <tr>\n",
       "      <th>mean</th>\n",
       "      <td>7.004624e+11</td>\n",
       "      <td>667.941856</td>\n",
       "      <td>1.218248</td>\n",
       "      <td>0.389678</td>\n",
       "      <td>0.628685</td>\n",
       "    </tr>\n",
       "    <tr>\n",
       "      <th>std</th>\n",
       "      <td>1.059390e+09</td>\n",
       "      <td>430.585123</td>\n",
       "      <td>0.784710</td>\n",
       "      <td>0.784501</td>\n",
       "      <td>0.920962</td>\n",
       "    </tr>\n",
       "    <tr>\n",
       "      <th>min</th>\n",
       "      <td>5.000010e+11</td>\n",
       "      <td>1.000000</td>\n",
       "      <td>1.000000</td>\n",
       "      <td>0.000000</td>\n",
       "      <td>0.000000</td>\n",
       "    </tr>\n",
       "    <tr>\n",
       "      <th>25%</th>\n",
       "      <td>7.002372e+11</td>\n",
       "      <td>276.000000</td>\n",
       "      <td>1.000000</td>\n",
       "      <td>0.000000</td>\n",
       "      <td>0.000000</td>\n",
       "    </tr>\n",
       "    <tr>\n",
       "      <th>50%</th>\n",
       "      <td>7.004798e+11</td>\n",
       "      <td>732.000000</td>\n",
       "      <td>1.000000</td>\n",
       "      <td>0.000000</td>\n",
       "      <td>0.000000</td>\n",
       "    </tr>\n",
       "    <tr>\n",
       "      <th>75%</th>\n",
       "      <td>7.007042e+11</td>\n",
       "      <td>929.000000</td>\n",
       "      <td>1.000000</td>\n",
       "      <td>1.000000</td>\n",
       "      <td>1.000000</td>\n",
       "    </tr>\n",
       "    <tr>\n",
       "      <th>max</th>\n",
       "      <td>7.010031e+11</td>\n",
       "      <td>1616.000000</td>\n",
       "      <td>39.000000</td>\n",
       "      <td>37.000000</td>\n",
       "      <td>39.000000</td>\n",
       "    </tr>\n",
       "  </tbody>\n",
       "</table>\n",
       "</div>"
      ],
      "text/plain": [
       "               cact  last_optout_recency  optout_cnt_total  \\\n",
       "count  8.944200e+05        894420.000000     894420.000000   \n",
       "mean   7.004624e+11           667.941856          1.218248   \n",
       "std    1.059390e+09           430.585123          0.784710   \n",
       "min    5.000010e+11             1.000000          1.000000   \n",
       "25%    7.002372e+11           276.000000          1.000000   \n",
       "50%    7.004798e+11           732.000000          1.000000   \n",
       "75%    7.007042e+11           929.000000          1.000000   \n",
       "max    7.010031e+11          1616.000000         39.000000   \n",
       "\n",
       "       optout_cnt_lastyear  optout_cnt_last2years  \n",
       "count        894420.000000          894420.000000  \n",
       "mean              0.389678               0.628685  \n",
       "std               0.784501               0.920962  \n",
       "min               0.000000               0.000000  \n",
       "25%               0.000000               0.000000  \n",
       "50%               0.000000               0.000000  \n",
       "75%               1.000000               1.000000  \n",
       "max              37.000000              39.000000  "
      ]
     },
     "execution_count": 38,
     "metadata": {},
     "output_type": "execute_result"
    }
   ],
   "source": [
    "past_optout.describe()"
   ]
  },
  {
   "cell_type": "code",
   "execution_count": 39,
   "id": "a433248d-6011-4ac4-9b8a-42d553b89a19",
   "metadata": {
    "tags": []
   },
   "outputs": [
    {
     "name": "stdout",
     "output_type": "stream",
     "text": [
      "<class 'pandas.core.frame.DataFrame'>\n",
      "Index: 582748 entries, 90 to 1219829\n",
      "Data columns (total 30 columns):\n",
      " #   Column                 Non-Null Count   Dtype  \n",
      "---  ------                 --------------   -----  \n",
      " 0   cact                   582748 non-null  int64  \n",
      " 1   bp                     582748 non-null  float64\n",
      " 2   rate_plan              582748 non-null  object \n",
      " 3   rate_plan_cat          582748 non-null  object \n",
      " 4   unit_num               582748 non-null  float64\n",
      " 5   landline               582748 non-null  float64\n",
      " 6   mobilephone            582748 non-null  float64\n",
      " 7   having_phone           582748 non-null  float64\n",
      " 8   cust_type              582748 non-null  object \n",
      " 9   critical_care          450904 non-null  object \n",
      " 10  cactnum                582748 non-null  float64\n",
      " 11  movein_date            582748 non-null  object \n",
      " 12  moveoutdate            582748 non-null  object \n",
      " 13  bill_type              486214 non-null  object \n",
      " 14  have_email             582748 non-null  float64\n",
      " 15  cact_cnt               582748 non-null  float64\n",
      " 16  email_cnt_bp           582748 non-null  float64\n",
      " 17  email_cnt_cact         582748 non-null  float64\n",
      " 18  with_email             582748 non-null  float64\n",
      " 19  eligible               582748 non-null  float64\n",
      " 20  past_enroll_date       257335 non-null  object \n",
      " 21  past_enroll_recency    257335 non-null  float64\n",
      " 22  enroll_cnt_total       257335 non-null  float64\n",
      " 23  enroll_cnt_lastyear    257335 non-null  float64\n",
      " 24  enroll_cnt_last2years  257335 non-null  float64\n",
      " 25  latest_optout_date     257335 non-null  object \n",
      " 26  last_optout_recency    257335 non-null  float64\n",
      " 27  optout_cnt_total       257335 non-null  float64\n",
      " 28  optout_cnt_lastyear    257335 non-null  float64\n",
      " 29  optout_cnt_last2years  257335 non-null  float64\n",
      "dtypes: float64(20), int64(1), object(9)\n",
      "memory usage: 137.8+ MB\n"
     ]
    }
   ],
   "source": [
    "# Use Nicole's definition for customers with active accounts back on 06/25/2025\n",
    "for_modeling.info()"
   ]
  },
  {
   "cell_type": "markdown",
   "id": "af9069e1-12b8-419c-94f1-0922a538d0fc",
   "metadata": {},
   "source": [
    "#### 3.2 - append predictors/attributes"
   ]
  },
  {
   "cell_type": "code",
   "execution_count": 40,
   "id": "0fd73ebd-3013-4b64-877b-a5856a6221f4",
   "metadata": {
    "tags": []
   },
   "outputs": [
    {
     "name": "stderr",
     "output_type": "stream",
     "text": [
      "/var/tmp/ipykernel_7558/4024619232.py:1: DtypeWarning: Columns (16) have mixed types. Specify dtype option on import or set low_memory=False.\n",
      "  excl_exempt=pd.read_csv(str(path_name)+str('/excl_exempt.csv'))\n"
     ]
    },
    {
     "name": "stdout",
     "output_type": "stream",
     "text": [
      "64833.0\n",
      "0.11125392107737822\n"
     ]
    },
    {
     "name": "stderr",
     "output_type": "stream",
     "text": [
      "/var/tmp/ipykernel_7558/4024619232.py:5: FutureWarning: A value is trying to be set on a copy of a DataFrame or Series through chained assignment using an inplace method.\n",
      "The behavior will change in pandas 3.0. This inplace method will never work because the intermediate object on which we are setting values always behaves as a copy.\n",
      "\n",
      "For example, when doing 'df[col].method(value, inplace=True)', try using 'df.method({col: value}, inplace=True)' or df[col] = df[col].method(value) instead, to perform the operation inplace on the original object.\n",
      "\n",
      "\n",
      "  model_sample2['exempt'].fillna(0, inplace=True)\n"
     ]
    },
    {
     "data": {
      "text/plain": [
       "(582748, 31)"
      ]
     },
     "execution_count": 40,
     "metadata": {},
     "output_type": "execute_result"
    }
   ],
   "source": [
    "excl_exempt=pd.read_csv(str(path_name)+str('/excl_exempt.csv'))\n",
    "excl_exempt.rename(columns={'ZBP_PART': 'bp'}, inplace=True)\n",
    "excl_exempt.drop_duplicates(subset='bp', keep='first', inplace=True)\n",
    "model_sample2=pd.merge(for_modeling, excl_exempt[['bp']].assign(exempt=1), on='bp', how='left')\n",
    "model_sample2['exempt'].fillna(0, inplace=True)\n",
    "print(model_sample2['exempt'].sum())\n",
    "print(model_sample2['exempt'].mean())\n",
    "model_sample2.shape"
   ]
  },
  {
   "cell_type": "code",
   "execution_count": 41,
   "id": "2ac72047-2e03-4276-8c37-9ffc8d670a4f",
   "metadata": {
    "tags": []
   },
   "outputs": [
    {
     "name": "stdout",
     "output_type": "stream",
     "text": [
      "<class 'pandas.core.frame.DataFrame'>\n",
      "Index: 3595647 entries, 0 to 4117120\n",
      "Data columns (total 4 columns):\n",
      " #   Column                Dtype \n",
      "---  ------                ----- \n",
      " 0   cact                  int64 \n",
      " 1   pymt_type             object\n",
      " 2   last_pymt_date        object\n",
      " 3   last_payment_recency  int64 \n",
      "dtypes: int64(2), object(2)\n",
      "memory usage: 137.2+ MB\n",
      "<class 'pandas.core.frame.DataFrame'>\n",
      "RangeIndex: 582748 entries, 0 to 582747\n",
      "Data columns (total 34 columns):\n",
      " #   Column                 Non-Null Count   Dtype  \n",
      "---  ------                 --------------   -----  \n",
      " 0   cact                   582748 non-null  int64  \n",
      " 1   bp                     582748 non-null  float64\n",
      " 2   rate_plan              582748 non-null  object \n",
      " 3   rate_plan_cat          582748 non-null  object \n",
      " 4   unit_num               582748 non-null  float64\n",
      " 5   landline               582748 non-null  float64\n",
      " 6   mobilephone            582748 non-null  float64\n",
      " 7   having_phone           582748 non-null  float64\n",
      " 8   cust_type              582748 non-null  object \n",
      " 9   critical_care          450904 non-null  object \n",
      " 10  cactnum                582748 non-null  float64\n",
      " 11  movein_date            582748 non-null  object \n",
      " 12  moveoutdate            582748 non-null  object \n",
      " 13  bill_type              486214 non-null  object \n",
      " 14  have_email             582748 non-null  float64\n",
      " 15  cact_cnt               582748 non-null  float64\n",
      " 16  email_cnt_bp           582748 non-null  float64\n",
      " 17  email_cnt_cact         582748 non-null  float64\n",
      " 18  with_email             582748 non-null  float64\n",
      " 19  eligible               582748 non-null  float64\n",
      " 20  past_enroll_date       257335 non-null  object \n",
      " 21  past_enroll_recency    257335 non-null  float64\n",
      " 22  enroll_cnt_total       257335 non-null  float64\n",
      " 23  enroll_cnt_lastyear    257335 non-null  float64\n",
      " 24  enroll_cnt_last2years  257335 non-null  float64\n",
      " 25  latest_optout_date     257335 non-null  object \n",
      " 26  last_optout_recency    257335 non-null  float64\n",
      " 27  optout_cnt_total       257335 non-null  float64\n",
      " 28  optout_cnt_lastyear    257335 non-null  float64\n",
      " 29  optout_cnt_last2years  257335 non-null  float64\n",
      " 30  exempt                 582748 non-null  float64\n",
      " 31  pymt_type              388113 non-null  object \n",
      " 32  last_pymt_date         388113 non-null  object \n",
      " 33  last_payment_recency   388113 non-null  float64\n",
      "dtypes: float64(22), int64(1), object(11)\n",
      "memory usage: 151.2+ MB\n"
     ]
    }
   ],
   "source": [
    "excl_payment_1yr=pd.read_csv(str(path_name)+str('/excl_payment_1yr.csv'))\n",
    "excl_payment_1yr.drop_duplicates(subset='cact', inplace=True)\n",
    "excl_payment_1yr.info()\n",
    "\n",
    "model_sample2=pd.merge(model_sample2, excl_payment_1yr, on='cact', how='left')\n",
    "model_sample2.info()"
   ]
  },
  {
   "cell_type": "code",
   "execution_count": 42,
   "id": "cd838b66-c8d5-45dc-b9d8-8eac60f51299",
   "metadata": {
    "tags": []
   },
   "outputs": [
    {
     "name": "stdout",
     "output_type": "stream",
     "text": [
      "<class 'pandas.core.frame.DataFrame'>\n",
      "RangeIndex: 582748 entries, 0 to 582747\n",
      "Columns: 219 entries, cact to recency_WT\n",
      "dtypes: float64(207), int64(1), object(11)\n",
      "memory usage: 973.7+ MB\n"
     ]
    }
   ],
   "source": [
    "df=pd.read_csv(str(path_name)+str('/payment_type.csv'))\n",
    "\n",
    "model_sample2=pd.merge(model_sample2, df, on='cact', how='left')\n",
    "model_sample2.info()"
   ]
  },
  {
   "cell_type": "markdown",
   "id": "240ac13c-3c3c-474d-9b1c-9fc4aa323ded",
   "metadata": {},
   "source": [
    "* Due to the large size of each file, we merge it with each file sequentially. "
   ]
  },
  {
   "cell_type": "code",
   "execution_count": 43,
   "id": "ef8f472c-8d55-4c88-a6e7-0c91c8880d57",
   "metadata": {
    "tags": []
   },
   "outputs": [],
   "source": [
    "df=pd.read_csv(str(path_name)+str('/CACT_event_ct.csv'))\n",
    "df.fillna(0, inplace=True)\n",
    "model_sample2=pd.merge(model_sample2, df, on='cact', how='left')\n",
    "\n",
    "df=pd.read_csv(str(path_name)+str('/CACT_event_recency.csv'))\n",
    "df.fillna(600, inplace=True)\n",
    "model_sample2=pd.merge(model_sample2, df, on='cact', how='left')\n",
    "\n",
    "df=pd.read_csv(str(path_name)+str('/CACT_event_amt.csv'))\n",
    "df.fillna(0, inplace=True)\n",
    "model_sample2=pd.merge(model_sample2, df, on='cact', how='left')\n",
    "\n",
    "df=pd.read_csv(str(path_name)+str('/CACT_event_subtype_ct_1.csv'))\n",
    "df.fillna(0, inplace=True)\n",
    "model_sample2=pd.merge(model_sample2, df, on='cact', how='left')\n",
    "\n",
    "df=pd.read_csv(str(path_name)+str('/CACT_event_subtype_ct_2.csv'))\n",
    "df.fillna(0, inplace=True)\n",
    "model_sample2=pd.merge(model_sample2, df, on='cact', how='left')\n",
    "\n",
    "df=pd.read_csv(str(path_name)+str('/CACT_event_subtype_recency.csv'))\n",
    "df.fillna(600, inplace=True)\n",
    "model_sample2=pd.merge(model_sample2, df, on='cact', how='left')\n",
    "\n",
    "df=pd.read_csv(str(path_name)+str('/CACT_event_subtype_am_1.csv'))\n",
    "df.fillna(0, inplace=True)\n",
    "model_sample2=pd.merge(model_sample2, df, on='cact', how='left')\n",
    "\n",
    "df=pd.read_csv(str(path_name)+str('/CACT_event_subtype_am_2.csv'))\n",
    "df.fillna(0, inplace=True)\n",
    "model_sample2=pd.merge(model_sample2, df, on='cact', how='left')\n",
    "\n",
    "df=pd.read_csv(str(path_name)+str('/CACT_event_com_ct_1.csv'))\n",
    "df.fillna(0, inplace=True)\n",
    "model_sample2=pd.merge(model_sample2, df, on='cact', how='left')\n",
    "\n",
    "df=pd.read_csv(str(path_name)+str('/CACT_event_com_ct_2.csv'))\n",
    "df.fillna(0, inplace=True)\n",
    "model_sample2=pd.merge(model_sample2, df, on='cact', how='left')\n",
    "\n",
    "df=pd.read_csv(str(path_name)+str('/CACT_event_com_am_1.csv'))\n",
    "df.fillna(0, inplace=True)\n",
    "model_sample2=pd.merge(model_sample2, df, on='cact', how='left')\n",
    "\n",
    "df=pd.read_csv(str(path_name)+str('/CACT_event_com_am_2.csv'))\n",
    "df.fillna(0, inplace=True)\n",
    "model_sample2=pd.merge(model_sample2, df, on='cact', how='left')\n",
    "\n",
    "df=pd.read_csv(str(path_name)+str('/CACT_event_com_recency.csv'))\n",
    "df.fillna(0, inplace=True)\n",
    "model_sample2=pd.merge(model_sample2, df, on='cact', how='left')"
   ]
  },
  {
   "cell_type": "code",
   "execution_count": 44,
   "id": "28560f61-f41a-4fd1-b5b2-f870389cd236",
   "metadata": {
    "tags": []
   },
   "outputs": [],
   "source": [
    "model_sample2['movein_dt']=pd.to_datetime(model_sample2['movein_date'].astype(str), format='mixed')\n",
    "model_sample2['acct_age']=(pd.to_datetime('2025-09-08', format='%Y-%m-%d') - model_sample2['movein_dt']).dt.days\n",
    "model_sample2.columns = model_sample2.columns.str.replace('-', '_')"
   ]
  },
  {
   "cell_type": "code",
   "execution_count": 45,
   "id": "48e8dfdd-bb88-43f8-96b1-c75168164262",
   "metadata": {
    "tags": []
   },
   "outputs": [
    {
     "name": "stdout",
     "output_type": "stream",
     "text": [
      "<class 'pandas.core.frame.DataFrame'>\n",
      "RangeIndex: 582748 entries, 0 to 582747\n",
      "Columns: 793 entries, cact to acct_age\n",
      "dtypes: datetime64[ns](1), float64(779), int64(2), object(11)\n",
      "memory usage: 3.4+ GB\n"
     ]
    }
   ],
   "source": [
    "model_sample2.info()"
   ]
  },
  {
   "cell_type": "code",
   "execution_count": 46,
   "id": "3c405c89-c64f-4420-9854-aa5a4f238360",
   "metadata": {
    "tags": []
   },
   "outputs": [],
   "source": [
    "#model_sample2.to_csv(str(path_name)+str('/validation_')+formatted_date+str('.csv'), index=False)\n",
    "model_sample2.to_csv('gs://ebill_enrollment_model/implementation_20250821/validation_20250908.csv', index=False)"
   ]
  },
  {
   "cell_type": "code",
   "execution_count": 52,
   "id": "c1f1e844-d76a-409e-b8a6-584460039f8e",
   "metadata": {
    "tags": []
   },
   "outputs": [
    {
     "data": {
      "text/html": [
       "<div>\n",
       "<style scoped>\n",
       "    .dataframe tbody tr th:only-of-type {\n",
       "        vertical-align: middle;\n",
       "    }\n",
       "\n",
       "    .dataframe tbody tr th {\n",
       "        vertical-align: top;\n",
       "    }\n",
       "\n",
       "    .dataframe thead th {\n",
       "        text-align: right;\n",
       "    }\n",
       "</style>\n",
       "<table border=\"1\" class=\"dataframe\">\n",
       "  <thead>\n",
       "    <tr style=\"text-align: right;\">\n",
       "      <th></th>\n",
       "      <th>past_enroll_recency</th>\n",
       "      <th>enroll_cnt_total</th>\n",
       "      <th>enroll_cnt_lastyear</th>\n",
       "      <th>enroll_cnt_last2years</th>\n",
       "      <th>last_optout_recency</th>\n",
       "      <th>optout_cnt_total</th>\n",
       "      <th>optout_cnt_lastyear</th>\n",
       "      <th>optout_cnt_last2years</th>\n",
       "    </tr>\n",
       "  </thead>\n",
       "  <tbody>\n",
       "    <tr>\n",
       "      <th>count</th>\n",
       "      <td>257335.000000</td>\n",
       "      <td>257335.000000</td>\n",
       "      <td>257335.000000</td>\n",
       "      <td>257335.000000</td>\n",
       "      <td>257335.000000</td>\n",
       "      <td>257335.000000</td>\n",
       "      <td>257335.000000</td>\n",
       "      <td>257335.000000</td>\n",
       "    </tr>\n",
       "    <tr>\n",
       "      <th>mean</th>\n",
       "      <td>427.676943</td>\n",
       "      <td>1.397501</td>\n",
       "      <td>0.721814</td>\n",
       "      <td>1.052379</td>\n",
       "      <td>427.676943</td>\n",
       "      <td>1.397501</td>\n",
       "      <td>0.721814</td>\n",
       "      <td>1.052379</td>\n",
       "    </tr>\n",
       "    <tr>\n",
       "      <th>std</th>\n",
       "      <td>382.144281</td>\n",
       "      <td>1.138084</td>\n",
       "      <td>1.090064</td>\n",
       "      <td>1.168499</td>\n",
       "      <td>382.144281</td>\n",
       "      <td>1.138084</td>\n",
       "      <td>1.090064</td>\n",
       "      <td>1.168499</td>\n",
       "    </tr>\n",
       "    <tr>\n",
       "      <th>min</th>\n",
       "      <td>1.000000</td>\n",
       "      <td>1.000000</td>\n",
       "      <td>0.000000</td>\n",
       "      <td>0.000000</td>\n",
       "      <td>1.000000</td>\n",
       "      <td>1.000000</td>\n",
       "      <td>0.000000</td>\n",
       "      <td>0.000000</td>\n",
       "    </tr>\n",
       "    <tr>\n",
       "      <th>25%</th>\n",
       "      <td>114.000000</td>\n",
       "      <td>1.000000</td>\n",
       "      <td>0.000000</td>\n",
       "      <td>1.000000</td>\n",
       "      <td>114.000000</td>\n",
       "      <td>1.000000</td>\n",
       "      <td>0.000000</td>\n",
       "      <td>1.000000</td>\n",
       "    </tr>\n",
       "    <tr>\n",
       "      <th>50%</th>\n",
       "      <td>314.000000</td>\n",
       "      <td>1.000000</td>\n",
       "      <td>1.000000</td>\n",
       "      <td>1.000000</td>\n",
       "      <td>314.000000</td>\n",
       "      <td>1.000000</td>\n",
       "      <td>1.000000</td>\n",
       "      <td>1.000000</td>\n",
       "    </tr>\n",
       "    <tr>\n",
       "      <th>75%</th>\n",
       "      <td>643.000000</td>\n",
       "      <td>1.000000</td>\n",
       "      <td>1.000000</td>\n",
       "      <td>1.000000</td>\n",
       "      <td>643.000000</td>\n",
       "      <td>1.000000</td>\n",
       "      <td>1.000000</td>\n",
       "      <td>1.000000</td>\n",
       "    </tr>\n",
       "    <tr>\n",
       "      <th>max</th>\n",
       "      <td>1616.000000</td>\n",
       "      <td>39.000000</td>\n",
       "      <td>36.000000</td>\n",
       "      <td>39.000000</td>\n",
       "      <td>1616.000000</td>\n",
       "      <td>39.000000</td>\n",
       "      <td>36.000000</td>\n",
       "      <td>39.000000</td>\n",
       "    </tr>\n",
       "  </tbody>\n",
       "</table>\n",
       "</div>"
      ],
      "text/plain": [
       "       past_enroll_recency  enroll_cnt_total  enroll_cnt_lastyear  \\\n",
       "count        257335.000000     257335.000000        257335.000000   \n",
       "mean            427.676943          1.397501             0.721814   \n",
       "std             382.144281          1.138084             1.090064   \n",
       "min               1.000000          1.000000             0.000000   \n",
       "25%             114.000000          1.000000             0.000000   \n",
       "50%             314.000000          1.000000             1.000000   \n",
       "75%             643.000000          1.000000             1.000000   \n",
       "max            1616.000000         39.000000            36.000000   \n",
       "\n",
       "       enroll_cnt_last2years  last_optout_recency  optout_cnt_total  \\\n",
       "count          257335.000000        257335.000000     257335.000000   \n",
       "mean                1.052379           427.676943          1.397501   \n",
       "std                 1.168499           382.144281          1.138084   \n",
       "min                 0.000000             1.000000          1.000000   \n",
       "25%                 1.000000           114.000000          1.000000   \n",
       "50%                 1.000000           314.000000          1.000000   \n",
       "75%                 1.000000           643.000000          1.000000   \n",
       "max                39.000000          1616.000000         39.000000   \n",
       "\n",
       "       optout_cnt_lastyear  optout_cnt_last2years  \n",
       "count        257335.000000          257335.000000  \n",
       "mean              0.721814               1.052379  \n",
       "std               1.090064               1.168499  \n",
       "min               0.000000               0.000000  \n",
       "25%               0.000000               1.000000  \n",
       "50%               1.000000               1.000000  \n",
       "75%               1.000000               1.000000  \n",
       "max              36.000000              39.000000  "
      ]
     },
     "execution_count": 52,
     "metadata": {},
     "output_type": "execute_result"
    }
   ],
   "source": [
    "model_sample2[['past_enroll_recency',\n",
    " 'enroll_cnt_total',\n",
    " 'enroll_cnt_lastyear',\n",
    " 'enroll_cnt_last2years',\n",
    " 'last_optout_recency',\n",
    " 'optout_cnt_total',\n",
    " 'optout_cnt_lastyear',\n",
    " 'optout_cnt_last2years']].describe()"
   ]
  },
  {
   "cell_type": "markdown",
   "id": "d5aff9f4-f5cd-4965-a4f6-8120093c59a3",
   "metadata": {},
   "source": [
    "#### append acxiom data"
   ]
  },
  {
   "cell_type": "code",
   "execution_count": 47,
   "id": "60a231b6-303e-4726-9f58-3706eb142bcd",
   "metadata": {
    "tags": []
   },
   "outputs": [],
   "source": [
    "#deploy_file=pd.read_csv('gs://ebill_enrollment_model/implementation_20250821/validation_20250908.csv')"
   ]
  },
  {
   "cell_type": "code",
   "execution_count": 48,
   "id": "768c94aa-e525-468c-a3da-10e410ba6af5",
   "metadata": {
    "tags": []
   },
   "outputs": [
    {
     "name": "stdout",
     "output_type": "stream",
     "text": [
      "<class 'pandas.core.frame.DataFrame'>\n",
      "Index: 4458884 entries, 0 to 4491793\n",
      "Columns: 212 entries, PX001270_01PersonicxLifestageClusterCode170SeeFormatLIFECLS to cact\n",
      "dtypes: float64(155), int64(2), object(55)\n",
      "memory usage: 7.1+ GB\n"
     ]
    }
   ],
   "source": [
    "# read in Acxiom data\n",
    "df=pd.read_csv('gs://ebill_enrollment_model/input_data/acxiom_202406.csv')\n",
    "df['cact']=pd.to_numeric(df['CONTRACT_ACCOUNT'], errors='coerce')\n",
    "df.drop_duplicates(subset='cact', keep='first', inplace=True)\n",
    "df.drop(['BP',\n",
    " 'CONTRACT_ACCOUNT',\n",
    " 'Contract Number',\n",
    " 'Service Account Number',\n",
    " 'INSTALLATION_NUMBER',\n",
    " 'DEVICE_LOCATION',\n",
    " 'Customer Full Name',\n",
    " 'Customer First Name',\n",
    " 'Customer Last Name',\n",
    " 'PREMISE',\n",
    " 'Premise Street Address Number',\n",
    " 'Premise Street Address Name',\n",
    " 'Premise Street Address Unit',\n",
    " 'Premise City',\n",
    " 'Premise State',\n",
    " 'Premise ZIP Code'], axis=1, inplace=True)\n",
    "df.columns = df.columns.str.replace(\"'\", '')\n",
    "df.columns = df.columns.str.replace(\".\", '')\n",
    "df.columns = df.columns.str.replace(\",\", '')\n",
    "df.columns = df.columns.str.replace(\"-\", '')\n",
    "df.columns = df.columns.str.replace(\" \", '')\n",
    "df.columns = df.columns.str.replace(\"(\", '')\n",
    "df.columns = df.columns.str.replace(\")\", '')\n",
    "df.columns = df.columns.str.replace(\"%\", '')\n",
    "df.columns = df.columns.str.replace(\"/\", '')\n",
    "#df.columns = df.columns.str.replace('\\', '')\n",
    "df.columns = df.columns.str.replace(\"=\", '_')     \n",
    "df.columns = df.columns.str.replace(\"+\", '')\n",
    "df.columns = df.columns.str.replace(\"$\", '')\n",
    "df.columns = df.columns.str.replace(\"?\", '')\n",
    "df.columns = df.columns.str.replace(\"+\", '')\n",
    "df.info()\n",
    "\n",
    "df=df[['cact', 'IBE7616_02AgeinTwoYearIncrements1stIndividual1003_Hhold4_HholdInferredA_Zip4G_Zip',\n",
    "       'IBE7641_02IncomeEstimatedHousehold1003_Household4_HouseholdInferredA_Zip4G_Zip']]"
   ]
  },
  {
   "cell_type": "code",
   "execution_count": 49,
   "id": "f775ab5f-73d3-4a3c-bc6c-72673a5887ee",
   "metadata": {
    "tags": []
   },
   "outputs": [
    {
     "name": "stdout",
     "output_type": "stream",
     "text": [
      "<class 'pandas.core.frame.DataFrame'>\n",
      "RangeIndex: 582748 entries, 0 to 582747\n",
      "Columns: 795 entries, cact to IBE7641_02IncomeEstimatedHousehold1003_Household4_HouseholdInferredA_Zip4G_Zip\n",
      "dtypes: datetime64[ns](1), float64(779), int64(2), object(13)\n",
      "memory usage: 3.5+ GB\n"
     ]
    }
   ],
   "source": [
    "deploy_file=pd.merge(model_sample2, df, on='cact', how='left')\n",
    "deploy_file.info()"
   ]
  },
  {
   "cell_type": "code",
   "execution_count": 50,
   "id": "126923a1-8b2b-45d4-bd71-2b301ec6094b",
   "metadata": {
    "tags": []
   },
   "outputs": [],
   "source": [
    "deploy_file.to_csv(str(path_name)+str('/validation_file_20250908')+str('.csv'), index=False)"
   ]
  },
  {
   "cell_type": "code",
   "execution_count": 13,
   "id": "17066be4-fc42-4746-8905-0316feb6cfcf",
   "metadata": {
    "tags": []
   },
   "outputs": [],
   "source": [
    "del deploy_file"
   ]
  },
  {
   "cell_type": "markdown",
   "id": "f35d2f1c-5cab-4c58-bcae-324ad4aec31c",
   "metadata": {},
   "source": [
    "## Part 4 - Scoring"
   ]
  },
  {
   "cell_type": "code",
   "execution_count": 6,
   "id": "c11ca787-92de-4170-8cf6-4eaddeb11ac3",
   "metadata": {
    "tags": []
   },
   "outputs": [
    {
     "name": "stderr",
     "output_type": "stream",
     "text": [
      "/var/tmp/ipykernel_7632/573314988.py:1: DtypeWarning: Columns (22,26,31,37,38,802,803,804,818,820,821,822,856,872,874,875,876,878,879,880,882,883,884,886,888,890,892,894,895,897,902,903,905,908,910,912,917,918,919,922,924,925,926,978,980,981,982,984,986,988,993,995,997,999,1001,1003,1005,1008,1009,1010) have mixed types. Specify dtype option on import or set low_memory=False.\n",
      "  mod=pd.read_csv('gs://ebill_enrollment_model/input_20250811/modeling_enhance_20250625.csv')\n",
      "/var/tmp/ipykernel_7632/573314988.py:2: DtypeWarning: Columns (31,32,793,794) have mixed types. Specify dtype option on import or set low_memory=False.\n",
      "  val=pd.read_csv(str(path_name)+str('/validation_file_20250908')+str('.csv'))\n"
     ]
    },
    {
     "name": "stdout",
     "output_type": "stream",
     "text": [
      "(529527, 1014)\n",
      "(582748, 795)\n"
     ]
    }
   ],
   "source": [
    "mod=pd.read_csv('gs://ebill_enrollment_model/input_20250811/modeling_enhance_20250625.csv')\n",
    "val=pd.read_csv(str(path_name)+str('/validation_file_20250908')+str('.csv'))\n",
    "print(mod.shape)\n",
    "print(val.shape)"
   ]
  },
  {
   "cell_type": "code",
   "execution_count": 7,
   "id": "6d2acfd6-85e0-42fb-9d9c-a908ae40f89b",
   "metadata": {
    "tags": []
   },
   "outputs": [],
   "source": [
    "failure_samp=pd.concat([mod.assign(seg='mod'), val.assign(seg='val')])"
   ]
  },
  {
   "cell_type": "code",
   "execution_count": 8,
   "id": "ee43f665-009a-4d07-896d-014768c5dd43",
   "metadata": {
    "tags": []
   },
   "outputs": [
    {
     "name": "stdout",
     "output_type": "stream",
     "text": [
      "<class 'pandas.core.frame.DataFrame'>\n",
      "Index: 1112275 entries, 0 to 582747\n",
      "Columns: 1023 entries, cact to recency_WT\n",
      "dtypes: float64(952), object(71)\n",
      "memory usage: 8.5+ GB\n"
     ]
    }
   ],
   "source": [
    "failure_samp.info()"
   ]
  },
  {
   "cell_type": "code",
   "execution_count": 9,
   "id": "bf559cd2-fbd5-4c62-bf05-2f410414dfc8",
   "metadata": {
    "tags": []
   },
   "outputs": [],
   "source": [
    "del mod, val"
   ]
  },
  {
   "cell_type": "code",
   "execution_count": 10,
   "id": "fc9540ab-2105-46b2-b128-b7c01b43aac3",
   "metadata": {
    "tags": []
   },
   "outputs": [
    {
     "name": "stderr",
     "output_type": "stream",
     "text": [
      "/var/tmp/ipykernel_7632/3960085620.py:2: FutureWarning: A value is trying to be set on a copy of a DataFrame or Series through chained assignment using an inplace method.\n",
      "The behavior will change in pandas 3.0. This inplace method will never work because the intermediate object on which we are setting values always behaves as a copy.\n",
      "\n",
      "For example, when doing 'df[col].method(value, inplace=True)', try using 'df.method({col: value}, inplace=True)' or df[col] = df[col].method(value) instead, to perform the operation inplace on the original object.\n",
      "\n",
      "\n",
      "  df['create_ca_sub_ct_360'].fillna(0, inplace=True)\n",
      "/var/tmp/ipykernel_7632/3960085620.py:3: FutureWarning: A value is trying to be set on a copy of a DataFrame or Series through chained assignment using an inplace method.\n",
      "The behavior will change in pandas 3.0. This inplace method will never work because the intermediate object on which we are setting values always behaves as a copy.\n",
      "\n",
      "For example, when doing 'df[col].method(value, inplace=True)', try using 'df.method({col: value}, inplace=True)' or df[col] = df[col].method(value) instead, to perform the operation inplace on the original object.\n",
      "\n",
      "\n",
      "  df['invceZcreate_ca_ct_360d'].fillna(0, inplace=True)\n",
      "/var/tmp/ipykernel_7632/3960085620.py:4: FutureWarning: A value is trying to be set on a copy of a DataFrame or Series through chained assignment using an inplace method.\n",
      "The behavior will change in pandas 3.0. This inplace method will never work because the intermediate object on which we are setting values always behaves as a copy.\n",
      "\n",
      "For example, when doing 'df[col].method(value, inplace=True)', try using 'df.method({col: value}, inplace=True)' or df[col] = df[col].method(value) instead, to perform the operation inplace on the original object.\n",
      "\n",
      "\n",
      "  df['pymtZpymt_ca_ct_360d'].fillna(-10, inplace=True)\n",
      "/var/tmp/ipykernel_7632/3960085620.py:5: FutureWarning: A value is trying to be set on a copy of a DataFrame or Series through chained assignment using an inplace method.\n",
      "The behavior will change in pandas 3.0. This inplace method will never work because the intermediate object on which we are setting values always behaves as a copy.\n",
      "\n",
      "For example, when doing 'df[col].method(value, inplace=True)', try using 'df.method({col: value}, inplace=True)' or df[col] = df[col].method(value) instead, to perform the operation inplace on the original object.\n",
      "\n",
      "\n",
      "  df['lockZfica_intr_ca_ct_360d'].fillna(-2, inplace=True)\n",
      "/var/tmp/ipykernel_7632/3960085620.py:6: FutureWarning: A value is trying to be set on a copy of a DataFrame or Series through chained assignment using an inplace method.\n",
      "The behavior will change in pandas 3.0. This inplace method will never work because the intermediate object on which we are setting values always behaves as a copy.\n",
      "\n",
      "For example, when doing 'df[col].method(value, inplace=True)', try using 'df.method({col: value}, inplace=True)' or df[col] = df[col].method(value) instead, to perform the operation inplace on the original object.\n",
      "\n",
      "\n",
      "  df['inplZcreate_ca_ct_180d'].fillna(-1, inplace=True)\n",
      "/var/tmp/ipykernel_7632/3960085620.py:7: FutureWarning: A value is trying to be set on a copy of a DataFrame or Series through chained assignment using an inplace method.\n",
      "The behavior will change in pandas 3.0. This inplace method will never work because the intermediate object on which we are setting values always behaves as a copy.\n",
      "\n",
      "For example, when doing 'df[col].method(value, inplace=True)', try using 'df.method({col: value}, inplace=True)' or df[col] = df[col].method(value) instead, to perform the operation inplace on the original object.\n",
      "\n",
      "\n",
      "  df['lockZcact_dunn_ca_ct_180d'].fillna(-1, inplace=True)\n",
      "/var/tmp/ipykernel_7632/3960085620.py:8: FutureWarning: A value is trying to be set on a copy of a DataFrame or Series through chained assignment using an inplace method.\n",
      "The behavior will change in pandas 3.0. This inplace method will never work because the intermediate object on which we are setting values always behaves as a copy.\n",
      "\n",
      "For example, when doing 'df[col].method(value, inplace=True)', try using 'df.method({col: value}, inplace=True)' or df[col] = df[col].method(value) instead, to perform the operation inplace on the original object.\n",
      "\n",
      "\n",
      "  df['lockZfica_post_ca_ct_180d'].fillna(-1, inplace=True)\n",
      "/var/tmp/ipykernel_7632/3960085620.py:9: FutureWarning: A value is trying to be set on a copy of a DataFrame or Series through chained assignment using an inplace method.\n",
      "The behavior will change in pandas 3.0. This inplace method will never work because the intermediate object on which we are setting values always behaves as a copy.\n",
      "\n",
      "For example, when doing 'df[col].method(value, inplace=True)', try using 'df.method({col: value}, inplace=True)' or df[col] = df[col].method(value) instead, to perform the operation inplace on the original object.\n",
      "\n",
      "\n",
      "  df['acct_age'].fillna(1000, inplace=True)\n",
      "/var/tmp/ipykernel_7632/3960085620.py:10: FutureWarning: A value is trying to be set on a copy of a DataFrame or Series through chained assignment using an inplace method.\n",
      "The behavior will change in pandas 3.0. This inplace method will never work because the intermediate object on which we are setting values always behaves as a copy.\n",
      "\n",
      "For example, when doing 'df[col].method(value, inplace=True)', try using 'df.method({col: value}, inplace=True)' or df[col] = df[col].method(value) instead, to perform the operation inplace on the original object.\n",
      "\n",
      "\n",
      "  df['pymt_ca_am_360d'].fillna(-100, inplace=True)\n",
      "/var/tmp/ipykernel_7632/3960085620.py:11: FutureWarning: A value is trying to be set on a copy of a DataFrame or Series through chained assignment using an inplace method.\n",
      "The behavior will change in pandas 3.0. This inplace method will never work because the intermediate object on which we are setting values always behaves as a copy.\n",
      "\n",
      "For example, when doing 'df[col].method(value, inplace=True)', try using 'df.method({col: value}, inplace=True)' or df[col] = df[col].method(value) instead, to perform the operation inplace on the original object.\n",
      "\n",
      "\n",
      "  df['pymtZpymt_ca_recency'].fillna(-1, inplace=True)\n",
      "/var/tmp/ipykernel_7632/3960085620.py:12: FutureWarning: A value is trying to be set on a copy of a DataFrame or Series through chained assignment using an inplace method.\n",
      "The behavior will change in pandas 3.0. This inplace method will never work because the intermediate object on which we are setting values always behaves as a copy.\n",
      "\n",
      "For example, when doing 'df[col].method(value, inplace=True)', try using 'df.method({col: value}, inplace=True)' or df[col] = df[col].method(value) instead, to perform the operation inplace on the original object.\n",
      "\n",
      "\n",
      "  df['count_HB_90'].fillna(-1, inplace=True)\n",
      "/var/tmp/ipykernel_7632/3960085620.py:13: FutureWarning: A value is trying to be set on a copy of a DataFrame or Series through chained assignment using an inplace method.\n",
      "The behavior will change in pandas 3.0. This inplace method will never work because the intermediate object on which we are setting values always behaves as a copy.\n",
      "\n",
      "For example, when doing 'df[col].method(value, inplace=True)', try using 'df.method({col: value}, inplace=True)' or df[col] = df[col].method(value) instead, to perform the operation inplace on the original object.\n",
      "\n",
      "\n",
      "  df['pymt_ca_sub_am_30'].fillna(-50, inplace=True)\n",
      "/var/tmp/ipykernel_7632/3960085620.py:14: FutureWarning: A value is trying to be set on a copy of a DataFrame or Series through chained assignment using an inplace method.\n",
      "The behavior will change in pandas 3.0. This inplace method will never work because the intermediate object on which we are setting values always behaves as a copy.\n",
      "\n",
      "For example, when doing 'df[col].method(value, inplace=True)', try using 'df.method({col: value}, inplace=True)' or df[col] = df[col].method(value) instead, to perform the operation inplace on the original object.\n",
      "\n",
      "\n",
      "  df['acct_age'].fillna(0, inplace=True)\n",
      "/var/tmp/ipykernel_7632/3960085620.py:15: FutureWarning: A value is trying to be set on a copy of a DataFrame or Series through chained assignment using an inplace method.\n",
      "The behavior will change in pandas 3.0. This inplace method will never work because the intermediate object on which we are setting values always behaves as a copy.\n",
      "\n",
      "For example, when doing 'df[col].method(value, inplace=True)', try using 'df.method({col: value}, inplace=True)' or df[col] = df[col].method(value) instead, to perform the operation inplace on the original object.\n",
      "\n",
      "\n",
      "  df['create_ca_sub_ct_360'].fillna(0, inplace=True)\n",
      "/var/tmp/ipykernel_7632/3960085620.py:16: FutureWarning: A value is trying to be set on a copy of a DataFrame or Series through chained assignment using an inplace method.\n",
      "The behavior will change in pandas 3.0. This inplace method will never work because the intermediate object on which we are setting values always behaves as a copy.\n",
      "\n",
      "For example, when doing 'df[col].method(value, inplace=True)', try using 'df.method({col: value}, inplace=True)' or df[col] = df[col].method(value) instead, to perform the operation inplace on the original object.\n",
      "\n",
      "\n",
      "  df['invceZcreate_ca_ct_360d'].fillna(0, inplace=True)\n",
      "/var/tmp/ipykernel_7632/3960085620.py:22: FutureWarning: A value is trying to be set on a copy of a DataFrame or Series through chained assignment using an inplace method.\n",
      "The behavior will change in pandas 3.0. This inplace method will never work because the intermediate object on which we are setting values always behaves as a copy.\n",
      "\n",
      "For example, when doing 'df[col].method(value, inplace=True)', try using 'df.method({col: value}, inplace=True)' or df[col] = df[col].method(value) instead, to perform the operation inplace on the original object.\n",
      "\n",
      "\n",
      "  df['pymtZpymt_ca_ct_360d'].fillna(-10, inplace=True)\n",
      "/var/tmp/ipykernel_7632/3960085620.py:23: FutureWarning: A value is trying to be set on a copy of a DataFrame or Series through chained assignment using an inplace method.\n",
      "The behavior will change in pandas 3.0. This inplace method will never work because the intermediate object on which we are setting values always behaves as a copy.\n",
      "\n",
      "For example, when doing 'df[col].method(value, inplace=True)', try using 'df.method({col: value}, inplace=True)' or df[col] = df[col].method(value) instead, to perform the operation inplace on the original object.\n",
      "\n",
      "\n",
      "  df['lockZfica_intr_ca_ct_360d'].fillna(-2, inplace=True)\n",
      "/var/tmp/ipykernel_7632/3960085620.py:24: FutureWarning: A value is trying to be set on a copy of a DataFrame or Series through chained assignment using an inplace method.\n",
      "The behavior will change in pandas 3.0. This inplace method will never work because the intermediate object on which we are setting values always behaves as a copy.\n",
      "\n",
      "For example, when doing 'df[col].method(value, inplace=True)', try using 'df.method({col: value}, inplace=True)' or df[col] = df[col].method(value) instead, to perform the operation inplace on the original object.\n",
      "\n",
      "\n",
      "  df['inplZcreate_ca_ct_180d'].fillna(-1, inplace=True)\n",
      "/var/tmp/ipykernel_7632/3960085620.py:25: FutureWarning: A value is trying to be set on a copy of a DataFrame or Series through chained assignment using an inplace method.\n",
      "The behavior will change in pandas 3.0. This inplace method will never work because the intermediate object on which we are setting values always behaves as a copy.\n",
      "\n",
      "For example, when doing 'df[col].method(value, inplace=True)', try using 'df.method({col: value}, inplace=True)' or df[col] = df[col].method(value) instead, to perform the operation inplace on the original object.\n",
      "\n",
      "\n",
      "  df['lockZcact_dunn_ca_ct_180d'].fillna(-1, inplace=True)\n",
      "/var/tmp/ipykernel_7632/3960085620.py:26: FutureWarning: A value is trying to be set on a copy of a DataFrame or Series through chained assignment using an inplace method.\n",
      "The behavior will change in pandas 3.0. This inplace method will never work because the intermediate object on which we are setting values always behaves as a copy.\n",
      "\n",
      "For example, when doing 'df[col].method(value, inplace=True)', try using 'df.method({col: value}, inplace=True)' or df[col] = df[col].method(value) instead, to perform the operation inplace on the original object.\n",
      "\n",
      "\n",
      "  df['lockZfica_post_ca_ct_180d'].fillna(-1, inplace=True)\n",
      "/var/tmp/ipykernel_7632/3960085620.py:27: FutureWarning: A value is trying to be set on a copy of a DataFrame or Series through chained assignment using an inplace method.\n",
      "The behavior will change in pandas 3.0. This inplace method will never work because the intermediate object on which we are setting values always behaves as a copy.\n",
      "\n",
      "For example, when doing 'df[col].method(value, inplace=True)', try using 'df.method({col: value}, inplace=True)' or df[col] = df[col].method(value) instead, to perform the operation inplace on the original object.\n",
      "\n",
      "\n",
      "  df['acct_age'].fillna(1000, inplace=True)\n",
      "/var/tmp/ipykernel_7632/3960085620.py:30: PerformanceWarning: DataFrame is highly fragmented.  This is usually the result of calling `frame.insert` many times, which has poor performance.  Consider joining all columns at once using pd.concat(axis=1) instead. To get a de-fragmented frame, use `newframe = frame.copy()`\n",
      "  df['pymt_ca_sub_am_360_t']=np.where(df['pymt_ca_sub_am_360'].isnull()==True, df['pymt_ca_sub_am_360'].mean(),\n",
      "/var/tmp/ipykernel_7632/3960085620.py:32: FutureWarning: A value is trying to be set on a copy of a DataFrame or Series through chained assignment using an inplace method.\n",
      "The behavior will change in pandas 3.0. This inplace method will never work because the intermediate object on which we are setting values always behaves as a copy.\n",
      "\n",
      "For example, when doing 'df[col].method(value, inplace=True)', try using 'df.method({col: value}, inplace=True)' or df[col] = df[col].method(value) instead, to perform the operation inplace on the original object.\n",
      "\n",
      "\n",
      "  df['pymt_ca_am_360d'].fillna(-100, inplace=True)\n",
      "/var/tmp/ipykernel_7632/3960085620.py:34: FutureWarning: A value is trying to be set on a copy of a DataFrame or Series through chained assignment using an inplace method.\n",
      "The behavior will change in pandas 3.0. This inplace method will never work because the intermediate object on which we are setting values always behaves as a copy.\n",
      "\n",
      "For example, when doing 'df[col].method(value, inplace=True)', try using 'df.method({col: value}, inplace=True)' or df[col] = df[col].method(value) instead, to perform the operation inplace on the original object.\n",
      "\n",
      "\n",
      "  df['pymtZpymt_ca_recency'].fillna(-1, inplace=True)\n",
      "/var/tmp/ipykernel_7632/3960085620.py:35: FutureWarning: A value is trying to be set on a copy of a DataFrame or Series through chained assignment using an inplace method.\n",
      "The behavior will change in pandas 3.0. This inplace method will never work because the intermediate object on which we are setting values always behaves as a copy.\n",
      "\n",
      "For example, when doing 'df[col].method(value, inplace=True)', try using 'df.method({col: value}, inplace=True)' or df[col] = df[col].method(value) instead, to perform the operation inplace on the original object.\n",
      "\n",
      "\n",
      "  df['count_HB_90'].fillna(-1, inplace=True)\n",
      "/var/tmp/ipykernel_7632/3960085620.py:36: FutureWarning: A value is trying to be set on a copy of a DataFrame or Series through chained assignment using an inplace method.\n",
      "The behavior will change in pandas 3.0. This inplace method will never work because the intermediate object on which we are setting values always behaves as a copy.\n",
      "\n",
      "For example, when doing 'df[col].method(value, inplace=True)', try using 'df.method({col: value}, inplace=True)' or df[col] = df[col].method(value) instead, to perform the operation inplace on the original object.\n",
      "\n",
      "\n",
      "  df['pymt_ca_sub_am_30'].fillna(-50, inplace=True)\n",
      "/var/tmp/ipykernel_7632/3960085620.py:37: FutureWarning: A value is trying to be set on a copy of a DataFrame or Series through chained assignment using an inplace method.\n",
      "The behavior will change in pandas 3.0. This inplace method will never work because the intermediate object on which we are setting values always behaves as a copy.\n",
      "\n",
      "For example, when doing 'df[col].method(value, inplace=True)', try using 'df.method({col: value}, inplace=True)' or df[col] = df[col].method(value) instead, to perform the operation inplace on the original object.\n",
      "\n",
      "\n",
      "  df['recency_S1'].fillna(0, inplace=True)\n",
      "/var/tmp/ipykernel_7632/3960085620.py:38: FutureWarning: A value is trying to be set on a copy of a DataFrame or Series through chained assignment using an inplace method.\n",
      "The behavior will change in pandas 3.0. This inplace method will never work because the intermediate object on which we are setting values always behaves as a copy.\n",
      "\n",
      "For example, when doing 'df[col].method(value, inplace=True)', try using 'df.method({col: value}, inplace=True)' or df[col] = df[col].method(value) instead, to perform the operation inplace on the original object.\n",
      "\n",
      "\n",
      "  df['invce_ca_am_90d'].fillna(5000, inplace=True)\n",
      "/var/tmp/ipykernel_7632/3960085620.py:39: FutureWarning: A value is trying to be set on a copy of a DataFrame or Series through chained assignment using an inplace method.\n",
      "The behavior will change in pandas 3.0. This inplace method will never work because the intermediate object on which we are setting values always behaves as a copy.\n",
      "\n",
      "For example, when doing 'df[col].method(value, inplace=True)', try using 'df.method({col: value}, inplace=True)' or df[col] = df[col].method(value) instead, to perform the operation inplace on the original object.\n",
      "\n",
      "\n",
      "  df['count_ML_180'].fillna(-5, inplace=True)\n",
      "/var/tmp/ipykernel_7632/3960085620.py:40: FutureWarning: A value is trying to be set on a copy of a DataFrame or Series through chained assignment using an inplace method.\n",
      "The behavior will change in pandas 3.0. This inplace method will never work because the intermediate object on which we are setting values always behaves as a copy.\n",
      "\n",
      "For example, when doing 'df[col].method(value, inplace=True)', try using 'df.method({col: value}, inplace=True)' or df[col] = df[col].method(value) instead, to perform the operation inplace on the original object.\n",
      "\n",
      "\n",
      "  df['count_AM_180'].fillna(-10, inplace=True)\n",
      "/var/tmp/ipykernel_7632/3960085620.py:41: FutureWarning: A value is trying to be set on a copy of a DataFrame or Series through chained assignment using an inplace method.\n",
      "The behavior will change in pandas 3.0. This inplace method will never work because the intermediate object on which we are setting values always behaves as a copy.\n",
      "\n",
      "For example, when doing 'df[col].method(value, inplace=True)', try using 'df.method({col: value}, inplace=True)' or df[col] = df[col].method(value) instead, to perform the operation inplace on the original object.\n",
      "\n",
      "\n",
      "  df['count_DP_360'].fillna(-10, inplace=True)\n",
      "/var/tmp/ipykernel_7632/3960085620.py:42: FutureWarning: A value is trying to be set on a copy of a DataFrame or Series through chained assignment using an inplace method.\n",
      "The behavior will change in pandas 3.0. This inplace method will never work because the intermediate object on which we are setting values always behaves as a copy.\n",
      "\n",
      "For example, when doing 'df[col].method(value, inplace=True)', try using 'df.method({col: value}, inplace=True)' or df[col] = df[col].method(value) instead, to perform the operation inplace on the original object.\n",
      "\n",
      "\n",
      "  df['count_S1_30'].fillna(1, inplace=True)\n",
      "/var/tmp/ipykernel_7632/3960085620.py:44: FutureWarning: A value is trying to be set on a copy of a DataFrame or Series through chained assignment using an inplace method.\n",
      "The behavior will change in pandas 3.0. This inplace method will never work because the intermediate object on which we are setting values always behaves as a copy.\n",
      "\n",
      "For example, when doing 'df[col].method(value, inplace=True)', try using 'df.method({col: value}, inplace=True)' or df[col] = df[col].method(value) instead, to perform the operation inplace on the original object.\n",
      "\n",
      "\n",
      "  df['create_ca_sub_am_360'].fillna(-2000, inplace=True)\n",
      "/var/tmp/ipykernel_7632/3960085620.py:52: FutureWarning: A value is trying to be set on a copy of a DataFrame or Series through chained assignment using an inplace method.\n",
      "The behavior will change in pandas 3.0. This inplace method will never work because the intermediate object on which we are setting values always behaves as a copy.\n",
      "\n",
      "For example, when doing 'df[col].method(value, inplace=True)', try using 'df.method({col: value}, inplace=True)' or df[col] = df[col].method(value) instead, to perform the operation inplace on the original object.\n",
      "\n",
      "\n",
      "  df['recency_IN'].fillna(0, inplace=True)\n",
      "/var/tmp/ipykernel_7632/3960085620.py:53: FutureWarning: A value is trying to be set on a copy of a DataFrame or Series through chained assignment using an inplace method.\n",
      "The behavior will change in pandas 3.0. This inplace method will never work because the intermediate object on which we are setting values always behaves as a copy.\n",
      "\n",
      "For example, when doing 'df[col].method(value, inplace=True)', try using 'df.method({col: value}, inplace=True)' or df[col] = df[col].method(value) instead, to perform the operation inplace on the original object.\n",
      "\n",
      "\n",
      "  df['count_W1_360'].fillna(-1, inplace=True)\n",
      "/var/tmp/ipykernel_7632/3960085620.py:54: FutureWarning: A value is trying to be set on a copy of a DataFrame or Series through chained assignment using an inplace method.\n",
      "The behavior will change in pandas 3.0. This inplace method will never work because the intermediate object on which we are setting values always behaves as a copy.\n",
      "\n",
      "For example, when doing 'df[col].method(value, inplace=True)', try using 'df.method({col: value}, inplace=True)' or df[col] = df[col].method(value) instead, to perform the operation inplace on the original object.\n",
      "\n",
      "\n",
      "  df['recency_J5'].fillna(0, inplace=True)\n",
      "/var/tmp/ipykernel_7632/3960085620.py:55: FutureWarning: A value is trying to be set on a copy of a DataFrame or Series through chained assignment using an inplace method.\n",
      "The behavior will change in pandas 3.0. This inplace method will never work because the intermediate object on which we are setting values always behaves as a copy.\n",
      "\n",
      "For example, when doing 'df[col].method(value, inplace=True)', try using 'df.method({col: value}, inplace=True)' or df[col] = df[col].method(value) instead, to perform the operation inplace on the original object.\n",
      "\n",
      "\n",
      "  df['count_RF_360'].fillna(-1, inplace=True)\n",
      "/var/tmp/ipykernel_7632/3960085620.py:58: FutureWarning: A value is trying to be set on a copy of a DataFrame or Series through chained assignment using an inplace method.\n",
      "The behavior will change in pandas 3.0. This inplace method will never work because the intermediate object on which we are setting values always behaves as a copy.\n",
      "\n",
      "For example, when doing 'df[col].method(value, inplace=True)', try using 'df.method({col: value}, inplace=True)' or df[col] = df[col].method(value) instead, to perform the operation inplace on the original object.\n",
      "\n",
      "\n",
      "  df['count_ED_360'].fillna(-1, inplace=True)\n",
      "/var/tmp/ipykernel_7632/3960085620.py:59: FutureWarning: A value is trying to be set on a copy of a DataFrame or Series through chained assignment using an inplace method.\n",
      "The behavior will change in pandas 3.0. This inplace method will never work because the intermediate object on which we are setting values always behaves as a copy.\n",
      "\n",
      "For example, when doing 'df[col].method(value, inplace=True)', try using 'df.method({col: value}, inplace=True)' or df[col] = df[col].method(value) instead, to perform the operation inplace on the original object.\n",
      "\n",
      "\n",
      "  df['count_IB_360'].fillna(1, inplace=True)\n",
      "/var/tmp/ipykernel_7632/3960085620.py:60: FutureWarning: A value is trying to be set on a copy of a DataFrame or Series through chained assignment using an inplace method.\n",
      "The behavior will change in pandas 3.0. This inplace method will never work because the intermediate object on which we are setting values always behaves as a copy.\n",
      "\n",
      "For example, when doing 'df[col].method(value, inplace=True)', try using 'df.method({col: value}, inplace=True)' or df[col] = df[col].method(value) instead, to perform the operation inplace on the original object.\n",
      "\n",
      "\n",
      "  df['count_MP_360'].fillna(1, inplace=True)\n",
      "/var/tmp/ipykernel_7632/3960085620.py:61: FutureWarning: A value is trying to be set on a copy of a DataFrame or Series through chained assignment using an inplace method.\n",
      "The behavior will change in pandas 3.0. This inplace method will never work because the intermediate object on which we are setting values always behaves as a copy.\n",
      "\n",
      "For example, when doing 'df[col].method(value, inplace=True)', try using 'df.method({col: value}, inplace=True)' or df[col] = df[col].method(value) instead, to perform the operation inplace on the original object.\n",
      "\n",
      "\n",
      "  df['count_CP_360'].fillna(-1, inplace=True)\n",
      "/var/tmp/ipykernel_7632/3960085620.py:62: FutureWarning: A value is trying to be set on a copy of a DataFrame or Series through chained assignment using an inplace method.\n",
      "The behavior will change in pandas 3.0. This inplace method will never work because the intermediate object on which we are setting values always behaves as a copy.\n",
      "\n",
      "For example, when doing 'df[col].method(value, inplace=True)', try using 'df.method({col: value}, inplace=True)' or df[col] = df[col].method(value) instead, to perform the operation inplace on the original object.\n",
      "\n",
      "\n",
      "  df['count_CS_360'].fillna(-1, inplace=True)\n",
      "/var/tmp/ipykernel_7632/3960085620.py:65: FutureWarning: A value is trying to be set on a copy of a DataFrame or Series through chained assignment using an inplace method.\n",
      "The behavior will change in pandas 3.0. This inplace method will never work because the intermediate object on which we are setting values always behaves as a copy.\n",
      "\n",
      "For example, when doing 'df[col].method(value, inplace=True)', try using 'df.method({col: value}, inplace=True)' or df[col] = df[col].method(value) instead, to perform the operation inplace on the original object.\n",
      "\n",
      "\n",
      "  df['lockZcact_intr_ca_recency'].fillna(-10, inplace=True)\n",
      "/var/tmp/ipykernel_7632/3960085620.py:66: FutureWarning: A value is trying to be set on a copy of a DataFrame or Series through chained assignment using an inplace method.\n",
      "The behavior will change in pandas 3.0. This inplace method will never work because the intermediate object on which we are setting values always behaves as a copy.\n",
      "\n",
      "For example, when doing 'df[col].method(value, inplace=True)', try using 'df.method({col: value}, inplace=True)' or df[col] = df[col].method(value) instead, to perform the operation inplace on the original object.\n",
      "\n",
      "\n",
      "  df['cact_intr_ca_sub_ct_30'].fillna(1, inplace=True)\n",
      "/var/tmp/ipykernel_7632/3960085620.py:67: FutureWarning: A value is trying to be set on a copy of a DataFrame or Series through chained assignment using an inplace method.\n",
      "The behavior will change in pandas 3.0. This inplace method will never work because the intermediate object on which we are setting values always behaves as a copy.\n",
      "\n",
      "For example, when doing 'df[col].method(value, inplace=True)', try using 'df.method({col: value}, inplace=True)' or df[col] = df[col].method(value) instead, to perform the operation inplace on the original object.\n",
      "\n",
      "\n",
      "  df['last_payment_recency'].fillna(-200, inplace=True)\n",
      "/var/tmp/ipykernel_7632/3960085620.py:68: FutureWarning: A value is trying to be set on a copy of a DataFrame or Series through chained assignment using an inplace method.\n",
      "The behavior will change in pandas 3.0. This inplace method will never work because the intermediate object on which we are setting values always behaves as a copy.\n",
      "\n",
      "For example, when doing 'df[col].method(value, inplace=True)', try using 'df.method({col: value}, inplace=True)' or df[col] = df[col].method(value) instead, to perform the operation inplace on the original object.\n",
      "\n",
      "\n",
      "  df['cact_intr_ca_sub_recency'].fillna(0, inplace=True)\n",
      "/var/tmp/ipykernel_7632/3960085620.py:69: FutureWarning: A value is trying to be set on a copy of a DataFrame or Series through chained assignment using an inplace method.\n",
      "The behavior will change in pandas 3.0. This inplace method will never work because the intermediate object on which we are setting values always behaves as a copy.\n",
      "\n",
      "For example, when doing 'df[col].method(value, inplace=True)', try using 'df.method({col: value}, inplace=True)' or df[col] = df[col].method(value) instead, to perform the operation inplace on the original object.\n",
      "\n",
      "\n",
      "  df['invceZcreate_ca_ct_30d'].fillna(-1, inplace=True)\n",
      "/var/tmp/ipykernel_7632/3960085620.py:70: FutureWarning: A value is trying to be set on a copy of a DataFrame or Series through chained assignment using an inplace method.\n",
      "The behavior will change in pandas 3.0. This inplace method will never work because the intermediate object on which we are setting values always behaves as a copy.\n",
      "\n",
      "For example, when doing 'df[col].method(value, inplace=True)', try using 'df.method({col: value}, inplace=True)' or df[col] = df[col].method(value) instead, to perform the operation inplace on the original object.\n",
      "\n",
      "\n",
      "  df['invce_ca_ct_30d'].fillna(-1, inplace=True)\n",
      "/var/tmp/ipykernel_7632/3960085620.py:78: FutureWarning: A value is trying to be set on a copy of a DataFrame or Series through chained assignment using an inplace method.\n",
      "The behavior will change in pandas 3.0. This inplace method will never work because the intermediate object on which we are setting values always behaves as a copy.\n",
      "\n",
      "For example, when doing 'df[col].method(value, inplace=True)', try using 'df.method({col: value}, inplace=True)' or df[col] = df[col].method(value) instead, to perform the operation inplace on the original object.\n",
      "\n",
      "\n",
      "  df['pcomm_ca_recency'].fillna(0, inplace=True)\n",
      "/var/tmp/ipykernel_7632/3960085620.py:79: FutureWarning: A value is trying to be set on a copy of a DataFrame or Series through chained assignment using an inplace method.\n",
      "The behavior will change in pandas 3.0. This inplace method will never work because the intermediate object on which we are setting values always behaves as a copy.\n",
      "\n",
      "For example, when doing 'df[col].method(value, inplace=True)', try using 'df.method({col: value}, inplace=True)' or df[col] = df[col].method(value) instead, to perform the operation inplace on the original object.\n",
      "\n",
      "\n",
      "  df['lock_ca_recency'].fillna(0, inplace=True)\n",
      "/var/tmp/ipykernel_7632/3960085620.py:80: FutureWarning: A value is trying to be set on a copy of a DataFrame or Series through chained assignment using an inplace method.\n",
      "The behavior will change in pandas 3.0. This inplace method will never work because the intermediate object on which we are setting values always behaves as a copy.\n",
      "\n",
      "For example, when doing 'df[col].method(value, inplace=True)', try using 'df.method({col: value}, inplace=True)' or df[col] = df[col].method(value) instead, to perform the operation inplace on the original object.\n",
      "\n",
      "\n",
      "  df['invceZcreate_ca_recency'].fillna(0, inplace=True)\n",
      "/var/tmp/ipykernel_7632/3960085620.py:81: FutureWarning: A value is trying to be set on a copy of a DataFrame or Series through chained assignment using an inplace method.\n",
      "The behavior will change in pandas 3.0. This inplace method will never work because the intermediate object on which we are setting values always behaves as a copy.\n",
      "\n",
      "For example, when doing 'df[col].method(value, inplace=True)', try using 'df.method({col: value}, inplace=True)' or df[col] = df[col].method(value) instead, to perform the operation inplace on the original object.\n",
      "\n",
      "\n",
      "  df['ip_amp_paymentdue_ca_sub_am_180'].fillna(-10, inplace=True)\n",
      "/var/tmp/ipykernel_7632/3960085620.py:82: FutureWarning: A value is trying to be set on a copy of a DataFrame or Series through chained assignment using an inplace method.\n",
      "The behavior will change in pandas 3.0. This inplace method will never work because the intermediate object on which we are setting values always behaves as a copy.\n",
      "\n",
      "For example, when doing 'df[col].method(value, inplace=True)', try using 'df.method({col: value}, inplace=True)' or df[col] = df[col].method(value) instead, to perform the operation inplace on the original object.\n",
      "\n",
      "\n",
      "  df['lockZcact_dunn_ca_recency'].fillna(-10, inplace=True)\n",
      "/var/tmp/ipykernel_7632/3960085620.py:83: FutureWarning: A value is trying to be set on a copy of a DataFrame or Series through chained assignment using an inplace method.\n",
      "The behavior will change in pandas 3.0. This inplace method will never work because the intermediate object on which we are setting values always behaves as a copy.\n",
      "\n",
      "For example, when doing 'df[col].method(value, inplace=True)', try using 'df.method({col: value}, inplace=True)' or df[col] = df[col].method(value) instead, to perform the operation inplace on the original object.\n",
      "\n",
      "\n",
      "  df['cact_dunn_ca_sub_recency'].fillna(0, inplace=True)\n",
      "/var/tmp/ipykernel_7632/3960085620.py:84: FutureWarning: A value is trying to be set on a copy of a DataFrame or Series through chained assignment using an inplace method.\n",
      "The behavior will change in pandas 3.0. This inplace method will never work because the intermediate object on which we are setting values always behaves as a copy.\n",
      "\n",
      "For example, when doing 'df[col].method(value, inplace=True)', try using 'df.method({col: value}, inplace=True)' or df[col] = df[col].method(value) instead, to perform the operation inplace on the original object.\n",
      "\n",
      "\n",
      "  df['ip_amp_paymentdue_ca_sub_recency'].fillna(0, inplace=True)\n",
      "/var/tmp/ipykernel_7632/3960085620.py:87: FutureWarning: A value is trying to be set on a copy of a DataFrame or Series through chained assignment using an inplace method.\n",
      "The behavior will change in pandas 3.0. This inplace method will never work because the intermediate object on which we are setting values always behaves as a copy.\n",
      "\n",
      "For example, when doing 'df[col].method(value, inplace=True)', try using 'df.method({col: value}, inplace=True)' or df[col] = df[col].method(value) instead, to perform the operation inplace on the original object.\n",
      "\n",
      "\n",
      "  df['inpl_ca_recency'].fillna(0, inplace=True)\n",
      "/var/tmp/ipykernel_7632/3960085620.py:88: FutureWarning: A value is trying to be set on a copy of a DataFrame or Series through chained assignment using an inplace method.\n",
      "The behavior will change in pandas 3.0. This inplace method will never work because the intermediate object on which we are setting values always behaves as a copy.\n",
      "\n",
      "For example, when doing 'df[col].method(value, inplace=True)', try using 'df.method({col: value}, inplace=True)' or df[col] = df[col].method(value) instead, to perform the operation inplace on the original object.\n",
      "\n",
      "\n",
      "  df['create_ca_sub_recency'].fillna(0, inplace=True)\n",
      "/var/tmp/ipykernel_7632/3960085620.py:89: FutureWarning: A value is trying to be set on a copy of a DataFrame or Series through chained assignment using an inplace method.\n",
      "The behavior will change in pandas 3.0. This inplace method will never work because the intermediate object on which we are setting values always behaves as a copy.\n",
      "\n",
      "For example, when doing 'df[col].method(value, inplace=True)', try using 'df.method({col: value}, inplace=True)' or df[col] = df[col].method(value) instead, to perform the operation inplace on the original object.\n",
      "\n",
      "\n",
      "  df['lockZfica_intr_ca_recency'].fillna(0, inplace=True)\n",
      "/var/tmp/ipykernel_7632/3960085620.py:90: FutureWarning: A value is trying to be set on a copy of a DataFrame or Series through chained assignment using an inplace method.\n",
      "The behavior will change in pandas 3.0. This inplace method will never work because the intermediate object on which we are setting values always behaves as a copy.\n",
      "\n",
      "For example, when doing 'df[col].method(value, inplace=True)', try using 'df.method({col: value}, inplace=True)' or df[col] = df[col].method(value) instead, to perform the operation inplace on the original object.\n",
      "\n",
      "\n",
      "  df['odfc_due_reminder_ca_sub_recency'].fillna(0, inplace=True)\n",
      "/var/tmp/ipykernel_7632/3960085620.py:93: FutureWarning: A value is trying to be set on a copy of a DataFrame or Series through chained assignment using an inplace method.\n",
      "The behavior will change in pandas 3.0. This inplace method will never work because the intermediate object on which we are setting values always behaves as a copy.\n",
      "\n",
      "For example, when doing 'df[col].method(value, inplace=True)', try using 'df.method({col: value}, inplace=True)' or df[col] = df[col].method(value) instead, to perform the operation inplace on the original object.\n",
      "\n",
      "\n",
      "  df['IBE7616_02AgeinTwoYearIncrements1stIndividual1003_Hhold4_HholdInferredA_Zip4G_Zip'].fillna(df['IBE7616_02AgeinTwoYearIncrements1stIndividual1003_Hhold4_HholdInferredA_Zip4G_Zip'].mean(), inplace=True)\n",
      "/var/tmp/ipykernel_7632/3960085620.py:95: FutureWarning: A value is trying to be set on a copy of a DataFrame or Series through chained assignment using an inplace method.\n",
      "The behavior will change in pandas 3.0. This inplace method will never work because the intermediate object on which we are setting values always behaves as a copy.\n",
      "\n",
      "For example, when doing 'df[col].method(value, inplace=True)', try using 'df.method({col: value}, inplace=True)' or df[col] = df[col].method(value) instead, to perform the operation inplace on the original object.\n",
      "\n",
      "\n",
      "  df['IBE7641_02IncomeEstimatedHousehold1003_Household4_HouseholdInferredA_Zip4G_Zip'].fillna(df['IBE7641_02IncomeEstimatedHousehold1003_Household4_HouseholdInferredA_Zip4G_Zip'].mean(), inplace=True)\n",
      "/var/tmp/ipykernel_7632/3960085620.py:96: PerformanceWarning: DataFrame is highly fragmented.  This is usually the result of calling `frame.insert` many times, which has poor performance.  Consider joining all columns at once using pd.concat(axis=1) instead. To get a de-fragmented frame, use `newframe = frame.copy()`\n",
      "  df['bill_amt_to_income']=df['pymt_ca_sub_am_360_t']/df['IBE7641_02IncomeEstimatedHousehold1003_Household4_HouseholdInferredA_Zip4G_Zip']\n",
      "/var/tmp/ipykernel_7632/3960085620.py:102: FutureWarning: A value is trying to be set on a copy of a DataFrame or Series through chained assignment using an inplace method.\n",
      "The behavior will change in pandas 3.0. This inplace method will never work because the intermediate object on which we are setting values always behaves as a copy.\n",
      "\n",
      "For example, when doing 'df[col].method(value, inplace=True)', try using 'df.method({col: value}, inplace=True)' or df[col] = df[col].method(value) instead, to perform the operation inplace on the original object.\n",
      "\n",
      "\n",
      "  df['recency_S1'].fillna(0, inplace=True)\n",
      "/var/tmp/ipykernel_7632/3960085620.py:103: FutureWarning: A value is trying to be set on a copy of a DataFrame or Series through chained assignment using an inplace method.\n",
      "The behavior will change in pandas 3.0. This inplace method will never work because the intermediate object on which we are setting values always behaves as a copy.\n",
      "\n",
      "For example, when doing 'df[col].method(value, inplace=True)', try using 'df.method({col: value}, inplace=True)' or df[col] = df[col].method(value) instead, to perform the operation inplace on the original object.\n",
      "\n",
      "\n",
      "  df['invce_ca_am_90d'].fillna(5000, inplace=True)\n",
      "/var/tmp/ipykernel_7632/3960085620.py:104: FutureWarning: A value is trying to be set on a copy of a DataFrame or Series through chained assignment using an inplace method.\n",
      "The behavior will change in pandas 3.0. This inplace method will never work because the intermediate object on which we are setting values always behaves as a copy.\n",
      "\n",
      "For example, when doing 'df[col].method(value, inplace=True)', try using 'df.method({col: value}, inplace=True)' or df[col] = df[col].method(value) instead, to perform the operation inplace on the original object.\n",
      "\n",
      "\n",
      "  df['count_ML_180'].fillna(-5, inplace=True)\n",
      "/var/tmp/ipykernel_7632/3960085620.py:105: FutureWarning: A value is trying to be set on a copy of a DataFrame or Series through chained assignment using an inplace method.\n",
      "The behavior will change in pandas 3.0. This inplace method will never work because the intermediate object on which we are setting values always behaves as a copy.\n",
      "\n",
      "For example, when doing 'df[col].method(value, inplace=True)', try using 'df.method({col: value}, inplace=True)' or df[col] = df[col].method(value) instead, to perform the operation inplace on the original object.\n",
      "\n",
      "\n",
      "  df['count_AM_180'].fillna(-10, inplace=True)\n",
      "/var/tmp/ipykernel_7632/3960085620.py:106: FutureWarning: A value is trying to be set on a copy of a DataFrame or Series through chained assignment using an inplace method.\n",
      "The behavior will change in pandas 3.0. This inplace method will never work because the intermediate object on which we are setting values always behaves as a copy.\n",
      "\n",
      "For example, when doing 'df[col].method(value, inplace=True)', try using 'df.method({col: value}, inplace=True)' or df[col] = df[col].method(value) instead, to perform the operation inplace on the original object.\n",
      "\n",
      "\n",
      "  df['count_DP_360'].fillna(-10, inplace=True)\n",
      "/var/tmp/ipykernel_7632/3960085620.py:107: FutureWarning: A value is trying to be set on a copy of a DataFrame or Series through chained assignment using an inplace method.\n",
      "The behavior will change in pandas 3.0. This inplace method will never work because the intermediate object on which we are setting values always behaves as a copy.\n",
      "\n",
      "For example, when doing 'df[col].method(value, inplace=True)', try using 'df.method({col: value}, inplace=True)' or df[col] = df[col].method(value) instead, to perform the operation inplace on the original object.\n",
      "\n",
      "\n",
      "  df['count_S1_30'].fillna(1, inplace=True)\n",
      "/var/tmp/ipykernel_7632/3960085620.py:114: FutureWarning: A value is trying to be set on a copy of a DataFrame or Series through chained assignment using an inplace method.\n",
      "The behavior will change in pandas 3.0. This inplace method will never work because the intermediate object on which we are setting values always behaves as a copy.\n",
      "\n",
      "For example, when doing 'df[col].method(value, inplace=True)', try using 'df.method({col: value}, inplace=True)' or df[col] = df[col].method(value) instead, to perform the operation inplace on the original object.\n",
      "\n",
      "\n",
      "  df['create_ca_sub_am_360'].fillna(-2000, inplace=True)\n",
      "/var/tmp/ipykernel_7632/3960085620.py:122: FutureWarning: A value is trying to be set on a copy of a DataFrame or Series through chained assignment using an inplace method.\n",
      "The behavior will change in pandas 3.0. This inplace method will never work because the intermediate object on which we are setting values always behaves as a copy.\n",
      "\n",
      "For example, when doing 'df[col].method(value, inplace=True)', try using 'df.method({col: value}, inplace=True)' or df[col] = df[col].method(value) instead, to perform the operation inplace on the original object.\n",
      "\n",
      "\n",
      "  df['recency_IN'].fillna(0, inplace=True)\n",
      "/var/tmp/ipykernel_7632/3960085620.py:123: FutureWarning: A value is trying to be set on a copy of a DataFrame or Series through chained assignment using an inplace method.\n",
      "The behavior will change in pandas 3.0. This inplace method will never work because the intermediate object on which we are setting values always behaves as a copy.\n",
      "\n",
      "For example, when doing 'df[col].method(value, inplace=True)', try using 'df.method({col: value}, inplace=True)' or df[col] = df[col].method(value) instead, to perform the operation inplace on the original object.\n",
      "\n",
      "\n",
      "  df['count_W1_360'].fillna(-1, inplace=True)\n",
      "/var/tmp/ipykernel_7632/3960085620.py:124: FutureWarning: A value is trying to be set on a copy of a DataFrame or Series through chained assignment using an inplace method.\n",
      "The behavior will change in pandas 3.0. This inplace method will never work because the intermediate object on which we are setting values always behaves as a copy.\n",
      "\n",
      "For example, when doing 'df[col].method(value, inplace=True)', try using 'df.method({col: value}, inplace=True)' or df[col] = df[col].method(value) instead, to perform the operation inplace on the original object.\n",
      "\n",
      "\n",
      "  df['recency_J5'].fillna(0, inplace=True)\n",
      "/var/tmp/ipykernel_7632/3960085620.py:125: FutureWarning: A value is trying to be set on a copy of a DataFrame or Series through chained assignment using an inplace method.\n",
      "The behavior will change in pandas 3.0. This inplace method will never work because the intermediate object on which we are setting values always behaves as a copy.\n",
      "\n",
      "For example, when doing 'df[col].method(value, inplace=True)', try using 'df.method({col: value}, inplace=True)' or df[col] = df[col].method(value) instead, to perform the operation inplace on the original object.\n",
      "\n",
      "\n",
      "  df['count_RF_360'].fillna(-1, inplace=True)\n",
      "/var/tmp/ipykernel_7632/3960085620.py:128: FutureWarning: A value is trying to be set on a copy of a DataFrame or Series through chained assignment using an inplace method.\n",
      "The behavior will change in pandas 3.0. This inplace method will never work because the intermediate object on which we are setting values always behaves as a copy.\n",
      "\n",
      "For example, when doing 'df[col].method(value, inplace=True)', try using 'df.method({col: value}, inplace=True)' or df[col] = df[col].method(value) instead, to perform the operation inplace on the original object.\n",
      "\n",
      "\n",
      "  df['count_ED_360'].fillna(-1, inplace=True)\n",
      "/var/tmp/ipykernel_7632/3960085620.py:129: FutureWarning: A value is trying to be set on a copy of a DataFrame or Series through chained assignment using an inplace method.\n",
      "The behavior will change in pandas 3.0. This inplace method will never work because the intermediate object on which we are setting values always behaves as a copy.\n",
      "\n",
      "For example, when doing 'df[col].method(value, inplace=True)', try using 'df.method({col: value}, inplace=True)' or df[col] = df[col].method(value) instead, to perform the operation inplace on the original object.\n",
      "\n",
      "\n",
      "  df['count_IB_360'].fillna(1, inplace=True)\n",
      "/var/tmp/ipykernel_7632/3960085620.py:130: FutureWarning: A value is trying to be set on a copy of a DataFrame or Series through chained assignment using an inplace method.\n",
      "The behavior will change in pandas 3.0. This inplace method will never work because the intermediate object on which we are setting values always behaves as a copy.\n",
      "\n",
      "For example, when doing 'df[col].method(value, inplace=True)', try using 'df.method({col: value}, inplace=True)' or df[col] = df[col].method(value) instead, to perform the operation inplace on the original object.\n",
      "\n",
      "\n",
      "  df['count_MP_360'].fillna(1, inplace=True)\n",
      "/var/tmp/ipykernel_7632/3960085620.py:131: FutureWarning: A value is trying to be set on a copy of a DataFrame or Series through chained assignment using an inplace method.\n",
      "The behavior will change in pandas 3.0. This inplace method will never work because the intermediate object on which we are setting values always behaves as a copy.\n",
      "\n",
      "For example, when doing 'df[col].method(value, inplace=True)', try using 'df.method({col: value}, inplace=True)' or df[col] = df[col].method(value) instead, to perform the operation inplace on the original object.\n",
      "\n",
      "\n",
      "  df['count_CP_360'].fillna(-1, inplace=True)\n",
      "/var/tmp/ipykernel_7632/3960085620.py:132: FutureWarning: A value is trying to be set on a copy of a DataFrame or Series through chained assignment using an inplace method.\n",
      "The behavior will change in pandas 3.0. This inplace method will never work because the intermediate object on which we are setting values always behaves as a copy.\n",
      "\n",
      "For example, when doing 'df[col].method(value, inplace=True)', try using 'df.method({col: value}, inplace=True)' or df[col] = df[col].method(value) instead, to perform the operation inplace on the original object.\n",
      "\n",
      "\n",
      "  df['count_CS_360'].fillna(-1, inplace=True)\n"
     ]
    }
   ],
   "source": [
    "def trans_df(df):\n",
    "    df['create_ca_sub_ct_360'].fillna(0, inplace=True)\n",
    "    df['invceZcreate_ca_ct_360d'].fillna(0, inplace=True)\n",
    "    df['pymtZpymt_ca_ct_360d'].fillna(-10, inplace=True)\n",
    "    df['lockZfica_intr_ca_ct_360d'].fillna(-2, inplace=True)\n",
    "    df['inplZcreate_ca_ct_180d'].fillna(-1, inplace=True)\n",
    "    df['lockZcact_dunn_ca_ct_180d'].fillna(-1, inplace=True)\n",
    "    df['lockZfica_post_ca_ct_180d'].fillna(-1, inplace=True)\n",
    "    df['acct_age'].fillna(1000, inplace=True)\n",
    "    df['pymt_ca_am_360d'].fillna(-100, inplace=True)\n",
    "    df['pymtZpymt_ca_recency'].fillna(-1, inplace=True)\n",
    "    df['count_HB_90'].fillna(-1, inplace=True)\n",
    "    df['pymt_ca_sub_am_30'].fillna(-50, inplace=True)    \n",
    "    df['acct_age'].fillna(0, inplace=True)\n",
    "    df['create_ca_sub_ct_360'].fillna(0, inplace=True)\n",
    "    df['invceZcreate_ca_ct_360d'].fillna(0, inplace=True)\n",
    "    df['lock_ca_ct_360d']=np.where(df['lock_ca_ct_360d'].isnull()==True, 0, \n",
    "                                   np.where(df['lock_ca_ct_360d'] > 12, 12, df['lock_ca_ct_360d']))\n",
    "    \n",
    "    df['fica_intr_ca_sub_ct_360']=np.where(df['fica_intr_ca_sub_ct_360'].isnull()==True, 0, \n",
    "                                           np.where(df['fica_intr_ca_sub_ct_360'] > 12, 12, df['fica_intr_ca_sub_ct_360']))\n",
    "    df['pymtZpymt_ca_ct_360d'].fillna(-10, inplace=True)\n",
    "    df['lockZfica_intr_ca_ct_360d'].fillna(-2, inplace=True)\n",
    "    df['inplZcreate_ca_ct_180d'].fillna(-1, inplace=True)\n",
    "    df['lockZcact_dunn_ca_ct_180d'].fillna(-1, inplace=True)\n",
    "    df['lockZfica_post_ca_ct_180d'].fillna(-1, inplace=True)\n",
    "    df['acct_age'].fillna(1000, inplace=True)\n",
    "    \n",
    "    # for use later\n",
    "    df['pymt_ca_sub_am_360_t']=np.where(df['pymt_ca_sub_am_360'].isnull()==True, df['pymt_ca_sub_am_360'].mean(), \n",
    "                                        df['pymt_ca_sub_am_360'])\n",
    "    df['pymt_ca_am_360d'].fillna(-100, inplace=True)\n",
    "    \n",
    "    df['pymtZpymt_ca_recency'].fillna(-1, inplace=True)\n",
    "    df['count_HB_90'].fillna(-1, inplace=True)\n",
    "    df['pymt_ca_sub_am_30'].fillna(-50, inplace=True)\n",
    "    df['recency_S1'].fillna(0, inplace=True)\n",
    "    df['invce_ca_am_90d'].fillna(5000, inplace=True)\n",
    "    df['count_ML_180'].fillna(-5, inplace=True)\n",
    "    df['count_AM_180'].fillna(-10, inplace=True)\n",
    "    df['count_DP_360'].fillna(-10, inplace=True)\n",
    "    df['count_S1_30'].fillna(1, inplace=True)\n",
    "      \n",
    "    df['create_ca_sub_am_360'].fillna(-2000, inplace=True)\n",
    "\n",
    "\n",
    "    df['cact_cnt']=np.where(df['cact_cnt'].isnull()==True, 0, \n",
    "                            np.where(df['cact_cnt'] > 2, 2, df['cact_cnt']))\n",
    "    df['cact_intr_ca_sub_recency']=np.where(df['cact_intr_ca_sub_recency'].isnull()==True, 0, \n",
    "                                            np.where(df['cact_intr_ca_sub_recency'] > 158, 158, df['cact_intr_ca_sub_recency']))\n",
    "    #df['count_F1_360'].fillna(-1, inplace=True)  \n",
    "    df['recency_IN'].fillna(0, inplace=True)\n",
    "    df['count_W1_360'].fillna(-1, inplace=True)\n",
    "    df['recency_J5'].fillna(0, inplace=True)\n",
    "    df['count_RF_360'].fillna(-1, inplace=True)\n",
    "\n",
    "    df['recency_I1']=np.where(df['recency_I1'].isnull()==True, 0, 1)\n",
    "    df['count_ED_360'].fillna(-1, inplace=True)\n",
    "    df['count_IB_360'].fillna(1, inplace=True)\n",
    "    df['count_MP_360'].fillna(1, inplace=True)\n",
    "    df['count_CP_360'].fillna(-1, inplace=True)\n",
    "    df['count_CS_360'].fillna(-1, inplace=True)\n",
    "    \n",
    "    # newly added for Snowflake data\n",
    "    df['lockZcact_intr_ca_recency'].fillna(-10, inplace=True)\n",
    "    df['cact_intr_ca_sub_ct_30'].fillna(1, inplace=True)\n",
    "    df['last_payment_recency'].fillna(-200, inplace=True)\n",
    "    df['cact_intr_ca_sub_recency'].fillna(0, inplace=True)\n",
    "    df['invceZcreate_ca_ct_30d'].fillna(-1, inplace=True)\n",
    "    df['invce_ca_ct_30d'].fillna(-1, inplace=True)\n",
    "    df['collprop_ca_sub_recency']=np.where(df['collprop_ca_sub_recency'].isnull()==True, 0,\n",
    "                                           np.where( df['collprop_ca_sub_recency'] > 10, 10, \n",
    "                                                     df['collprop_ca_sub_recency']))\n",
    "    \n",
    "    df['pred_ca_recency']=np.where(df['pred_ca_recency'].isnull()==True, 0,\n",
    "                                   np.where( df['pred_ca_recency'] > 10, 10, \n",
    "                                            df['pred_ca_recency']))\n",
    "    df['pcomm_ca_recency'].fillna(0, inplace=True)\n",
    "    df['lock_ca_recency'].fillna(0, inplace=True)\n",
    "    df['invceZcreate_ca_recency'].fillna(0, inplace=True)\n",
    "    df['ip_amp_paymentdue_ca_sub_am_180'].fillna(-10, inplace=True)\n",
    "    df['lockZcact_dunn_ca_recency'].fillna(-10, inplace=True)\n",
    "    df['cact_dunn_ca_sub_recency'].fillna(0, inplace=True)\n",
    "    df['ip_amp_paymentdue_ca_sub_recency'].fillna(0, inplace=True)\n",
    "    df['inpl_ca_am_60d']=np.where(df['inpl_ca_am_60d'].isnull()==True, -5, \n",
    "                                  np.where(df['inpl_ca_am_60d'] > 0, 1, 0))\n",
    "    df['inpl_ca_recency'].fillna(0, inplace=True)\n",
    "    df['create_ca_sub_recency'].fillna(0, inplace=True)\n",
    "    df['lockZfica_intr_ca_recency'].fillna(0, inplace=True)\n",
    "    df['odfc_due_reminder_ca_sub_recency'].fillna(0, inplace=True)\n",
    "    \n",
    "    df['IBE7616_02AgeinTwoYearIncrements1stIndividual1003_Hhold4_HholdInferredA_Zip4G_Zip']=pd.to_numeric(df['IBE7616_02AgeinTwoYearIncrements1stIndividual1003_Hhold4_HholdInferredA_Zip4G_Zip'], errors='coerce')\n",
    "    df['IBE7616_02AgeinTwoYearIncrements1stIndividual1003_Hhold4_HholdInferredA_Zip4G_Zip'].fillna(df['IBE7616_02AgeinTwoYearIncrements1stIndividual1003_Hhold4_HholdInferredA_Zip4G_Zip'].mean(), inplace=True)\n",
    "    df['IBE7641_02IncomeEstimatedHousehold1003_Household4_HouseholdInferredA_Zip4G_Zip']=pd.to_numeric(df['IBE7641_02IncomeEstimatedHousehold1003_Household4_HouseholdInferredA_Zip4G_Zip'], errors='coerce')\n",
    "    df['IBE7641_02IncomeEstimatedHousehold1003_Household4_HouseholdInferredA_Zip4G_Zip'].fillna(df['IBE7641_02IncomeEstimatedHousehold1003_Household4_HouseholdInferredA_Zip4G_Zip'].mean(), inplace=True)\n",
    "    df['bill_amt_to_income']=df['pymt_ca_sub_am_360_t']/df['IBE7641_02IncomeEstimatedHousehold1003_Household4_HouseholdInferredA_Zip4G_Zip']\n",
    "    #df['AP015727_01ECDNSInvestmentCapacityAffordabilityScore110MostLikely']=pd.to_numeric(df['AP015727_01ECDNSInvestmentCapacityAffordabilityScore110MostLikely'], errors='coerce')\n",
    "    #df['AP015727_01ECDNSInvestmentCapacityAffordabilityScore110MostLikely'].fillna(df['AP015727_01ECDNSInvestmentCapacityAffordabilityScore110MostLikely'].mean(), inplace=True)\n",
    "                                                                                          \n",
    "    \n",
    "    \n",
    "    df['recency_S1'].fillna(0, inplace=True)\n",
    "    df['invce_ca_am_90d'].fillna(5000, inplace=True)\n",
    "    df['count_ML_180'].fillna(-5, inplace=True)\n",
    "    df['count_AM_180'].fillna(-10, inplace=True)\n",
    "    df['count_DP_360'].fillna(-10, inplace=True)\n",
    "    df['count_S1_30'].fillna(1, inplace=True)\n",
    "    \n",
    "    df['lock_ca_ct_360d']=np.where(df['lock_ca_ct_360d'].isnull()==True, 0, \n",
    "                                   np.where(df['lock_ca_ct_360d'] > 12, 12, df['lock_ca_ct_360d']))\n",
    "    df['fica_intr_ca_sub_ct_360']=np.where(df['fica_intr_ca_sub_ct_360'].isnull()==True, 0, \n",
    "                                           np.where(df['fica_intr_ca_sub_ct_360'] > 12, 12, df['fica_intr_ca_sub_ct_360']))\n",
    "    \n",
    "    df['create_ca_sub_am_360'].fillna(-2000, inplace=True)\n",
    "\n",
    "\n",
    "    df['cact_cnt']=np.where(df['cact_cnt'].isnull()==True, 0, \n",
    "                            np.where(df['cact_cnt'] > 2, 2, df['cact_cnt']))\n",
    "    df['cact_intr_ca_sub_recency']=np.where(df['cact_intr_ca_sub_recency'].isnull()==True, 0, \n",
    "                                            np.where(df['cact_intr_ca_sub_recency'] > 158, 158, df['cact_intr_ca_sub_recency']))\n",
    "    #df['count_F1_360'].fillna(-1, inplace=True)\n",
    "    df['recency_IN'].fillna(0, inplace=True)\n",
    "    df['count_W1_360'].fillna(-1, inplace=True)\n",
    "    df['recency_J5'].fillna(0, inplace=True)\n",
    "    df['count_RF_360'].fillna(-1, inplace=True)\n",
    "\n",
    "    df['recency_I1']=np.where(df['recency_I1'].isnull()==True, 0, 1)\n",
    "    df['count_ED_360'].fillna(-1, inplace=True)\n",
    "    df['count_IB_360'].fillna(1, inplace=True)\n",
    "    df['count_MP_360'].fillna(1, inplace=True)\n",
    "    df['count_CP_360'].fillna(-1, inplace=True)\n",
    "    df['count_CS_360'].fillna(-1, inplace=True)\n",
    "\n",
    "trans_df(failure_samp)"
   ]
  },
  {
   "cell_type": "code",
   "execution_count": 11,
   "id": "f8a9edc7-75d1-4e19-9f47-c0ec98fe0615",
   "metadata": {
    "tags": []
   },
   "outputs": [
    {
     "data": {
      "text/plain": [
       "seg\n",
       "mod    0.025075\n",
       "val         NaN\n",
       "Name: y, dtype: float64"
      ]
     },
     "execution_count": 11,
     "metadata": {},
     "output_type": "execute_result"
    }
   ],
   "source": [
    "failure_samp.groupby('seg')['y'].mean()"
   ]
  },
  {
   "cell_type": "code",
   "execution_count": 12,
   "id": "cad68546-0057-4dc1-a26f-6faa2bc275b5",
   "metadata": {
    "tags": []
   },
   "outputs": [
    {
     "name": "stderr",
     "output_type": "stream",
     "text": [
      "/var/tmp/ipykernel_7632/3609677518.py:1: FutureWarning: A value is trying to be set on a copy of a DataFrame or Series through chained assignment using an inplace method.\n",
      "The behavior will change in pandas 3.0. This inplace method will never work because the intermediate object on which we are setting values always behaves as a copy.\n",
      "\n",
      "For example, when doing 'df[col].method(value, inplace=True)', try using 'df.method({col: value}, inplace=True)' or df[col] = df[col].method(value) instead, to perform the operation inplace on the original object.\n",
      "\n",
      "\n",
      "  failure_samp['y'].fillna(0, inplace=True)\n"
     ]
    }
   ],
   "source": [
    "failure_samp['y'].fillna(0, inplace=True)"
   ]
  },
  {
   "cell_type": "code",
   "execution_count": 13,
   "id": "cd646bfd-3298-46ec-bd93-33e93a85e770",
   "metadata": {
    "tags": []
   },
   "outputs": [
    {
     "name": "stdout",
     "output_type": "stream",
     "text": [
      "create_ca_sub_ct_360                                                                 0\n",
      "lockZfica_intr_ca_ct_360d                                                            0\n",
      "inplZcreate_ca_ct_180d                                                               0\n",
      "lockZcact_dunn_ca_ct_180d                                                            0\n",
      "lockZfica_post_ca_ct_180d                                                            0\n",
      "acct_age                                                                             0\n",
      "pymt_ca_am_360d                                                                      0\n",
      "pymtZpymt_ca_recency                                                                 0\n",
      "count_HB_90                                                                          0\n",
      "pymt_ca_sub_am_30                                                                    0\n",
      "recency_S1                                                                           0\n",
      "invce_ca_am_90d                                                                      0\n",
      "count_ML_180                                                                         0\n",
      "count_AM_180                                                                         0\n",
      "count_DP_360                                                                         0\n",
      "count_S1_30                                                                          0\n",
      "cact_cnt                                                                             0\n",
      "recency_IN                                                                           0\n",
      "count_W1_360                                                                         0\n",
      "recency_J5                                                                           0\n",
      "count_ED_360                                                                         0\n",
      "IBE7616_02AgeinTwoYearIncrements1stIndividual1003_Hhold4_HholdInferredA_Zip4G_Zip    0\n",
      "IBE7641_02IncomeEstimatedHousehold1003_Household4_HouseholdInferredA_Zip4G_Zip       0\n",
      "bill_amt_to_income                                                                   0\n",
      "dtype: int64\n",
      "(529527, 24)\n",
      "(582748, 24)\n",
      "(529527,)\n",
      "(582748,)\n"
     ]
    }
   ],
   "source": [
    "xlist=['create_ca_sub_ct_360',\n",
    "       #'invceZcreate_ca_ct_360d','pymtZpymt_ca_ct_360d',\n",
    "'lockZfica_intr_ca_ct_360d','inplZcreate_ca_ct_180d','lockZcact_dunn_ca_ct_180d',\n",
    "'lockZfica_post_ca_ct_180d','acct_age','pymt_ca_am_360d','pymtZpymt_ca_recency',\n",
    "'count_HB_90','pymt_ca_sub_am_30','recency_S1','invce_ca_am_90d','count_ML_180',\n",
    "'count_AM_180','count_DP_360','count_S1_30','cact_cnt',\n",
    "       #'cact_intr_ca_sub_recency',\n",
    "# 'count_F1_360',  # no longer available as of 8/25\n",
    "       'recency_IN','count_W1_360','recency_J5',\n",
    "       #'count_RF_360','recency_I1',\n",
    "'count_ED_360',\n",
    "       #'count_IB_360',\n",
    "       #'count_MP_360', 'count_CP_360',\n",
    "       #'count_CS_360',\n",
    "       'IBE7616_02AgeinTwoYearIncrements1stIndividual1003_Hhold4_HholdInferredA_Zip4G_Zip',\n",
    "       'IBE7641_02IncomeEstimatedHousehold1003_Household4_HouseholdInferredA_Zip4G_Zip', \n",
    "    'bill_amt_to_income'\n",
    "      ]\n",
    "print(failure_samp[xlist].isnull().sum())\n",
    "\n",
    "X_train=failure_samp[failure_samp['seg']=='mod'][xlist]\n",
    "X_test=failure_samp[failure_samp['seg']=='val'][xlist]\n",
    "\n",
    "y_train=failure_samp[failure_samp['seg']=='mod']['y']\n",
    "y_test=failure_samp[failure_samp['seg']=='val']['y']\n",
    "\n",
    "print(X_train.shape)\n",
    "print(X_test.shape)\n",
    "print(y_train.shape)\n",
    "print(y_test.shape)"
   ]
  },
  {
   "cell_type": "code",
   "execution_count": 14,
   "id": "bf063118-cc07-4abf-9e44-c3cef0b42116",
   "metadata": {
    "tags": []
   },
   "outputs": [
    {
     "data": {
      "text/plain": [
       "24"
      ]
     },
     "execution_count": 14,
     "metadata": {},
     "output_type": "execute_result"
    }
   ],
   "source": [
    "len(xlist)"
   ]
  },
  {
   "cell_type": "code",
   "execution_count": 15,
   "id": "5a4a91f3-32f9-45a9-ab39-861dec14e0aa",
   "metadata": {},
   "outputs": [],
   "source": [
    "#mod.to_csv('gs://ebill_enrollment_model/input_20250811/modeling_enhance_20250625.csv', index=False)"
   ]
  },
  {
   "cell_type": "code",
   "execution_count": 16,
   "id": "033beb91-abcf-4b11-91b0-5d06d79daceb",
   "metadata": {},
   "outputs": [],
   "source": [
    "#mod=pd.read_csv('gs://ebill_enrollment_model/input_20250811/modeling_enhance_20250625.csv')\n",
    "#mod.info()"
   ]
  },
  {
   "cell_type": "code",
   "execution_count": 17,
   "id": "fb832ec3-5c53-4236-97ea-fb7f24063af6",
   "metadata": {
    "tags": []
   },
   "outputs": [],
   "source": [
    "#val=pd.read_csv(str(path_name)+str('/validation_')+formatted_date+str('.csv'))"
   ]
  },
  {
   "cell_type": "markdown",
   "id": "358b0096-2f9b-45e2-93aa-23482f3a7167",
   "metadata": {},
   "source": [
    "## Scoring"
   ]
  },
  {
   "cell_type": "code",
   "execution_count": 18,
   "id": "c52c8a0b-f9c8-49bf-94c4-92fe3319d29e",
   "metadata": {
    "tags": []
   },
   "outputs": [],
   "source": [
    "# module for model evaludaton\n",
    "from sklearn.metrics import classification_report, confusion_matrix\n",
    "from sklearn.metrics import roc_curve\n",
    "from sklearn.metrics import roc_auc_score\n",
    "\n",
    "# The following function will generate confusion matrix and ROC curve\n",
    "def evaluate_model():\n",
    "    predfile_mod=pd.DataFrame({'Actual': y_train, 'Predicted': y_pred_mod})\n",
    "    predfile_val=pd.DataFrame({'Actual': y_test, 'Predicted': y_pred_val})\n",
    "\n",
    "    print(predfile_mod[['Actual', 'Predicted']].mean())\n",
    "    print(predfile_mod[['Actual', 'Predicted']].sum())\n",
    "\n",
    "    print(predfile_val[['Actual', 'Predicted']].mean())\n",
    "    print(predfile_val[['Actual', 'Predicted']].sum())\n",
    "\n",
    "\n",
    "    matrix=confusion_matrix(predfile_mod['Actual'], predfile_mod['Predicted'], labels=[0,1])\n",
    "    print('Confusion matrix : \\n',matrix)\n",
    "    pred_mod=pd.concat([failure_samp[failure_samp['seg']=='mod'], predfile_mod], join='outer', axis=1)\n",
    "    matrix=confusion_matrix(pred_mod['Actual'], pred_mod['y'], labels=[0,1])\n",
    "    print('Confusion matrix : \\n',matrix)\n",
    "\n",
    "\n",
    "    matrix=confusion_matrix(predfile_val['Actual'], predfile_val['Predicted'], labels=[0,1])\n",
    "    print('Confusion matrix : \\n',matrix)\n",
    "    pred_val=pd.concat([failure_samp[failure_samp['seg']=='val'], predfile_val], join='outer', axis=1)\n",
    "    matrix=confusion_matrix(pred_val['Actual'], pred_val['y'], labels=[0,1])\n",
    "    print('Confusion matrix : \\n',matrix)\n",
    "    \n",
    "    # generate a baseline prediction (majority class)\n",
    "    ns_probs = [0 for _ in range(len(y_test))]\n",
    "    # predict probabilities\n",
    "    lr_probs = model.predict_proba(X_test)\n",
    "    # keep probabilities for the positive outcome only\n",
    "    lr_probs = lr_probs[:, 1]\n",
    "    # calculate scores\n",
    "    ns_auc = roc_auc_score(y_test, ns_probs)\n",
    "    lr_auc = roc_auc_score(y_test, lr_probs)\n",
    "    # summarize scores\n",
    "    print('Baseline: ROC AUC=%.3f' % (ns_auc))\n",
    "    print(modelname+': ROC AUC=%.3f' % (lr_auc))\n",
    "    # calculate roc curves\n",
    "    ns_fpr, ns_tpr, _ = roc_curve(y_test, ns_probs)\n",
    "    lr_fpr, lr_tpr, _ = roc_curve(y_test, lr_probs)\n",
    "    # plot the roc curve for the model\n",
    "    pyplot.plot(ns_fpr, ns_tpr, linestyle='--', label='Baseline')\n",
    "    pyplot.plot(lr_fpr, lr_tpr, marker='.', label=modelname)\n",
    "    # axis labels\n",
    "    pyplot.xlabel('False Positive Rate')\n",
    "    pyplot.ylabel('True Positive Rate')\n",
    "    # show the legend\n",
    "    pyplot.legend()\n",
    "    # show the plot\n",
    "    pyplot.show()\n",
    "    # save AUC ROC and use it as the weight in the ensemble method later\n",
    "    return(lr_auc)"
   ]
  },
  {
   "cell_type": "code",
   "execution_count": 19,
   "id": "9be79bb4-7cd1-47f4-b547-33264969911b",
   "metadata": {
    "tags": []
   },
   "outputs": [],
   "source": [
    "target='y'\n",
    "\n",
    "def model_evaluation2():\n",
    "\n",
    "    #Accuracy score\n",
    "    print('Accuracy: %.3f' % accuracy_score(y_test, preds))\n",
    "\n",
    "    #Precision score - model precision score represents the model’s ability to correctly predict the positives out of all the positive predictions it made\n",
    "    print('Precision: %.3f' % precision_score(y_test, preds)) \n",
    "\n",
    "    #Recall score - model recall score represents the model’s ability to correctly predict the positives out of actual positives\n",
    "    print('Recall: %.3f' % recall_score(y_test, preds))\n",
    "\n",
    "    #Confusion matrix (deprecated)\n",
    "    #plot_confusion_matrix(model, X_test, y_test)       \n",
    "    \n",
    "    #ROC & AUC\n",
    "    #Generate a baseline prediction (majority class)\n",
    "    ns_probs = [0 for _ in range(len(y_test))]\n",
    "\n",
    "    #Predict probabilities\n",
    "    lr_probs = model.predict_proba(X_test)\n",
    "\n",
    "    #Keep probabilities for the positive outcome only\n",
    "    lr_probs = lr_probs[:, 1]\n",
    "\n",
    "    #Calculate scores\n",
    "    ns_auc = roc_auc_score(y_test, ns_probs)\n",
    "    lr_auc = roc_auc_score(y_test, lr_probs)\n",
    "\n",
    "    #Summarize scores\n",
    "    print('Baseline: ROC AUC = %.3f' % (ns_auc))\n",
    "    print(model_name+': ROC AUC = %.3f' % (lr_auc))\n",
    "\n",
    "    #Calculate roc curves\n",
    "    ns_fpr, ns_tpr, _ = roc_curve(y_test, ns_probs)\n",
    "    lr_fpr, lr_tpr, _ = roc_curve(y_test, lr_probs)\n",
    "\n",
    "    #Plot the roc curve for the model\n",
    "    plt.figure()\n",
    "    plt.plot(ns_fpr, ns_tpr, linestyle = '--', label = 'Baseline')\n",
    "    plt.plot(lr_fpr, lr_tpr, marker = '.', label = model_name)\n",
    "\n",
    "    #Axis labels\n",
    "    plt.xlabel('False Positive Rate')\n",
    "    plt.ylabel('True Positive Rate')\n",
    "    plt.legend()\n",
    "    plt.title(\"ROC Curve\")\n",
    "    plt.show()\n",
    "\n",
    "    #Predicted vs. actual graphs\n",
    "    actuals_y = pd.DataFrame(data = actuals, columns = [target])\n",
    "    probs_y = pd.DataFrame(data = probs, columns = ['score1', 'score2'])\n",
    "    actuals_probs = pd.concat([actuals_y, probs_y], axis = 1)\n",
    "    num_bins = 20\n",
    "    binlabels = list(range(0, num_bins))\n",
    "    actuals_probs['score_bin'] = pd.qcut(actuals_probs['score2'].rank(method = 'first'), num_bins, labels = binlabels)\n",
    "    actuals_probs['score_bin'] = num_bins - actuals_probs['score_bin'].astype(int)\n",
    "    df_grp = actuals_probs.groupby('score_bin')['score2'].mean()\n",
    "    df_grp.plot()\n",
    "    df_grp2 = actuals_probs.groupby('score_bin')[target].mean()\n",
    "    df_grp2.plot()\n",
    "    plt.legend([\"Predicted\", \"Actual\"])\n",
    "    plt.xlabel('Score Bin')\n",
    "    plt.title(\"Predicted vs. Actual\")\n",
    "    \n",
    "    # save AUC ROC and use it as the weight in the ensemble method later\n",
    "    return(lr_auc)"
   ]
  },
  {
   "cell_type": "code",
   "execution_count": 20,
   "id": "ea31f572-dc68-4a36-aef9-fe1117450f66",
   "metadata": {
    "tags": []
   },
   "outputs": [
    {
     "name": "stdout",
     "output_type": "stream",
     "text": [
      "Actual       0.025075\n",
      "Predicted    0.000028\n",
      "dtype: float64\n",
      "Actual       13278.0\n",
      "Predicted       15.0\n",
      "dtype: float64\n",
      "Actual       0.000000\n",
      "Predicted    0.000051\n",
      "dtype: float64\n",
      "Actual        0.0\n",
      "Predicted    30.0\n",
      "dtype: float64\n",
      "Confusion matrix : \n",
      " [[516249      0]\n",
      " [ 13263     15]]\n",
      "Confusion matrix : \n",
      " [[516249      0]\n",
      " [     0  13278]]\n",
      "Confusion matrix : \n",
      " [[582718     30]\n",
      " [     0      0]]\n",
      "Confusion matrix : \n",
      " [[582748      0]\n",
      " [     0      0]]\n"
     ]
    },
    {
     "name": "stderr",
     "output_type": "stream",
     "text": [
      "/opt/conda/lib/python3.10/site-packages/sklearn/metrics/_ranking.py:424: UndefinedMetricWarning: Only one class is present in y_true. ROC AUC score is not defined in that case.\n",
      "  warnings.warn(\n",
      "/opt/conda/lib/python3.10/site-packages/sklearn/metrics/_ranking.py:424: UndefinedMetricWarning: Only one class is present in y_true. ROC AUC score is not defined in that case.\n",
      "  warnings.warn(\n",
      "/opt/conda/lib/python3.10/site-packages/sklearn/metrics/_ranking.py:1201: UndefinedMetricWarning: No positive samples in y_true, true positive value should be meaningless\n",
      "  warnings.warn(\n",
      "/opt/conda/lib/python3.10/site-packages/sklearn/metrics/_ranking.py:1201: UndefinedMetricWarning: No positive samples in y_true, true positive value should be meaningless\n",
      "  warnings.warn(\n"
     ]
    },
    {
     "name": "stdout",
     "output_type": "stream",
     "text": [
      "Baseline: ROC AUC=nan\n",
      "Light Gradient Boosting: ROC AUC=nan\n"
     ]
    },
    {
     "data": {
      "image/png": "[encoded data removed]",
      "text/plain": [
       "<Figure size 640x480 with 1 Axes>"
      ]
     },
     "metadata": {},
     "output_type": "display_data"
    }
   ],
   "source": [
    "from sklearn.datasets import make_classification\n",
    "from sklearn.ensemble import GradientBoostingClassifier\n",
    "from sklearn.model_selection import cross_val_score\n",
    "from sklearn.model_selection import RepeatedStratifiedKFold\n",
    "\n",
    "model=GradientBoostingClassifier()\n",
    "modelname='Light Gradient Boosting'\n",
    "\n",
    "model.fit(X_train, y_train)\n",
    "\n",
    "y_pred_mod=model.predict(X_train)\n",
    "y_pred_val=model.predict(X_test)\n",
    "\n",
    "w_lgb=evaluate_model()\n",
    "\n",
    "predfile_lgb=pd.DataFrame({'cact': failure_samp[failure_samp['seg']=='val']['cact'], 'Predicted': y_pred_val}).rename(columns={'Predicted':'lgb'})\n",
    "\n",
    "preds=model.predict(X_test)\n",
    "probs=model.predict_proba(X_test)\n",
    "actuals=y_test.reset_index(drop=True)\n",
    "model_name='Light Gradient Descent - Default'\n",
    "\n",
    "val_lgb=failure_samp[failure_samp['seg']=='val'][['cact']].reset_index()\n",
    "val_lgb['lgb']=probs[:, 1].tolist()\n",
    "\n",
    "#LGD=model_evaluation2()"
   ]
  },
  {
   "cell_type": "code",
   "execution_count": 21,
   "id": "f38c1def-0e70-40c8-87a1-f525a4aa4879",
   "metadata": {
    "tags": []
   },
   "outputs": [
    {
     "name": "stdout",
     "output_type": "stream",
     "text": [
      "RMSE: 0.012633\n",
      "Actual       0.025075\n",
      "Predicted    0.001484\n",
      "dtype: float64\n",
      "Actual       13278.0\n",
      "Predicted      786.0\n",
      "dtype: float64\n",
      "Actual       0.00000\n",
      "Predicted    0.00016\n",
      "dtype: float64\n",
      "Actual        0.0\n",
      "Predicted    93.0\n",
      "dtype: float64\n",
      "Confusion matrix : \n",
      " [[516119    130]\n",
      " [ 12622    656]]\n",
      "Confusion matrix : \n",
      " [[516249      0]\n",
      " [     0  13278]]\n",
      "Confusion matrix : \n",
      " [[582655     93]\n",
      " [     0      0]]\n",
      "Confusion matrix : \n",
      " [[582748      0]\n",
      " [     0      0]]\n",
      "Baseline: ROC AUC=nan\n",
      "Xgboost: ROC AUC=nan\n"
     ]
    },
    {
     "name": "stderr",
     "output_type": "stream",
     "text": [
      "/opt/conda/lib/python3.10/site-packages/sklearn/metrics/_ranking.py:424: UndefinedMetricWarning: Only one class is present in y_true. ROC AUC score is not defined in that case.\n",
      "  warnings.warn(\n",
      "/opt/conda/lib/python3.10/site-packages/sklearn/metrics/_ranking.py:424: UndefinedMetricWarning: Only one class is present in y_true. ROC AUC score is not defined in that case.\n",
      "  warnings.warn(\n",
      "/opt/conda/lib/python3.10/site-packages/sklearn/metrics/_ranking.py:1201: UndefinedMetricWarning: No positive samples in y_true, true positive value should be meaningless\n",
      "  warnings.warn(\n",
      "/opt/conda/lib/python3.10/site-packages/sklearn/metrics/_ranking.py:1201: UndefinedMetricWarning: No positive samples in y_true, true positive value should be meaningless\n",
      "  warnings.warn(\n"
     ]
    },
    {
     "data": {
      "image/png": "[encoded data removed]",
      "text/plain": [
       "<Figure size 640x480 with 1 Axes>"
      ]
     },
     "metadata": {},
     "output_type": "display_data"
    }
   ],
   "source": [
    "# 7) XGBoost\n",
    "import xgboost as xgb\n",
    "from xgboost import XGBClassifier\n",
    "from sklearn.metrics import mean_squared_error\n",
    "\n",
    "model= XGBClassifier()\n",
    "modelname='Xgboost'\n",
    "\n",
    "model.fit(X_train,y_train)\n",
    "preds=model.predict(X_test)\n",
    "\n",
    "rmse=np.sqrt(mean_squared_error(y_test, preds))\n",
    "print(\"RMSE: %f\" % (rmse))\n",
    "\n",
    "y_pred_mod=model.predict(X_train)\n",
    "y_pred_val=model.predict(X_test)\n",
    "\n",
    "w_xgb=evaluate_model()\n",
    "\n",
    "predfile_xgb=pd.DataFrame({'cact': failure_samp[failure_samp['seg']=='val']['cact'], 'Predicted': y_pred_val}).rename(columns={'Predicted':'xgb'})\n",
    "\n",
    "preds=model.predict(X_test)\n",
    "probs=model.predict_proba(X_test)\n",
    "actuals=y_test.reset_index(drop=True)\n",
    "model_name='XGBoost - Default'\n",
    "\n",
    "val_xgb=failure_samp[failure_samp['seg']=='val'][['cact', 'y']].reset_index()\n",
    "val_xgb['xgb']=probs[:, 1].tolist()\n",
    "\n",
    "#XGB=model_evaluation2()"
   ]
  },
  {
   "cell_type": "code",
   "execution_count": 22,
   "id": "04a7f9e8-e32c-475e-87c4-a3e150d43e0d",
   "metadata": {
    "tags": []
   },
   "outputs": [
    {
     "name": "stdout",
     "output_type": "stream",
     "text": [
      "<class 'pandas.core.frame.DataFrame'>\n",
      "RangeIndex: 582748 entries, 0 to 582747\n",
      "Data columns (total 6 columns):\n",
      " #   Column   Non-Null Count   Dtype  \n",
      "---  ------   --------------   -----  \n",
      " 0   index_x  582748 non-null  int64  \n",
      " 1   cact     582748 non-null  float64\n",
      " 2   y        582748 non-null  float64\n",
      " 3   xgb      582748 non-null  float64\n",
      " 4   index_y  582748 non-null  int64  \n",
      " 5   lgb      582748 non-null  float64\n",
      "dtypes: float64(4), int64(2)\n",
      "memory usage: 26.7 MB\n"
     ]
    }
   ],
   "source": [
    "predfile_xgb_nodup=val_xgb.drop_duplicates(subset='cact', keep='first')\n",
    "predfile_lgb_nodup=val_lgb.drop_duplicates(subset='cact', keep='first')\n",
    "\n",
    "predfile_xgb_lgb=pd.merge(predfile_xgb_nodup, predfile_lgb_nodup, on='cact', how='inner')\n",
    "predfile_xgb_lgb.info()"
   ]
  },
  {
   "cell_type": "code",
   "execution_count": 23,
   "id": "342f96bd-d0e0-479b-bf20-f095285befef",
   "metadata": {
    "tags": []
   },
   "outputs": [
    {
     "data": {
      "text/plain": [
       "[20, 19, 18, 17, 16, 15, 14, 13, 12, 11, 10, 9, 8, 7, 6, 5, 4, 3, 2, 1]"
      ]
     },
     "execution_count": 23,
     "metadata": {},
     "output_type": "execute_result"
    }
   ],
   "source": [
    "num_bins=20\n",
    "labels=list(range(20, 0, -1))\n",
    "labels"
   ]
  },
  {
   "cell_type": "code",
   "execution_count": 24,
   "id": "3e2e7b7c-1160-41a3-9fb4-0558426853b9",
   "metadata": {
    "tags": []
   },
   "outputs": [],
   "source": [
    "num_bins=20\n",
    "labels=list(range(20, 0, -1))\n",
    "\n",
    "predfile_xgb_lgb['lgb_xgb']=predfile_xgb_lgb['lgb']*predfile_xgb_lgb['xgb']*100\n",
    "predfile_xgb_lgb['lgb_xgb2']=(predfile_xgb_lgb['lgb']+predfile_xgb_lgb['xgb'])/2\n",
    "predfile_xgb_lgb['lgb_xgb3']=np.sqrt(predfile_xgb_lgb['lgb']*predfile_xgb_lgb['xgb'])\n",
    "predfile_xgb_lgb['lgb_bin']=pd.qcut(predfile_xgb_lgb['lgb'], q=20, labels=labels)\n",
    "predfile_xgb_lgb['xgb_bin']=pd.qcut(predfile_xgb_lgb['xgb'], q=20, labels=labels)\n",
    "predfile_xgb_lgb['lgb_xgb_bin']=pd.qcut(predfile_xgb_lgb['lgb_xgb'], q=20, labels=labels)\n",
    "predfile_xgb_lgb['lgb_xgb_bin2']=pd.qcut(predfile_xgb_lgb['lgb_xgb2'], q=20, labels=labels)\n",
    "predfile_xgb_lgb['lgb_xgb_bin3']=pd.qcut(predfile_xgb_lgb['lgb_xgb3'], q=20, labels=labels)"
   ]
  },
  {
   "cell_type": "code",
   "execution_count": 25,
   "id": "5e3b4073-abdf-445d-8b40-0b36a7481e0c",
   "metadata": {
    "tags": []
   },
   "outputs": [
    {
     "name": "stdout",
     "output_type": "stream",
     "text": [
      "<class 'pandas.core.frame.DataFrame'>\n",
      "RangeIndex: 5096 entries, 0 to 5095\n",
      "Data columns (total 5 columns):\n",
      " #   Column                 Non-Null Count  Dtype \n",
      "---  ------                 --------------  ----- \n",
      " 0   cact                   5096 non-null   object\n",
      " 1   past_enroll_date       5096 non-null   object\n",
      " 2   past_enroll_recency    5096 non-null   int64 \n",
      " 3   enroll_cnt_lastyear    5096 non-null   int64 \n",
      " 4   enroll_cnt_last2years  5096 non-null   int64 \n",
      "dtypes: int64(3), object(2)\n",
      "memory usage: 199.2+ KB\n"
     ]
    },
    {
     "data": {
      "text/html": [
       "<div>\n",
       "<style scoped>\n",
       "    .dataframe tbody tr th:only-of-type {\n",
       "        vertical-align: middle;\n",
       "    }\n",
       "\n",
       "    .dataframe tbody tr th {\n",
       "        vertical-align: top;\n",
       "    }\n",
       "\n",
       "    .dataframe thead th {\n",
       "        text-align: right;\n",
       "    }\n",
       "</style>\n",
       "<table border=\"1\" class=\"dataframe\">\n",
       "  <thead>\n",
       "    <tr style=\"text-align: right;\">\n",
       "      <th></th>\n",
       "      <th>cact</th>\n",
       "      <th>past_enroll_date</th>\n",
       "      <th>past_enroll_recency</th>\n",
       "      <th>enroll_cnt_lastyear</th>\n",
       "      <th>enroll_cnt_last2years</th>\n",
       "    </tr>\n",
       "  </thead>\n",
       "  <tbody>\n",
       "    <tr>\n",
       "      <th>0</th>\n",
       "      <td>600001502597</td>\n",
       "      <td>2025-09-08</td>\n",
       "      <td>-1</td>\n",
       "      <td>1</td>\n",
       "      <td>1</td>\n",
       "    </tr>\n",
       "    <tr>\n",
       "      <th>1</th>\n",
       "      <td>700000982875</td>\n",
       "      <td>2025-09-08</td>\n",
       "      <td>-1</td>\n",
       "      <td>1</td>\n",
       "      <td>1</td>\n",
       "    </tr>\n",
       "    <tr>\n",
       "      <th>2</th>\n",
       "      <td>700001008844</td>\n",
       "      <td>2025-09-08</td>\n",
       "      <td>-1</td>\n",
       "      <td>1</td>\n",
       "      <td>1</td>\n",
       "    </tr>\n",
       "    <tr>\n",
       "      <th>3</th>\n",
       "      <td>700001818489</td>\n",
       "      <td>2025-09-08</td>\n",
       "      <td>-1</td>\n",
       "      <td>1</td>\n",
       "      <td>1</td>\n",
       "    </tr>\n",
       "    <tr>\n",
       "      <th>4</th>\n",
       "      <td>700002664312</td>\n",
       "      <td>2025-09-09</td>\n",
       "      <td>-2</td>\n",
       "      <td>1</td>\n",
       "      <td>1</td>\n",
       "    </tr>\n",
       "  </tbody>\n",
       "</table>\n",
       "</div>"
      ],
      "text/plain": [
       "           cact past_enroll_date  past_enroll_recency  enroll_cnt_lastyear  \\\n",
       "0  600001502597       2025-09-08                   -1                    1   \n",
       "1  700000982875       2025-09-08                   -1                    1   \n",
       "2  700001008844       2025-09-08                   -1                    1   \n",
       "3  700001818489       2025-09-08                   -1                    1   \n",
       "4  700002664312       2025-09-09                   -2                    1   \n",
       "\n",
       "   enroll_cnt_last2years  \n",
       "0                      1  \n",
       "1                      1  \n",
       "2                      1  \n",
       "3                      1  \n",
       "4                      1  "
      ]
     },
     "execution_count": 25,
     "metadata": {},
     "output_type": "execute_result"
    }
   ],
   "source": [
    "# extract new enroll since 2025/08/11\n",
    "# notice we use 2025-02-01 as the cutoff data for enrollment\n",
    "notification_query = '''\n",
    "DO BEGIN \n",
    "DECLARE cutoff_date DATE = '2025-09-07';\n",
    "\n",
    "    SELECT \n",
    "            ZOBJTID as cact,\n",
    "            max(to_date(ZUDATE___T))    as last_enroll_date,\n",
    "            min(days_between(to_date(ZUDATE___T), cutoff_date)) as last_enroll_recency, \n",
    "            sum(case when days_between(to_date(ZUDATE___T), cutoff_date) < 365 then 1 else 0 end) as enroll_cnt_lastyear,\n",
    "            sum(case when days_between(to_date(ZUDATE___T), cutoff_date) < 730 then 1 else 0 end) as enroll_cnt_last2years \n",
    "        FROM _SYS_BIC.\"sce.cs.cc.core/CV_CDPOS_CDHDR\"\n",
    "            WHERE ZVALUENEW = 'EBIL'\n",
    "            and to_date(ZUDATE___T) > cutoff_date\n",
    "        group by ZOBJTID;\n",
    "end; \n",
    "'''\n",
    "\n",
    "try: \n",
    "    ret=cursor_prod.execute(notification_query) \n",
    "    ret=cursor_prod.fetchall() \n",
    "    headers = [i[0] for i in cursor_prod.description]\n",
    "except Exception as ex: \n",
    "    print(ex) \n",
    "    \n",
    "new_enroll=pd.DataFrame(ret)\n",
    "new_enroll.columns=['cact', 'past_enroll_date', 'past_enroll_recency', 'enroll_cnt_lastyear', 'enroll_cnt_last2years']\n",
    "new_enroll.info()\n",
    "new_enroll.head()   "
   ]
  },
  {
   "cell_type": "code",
   "execution_count": 26,
   "id": "e521c0af-e252-4d64-ba3f-53513c48c74e",
   "metadata": {
    "tags": []
   },
   "outputs": [],
   "source": [
    "new_enroll['cact']=pd.to_numeric(new_enroll['cact'], errors='coerce')\n",
    "new_enroll.drop_duplicates(subset='cact', keep='first', inplace=True)"
   ]
  },
  {
   "cell_type": "code",
   "execution_count": 27,
   "id": "413d55ba-795f-44c4-9c21-6834c7df0051",
   "metadata": {
    "tags": []
   },
   "outputs": [
    {
     "name": "stderr",
     "output_type": "stream",
     "text": [
      "/var/tmp/ipykernel_7632/1830359806.py:2: FutureWarning: A value is trying to be set on a copy of a DataFrame or Series through chained assignment using an inplace method.\n",
      "The behavior will change in pandas 3.0. This inplace method will never work because the intermediate object on which we are setting values always behaves as a copy.\n",
      "\n",
      "For example, when doing 'df[col].method(value, inplace=True)', try using 'df.method({col: value}, inplace=True)' or df[col] = df[col].method(value) instead, to perform the operation inplace on the original object.\n",
      "\n",
      "\n",
      "  pred_file_val['y2'].fillna(0, inplace=True)\n"
     ]
    }
   ],
   "source": [
    "pred_file_val=pd.merge(predfile_xgb_lgb, new_enroll.assign(y2=1), on='cact', how='left')\n",
    "pred_file_val['y2'].fillna(0, inplace=True)"
   ]
  },
  {
   "cell_type": "code",
   "execution_count": 76,
   "id": "de3da764-bb12-411f-b868-6eb00680e72a",
   "metadata": {
    "tags": []
   },
   "outputs": [
    {
     "name": "stderr",
     "output_type": "stream",
     "text": [
      "/var/tmp/ipykernel_7632/444325760.py:1: FutureWarning:\n",
      "\n",
      "The default of observed=False is deprecated and will be changed to True in a future version of pandas. Pass observed=False to retain current behavior or observed=True to adopt the future default and silence this warning.\n",
      "\n",
      "/var/tmp/ipykernel_7632/444325760.py:2: FutureWarning:\n",
      "\n",
      "The default of observed=False is deprecated and will be changed to True in a future version of pandas. Pass observed=False to retain current behavior or observed=True to adopt the future default and silence this warning.\n",
      "\n"
     ]
    },
    {
     "data": {
      "application/vnd.plotly.v1+json": {
       "config": {
        "plotlyServerURL": "https://plot.ly"
       },
       "data": [
        {
         "hovertemplate": "lgb_xgb_bin=%{x}<br>y2=%{y}<extra></extra>",
         "legendgroup": "",
         "line": {
          "color": "#636efa",
          "dash": "solid"
         },
         "marker": {
          "symbol": "circle"
         },
         "mode": "lines+markers",
         "name": "",
         "orientation": "v",
         "showlegend": false,
         "type": "scatter",
         "x": {
          "_inputArray": {
           "0": 20,
           "1": 19,
           "10": 10,
           "11": 9,
           "12": 8,
           "13": 7,
           "14": 6,
           "15": 5,
           "16": 4,
           "17": 3,
           "18": 2,
           "19": 1,
           "2": 18,
           "3": 17,
           "4": 16,
           "5": 15,
           "6": 14,
           "7": 13,
           "8": 12,
           "9": 11,
           "bdata": "FBMSERAPDg0MCwoJCAcGBQQDAgE=",
           "dtype": "i1",
           "shape": "20"
          },
          "bdata": "FBMSERAPDg0MCwoJCAcGBQQDAgE=",
          "dtype": "i1"
         },
         "xaxis": "x",
         "y": {
          "_inputArray": {
           "0": 0.000274555563182099,
           "1": 0.00041184747915022136,
           "10": 0.0011325805676631088,
           "11": 0.0013041389251149701,
           "12": 0.0023338023818512544,
           "13": 0.0021621992655386623,
           "14": 0.004598805683300158,
           "15": 0.004907849126540138,
           "16": 0.007481895871229022,
           "17": 0.008614180794838356,
           "18": 0.010502110718330645,
           "19": 0.017468597707461047,
           "2": 0.0005147916809664356,
           "3": 0.0005491299722002952,
           "4": 0.0002745649861001476,
           "5": 0.0006177500171597227,
           "6": 0.0006520918419878505,
           "7": 0.0005834505954628136,
           "8": 0.0006177500171597227,
           "9": 0.0008580155815629611,
           "bdata": "XXYwKkf+MT+kJjJ0p/06P/dujbdi3kA/wxnMom/+QT/DGcyib/4xPyiFdg8QPkQ/l15SkSReRT9f2/icVh5DPyiFdg8QPkQ/QOhebo4dTD+ReuIfY45SP46MGYL0XVU/X9v4nFYeYz9c6UDkdbZhP+m7KoAy1nI/yATgt0AadD/gm0MhVqV+Pw2EXcZPpIE/y/aXcCGChT+rLXG/SeORPw==",
           "dtype": "f8",
           "shape": "20"
          },
          "bdata": "XXYwKkf+MT+kJjJ0p/06P/dujbdi3kA/wxnMom/+QT/DGcyib/4xPyiFdg8QPkQ/l15SkSReRT9f2/icVh5DPyiFdg8QPkQ/QOhebo4dTD+ReuIfY45SP46MGYL0XVU/X9v4nFYeYz9c6UDkdbZhP+m7KoAy1nI/yATgt0AadD/gm0MhVqV+Pw2EXcZPpIE/y/aXcCGChT+rLXG/SeORPw==",
          "dtype": "f8"
         },
         "yaxis": "y"
        }
       ],
       "layout": {
        "autosize": true,
        "legend": {
         "tracegroupgap": 0
        },
        "template": {
         "data": {
          "bar": [
           {
            "error_x": {
             "color": "#2a3f5f"
            },
            "error_y": {
             "color": "#2a3f5f"
            },
            "marker": {
             "line": {
              "color": "#E5ECF6",
              "width": 0.5
             },
             "pattern": {
              "fillmode": "overlay",
              "size": 10,
              "solidity": 0.2
             }
            },
            "type": "bar"
           }
          ],
          "barpolar": [
           {
            "marker": {
             "line": {
              "color": "#E5ECF6",
              "width": 0.5
             },
             "pattern": {
              "fillmode": "overlay",
              "size": 10,
              "solidity": 0.2
             }
            },
            "type": "barpolar"
           }
          ],
          "carpet": [
           {
            "aaxis": {
             "endlinecolor": "#2a3f5f",
             "gridcolor": "white",
             "linecolor": "white",
             "minorgridcolor": "white",
             "startlinecolor": "#2a3f5f"
            },
            "baxis": {
             "endlinecolor": "#2a3f5f",
             "gridcolor": "white",
             "linecolor": "white",
             "minorgridcolor": "white",
             "startlinecolor": "#2a3f5f"
            },
            "type": "carpet"
           }
          ],
          "choropleth": [
           {
            "colorbar": {
             "outlinewidth": 0,
             "ticks": ""
            },
            "type": "choropleth"
           }
          ],
          "contour": [
           {
            "colorbar": {
             "outlinewidth": 0,
             "ticks": ""
            },
            "colorscale": [
             [
              0,
              "#0d0887"
             ],
             [
              0.1111111111111111,
              "#46039f"
             ],
             [
              0.2222222222222222,
              "#7201a8"
             ],
             [
              0.3333333333333333,
              "#9c179e"
             ],
             [
              0.4444444444444444,
              "#bd3786"
             ],
             [
              0.5555555555555556,
              "#d8576b"
             ],
             [
              0.6666666666666666,
              "#ed7953"
             ],
             [
              0.7777777777777778,
              "#fb9f3a"
             ],
             [
              0.8888888888888888,
              "#fdca26"
             ],
             [
              1,
              "#f0f921"
             ]
            ],
            "type": "contour"
           }
          ],
          "contourcarpet": [
           {
            "colorbar": {
             "outlinewidth": 0,
             "ticks": ""
            },
            "type": "contourcarpet"
           }
          ],
          "heatmap": [
           {
            "colorbar": {
             "outlinewidth": 0,
             "ticks": ""
            },
            "colorscale": [
             [
              0,
              "#0d0887"
             ],
             [
              0.1111111111111111,
              "#46039f"
             ],
             [
              0.2222222222222222,
              "#7201a8"
             ],
             [
              0.3333333333333333,
              "#9c179e"
             ],
             [
              0.4444444444444444,
              "#bd3786"
             ],
             [
              0.5555555555555556,
              "#d8576b"
             ],
             [
              0.6666666666666666,
              "#ed7953"
             ],
             [
              0.7777777777777778,
              "#fb9f3a"
             ],
             [
              0.8888888888888888,
              "#fdca26"
             ],
             [
              1,
              "#f0f921"
             ]
            ],
            "type": "heatmap"
           }
          ],
          "histogram": [
           {
            "marker": {
             "pattern": {
              "fillmode": "overlay",
              "size": 10,
              "solidity": 0.2
             }
            },
            "type": "histogram"
           }
          ],
          "histogram2d": [
           {
            "colorbar": {
             "outlinewidth": 0,
             "ticks": ""
            },
            "colorscale": [
             [
              0,
              "#0d0887"
             ],
             [
              0.1111111111111111,
              "#46039f"
             ],
             [
              0.2222222222222222,
              "#7201a8"
             ],
             [
              0.3333333333333333,
              "#9c179e"
             ],
             [
              0.4444444444444444,
              "#bd3786"
             ],
             [
              0.5555555555555556,
              "#d8576b"
             ],
             [
              0.6666666666666666,
              "#ed7953"
             ],
             [
              0.7777777777777778,
              "#fb9f3a"
             ],
             [
              0.8888888888888888,
              "#fdca26"
             ],
             [
              1,
              "#f0f921"
             ]
            ],
            "type": "histogram2d"
           }
          ],
          "histogram2dcontour": [
           {
            "colorbar": {
             "outlinewidth": 0,
             "ticks": ""
            },
            "colorscale": [
             [
              0,
              "#0d0887"
             ],
             [
              0.1111111111111111,
              "#46039f"
             ],
             [
              0.2222222222222222,
              "#7201a8"
             ],
             [
              0.3333333333333333,
              "#9c179e"
             ],
             [
              0.4444444444444444,
              "#bd3786"
             ],
             [
              0.5555555555555556,
              "#d8576b"
             ],
             [
              0.6666666666666666,
              "#ed7953"
             ],
             [
              0.7777777777777778,
              "#fb9f3a"
             ],
             [
              0.8888888888888888,
              "#fdca26"
             ],
             [
              1,
              "#f0f921"
             ]
            ],
            "type": "histogram2dcontour"
           }
          ],
          "mesh3d": [
           {
            "colorbar": {
             "outlinewidth": 0,
             "ticks": ""
            },
            "type": "mesh3d"
           }
          ],
          "parcoords": [
           {
            "line": {
             "colorbar": {
              "outlinewidth": 0,
              "ticks": ""
             }
            },
            "type": "parcoords"
           }
          ],
          "pie": [
           {
            "automargin": true,
            "type": "pie"
           }
          ],
          "scatter": [
           {
            "fillpattern": {
             "fillmode": "overlay",
             "size": 10,
             "solidity": 0.2
            },
            "type": "scatter"
           }
          ],
          "scatter3d": [
           {
            "line": {
             "colorbar": {
              "outlinewidth": 0,
              "ticks": ""
             }
            },
            "marker": {
             "colorbar": {
              "outlinewidth": 0,
              "ticks": ""
             }
            },
            "type": "scatter3d"
           }
          ],
          "scattercarpet": [
           {
            "marker": {
             "colorbar": {
              "outlinewidth": 0,
              "ticks": ""
             }
            },
            "type": "scattercarpet"
           }
          ],
          "scattergeo": [
           {
            "marker": {
             "colorbar": {
              "outlinewidth": 0,
              "ticks": ""
             }
            },
            "type": "scattergeo"
           }
          ],
          "scattergl": [
           {
            "marker": {
             "colorbar": {
              "outlinewidth": 0,
              "ticks": ""
             }
            },
            "type": "scattergl"
           }
          ],
          "scattermap": [
           {
            "marker": {
             "colorbar": {
              "outlinewidth": 0,
              "ticks": ""
             }
            },
            "type": "scattermap"
           }
          ],
          "scattermapbox": [
           {
            "marker": {
             "colorbar": {
              "outlinewidth": 0,
              "ticks": ""
             }
            },
            "type": "scattermapbox"
           }
          ],
          "scatterpolar": [
           {
            "marker": {
             "colorbar": {
              "outlinewidth": 0,
              "ticks": ""
             }
            },
            "type": "scatterpolar"
           }
          ],
          "scatterpolargl": [
           {
            "marker": {
             "colorbar": {
              "outlinewidth": 0,
              "ticks": ""
             }
            },
            "type": "scatterpolargl"
           }
          ],
          "scatterternary": [
           {
            "marker": {
             "colorbar": {
              "outlinewidth": 0,
              "ticks": ""
             }
            },
            "type": "scatterternary"
           }
          ],
          "surface": [
           {
            "colorbar": {
             "outlinewidth": 0,
             "ticks": ""
            },
            "colorscale": [
             [
              0,
              "#0d0887"
             ],
             [
              0.1111111111111111,
              "#46039f"
             ],
             [
              0.2222222222222222,
              "#7201a8"
             ],
             [
              0.3333333333333333,
              "#9c179e"
             ],
             [
              0.4444444444444444,
              "#bd3786"
             ],
             [
              0.5555555555555556,
              "#d8576b"
             ],
             [
              0.6666666666666666,
              "#ed7953"
             ],
             [
              0.7777777777777778,
              "#fb9f3a"
             ],
             [
              0.8888888888888888,
              "#fdca26"
             ],
             [
              1,
              "#f0f921"
             ]
            ],
            "type": "surface"
           }
          ],
          "table": [
           {
            "cells": {
             "fill": {
              "color": "#EBF0F8"
             },
             "line": {
              "color": "white"
             }
            },
            "header": {
             "fill": {
              "color": "#C8D4E3"
             },
             "line": {
              "color": "white"
             }
            },
            "type": "table"
           }
          ]
         },
         "layout": {
          "annotationdefaults": {
           "arrowcolor": "#2a3f5f",
           "arrowhead": 0,
           "arrowwidth": 1
          },
          "autotypenumbers": "strict",
          "coloraxis": {
           "colorbar": {
            "outlinewidth": 0,
            "ticks": ""
           }
          },
          "colorscale": {
           "diverging": [
            [
             0,
             "#8e0152"
            ],
            [
             0.1,
             "#c51b7d"
            ],
            [
             0.2,
             "#de77ae"
            ],
            [
             0.3,
             "#f1b6da"
            ],
            [
             0.4,
             "#fde0ef"
            ],
            [
             0.5,
             "#f7f7f7"
            ],
            [
             0.6,
             "#e6f5d0"
            ],
            [
             0.7,
             "#b8e186"
            ],
            [
             0.8,
             "#7fbc41"
            ],
            [
             0.9,
             "#4d9221"
            ],
            [
             1,
             "#276419"
            ]
           ],
           "sequential": [
            [
             0,
             "#0d0887"
            ],
            [
             0.1111111111111111,
             "#46039f"
            ],
            [
             0.2222222222222222,
             "#7201a8"
            ],
            [
             0.3333333333333333,
             "#9c179e"
            ],
            [
             0.4444444444444444,
             "#bd3786"
            ],
            [
             0.5555555555555556,
             "#d8576b"
            ],
            [
             0.6666666666666666,
             "#ed7953"
            ],
            [
             0.7777777777777778,
             "#fb9f3a"
            ],
            [
             0.8888888888888888,
             "#fdca26"
            ],
            [
             1,
             "#f0f921"
            ]
           ],
           "sequentialminus": [
            [
             0,
             "#0d0887"
            ],
            [
             0.1111111111111111,
             "#46039f"
            ],
            [
             0.2222222222222222,
             "#7201a8"
            ],
            [
             0.3333333333333333,
             "#9c179e"
            ],
            [
             0.4444444444444444,
             "#bd3786"
            ],
            [
             0.5555555555555556,
             "#d8576b"
            ],
            [
             0.6666666666666666,
             "#ed7953"
            ],
            [
             0.7777777777777778,
             "#fb9f3a"
            ],
            [
             0.8888888888888888,
             "#fdca26"
            ],
            [
             1,
             "#f0f921"
            ]
           ]
          },
          "colorway": [
           "#636efa",
           "#EF553B",
           "#00cc96",
           "#ab63fa",
           "#FFA15A",
           "#19d3f3",
           "#FF6692",
           "#B6E880",
           "#FF97FF",
           "#FECB52"
          ],
          "font": {
           "color": "#2a3f5f"
          },
          "geo": {
           "bgcolor": "white",
           "lakecolor": "white",
           "landcolor": "#E5ECF6",
           "showlakes": true,
           "showland": true,
           "subunitcolor": "white"
          },
          "hoverlabel": {
           "align": "left"
          },
          "hovermode": "closest",
          "mapbox": {
           "style": "light"
          },
          "paper_bgcolor": "white",
          "plot_bgcolor": "#E5ECF6",
          "polar": {
           "angularaxis": {
            "gridcolor": "white",
            "linecolor": "white",
            "ticks": ""
           },
           "bgcolor": "#E5ECF6",
           "radialaxis": {
            "gridcolor": "white",
            "linecolor": "white",
            "ticks": ""
           }
          },
          "scene": {
           "xaxis": {
            "backgroundcolor": "#E5ECF6",
            "gridcolor": "white",
            "gridwidth": 2,
            "linecolor": "white",
            "showbackground": true,
            "ticks": "",
            "zerolinecolor": "white"
           },
           "yaxis": {
            "backgroundcolor": "#E5ECF6",
            "gridcolor": "white",
            "gridwidth": 2,
            "linecolor": "white",
            "showbackground": true,
            "ticks": "",
            "zerolinecolor": "white"
           },
           "zaxis": {
            "backgroundcolor": "#E5ECF6",
            "gridcolor": "white",
            "gridwidth": 2,
            "linecolor": "white",
            "showbackground": true,
            "ticks": "",
            "zerolinecolor": "white"
           }
          },
          "shapedefaults": {
           "line": {
            "color": "#2a3f5f"
           }
          },
          "ternary": {
           "aaxis": {
            "gridcolor": "white",
            "linecolor": "white",
            "ticks": ""
           },
           "baxis": {
            "gridcolor": "white",
            "linecolor": "white",
            "ticks": ""
           },
           "bgcolor": "#E5ECF6",
           "caxis": {
            "gridcolor": "white",
            "linecolor": "white",
            "ticks": ""
           }
          },
          "title": {
           "x": 0.05
          },
          "xaxis": {
           "automargin": true,
           "gridcolor": "white",
           "linecolor": "white",
           "ticks": "",
           "title": {
            "standoff": 15
           },
           "zerolinecolor": "white",
           "zerolinewidth": 2
          },
          "yaxis": {
           "automargin": true,
           "gridcolor": "white",
           "linecolor": "white",
           "ticks": "",
           "title": {
            "standoff": 15
           },
           "zerolinecolor": "white",
           "zerolinewidth": 2
          }
         }
        },
        "title": {
         "text": "Ebill Enrollment"
        },
        "xaxis": {
         "anchor": "y",
         "autorange": true,
         "domain": [
          0,
          1
         ],
         "range": [
          -0.15944881889763773,
          21.159448818897637
         ],
         "title": {
          "text": "lgb_xgb_bin"
         },
         "type": "linear"
        },
        "yaxis": {
         "anchor": "x",
         "autorange": true,
         "domain": [
          0,
          1
         ],
         "range": [
          -0.0011443702448409212,
          0.01888752351548407
         ],
         "title": {
          "text": "y2"
         },
         "type": "linear"
        }
       }
      },
      "image/png": "[encoded data removed]"
     },
     "metadata": {},
     "output_type": "display_data"
    },
    {
     "name": "stderr",
     "output_type": "stream",
     "text": [
      "/var/tmp/ipykernel_7632/444325760.py:6: FutureWarning:\n",
      "\n",
      "The default of observed=False is deprecated and will be changed to True in a future version of pandas. Pass observed=False to retain current behavior or observed=True to adopt the future default and silence this warning.\n",
      "\n",
      "/var/tmp/ipykernel_7632/444325760.py:7: FutureWarning:\n",
      "\n",
      "The default of observed=False is deprecated and will be changed to True in a future version of pandas. Pass observed=False to retain current behavior or observed=True to adopt the future default and silence this warning.\n",
      "\n"
     ]
    },
    {
     "data": {
      "application/vnd.plotly.v1+json": {
       "config": {
        "plotlyServerURL": "https://plot.ly"
       },
       "data": [
        {
         "hovertemplate": "lgb_xgb_bin2=%{x}<br>y2=%{y}<extra></extra>",
         "legendgroup": "",
         "line": {
          "color": "#636efa",
          "dash": "solid"
         },
         "marker": {
          "symbol": "circle"
         },
         "mode": "lines+markers",
         "name": "",
         "orientation": "v",
         "showlegend": false,
         "type": "scatter",
         "x": {
          "_inputArray": {
           "0": 20,
           "1": 19,
           "10": 10,
           "11": 9,
           "12": 8,
           "13": 7,
           "14": 6,
           "15": 5,
           "16": 4,
           "17": 3,
           "18": 2,
           "19": 1,
           "2": 18,
           "3": 17,
           "4": 16,
           "5": 15,
           "6": 14,
           "7": 13,
           "8": 12,
           "9": 11,
           "bdata": "FBMSERAPDg0MCwoJCAcGBQQDAgE=",
           "dtype": "i1",
           "shape": "20"
          },
          "bdata": "FBMSERAPDg0MCwoJCAcGBQQDAgE=",
          "dtype": "i1"
         },
         "xaxis": "x",
         "y": {
          "_inputArray": {
           "0": 0.00020591667238657423,
           "1": 0.0005491299722002952,
           "10": 0.0009609774513505165,
           "11": 0.001372777815910495,
           "12": 0.0018189930329134778,
           "13": 0.0017503517863884407,
           "14": 0.003946736220742673,
           "15": 0.005216734735902804,
           "16": 0.008580155815629611,
           "17": 0.009163291921202554,
           "18": 0.0106050725881182,
           "19": 0.017297000480472235,
           "2": 0.00044615279017091086,
           "3": 0.0005834505954628136,
           "4": 0.00034320623262518445,
           "5": 0.00041183334477314847,
           "6": 0.0006520918419878505,
           "7": 0.00034320623262518445,
           "8": 0.000549111126364198,
           "9": 0.001063939321138072,
           "bdata": "i7FIv2r9Kj/DGcyib/5BP1fAjqQzPT0/X9v4nFYeQz8zIH+LC342P4uxSL9q/To/l15SkSReRT8zIH+LC342P112MCpH/kE/9bi1JXxuUT8VLeVcQ31PP/STvPTYfVY/qwqi5WjNXT8OSXXrga1cP1eK5+9zKnA/l15SkSRedT8oUfsEeZKBP3OLADk0xII/GFuAvxy4hT+DtIcNTraRPw==",
           "dtype": "f8",
           "shape": "20"
          },
          "bdata": "i7FIv2r9Kj/DGcyib/5BP1fAjqQzPT0/X9v4nFYeQz8zIH+LC342P4uxSL9q/To/l15SkSReRT8zIH+LC342P112MCpH/kE/9bi1JXxuUT8VLeVcQ31PP/STvPTYfVY/qwqi5WjNXT8OSXXrga1cP1eK5+9zKnA/l15SkSRedT8oUfsEeZKBP3OLADk0xII/GFuAvxy4hT+DtIcNTraRPw==",
          "dtype": "f8"
         },
         "yaxis": "y"
        }
       ],
       "layout": {
        "autosize": true,
        "legend": {
         "tracegroupgap": 0
        },
        "template": {
         "data": {
          "bar": [
           {
            "error_x": {
             "color": "#2a3f5f"
            },
            "error_y": {
             "color": "#2a3f5f"
            },
            "marker": {
             "line": {
              "color": "#E5ECF6",
              "width": 0.5
             },
             "pattern": {
              "fillmode": "overlay",
              "size": 10,
              "solidity": 0.2
             }
            },
            "type": "bar"
           }
          ],
          "barpolar": [
           {
            "marker": {
             "line": {
              "color": "#E5ECF6",
              "width": 0.5
             },
             "pattern": {
              "fillmode": "overlay",
              "size": 10,
              "solidity": 0.2
             }
            },
            "type": "barpolar"
           }
          ],
          "carpet": [
           {
            "aaxis": {
             "endlinecolor": "#2a3f5f",
             "gridcolor": "white",
             "linecolor": "white",
             "minorgridcolor": "white",
             "startlinecolor": "#2a3f5f"
            },
            "baxis": {
             "endlinecolor": "#2a3f5f",
             "gridcolor": "white",
             "linecolor": "white",
             "minorgridcolor": "white",
             "startlinecolor": "#2a3f5f"
            },
            "type": "carpet"
           }
          ],
          "choropleth": [
           {
            "colorbar": {
             "outlinewidth": 0,
             "ticks": ""
            },
            "type": "choropleth"
           }
          ],
          "contour": [
           {
            "colorbar": {
             "outlinewidth": 0,
             "ticks": ""
            },
            "colorscale": [
             [
              0,
              "#0d0887"
             ],
             [
              0.1111111111111111,
              "#46039f"
             ],
             [
              0.2222222222222222,
              "#7201a8"
             ],
             [
              0.3333333333333333,
              "#9c179e"
             ],
             [
              0.4444444444444444,
              "#bd3786"
             ],
             [
              0.5555555555555556,
              "#d8576b"
             ],
             [
              0.6666666666666666,
              "#ed7953"
             ],
             [
              0.7777777777777778,
              "#fb9f3a"
             ],
             [
              0.8888888888888888,
              "#fdca26"
             ],
             [
              1,
              "#f0f921"
             ]
            ],
            "type": "contour"
           }
          ],
          "contourcarpet": [
           {
            "colorbar": {
             "outlinewidth": 0,
             "ticks": ""
            },
            "type": "contourcarpet"
           }
          ],
          "heatmap": [
           {
            "colorbar": {
             "outlinewidth": 0,
             "ticks": ""
            },
            "colorscale": [
             [
              0,
              "#0d0887"
             ],
             [
              0.1111111111111111,
              "#46039f"
             ],
             [
              0.2222222222222222,
              "#7201a8"
             ],
             [
              0.3333333333333333,
              "#9c179e"
             ],
             [
              0.4444444444444444,
              "#bd3786"
             ],
             [
              0.5555555555555556,
              "#d8576b"
             ],
             [
              0.6666666666666666,
              "#ed7953"
             ],
             [
              0.7777777777777778,
              "#fb9f3a"
             ],
             [
              0.8888888888888888,
              "#fdca26"
             ],
             [
              1,
              "#f0f921"
             ]
            ],
            "type": "heatmap"
           }
          ],
          "histogram": [
           {
            "marker": {
             "pattern": {
              "fillmode": "overlay",
              "size": 10,
              "solidity": 0.2
             }
            },
            "type": "histogram"
           }
          ],
          "histogram2d": [
           {
            "colorbar": {
             "outlinewidth": 0,
             "ticks": ""
            },
            "colorscale": [
             [
              0,
              "#0d0887"
             ],
             [
              0.1111111111111111,
              "#46039f"
             ],
             [
              0.2222222222222222,
              "#7201a8"
             ],
             [
              0.3333333333333333,
              "#9c179e"
             ],
             [
              0.4444444444444444,
              "#bd3786"
             ],
             [
              0.5555555555555556,
              "#d8576b"
             ],
             [
              0.6666666666666666,
              "#ed7953"
             ],
             [
              0.7777777777777778,
              "#fb9f3a"
             ],
             [
              0.8888888888888888,
              "#fdca26"
             ],
             [
              1,
              "#f0f921"
             ]
            ],
            "type": "histogram2d"
           }
          ],
          "histogram2dcontour": [
           {
            "colorbar": {
             "outlinewidth": 0,
             "ticks": ""
            },
            "colorscale": [
             [
              0,
              "#0d0887"
             ],
             [
              0.1111111111111111,
              "#46039f"
             ],
             [
              0.2222222222222222,
              "#7201a8"
             ],
             [
              0.3333333333333333,
              "#9c179e"
             ],
             [
              0.4444444444444444,
              "#bd3786"
             ],
             [
              0.5555555555555556,
              "#d8576b"
             ],
             [
              0.6666666666666666,
              "#ed7953"
             ],
             [
              0.7777777777777778,
              "#fb9f3a"
             ],
             [
              0.8888888888888888,
              "#fdca26"
             ],
             [
              1,
              "#f0f921"
             ]
            ],
            "type": "histogram2dcontour"
           }
          ],
          "mesh3d": [
           {
            "colorbar": {
             "outlinewidth": 0,
             "ticks": ""
            },
            "type": "mesh3d"
           }
          ],
          "parcoords": [
           {
            "line": {
             "colorbar": {
              "outlinewidth": 0,
              "ticks": ""
             }
            },
            "type": "parcoords"
           }
          ],
          "pie": [
           {
            "automargin": true,
            "type": "pie"
           }
          ],
          "scatter": [
           {
            "fillpattern": {
             "fillmode": "overlay",
             "size": 10,
             "solidity": 0.2
            },
            "type": "scatter"
           }
          ],
          "scatter3d": [
           {
            "line": {
             "colorbar": {
              "outlinewidth": 0,
              "ticks": ""
             }
            },
            "marker": {
             "colorbar": {
              "outlinewidth": 0,
              "ticks": ""
             }
            },
            "type": "scatter3d"
           }
          ],
          "scattercarpet": [
           {
            "marker": {
             "colorbar": {
              "outlinewidth": 0,
              "ticks": ""
             }
            },
            "type": "scattercarpet"
           }
          ],
          "scattergeo": [
           {
            "marker": {
             "colorbar": {
              "outlinewidth": 0,
              "ticks": ""
             }
            },
            "type": "scattergeo"
           }
          ],
          "scattergl": [
           {
            "marker": {
             "colorbar": {
              "outlinewidth": 0,
              "ticks": ""
             }
            },
            "type": "scattergl"
           }
          ],
          "scattermap": [
           {
            "marker": {
             "colorbar": {
              "outlinewidth": 0,
              "ticks": ""
             }
            },
            "type": "scattermap"
           }
          ],
          "scattermapbox": [
           {
            "marker": {
             "colorbar": {
              "outlinewidth": 0,
              "ticks": ""
             }
            },
            "type": "scattermapbox"
           }
          ],
          "scatterpolar": [
           {
            "marker": {
             "colorbar": {
              "outlinewidth": 0,
              "ticks": ""
             }
            },
            "type": "scatterpolar"
           }
          ],
          "scatterpolargl": [
           {
            "marker": {
             "colorbar": {
              "outlinewidth": 0,
              "ticks": ""
             }
            },
            "type": "scatterpolargl"
           }
          ],
          "scatterternary": [
           {
            "marker": {
             "colorbar": {
              "outlinewidth": 0,
              "ticks": ""
             }
            },
            "type": "scatterternary"
           }
          ],
          "surface": [
           {
            "colorbar": {
             "outlinewidth": 0,
             "ticks": ""
            },
            "colorscale": [
             [
              0,
              "#0d0887"
             ],
             [
              0.1111111111111111,
              "#46039f"
             ],
             [
              0.2222222222222222,
              "#7201a8"
             ],
             [
              0.3333333333333333,
              "#9c179e"
             ],
             [
              0.4444444444444444,
              "#bd3786"
             ],
             [
              0.5555555555555556,
              "#d8576b"
             ],
             [
              0.6666666666666666,
              "#ed7953"
             ],
             [
              0.7777777777777778,
              "#fb9f3a"
             ],
             [
              0.8888888888888888,
              "#fdca26"
             ],
             [
              1,
              "#f0f921"
             ]
            ],
            "type": "surface"
           }
          ],
          "table": [
           {
            "cells": {
             "fill": {
              "color": "#EBF0F8"
             },
             "line": {
              "color": "white"
             }
            },
            "header": {
             "fill": {
              "color": "#C8D4E3"
             },
             "line": {
              "color": "white"
             }
            },
            "type": "table"
           }
          ]
         },
         "layout": {
          "annotationdefaults": {
           "arrowcolor": "#2a3f5f",
           "arrowhead": 0,
           "arrowwidth": 1
          },
          "autotypenumbers": "strict",
          "coloraxis": {
           "colorbar": {
            "outlinewidth": 0,
            "ticks": ""
           }
          },
          "colorscale": {
           "diverging": [
            [
             0,
             "#8e0152"
            ],
            [
             0.1,
             "#c51b7d"
            ],
            [
             0.2,
             "#de77ae"
            ],
            [
             0.3,
             "#f1b6da"
            ],
            [
             0.4,
             "#fde0ef"
            ],
            [
             0.5,
             "#f7f7f7"
            ],
            [
             0.6,
             "#e6f5d0"
            ],
            [
             0.7,
             "#b8e186"
            ],
            [
             0.8,
             "#7fbc41"
            ],
            [
             0.9,
             "#4d9221"
            ],
            [
             1,
             "#276419"
            ]
           ],
           "sequential": [
            [
             0,
             "#0d0887"
            ],
            [
             0.1111111111111111,
             "#46039f"
            ],
            [
             0.2222222222222222,
             "#7201a8"
            ],
            [
             0.3333333333333333,
             "#9c179e"
            ],
            [
             0.4444444444444444,
             "#bd3786"
            ],
            [
             0.5555555555555556,
             "#d8576b"
            ],
            [
             0.6666666666666666,
             "#ed7953"
            ],
            [
             0.7777777777777778,
             "#fb9f3a"
            ],
            [
             0.8888888888888888,
             "#fdca26"
            ],
            [
             1,
             "#f0f921"
            ]
           ],
           "sequentialminus": [
            [
             0,
             "#0d0887"
            ],
            [
             0.1111111111111111,
             "#46039f"
            ],
            [
             0.2222222222222222,
             "#7201a8"
            ],
            [
             0.3333333333333333,
             "#9c179e"
            ],
            [
             0.4444444444444444,
             "#bd3786"
            ],
            [
             0.5555555555555556,
             "#d8576b"
            ],
            [
             0.6666666666666666,
             "#ed7953"
            ],
            [
             0.7777777777777778,
             "#fb9f3a"
            ],
            [
             0.8888888888888888,
             "#fdca26"
            ],
            [
             1,
             "#f0f921"
            ]
           ]
          },
          "colorway": [
           "#636efa",
           "#EF553B",
           "#00cc96",
           "#ab63fa",
           "#FFA15A",
           "#19d3f3",
           "#FF6692",
           "#B6E880",
           "#FF97FF",
           "#FECB52"
          ],
          "font": {
           "color": "#2a3f5f"
          },
          "geo": {
           "bgcolor": "white",
           "lakecolor": "white",
           "landcolor": "#E5ECF6",
           "showlakes": true,
           "showland": true,
           "subunitcolor": "white"
          },
          "hoverlabel": {
           "align": "left"
          },
          "hovermode": "closest",
          "mapbox": {
           "style": "light"
          },
          "paper_bgcolor": "white",
          "plot_bgcolor": "#E5ECF6",
          "polar": {
           "angularaxis": {
            "gridcolor": "white",
            "linecolor": "white",
            "ticks": ""
           },
           "bgcolor": "#E5ECF6",
           "radialaxis": {
            "gridcolor": "white",
            "linecolor": "white",
            "ticks": ""
           }
          },
          "scene": {
           "xaxis": {
            "backgroundcolor": "#E5ECF6",
            "gridcolor": "white",
            "gridwidth": 2,
            "linecolor": "white",
            "showbackground": true,
            "ticks": "",
            "zerolinecolor": "white"
           },
           "yaxis": {
            "backgroundcolor": "#E5ECF6",
            "gridcolor": "white",
            "gridwidth": 2,
            "linecolor": "white",
            "showbackground": true,
            "ticks": "",
            "zerolinecolor": "white"
           },
           "zaxis": {
            "backgroundcolor": "#E5ECF6",
            "gridcolor": "white",
            "gridwidth": 2,
            "linecolor": "white",
            "showbackground": true,
            "ticks": "",
            "zerolinecolor": "white"
           }
          },
          "shapedefaults": {
           "line": {
            "color": "#2a3f5f"
           }
          },
          "ternary": {
           "aaxis": {
            "gridcolor": "white",
            "linecolor": "white",
            "ticks": ""
           },
           "baxis": {
            "gridcolor": "white",
            "linecolor": "white",
            "ticks": ""
           },
           "bgcolor": "#E5ECF6",
           "caxis": {
            "gridcolor": "white",
            "linecolor": "white",
            "ticks": ""
           }
          },
          "title": {
           "x": 0.05
          },
          "xaxis": {
           "automargin": true,
           "gridcolor": "white",
           "linecolor": "white",
           "ticks": "",
           "title": {
            "standoff": 15
           },
           "zerolinecolor": "white",
           "zerolinewidth": 2
          },
          "yaxis": {
           "automargin": true,
           "gridcolor": "white",
           "linecolor": "white",
           "ticks": "",
           "title": {
            "standoff": 15
           },
           "zerolinecolor": "white",
           "zerolinewidth": 2
          }
         }
        },
        "title": {
         "text": "Ebill Enrollment"
        },
        "xaxis": {
         "anchor": "y",
         "autorange": true,
         "domain": [
          0,
          1
         ],
         "range": [
          -0.15944881889763773,
          21.159448818897637
         ],
         "title": {
          "text": "lgb_xgb_bin2"
         },
         "type": "linear"
        },
        "yaxis": {
         "anchor": "x",
         "autorange": true,
         "domain": [
          0,
          1
         ],
         "range": [
          -0.0012045125739117571,
          0.018707429726770565
         ],
         "title": {
          "text": "y2"
         },
         "type": "linear"
        }
       }
      },
      "image/png": "[encoded data removed]"
     },
     "metadata": {},
     "output_type": "display_data"
    },
    {
     "name": "stdout",
     "output_type": "stream",
     "text": [
      "   lgb_xgb_bin3        y2\n",
      "0            20  0.000275\n",
      "1            19  0.000412\n",
      "2            18  0.000515\n",
      "3            17  0.000549\n",
      "4            16  0.000275\n",
      "5            15  0.000618\n",
      "6            14  0.000652\n",
      "7            13  0.000583\n",
      "8            12  0.000618\n",
      "9            11  0.000858\n",
      "10           10  0.001133\n",
      "11            9  0.001304\n",
      "12            8  0.002334\n",
      "13            7  0.002162\n",
      "14            6  0.004599\n",
      "15            5  0.004908\n",
      "16            4  0.007482\n",
      "17            3  0.008614\n",
      "18            2  0.010502\n",
      "19            1  0.017469\n"
     ]
    },
    {
     "name": "stderr",
     "output_type": "stream",
     "text": [
      "/var/tmp/ipykernel_7632/444325760.py:11: FutureWarning:\n",
      "\n",
      "The default of observed=False is deprecated and will be changed to True in a future version of pandas. Pass observed=False to retain current behavior or observed=True to adopt the future default and silence this warning.\n",
      "\n"
     ]
    },
    {
     "data": {
      "application/vnd.plotly.v1+json": {
       "config": {
        "plotlyServerURL": "https://plot.ly"
       },
       "data": [
        {
         "hovertemplate": "lgb_xgb_bin3=%{x}<br>y2=%{y}<extra></extra>",
         "legendgroup": "",
         "line": {
          "color": "#636efa",
          "dash": "solid"
         },
         "marker": {
          "symbol": "circle"
         },
         "mode": "lines+markers",
         "name": "",
         "orientation": "v",
         "showlegend": false,
         "type": "scatter",
         "x": {
          "_inputArray": {
           "0": 20,
           "1": 19,
           "10": 10,
           "11": 9,
           "12": 8,
           "13": 7,
           "14": 6,
           "15": 5,
           "16": 4,
           "17": 3,
           "18": 2,
           "19": 1,
           "2": 18,
           "3": 17,
           "4": 16,
           "5": 15,
           "6": 14,
           "7": 13,
           "8": 12,
           "9": 11,
           "bdata": "FBMSERAPDg0MCwoJCAcGBQQDAgE=",
           "dtype": "i1",
           "shape": "20"
          },
          "bdata": "FBMSERAPDg0MCwoJCAcGBQQDAgE=",
          "dtype": "i1"
         },
         "xaxis": "x",
         "y": {
          "_inputArray": {
           "0": 0.000274555563182099,
           "1": 0.00041184747915022136,
           "10": 0.0011325805676631088,
           "11": 0.0013041389251149701,
           "12": 0.0023338023818512544,
           "13": 0.0021621992655386623,
           "14": 0.004598805683300158,
           "15": 0.004907849126540138,
           "16": 0.007481895871229022,
           "17": 0.008614180794838356,
           "18": 0.010502110718330645,
           "19": 0.017468597707461047,
           "2": 0.0005147916809664356,
           "3": 0.0005491299722002952,
           "4": 0.0002745649861001476,
           "5": 0.0006177500171597227,
           "6": 0.0006520918419878505,
           "7": 0.0005834505954628136,
           "8": 0.0006177500171597227,
           "9": 0.0008580155815629611,
           "bdata": "XXYwKkf+MT+kJjJ0p/06P/dujbdi3kA/wxnMom/+QT/DGcyib/4xPyiFdg8QPkQ/l15SkSReRT9f2/icVh5DPyiFdg8QPkQ/QOhebo4dTD+ReuIfY45SP46MGYL0XVU/X9v4nFYeYz9c6UDkdbZhP+m7KoAy1nI/yATgt0AadD/gm0MhVqV+Pw2EXcZPpIE/y/aXcCGChT+rLXG/SeORPw==",
           "dtype": "f8",
           "shape": "20"
          },
          "bdata": "XXYwKkf+MT+kJjJ0p/06P/dujbdi3kA/wxnMom/+QT/DGcyib/4xPyiFdg8QPkQ/l15SkSReRT9f2/icVh5DPyiFdg8QPkQ/QOhebo4dTD+ReuIfY45SP46MGYL0XVU/X9v4nFYeYz9c6UDkdbZhP+m7KoAy1nI/yATgt0AadD/gm0MhVqV+Pw2EXcZPpIE/y/aXcCGChT+rLXG/SeORPw==",
          "dtype": "f8"
         },
         "yaxis": "y"
        }
       ],
       "layout": {
        "autosize": true,
        "legend": {
         "tracegroupgap": 0
        },
        "template": {
         "data": {
          "bar": [
           {
            "error_x": {
             "color": "#2a3f5f"
            },
            "error_y": {
             "color": "#2a3f5f"
            },
            "marker": {
             "line": {
              "color": "#E5ECF6",
              "width": 0.5
             },
             "pattern": {
              "fillmode": "overlay",
              "size": 10,
              "solidity": 0.2
             }
            },
            "type": "bar"
           }
          ],
          "barpolar": [
           {
            "marker": {
             "line": {
              "color": "#E5ECF6",
              "width": 0.5
             },
             "pattern": {
              "fillmode": "overlay",
              "size": 10,
              "solidity": 0.2
             }
            },
            "type": "barpolar"
           }
          ],
          "carpet": [
           {
            "aaxis": {
             "endlinecolor": "#2a3f5f",
             "gridcolor": "white",
             "linecolor": "white",
             "minorgridcolor": "white",
             "startlinecolor": "#2a3f5f"
            },
            "baxis": {
             "endlinecolor": "#2a3f5f",
             "gridcolor": "white",
             "linecolor": "white",
             "minorgridcolor": "white",
             "startlinecolor": "#2a3f5f"
            },
            "type": "carpet"
           }
          ],
          "choropleth": [
           {
            "colorbar": {
             "outlinewidth": 0,
             "ticks": ""
            },
            "type": "choropleth"
           }
          ],
          "contour": [
           {
            "colorbar": {
             "outlinewidth": 0,
             "ticks": ""
            },
            "colorscale": [
             [
              0,
              "#0d0887"
             ],
             [
              0.1111111111111111,
              "#46039f"
             ],
             [
              0.2222222222222222,
              "#7201a8"
             ],
             [
              0.3333333333333333,
              "#9c179e"
             ],
             [
              0.4444444444444444,
              "#bd3786"
             ],
             [
              0.5555555555555556,
              "#d8576b"
             ],
             [
              0.6666666666666666,
              "#ed7953"
             ],
             [
              0.7777777777777778,
              "#fb9f3a"
             ],
             [
              0.8888888888888888,
              "#fdca26"
             ],
             [
              1,
              "#f0f921"
             ]
            ],
            "type": "contour"
           }
          ],
          "contourcarpet": [
           {
            "colorbar": {
             "outlinewidth": 0,
             "ticks": ""
            },
            "type": "contourcarpet"
           }
          ],
          "heatmap": [
           {
            "colorbar": {
             "outlinewidth": 0,
             "ticks": ""
            },
            "colorscale": [
             [
              0,
              "#0d0887"
             ],
             [
              0.1111111111111111,
              "#46039f"
             ],
             [
              0.2222222222222222,
              "#7201a8"
             ],
             [
              0.3333333333333333,
              "#9c179e"
             ],
             [
              0.4444444444444444,
              "#bd3786"
             ],
             [
              0.5555555555555556,
              "#d8576b"
             ],
             [
              0.6666666666666666,
              "#ed7953"
             ],
             [
              0.7777777777777778,
              "#fb9f3a"
             ],
             [
              0.8888888888888888,
              "#fdca26"
             ],
             [
              1,
              "#f0f921"
             ]
            ],
            "type": "heatmap"
           }
          ],
          "histogram": [
           {
            "marker": {
             "pattern": {
              "fillmode": "overlay",
              "size": 10,
              "solidity": 0.2
             }
            },
            "type": "histogram"
           }
          ],
          "histogram2d": [
           {
            "colorbar": {
             "outlinewidth": 0,
             "ticks": ""
            },
            "colorscale": [
             [
              0,
              "#0d0887"
             ],
             [
              0.1111111111111111,
              "#46039f"
             ],
             [
              0.2222222222222222,
              "#7201a8"
             ],
             [
              0.3333333333333333,
              "#9c179e"
             ],
             [
              0.4444444444444444,
              "#bd3786"
             ],
             [
              0.5555555555555556,
              "#d8576b"
             ],
             [
              0.6666666666666666,
              "#ed7953"
             ],
             [
              0.7777777777777778,
              "#fb9f3a"
             ],
             [
              0.8888888888888888,
              "#fdca26"
             ],
             [
              1,
              "#f0f921"
             ]
            ],
            "type": "histogram2d"
           }
          ],
          "histogram2dcontour": [
           {
            "colorbar": {
             "outlinewidth": 0,
             "ticks": ""
            },
            "colorscale": [
             [
              0,
              "#0d0887"
             ],
             [
              0.1111111111111111,
              "#46039f"
             ],
             [
              0.2222222222222222,
              "#7201a8"
             ],
             [
              0.3333333333333333,
              "#9c179e"
             ],
             [
              0.4444444444444444,
              "#bd3786"
             ],
             [
              0.5555555555555556,
              "#d8576b"
             ],
             [
              0.6666666666666666,
              "#ed7953"
             ],
             [
              0.7777777777777778,
              "#fb9f3a"
             ],
             [
              0.8888888888888888,
              "#fdca26"
             ],
             [
              1,
              "#f0f921"
             ]
            ],
            "type": "histogram2dcontour"
           }
          ],
          "mesh3d": [
           {
            "colorbar": {
             "outlinewidth": 0,
             "ticks": ""
            },
            "type": "mesh3d"
           }
          ],
          "parcoords": [
           {
            "line": {
             "colorbar": {
              "outlinewidth": 0,
              "ticks": ""
             }
            },
            "type": "parcoords"
           }
          ],
          "pie": [
           {
            "automargin": true,
            "type": "pie"
           }
          ],
          "scatter": [
           {
            "fillpattern": {
             "fillmode": "overlay",
             "size": 10,
             "solidity": 0.2
            },
            "type": "scatter"
           }
          ],
          "scatter3d": [
           {
            "line": {
             "colorbar": {
              "outlinewidth": 0,
              "ticks": ""
             }
            },
            "marker": {
             "colorbar": {
              "outlinewidth": 0,
              "ticks": ""
             }
            },
            "type": "scatter3d"
           }
          ],
          "scattercarpet": [
           {
            "marker": {
             "colorbar": {
              "outlinewidth": 0,
              "ticks": ""
             }
            },
            "type": "scattercarpet"
           }
          ],
          "scattergeo": [
           {
            "marker": {
             "colorbar": {
              "outlinewidth": 0,
              "ticks": ""
             }
            },
            "type": "scattergeo"
           }
          ],
          "scattergl": [
           {
            "marker": {
             "colorbar": {
              "outlinewidth": 0,
              "ticks": ""
             }
            },
            "type": "scattergl"
           }
          ],
          "scattermap": [
           {
            "marker": {
             "colorbar": {
              "outlinewidth": 0,
              "ticks": ""
             }
            },
            "type": "scattermap"
           }
          ],
          "scattermapbox": [
           {
            "marker": {
             "colorbar": {
              "outlinewidth": 0,
              "ticks": ""
             }
            },
            "type": "scattermapbox"
           }
          ],
          "scatterpolar": [
           {
            "marker": {
             "colorbar": {
              "outlinewidth": 0,
              "ticks": ""
             }
            },
            "type": "scatterpolar"
           }
          ],
          "scatterpolargl": [
           {
            "marker": {
             "colorbar": {
              "outlinewidth": 0,
              "ticks": ""
             }
            },
            "type": "scatterpolargl"
           }
          ],
          "scatterternary": [
           {
            "marker": {
             "colorbar": {
              "outlinewidth": 0,
              "ticks": ""
             }
            },
            "type": "scatterternary"
           }
          ],
          "surface": [
           {
            "colorbar": {
             "outlinewidth": 0,
             "ticks": ""
            },
            "colorscale": [
             [
              0,
              "#0d0887"
             ],
             [
              0.1111111111111111,
              "#46039f"
             ],
             [
              0.2222222222222222,
              "#7201a8"
             ],
             [
              0.3333333333333333,
              "#9c179e"
             ],
             [
              0.4444444444444444,
              "#bd3786"
             ],
             [
              0.5555555555555556,
              "#d8576b"
             ],
             [
              0.6666666666666666,
              "#ed7953"
             ],
             [
              0.7777777777777778,
              "#fb9f3a"
             ],
             [
              0.8888888888888888,
              "#fdca26"
             ],
             [
              1,
              "#f0f921"
             ]
            ],
            "type": "surface"
           }
          ],
          "table": [
           {
            "cells": {
             "fill": {
              "color": "#EBF0F8"
             },
             "line": {
              "color": "white"
             }
            },
            "header": {
             "fill": {
              "color": "#C8D4E3"
             },
             "line": {
              "color": "white"
             }
            },
            "type": "table"
           }
          ]
         },
         "layout": {
          "annotationdefaults": {
           "arrowcolor": "#2a3f5f",
           "arrowhead": 0,
           "arrowwidth": 1
          },
          "autotypenumbers": "strict",
          "coloraxis": {
           "colorbar": {
            "outlinewidth": 0,
            "ticks": ""
           }
          },
          "colorscale": {
           "diverging": [
            [
             0,
             "#8e0152"
            ],
            [
             0.1,
             "#c51b7d"
            ],
            [
             0.2,
             "#de77ae"
            ],
            [
             0.3,
             "#f1b6da"
            ],
            [
             0.4,
             "#fde0ef"
            ],
            [
             0.5,
             "#f7f7f7"
            ],
            [
             0.6,
             "#e6f5d0"
            ],
            [
             0.7,
             "#b8e186"
            ],
            [
             0.8,
             "#7fbc41"
            ],
            [
             0.9,
             "#4d9221"
            ],
            [
             1,
             "#276419"
            ]
           ],
           "sequential": [
            [
             0,
             "#0d0887"
            ],
            [
             0.1111111111111111,
             "#46039f"
            ],
            [
             0.2222222222222222,
             "#7201a8"
            ],
            [
             0.3333333333333333,
             "#9c179e"
            ],
            [
             0.4444444444444444,
             "#bd3786"
            ],
            [
             0.5555555555555556,
             "#d8576b"
            ],
            [
             0.6666666666666666,
             "#ed7953"
            ],
            [
             0.7777777777777778,
             "#fb9f3a"
            ],
            [
             0.8888888888888888,
             "#fdca26"
            ],
            [
             1,
             "#f0f921"
            ]
           ],
           "sequentialminus": [
            [
             0,
             "#0d0887"
            ],
            [
             0.1111111111111111,
             "#46039f"
            ],
            [
             0.2222222222222222,
             "#7201a8"
            ],
            [
             0.3333333333333333,
             "#9c179e"
            ],
            [
             0.4444444444444444,
             "#bd3786"
            ],
            [
             0.5555555555555556,
             "#d8576b"
            ],
            [
             0.6666666666666666,
             "#ed7953"
            ],
            [
             0.7777777777777778,
             "#fb9f3a"
            ],
            [
             0.8888888888888888,
             "#fdca26"
            ],
            [
             1,
             "#f0f921"
            ]
           ]
          },
          "colorway": [
           "#636efa",
           "#EF553B",
           "#00cc96",
           "#ab63fa",
           "#FFA15A",
           "#19d3f3",
           "#FF6692",
           "#B6E880",
           "#FF97FF",
           "#FECB52"
          ],
          "font": {
           "color": "#2a3f5f"
          },
          "geo": {
           "bgcolor": "white",
           "lakecolor": "white",
           "landcolor": "#E5ECF6",
           "showlakes": true,
           "showland": true,
           "subunitcolor": "white"
          },
          "hoverlabel": {
           "align": "left"
          },
          "hovermode": "closest",
          "mapbox": {
           "style": "light"
          },
          "paper_bgcolor": "white",
          "plot_bgcolor": "#E5ECF6",
          "polar": {
           "angularaxis": {
            "gridcolor": "white",
            "linecolor": "white",
            "ticks": ""
           },
           "bgcolor": "#E5ECF6",
           "radialaxis": {
            "gridcolor": "white",
            "linecolor": "white",
            "ticks": ""
           }
          },
          "scene": {
           "xaxis": {
            "backgroundcolor": "#E5ECF6",
            "gridcolor": "white",
            "gridwidth": 2,
            "linecolor": "white",
            "showbackground": true,
            "ticks": "",
            "zerolinecolor": "white"
           },
           "yaxis": {
            "backgroundcolor": "#E5ECF6",
            "gridcolor": "white",
            "gridwidth": 2,
            "linecolor": "white",
            "showbackground": true,
            "ticks": "",
            "zerolinecolor": "white"
           },
           "zaxis": {
            "backgroundcolor": "#E5ECF6",
            "gridcolor": "white",
            "gridwidth": 2,
            "linecolor": "white",
            "showbackground": true,
            "ticks": "",
            "zerolinecolor": "white"
           }
          },
          "shapedefaults": {
           "line": {
            "color": "#2a3f5f"
           }
          },
          "ternary": {
           "aaxis": {
            "gridcolor": "white",
            "linecolor": "white",
            "ticks": ""
           },
           "baxis": {
            "gridcolor": "white",
            "linecolor": "white",
            "ticks": ""
           },
           "bgcolor": "#E5ECF6",
           "caxis": {
            "gridcolor": "white",
            "linecolor": "white",
            "ticks": ""
           }
          },
          "title": {
           "x": 0.05
          },
          "xaxis": {
           "automargin": true,
           "gridcolor": "white",
           "linecolor": "white",
           "ticks": "",
           "title": {
            "standoff": 15
           },
           "zerolinecolor": "white",
           "zerolinewidth": 2
          },
          "yaxis": {
           "automargin": true,
           "gridcolor": "white",
           "linecolor": "white",
           "ticks": "",
           "title": {
            "standoff": 15
           },
           "zerolinecolor": "white",
           "zerolinewidth": 2
          }
         }
        },
        "title": {
         "text": "Ebill Enrollment"
        },
        "xaxis": {
         "anchor": "y",
         "autorange": true,
         "domain": [
          0,
          1
         ],
         "range": [
          -0.15944881889763773,
          21.159448818897637
         ],
         "title": {
          "text": "lgb_xgb_bin3"
         },
         "type": "linear"
        },
        "yaxis": {
         "anchor": "x",
         "autorange": true,
         "domain": [
          0,
          1
         ],
         "range": [
          -0.0011443702448409212,
          0.01888752351548407
         ],
         "title": {
          "text": "y2"
         },
         "type": "linear"
        }
       }
      },
      "image/png": "[encoded data removed]"
     },
     "metadata": {},
     "output_type": "display_data"
    }
   ],
   "source": [
    "pred_file_val.groupby('lgb_xgb_bin')['y2'].mean()\n",
    "forline=pred_file_val.groupby('lgb_xgb_bin')['y2'].mean().reset_index()\n",
    "fig = px.line(forline, x='lgb_xgb_bin', y='y2', title='Ebill Enrollment', markers=True)\n",
    "fig.show()\n",
    "\n",
    "pred_file_val.groupby('lgb_xgb_bin2')['y2'].mean()\n",
    "forline=pred_file_val.groupby('lgb_xgb_bin2')['y2'].mean().reset_index()\n",
    "fig = px.line(forline, x='lgb_xgb_bin2', y='y2', title='Ebill Enrollment', markers=True)\n",
    "fig.show()\n",
    "\n",
    "forline=pred_file_val.groupby('lgb_xgb_bin3')['y2'].mean().reset_index()\n",
    "print(forline)\n",
    "fig = px.line(forline, x='lgb_xgb_bin3', y='y2', title='Ebill Enrollment', markers=True)\n",
    "fig.show()"
   ]
  },
  {
   "cell_type": "code",
   "execution_count": 31,
   "id": "7a044978-2a38-466c-a37e-b0a913dfc301",
   "metadata": {
    "tags": []
   },
   "outputs": [
    {
     "data": {
      "text/plain": [
       "['index_x',\n",
       " 'cact',\n",
       " 'y',\n",
       " 'xgb',\n",
       " 'index_y',\n",
       " 'lgb',\n",
       " 'lgb_xgb',\n",
       " 'lgb_xgb2',\n",
       " 'lgb_xgb3',\n",
       " 'lgb_bin',\n",
       " 'xgb_bin',\n",
       " 'lgb_xgb_bin',\n",
       " 'lgb_xgb_bin2',\n",
       " 'lgb_xgb_bin3',\n",
       " 'past_enroll_date',\n",
       " 'past_enroll_recency',\n",
       " 'enroll_cnt_lastyear',\n",
       " 'enroll_cnt_last2years',\n",
       " 'y2']"
      ]
     },
     "execution_count": 31,
     "metadata": {},
     "output_type": "execute_result"
    }
   ],
   "source": [
    "pred_file_val.columns.tolist()"
   ]
  },
  {
   "cell_type": "code",
   "execution_count": 77,
   "id": "a4eed173-0977-4351-b206-18e3266a132e",
   "metadata": {
    "tags": []
   },
   "outputs": [
    {
     "name": "stdout",
     "output_type": "stream",
     "text": [
      "<class 'pandas.core.frame.DataFrame'>\n",
      "Index: 582748 entries, 136148 to 160669\n",
      "Data columns (total 4 columns):\n",
      " #   Column        Non-Null Count   Dtype  \n",
      "---  ------        --------------   -----  \n",
      " 0   cact          582748 non-null  float64\n",
      " 1   enroll_score  582748 non-null  float64\n",
      " 2   score_rank    582748 non-null  int64  \n",
      " 3   score_tier    582748 non-null  int64  \n",
      "dtypes: float64(2), int64(2)\n",
      "memory usage: 22.2 MB\n"
     ]
    },
    {
     "name": "stderr",
     "output_type": "stream",
     "text": [
      "/var/tmp/ipykernel_7632/2553879984.py:2: SettingWithCopyWarning:\n",
      "\n",
      "\n",
      "A value is trying to be set on a copy of a slice from a DataFrame\n",
      "\n",
      "See the caveats in the documentation: https://pandas.pydata.org/pandas-docs/stable/user_guide/indexing.html#returning-a-view-versus-a-copy\n",
      "\n",
      "/var/tmp/ipykernel_7632/2553879984.py:3: SettingWithCopyWarning:\n",
      "\n",
      "\n",
      "A value is trying to be set on a copy of a slice from a DataFrame\n",
      "\n",
      "See the caveats in the documentation: https://pandas.pydata.org/pandas-docs/stable/user_guide/indexing.html#returning-a-view-versus-a-copy\n",
      "\n",
      "/var/tmp/ipykernel_7632/2553879984.py:4: SettingWithCopyWarning:\n",
      "\n",
      "\n",
      "A value is trying to be set on a copy of a slice from a DataFrame.\n",
      "Try using .loc[row_indexer,col_indexer] = value instead\n",
      "\n",
      "See the caveats in the documentation: https://pandas.pydata.org/pandas-docs/stable/user_guide/indexing.html#returning-a-view-versus-a-copy\n",
      "\n",
      "/var/tmp/ipykernel_7632/2553879984.py:5: SettingWithCopyWarning:\n",
      "\n",
      "\n",
      "A value is trying to be set on a copy of a slice from a DataFrame.\n",
      "Try using .loc[row_indexer,col_indexer] = value instead\n",
      "\n",
      "See the caveats in the documentation: https://pandas.pydata.org/pandas-docs/stable/user_guide/indexing.html#returning-a-view-versus-a-copy\n",
      "\n",
      "/var/tmp/ipykernel_7632/2553879984.py:6: SettingWithCopyWarning:\n",
      "\n",
      "\n",
      "A value is trying to be set on a copy of a slice from a DataFrame.\n",
      "Try using .loc[row_indexer,col_indexer] = value instead\n",
      "\n",
      "See the caveats in the documentation: https://pandas.pydata.org/pandas-docs/stable/user_guide/indexing.html#returning-a-view-versus-a-copy\n",
      "\n",
      "/var/tmp/ipykernel_7632/2553879984.py:7: SettingWithCopyWarning:\n",
      "\n",
      "\n",
      "A value is trying to be set on a copy of a slice from a DataFrame.\n",
      "Try using .loc[row_indexer,col_indexer] = value instead\n",
      "\n",
      "See the caveats in the documentation: https://pandas.pydata.org/pandas-docs/stable/user_guide/indexing.html#returning-a-view-versus-a-copy\n",
      "\n",
      "/var/tmp/ipykernel_7632/2553879984.py:8: SettingWithCopyWarning:\n",
      "\n",
      "\n",
      "A value is trying to be set on a copy of a slice from a DataFrame\n",
      "\n",
      "See the caveats in the documentation: https://pandas.pydata.org/pandas-docs/stable/user_guide/indexing.html#returning-a-view-versus-a-copy\n",
      "\n"
     ]
    }
   ],
   "source": [
    "deploy_file=pred_file_val[['cact', 'lgb_xgb3']]\n",
    "deploy_file.rename(columns={'lgb_xgb3': 'enroll_score'}, inplace=True)\n",
    "deploy_file.sort_values(by='enroll_score', ascending=False, inplace=True)\n",
    "deploy_file['dummy']=1\n",
    "deploy_file['score_rank']=deploy_file['dummy'].cumsum()\n",
    "deploy_file['score_tier']=(deploy_file['score_rank']/len(deploy_file))*100\n",
    "deploy_file['score_tier']=deploy_file['score_tier'].astype('int')\n",
    "deploy_file.drop('dummy', axis=1, inplace=True)\n",
    "deploy_file.info()                    "
   ]
  },
  {
   "cell_type": "code",
   "execution_count": 78,
   "id": "75907499-a0c6-436e-b4b1-30fb66f11163",
   "metadata": {
    "tags": []
   },
   "outputs": [
    {
     "data": {
      "text/plain": [
       "score_tier\n",
       "0        2914.0\n",
       "1        8741.0\n",
       "2       14568.5\n",
       "3       20396.0\n",
       "4       26223.5\n",
       "         ...   \n",
       "96     562352.0\n",
       "97     568179.5\n",
       "98     574007.0\n",
       "99     579834.0\n",
       "100    582748.0\n",
       "Name: score_rank, Length: 101, dtype: float64"
      ]
     },
     "execution_count": 78,
     "metadata": {},
     "output_type": "execute_result"
    }
   ],
   "source": [
    "deploy_file.groupby('score_tier')['score_rank'].mean()"
   ]
  },
  {
   "cell_type": "code",
   "execution_count": 79,
   "id": "dddbf5ba-f8ef-4662-8bb4-89b92796c9a9",
   "metadata": {
    "tags": []
   },
   "outputs": [
    {
     "data": {
      "text/plain": [
       "count    582748.000000\n",
       "mean     291374.500000\n",
       "std      168225.001672\n",
       "min           1.000000\n",
       "25%      145687.750000\n",
       "50%      291374.500000\n",
       "75%      437061.250000\n",
       "max      582748.000000\n",
       "Name: score_rank, dtype: float64"
      ]
     },
     "execution_count": 79,
     "metadata": {},
     "output_type": "execute_result"
    }
   ],
   "source": [
    "deploy_file['score_rank'].describe()"
   ]
  },
  {
   "cell_type": "code",
   "execution_count": 80,
   "id": "c8ced23d-1b2d-4956-b888-baa05acd6ab2",
   "metadata": {
    "tags": []
   },
   "outputs": [
    {
     "data": {
      "text/html": [
       "<div>\n",
       "<style scoped>\n",
       "    .dataframe tbody tr th:only-of-type {\n",
       "        vertical-align: middle;\n",
       "    }\n",
       "\n",
       "    .dataframe tbody tr th {\n",
       "        vertical-align: top;\n",
       "    }\n",
       "\n",
       "    .dataframe thead th {\n",
       "        text-align: right;\n",
       "    }\n",
       "</style>\n",
       "<table border=\"1\" class=\"dataframe\">\n",
       "  <thead>\n",
       "    <tr style=\"text-align: right;\">\n",
       "      <th></th>\n",
       "      <th>cact</th>\n",
       "      <th>enroll_score</th>\n",
       "      <th>score_rank</th>\n",
       "      <th>score_tier</th>\n",
       "    </tr>\n",
       "  </thead>\n",
       "  <tbody>\n",
       "    <tr>\n",
       "      <th>136148</th>\n",
       "      <td>7.002139e+11</td>\n",
       "      <td>0.718389</td>\n",
       "      <td>1</td>\n",
       "      <td>0</td>\n",
       "    </tr>\n",
       "    <tr>\n",
       "      <th>399729</th>\n",
       "      <td>7.006709e+11</td>\n",
       "      <td>0.512504</td>\n",
       "      <td>2</td>\n",
       "      <td>0</td>\n",
       "    </tr>\n",
       "    <tr>\n",
       "      <th>357993</th>\n",
       "      <td>7.005813e+11</td>\n",
       "      <td>0.465602</td>\n",
       "      <td>3</td>\n",
       "      <td>0</td>\n",
       "    </tr>\n",
       "    <tr>\n",
       "      <th>564254</th>\n",
       "      <td>7.009930e+11</td>\n",
       "      <td>0.393246</td>\n",
       "      <td>4</td>\n",
       "      <td>0</td>\n",
       "    </tr>\n",
       "    <tr>\n",
       "      <th>566777</th>\n",
       "      <td>7.009944e+11</td>\n",
       "      <td>0.393198</td>\n",
       "      <td>5</td>\n",
       "      <td>0</td>\n",
       "    </tr>\n",
       "  </tbody>\n",
       "</table>\n",
       "</div>"
      ],
      "text/plain": [
       "                cact  enroll_score  score_rank  score_tier\n",
       "136148  7.002139e+11      0.718389           1           0\n",
       "399729  7.006709e+11      0.512504           2           0\n",
       "357993  7.005813e+11      0.465602           3           0\n",
       "564254  7.009930e+11      0.393246           4           0\n",
       "566777  7.009944e+11      0.393198           5           0"
      ]
     },
     "execution_count": 80,
     "metadata": {},
     "output_type": "execute_result"
    }
   ],
   "source": [
    "deploy_file.head()"
   ]
  },
  {
   "cell_type": "code",
   "execution_count": 81,
   "id": "ee2e3630-1b3c-4563-b81b-bada11a4a92f",
   "metadata": {
    "tags": []
   },
   "outputs": [],
   "source": [
    "#deploy_file.to_csv(str(path_name)+str('/deploy_file_20250908')+str('.csv'), index=False)"
   ]
  },
  {
   "cell_type": "code",
   "execution_count": 82,
   "id": "ced76cf8-a519-4b0a-9684-57c9c2146b38",
   "metadata": {},
   "outputs": [
    {
     "name": "stdout",
     "output_type": "stream",
     "text": [
      "<class 'pandas.core.frame.DataFrame'>\n",
      "RangeIndex: 894420 entries, 0 to 894419\n",
      "Data columns (total 6 columns):\n",
      " #   Column                 Non-Null Count   Dtype \n",
      "---  ------                 --------------   ----- \n",
      " 0   cact                   894420 non-null  int64 \n",
      " 1   latest_optout_date     894420 non-null  object\n",
      " 2   last_optout_recency    894420 non-null  int64 \n",
      " 3   optout_cnt_total       894420 non-null  int64 \n",
      " 4   optout_cnt_lastyear    894420 non-null  int64 \n",
      " 5   optout_cnt_last2years  894420 non-null  int64 \n",
      "dtypes: int64(5), object(1)\n",
      "memory usage: 40.9+ MB\n"
     ]
    }
   ],
   "source": [
    "# merge with opt out data\n",
    "#deploy_file=pd.read_csv(str(path_name)+str('/deploy_file_20250908')+str('.csv'))\n",
    "past_enroll=pd.read_csv(str(path_name)+str('/past_enroll.csv'))\n",
    "past_optout=pd.read_csv(str(path_name)+str('/past_optout.csv'))\n",
    "past_optout.info()"
   ]
  },
  {
   "cell_type": "code",
   "execution_count": 83,
   "id": "24b0a76e-81c6-426e-82e6-1be085da3d4e",
   "metadata": {
    "tags": []
   },
   "outputs": [
    {
     "data": {
      "text/plain": [
       "['cact',\n",
       " 'enroll_score',\n",
       " 'score_rank',\n",
       " 'score_tier',\n",
       " 'latest_optout_date',\n",
       " 'last_optout_recency',\n",
       " 'optout_cnt_total',\n",
       " 'optout_cnt_lastyear',\n",
       " 'optout_cnt_last2years',\n",
       " 'past_enroll_date',\n",
       " 'past_enroll_recency',\n",
       " 'enroll_cnt_total',\n",
       " 'enroll_cnt_lastyear',\n",
       " 'enroll_cnt_last2years']"
      ]
     },
     "execution_count": 83,
     "metadata": {},
     "output_type": "execute_result"
    }
   ],
   "source": [
    "deploy_file=pd.merge(deploy_file, past_optout, on='cact', how='left')\n",
    "deploy_file=pd.merge(deploy_file, past_enroll, on='cact', how='left')\n",
    "deploy_file.columns.tolist()"
   ]
  },
  {
   "cell_type": "code",
   "execution_count": 84,
   "id": "b48ef59c-7be2-462c-9c25-1d9b28b40b2f",
   "metadata": {
    "tags": []
   },
   "outputs": [
    {
     "data": {
      "text/plain": [
       "<matplotlib.collections.PathCollection at 0x7ff9e16b6a70>"
      ]
     },
     "execution_count": 84,
     "metadata": {},
     "output_type": "execute_result"
    },
    {
     "data": {
      "image/png": "[encoded data removed]",
      "text/plain": [
       "<Figure size 640x480 with 1 Axes>"
      ]
     },
     "metadata": {},
     "output_type": "display_data"
    }
   ],
   "source": [
    "plt.scatter(deploy_file['optout_cnt_last2years'], deploy_file['enroll_cnt_last2years'])"
   ]
  },
  {
   "cell_type": "code",
   "execution_count": 85,
   "id": "b1d51e3d-d67f-45e4-8592-187188579b2c",
   "metadata": {
    "tags": []
   },
   "outputs": [
    {
     "data": {
      "text/html": [
       "<div>\n",
       "<style scoped>\n",
       "    .dataframe tbody tr th:only-of-type {\n",
       "        vertical-align: middle;\n",
       "    }\n",
       "\n",
       "    .dataframe tbody tr th {\n",
       "        vertical-align: top;\n",
       "    }\n",
       "\n",
       "    .dataframe thead th {\n",
       "        text-align: right;\n",
       "    }\n",
       "</style>\n",
       "<table border=\"1\" class=\"dataframe\">\n",
       "  <thead>\n",
       "    <tr style=\"text-align: right;\">\n",
       "      <th></th>\n",
       "      <th>cact</th>\n",
       "      <th>enroll_score</th>\n",
       "      <th>score_rank</th>\n",
       "      <th>score_tier</th>\n",
       "      <th>latest_optout_date</th>\n",
       "      <th>last_optout_recency</th>\n",
       "      <th>optout_cnt_total</th>\n",
       "      <th>optout_cnt_lastyear</th>\n",
       "      <th>optout_cnt_last2years</th>\n",
       "      <th>past_enroll_date</th>\n",
       "      <th>past_enroll_recency</th>\n",
       "      <th>enroll_cnt_total</th>\n",
       "      <th>enroll_cnt_lastyear</th>\n",
       "      <th>enroll_cnt_last2years</th>\n",
       "    </tr>\n",
       "  </thead>\n",
       "  <tbody>\n",
       "    <tr>\n",
       "      <th>0</th>\n",
       "      <td>7.002139e+11</td>\n",
       "      <td>0.718389</td>\n",
       "      <td>1</td>\n",
       "      <td>0</td>\n",
       "      <td>NaN</td>\n",
       "      <td>NaN</td>\n",
       "      <td>NaN</td>\n",
       "      <td>NaN</td>\n",
       "      <td>NaN</td>\n",
       "      <td>NaN</td>\n",
       "      <td>NaN</td>\n",
       "      <td>NaN</td>\n",
       "      <td>NaN</td>\n",
       "      <td>NaN</td>\n",
       "    </tr>\n",
       "    <tr>\n",
       "      <th>1</th>\n",
       "      <td>7.006709e+11</td>\n",
       "      <td>0.512504</td>\n",
       "      <td>2</td>\n",
       "      <td>0</td>\n",
       "      <td>2025-03-28</td>\n",
       "      <td>164.0</td>\n",
       "      <td>1.0</td>\n",
       "      <td>1.0</td>\n",
       "      <td>1.0</td>\n",
       "      <td>2025-03-28</td>\n",
       "      <td>164.0</td>\n",
       "      <td>1.0</td>\n",
       "      <td>1.0</td>\n",
       "      <td>1.0</td>\n",
       "    </tr>\n",
       "    <tr>\n",
       "      <th>2</th>\n",
       "      <td>7.005813e+11</td>\n",
       "      <td>0.465602</td>\n",
       "      <td>3</td>\n",
       "      <td>0</td>\n",
       "      <td>2025-08-13</td>\n",
       "      <td>26.0</td>\n",
       "      <td>1.0</td>\n",
       "      <td>1.0</td>\n",
       "      <td>1.0</td>\n",
       "      <td>2025-08-13</td>\n",
       "      <td>26.0</td>\n",
       "      <td>1.0</td>\n",
       "      <td>1.0</td>\n",
       "      <td>1.0</td>\n",
       "    </tr>\n",
       "    <tr>\n",
       "      <th>3</th>\n",
       "      <td>7.009930e+11</td>\n",
       "      <td>0.393246</td>\n",
       "      <td>4</td>\n",
       "      <td>0</td>\n",
       "      <td>NaN</td>\n",
       "      <td>NaN</td>\n",
       "      <td>NaN</td>\n",
       "      <td>NaN</td>\n",
       "      <td>NaN</td>\n",
       "      <td>NaN</td>\n",
       "      <td>NaN</td>\n",
       "      <td>NaN</td>\n",
       "      <td>NaN</td>\n",
       "      <td>NaN</td>\n",
       "    </tr>\n",
       "    <tr>\n",
       "      <th>4</th>\n",
       "      <td>7.009944e+11</td>\n",
       "      <td>0.393198</td>\n",
       "      <td>5</td>\n",
       "      <td>0</td>\n",
       "      <td>NaN</td>\n",
       "      <td>NaN</td>\n",
       "      <td>NaN</td>\n",
       "      <td>NaN</td>\n",
       "      <td>NaN</td>\n",
       "      <td>NaN</td>\n",
       "      <td>NaN</td>\n",
       "      <td>NaN</td>\n",
       "      <td>NaN</td>\n",
       "      <td>NaN</td>\n",
       "    </tr>\n",
       "    <tr>\n",
       "      <th>...</th>\n",
       "      <td>...</td>\n",
       "      <td>...</td>\n",
       "      <td>...</td>\n",
       "      <td>...</td>\n",
       "      <td>...</td>\n",
       "      <td>...</td>\n",
       "      <td>...</td>\n",
       "      <td>...</td>\n",
       "      <td>...</td>\n",
       "      <td>...</td>\n",
       "      <td>...</td>\n",
       "      <td>...</td>\n",
       "      <td>...</td>\n",
       "      <td>...</td>\n",
       "    </tr>\n",
       "    <tr>\n",
       "      <th>95</th>\n",
       "      <td>7.009940e+11</td>\n",
       "      <td>0.308236</td>\n",
       "      <td>96</td>\n",
       "      <td>0</td>\n",
       "      <td>NaN</td>\n",
       "      <td>NaN</td>\n",
       "      <td>NaN</td>\n",
       "      <td>NaN</td>\n",
       "      <td>NaN</td>\n",
       "      <td>NaN</td>\n",
       "      <td>NaN</td>\n",
       "      <td>NaN</td>\n",
       "      <td>NaN</td>\n",
       "      <td>NaN</td>\n",
       "    </tr>\n",
       "    <tr>\n",
       "      <th>96</th>\n",
       "      <td>7.009416e+11</td>\n",
       "      <td>0.307495</td>\n",
       "      <td>97</td>\n",
       "      <td>0</td>\n",
       "      <td>2025-05-20</td>\n",
       "      <td>111.0</td>\n",
       "      <td>1.0</td>\n",
       "      <td>1.0</td>\n",
       "      <td>1.0</td>\n",
       "      <td>2025-05-20</td>\n",
       "      <td>111.0</td>\n",
       "      <td>1.0</td>\n",
       "      <td>1.0</td>\n",
       "      <td>1.0</td>\n",
       "    </tr>\n",
       "    <tr>\n",
       "      <th>97</th>\n",
       "      <td>7.009956e+11</td>\n",
       "      <td>0.306779</td>\n",
       "      <td>98</td>\n",
       "      <td>0</td>\n",
       "      <td>NaN</td>\n",
       "      <td>NaN</td>\n",
       "      <td>NaN</td>\n",
       "      <td>NaN</td>\n",
       "      <td>NaN</td>\n",
       "      <td>NaN</td>\n",
       "      <td>NaN</td>\n",
       "      <td>NaN</td>\n",
       "      <td>NaN</td>\n",
       "      <td>NaN</td>\n",
       "    </tr>\n",
       "    <tr>\n",
       "      <th>98</th>\n",
       "      <td>7.009943e+11</td>\n",
       "      <td>0.306646</td>\n",
       "      <td>99</td>\n",
       "      <td>0</td>\n",
       "      <td>NaN</td>\n",
       "      <td>NaN</td>\n",
       "      <td>NaN</td>\n",
       "      <td>NaN</td>\n",
       "      <td>NaN</td>\n",
       "      <td>NaN</td>\n",
       "      <td>NaN</td>\n",
       "      <td>NaN</td>\n",
       "      <td>NaN</td>\n",
       "      <td>NaN</td>\n",
       "    </tr>\n",
       "    <tr>\n",
       "      <th>99</th>\n",
       "      <td>7.009913e+11</td>\n",
       "      <td>0.306618</td>\n",
       "      <td>100</td>\n",
       "      <td>0</td>\n",
       "      <td>NaN</td>\n",
       "      <td>NaN</td>\n",
       "      <td>NaN</td>\n",
       "      <td>NaN</td>\n",
       "      <td>NaN</td>\n",
       "      <td>NaN</td>\n",
       "      <td>NaN</td>\n",
       "      <td>NaN</td>\n",
       "      <td>NaN</td>\n",
       "      <td>NaN</td>\n",
       "    </tr>\n",
       "  </tbody>\n",
       "</table>\n",
       "<p>100 rows × 14 columns</p>\n",
       "</div>"
      ],
      "text/plain": [
       "            cact  enroll_score  score_rank  score_tier latest_optout_date  \\\n",
       "0   7.002139e+11      0.718389           1           0                NaN   \n",
       "1   7.006709e+11      0.512504           2           0         2025-03-28   \n",
       "2   7.005813e+11      0.465602           3           0         2025-08-13   \n",
       "3   7.009930e+11      0.393246           4           0                NaN   \n",
       "4   7.009944e+11      0.393198           5           0                NaN   \n",
       "..           ...           ...         ...         ...                ...   \n",
       "95  7.009940e+11      0.308236          96           0                NaN   \n",
       "96  7.009416e+11      0.307495          97           0         2025-05-20   \n",
       "97  7.009956e+11      0.306779          98           0                NaN   \n",
       "98  7.009943e+11      0.306646          99           0                NaN   \n",
       "99  7.009913e+11      0.306618         100           0                NaN   \n",
       "\n",
       "    last_optout_recency  optout_cnt_total  optout_cnt_lastyear  \\\n",
       "0                   NaN               NaN                  NaN   \n",
       "1                 164.0               1.0                  1.0   \n",
       "2                  26.0               1.0                  1.0   \n",
       "3                   NaN               NaN                  NaN   \n",
       "4                   NaN               NaN                  NaN   \n",
       "..                  ...               ...                  ...   \n",
       "95                  NaN               NaN                  NaN   \n",
       "96                111.0               1.0                  1.0   \n",
       "97                  NaN               NaN                  NaN   \n",
       "98                  NaN               NaN                  NaN   \n",
       "99                  NaN               NaN                  NaN   \n",
       "\n",
       "    optout_cnt_last2years past_enroll_date  past_enroll_recency  \\\n",
       "0                     NaN              NaN                  NaN   \n",
       "1                     1.0       2025-03-28                164.0   \n",
       "2                     1.0       2025-08-13                 26.0   \n",
       "3                     NaN              NaN                  NaN   \n",
       "4                     NaN              NaN                  NaN   \n",
       "..                    ...              ...                  ...   \n",
       "95                    NaN              NaN                  NaN   \n",
       "96                    1.0       2025-05-20                111.0   \n",
       "97                    NaN              NaN                  NaN   \n",
       "98                    NaN              NaN                  NaN   \n",
       "99                    NaN              NaN                  NaN   \n",
       "\n",
       "    enroll_cnt_total  enroll_cnt_lastyear  enroll_cnt_last2years  \n",
       "0                NaN                  NaN                    NaN  \n",
       "1                1.0                  1.0                    1.0  \n",
       "2                1.0                  1.0                    1.0  \n",
       "3                NaN                  NaN                    NaN  \n",
       "4                NaN                  NaN                    NaN  \n",
       "..               ...                  ...                    ...  \n",
       "95               NaN                  NaN                    NaN  \n",
       "96               1.0                  1.0                    1.0  \n",
       "97               NaN                  NaN                    NaN  \n",
       "98               NaN                  NaN                    NaN  \n",
       "99               NaN                  NaN                    NaN  \n",
       "\n",
       "[100 rows x 14 columns]"
      ]
     },
     "execution_count": 85,
     "metadata": {},
     "output_type": "execute_result"
    }
   ],
   "source": [
    "deploy_file.head(100)"
   ]
  },
  {
   "cell_type": "code",
   "execution_count": 86,
   "id": "7fee1a52-fd16-45cb-966d-adf2f4715488",
   "metadata": {
    "tags": []
   },
   "outputs": [
    {
     "data": {
      "text/html": [
       "<div>\n",
       "<style scoped>\n",
       "    .dataframe tbody tr th:only-of-type {\n",
       "        vertical-align: middle;\n",
       "    }\n",
       "\n",
       "    .dataframe tbody tr th {\n",
       "        vertical-align: top;\n",
       "    }\n",
       "\n",
       "    .dataframe thead th {\n",
       "        text-align: right;\n",
       "    }\n",
       "</style>\n",
       "<table border=\"1\" class=\"dataframe\">\n",
       "  <thead>\n",
       "    <tr style=\"text-align: right;\">\n",
       "      <th></th>\n",
       "      <th>enroll_score</th>\n",
       "      <th>score_rank</th>\n",
       "    </tr>\n",
       "    <tr>\n",
       "      <th>score_tier</th>\n",
       "      <th></th>\n",
       "      <th></th>\n",
       "    </tr>\n",
       "  </thead>\n",
       "  <tbody>\n",
       "    <tr>\n",
       "      <th>0</th>\n",
       "      <td>0.218347</td>\n",
       "      <td>2914.0</td>\n",
       "    </tr>\n",
       "    <tr>\n",
       "      <th>1</th>\n",
       "      <td>0.169740</td>\n",
       "      <td>8741.0</td>\n",
       "    </tr>\n",
       "    <tr>\n",
       "      <th>2</th>\n",
       "      <td>0.133586</td>\n",
       "      <td>14568.5</td>\n",
       "    </tr>\n",
       "    <tr>\n",
       "      <th>3</th>\n",
       "      <td>0.113730</td>\n",
       "      <td>20396.0</td>\n",
       "    </tr>\n",
       "    <tr>\n",
       "      <th>4</th>\n",
       "      <td>0.099138</td>\n",
       "      <td>26223.5</td>\n",
       "    </tr>\n",
       "    <tr>\n",
       "      <th>...</th>\n",
       "      <td>...</td>\n",
       "      <td>...</td>\n",
       "    </tr>\n",
       "    <tr>\n",
       "      <th>96</th>\n",
       "      <td>0.001769</td>\n",
       "      <td>562352.0</td>\n",
       "    </tr>\n",
       "    <tr>\n",
       "      <th>97</th>\n",
       "      <td>0.001660</td>\n",
       "      <td>568179.5</td>\n",
       "    </tr>\n",
       "    <tr>\n",
       "      <th>98</th>\n",
       "      <td>0.001508</td>\n",
       "      <td>574007.0</td>\n",
       "    </tr>\n",
       "    <tr>\n",
       "      <th>99</th>\n",
       "      <td>0.001179</td>\n",
       "      <td>579834.0</td>\n",
       "    </tr>\n",
       "    <tr>\n",
       "      <th>100</th>\n",
       "      <td>0.000284</td>\n",
       "      <td>582748.0</td>\n",
       "    </tr>\n",
       "  </tbody>\n",
       "</table>\n",
       "<p>101 rows × 2 columns</p>\n",
       "</div>"
      ],
      "text/plain": [
       "            enroll_score  score_rank\n",
       "score_tier                          \n",
       "0               0.218347      2914.0\n",
       "1               0.169740      8741.0\n",
       "2               0.133586     14568.5\n",
       "3               0.113730     20396.0\n",
       "4               0.099138     26223.5\n",
       "...                  ...         ...\n",
       "96              0.001769    562352.0\n",
       "97              0.001660    568179.5\n",
       "98              0.001508    574007.0\n",
       "99              0.001179    579834.0\n",
       "100             0.000284    582748.0\n",
       "\n",
       "[101 rows x 2 columns]"
      ]
     },
     "execution_count": 86,
     "metadata": {},
     "output_type": "execute_result"
    }
   ],
   "source": [
    "deploy_file.groupby('score_tier')[['enroll_score', 'score_rank']].mean()"
   ]
  },
  {
   "cell_type": "code",
   "execution_count": 87,
   "id": "e3d7d9c1-77fb-444c-bce9-024b8196443e",
   "metadata": {},
   "outputs": [],
   "source": [
    "deploy_file=deploy_file[['cact',\n",
    " 'enroll_score',\n",
    " 'score_rank',\n",
    " 'score_tier',\n",
    " 'latest_optout_date',\n",
    " 'last_optout_recency',\n",
    " 'optout_cnt_total',\n",
    " 'optout_cnt_lastyear',\n",
    " 'optout_cnt_last2years']]"
   ]
  },
  {
   "cell_type": "code",
   "execution_count": 88,
   "id": "319ce12c-72af-4bfc-953d-312488eb682f",
   "metadata": {
    "tags": []
   },
   "outputs": [],
   "source": [
    "deploy_file.to_csv(str(path_name)+str('/deploy_file_20250908')+str('.csv'), index=False)"
   ]
  },
  {
   "cell_type": "code",
   "execution_count": null,
   "id": "8e4614a7-ab95-4528-bc0e-f76ee0a9dacb",
   "metadata": {},
   "outputs": [],
   "source": []
  }
 ],
 "metadata": {
  "environment": {
   "kernel": "conda-base-py",
   "name": "workbench-notebooks.m130",
   "type": "gcloud",
   "uri": "us-docker.pkg.dev/deeplearning-platform-release/gcr.io/workbench-notebooks:m130"
  },
  "kernelspec": {
   "display_name": "Python 3 (ipykernel) (Local)",
   "language": "python",
   "name": "conda-base-py"
  },
  "language_info": {
   "codemirror_mode": {
    "name": "ipython",
    "version": 3
   },
   "file_extension": ".py",
   "mimetype": "text/x-python",
   "name": "python",
   "nbconvert_exporter": "python",
   "pygments_lexer": "ipython3",
   "version": "3.10.18"
  }
 },
 "nbformat": 4,
 "nbformat_minor": 5
}
